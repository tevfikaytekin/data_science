{
 "cells": [
  {
   "cell_type": "markdown",
   "metadata": {},
   "source": [
    "# Explainable AI (XAI)\n",
    "\n",
    "Explainable AI (XAI) refers to methods and techniques that make the decision-making processes of artificial intelligence systems, especially \"black-box\" models, understandable and interpretable to humans."
   ]
  },
  {
   "cell_type": "markdown",
   "metadata": {},
   "source": [
    "## Why XAI is important?"
   ]
  },
  {
   "cell_type": "markdown",
   "metadata": {},
   "source": []
  },
  {
   "cell_type": "markdown",
   "metadata": {},
   "source": [
    "<table>\n",
    "  <tr>\n",
    "    <th></th>\n",
    "    <th></th>\n",
    "    <th>Local</th>\n",
    "    <th>Global</th>\n",
    "  </tr>\n",
    "  <tr>\n",
    "    <th rowspan=\"2\" style=\"writing-mode: vertical-lr; transform: rotate(180deg);\">Feature</th>\n",
    "    <th style=\"writing-mode: vertical-lr; transform: rotate(180deg);\">Effects</th>\n",
    "    <td>ICE <br> LIME <br> Counterfactuals<br> SHAP</td>\n",
    "    <td>PDP<br> ALE</td>\n",
    "  </tr>\n",
    "  <tr>\n",
    "    <th style=\"writing-mode: vertical-lr; transform: rotate(180deg);\">Importance</th>\n",
    "    <td>ICI</td>\n",
    "    <td>PI<br> PFI<br> SAGE</td>\n",
    "    \n",
    "  </tr>\n",
    "  </table>\n"
   ]
  },
  {
   "cell_type": "markdown",
   "metadata": {},
   "source": [
    "### Local Explanation Methods\n",
    "\n",
    "Local explanation methods provides an explanation for a pespecific prediction made by a model on a particular instance or input. For example:\n",
    "- In healthcare, a local explanation might clarify why a model flagged one patient as high-risk, detailing the specific factors (e.g., age, symptoms, lifestyle) that contributed to that decision.\n",
    "- For churn prediction, local explanations focus on explaining why a model predicted a high likelihood of churn for a specific customer. For instance, if a model predicts that Customer A has an 80% chance of churning, a local explanation would reveal which factors (e.g., recent decrease in engagement, low customer satisfaction, increased service complaints) contributed most to that high risk of churn."
   ]
  },
  {
   "cell_type": "code",
   "execution_count": null,
   "metadata": {},
   "outputs": [],
   "source": []
  },
  {
   "cell_type": "code",
   "execution_count": null,
   "metadata": {},
   "outputs": [],
   "source": []
  }
 ],
 "metadata": {
  "language_info": {
   "name": "python"
  }
 },
 "nbformat": 4,
 "nbformat_minor": 2
}
