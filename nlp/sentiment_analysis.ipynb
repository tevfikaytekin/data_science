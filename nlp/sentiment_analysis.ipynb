{
  "cells": [
    {
      "cell_type": "code",
      "execution_count": 105,
      "metadata": {
        "id": "4hIJ7XzCqW-L"
      },
      "outputs": [],
      "source": [
        "import pandas as pd\n",
        "import numpy as np\n",
        "import matplotlib.pyplot as plt\n",
        "import seaborn as sns\n",
        "from sklearn import metrics\n",
        "from sklearn.metrics import mean_absolute_error, mean_squared_error\n",
        "from sklearn.linear_model import LogisticRegression, LinearRegression\n",
        "from lightgbm import LGBMClassifier, LGBMRegressor\n",
        "from sklearn.ensemble import HistGradientBoostingClassifier, HistGradientBoostingRegressor\n",
        "import nltk\n",
        "from nltk.tokenize import sent_tokenize, word_tokenize \n",
        "\n"
      ]
    },
    {
      "cell_type": "code",
      "execution_count": 3,
      "metadata": {
        "colab": {
          "base_uri": "https://localhost:8080/"
        },
        "id": "7_Pq8oWowGW5",
        "outputId": "cb54784a-6baf-44ef-ca72-d0ca8d14921b"
      },
      "outputs": [],
      "source": [
        "#nltk.download('punkt')"
      ]
    },
    {
      "cell_type": "code",
      "execution_count": 4,
      "metadata": {
        "colab": {
          "base_uri": "https://localhost:8080/"
        },
        "id": "mLIxeMzIueEt",
        "outputId": "0c3577e1-c653-40c8-df19-8fab7d092cb5"
      },
      "outputs": [],
      "source": [
        "#from google.colab import drive\n",
        "#drive.mount('/content/drive')"
      ]
    },
    {
      "cell_type": "code",
      "execution_count": 106,
      "metadata": {
        "colab": {
          "base_uri": "https://localhost:8080/"
        },
        "id": "uDhiSRF7qW-M",
        "outputId": "402b506e-4f06-4f8b-eb66-6c81abb36934"
      },
      "outputs": [
        {
          "name": "stdout",
          "output_type": "stream",
          "text": [
            "(568454, 10)\n"
          ]
        }
      ],
      "source": [
        "# Read in data\n",
        "df = pd.read_csv('../../datasets/amazon-fine-food-reviews/Reviews.csv')\n",
        "#df = pd.read_csv('/content/drive/MyDrive/datasets/amazon-fine-food-reviews/Reviews.csv')\n",
        "print(df.shape)\n"
      ]
    },
    {
      "cell_type": "code",
      "execution_count": 107,
      "metadata": {
        "colab": {
          "base_uri": "https://localhost:8080/",
          "height": 694
        },
        "id": "aMd8qxljqW-N",
        "outputId": "b403e57b-df10-41dd-f83a-82dd51572d8a"
      },
      "outputs": [
        {
          "data": {
            "text/html": [
              "<div>\n",
              "<style scoped>\n",
              "    .dataframe tbody tr th:only-of-type {\n",
              "        vertical-align: middle;\n",
              "    }\n",
              "\n",
              "    .dataframe tbody tr th {\n",
              "        vertical-align: top;\n",
              "    }\n",
              "\n",
              "    .dataframe thead th {\n",
              "        text-align: right;\n",
              "    }\n",
              "</style>\n",
              "<table border=\"1\" class=\"dataframe\">\n",
              "  <thead>\n",
              "    <tr style=\"text-align: right;\">\n",
              "      <th></th>\n",
              "      <th>Id</th>\n",
              "      <th>ProductId</th>\n",
              "      <th>UserId</th>\n",
              "      <th>ProfileName</th>\n",
              "      <th>HelpfulnessNumerator</th>\n",
              "      <th>HelpfulnessDenominator</th>\n",
              "      <th>Score</th>\n",
              "      <th>Time</th>\n",
              "      <th>Summary</th>\n",
              "      <th>Text</th>\n",
              "    </tr>\n",
              "  </thead>\n",
              "  <tbody>\n",
              "    <tr>\n",
              "      <th>0</th>\n",
              "      <td>1</td>\n",
              "      <td>B001E4KFG0</td>\n",
              "      <td>A3SGXH7AUHU8GW</td>\n",
              "      <td>delmartian</td>\n",
              "      <td>1</td>\n",
              "      <td>1</td>\n",
              "      <td>5</td>\n",
              "      <td>1303862400</td>\n",
              "      <td>Good Quality Dog Food</td>\n",
              "      <td>I have bought several of the Vitality canned d...</td>\n",
              "    </tr>\n",
              "    <tr>\n",
              "      <th>1</th>\n",
              "      <td>2</td>\n",
              "      <td>B00813GRG4</td>\n",
              "      <td>A1D87F6ZCVE5NK</td>\n",
              "      <td>dll pa</td>\n",
              "      <td>0</td>\n",
              "      <td>0</td>\n",
              "      <td>1</td>\n",
              "      <td>1346976000</td>\n",
              "      <td>Not as Advertised</td>\n",
              "      <td>Product arrived labeled as Jumbo Salted Peanut...</td>\n",
              "    </tr>\n",
              "    <tr>\n",
              "      <th>2</th>\n",
              "      <td>3</td>\n",
              "      <td>B000LQOCH0</td>\n",
              "      <td>ABXLMWJIXXAIN</td>\n",
              "      <td>Natalia Corres \"Natalia Corres\"</td>\n",
              "      <td>1</td>\n",
              "      <td>1</td>\n",
              "      <td>4</td>\n",
              "      <td>1219017600</td>\n",
              "      <td>\"Delight\" says it all</td>\n",
              "      <td>This is a confection that has been around a fe...</td>\n",
              "    </tr>\n",
              "    <tr>\n",
              "      <th>3</th>\n",
              "      <td>4</td>\n",
              "      <td>B000UA0QIQ</td>\n",
              "      <td>A395BORC6FGVXV</td>\n",
              "      <td>Karl</td>\n",
              "      <td>3</td>\n",
              "      <td>3</td>\n",
              "      <td>2</td>\n",
              "      <td>1307923200</td>\n",
              "      <td>Cough Medicine</td>\n",
              "      <td>If you are looking for the secret ingredient i...</td>\n",
              "    </tr>\n",
              "    <tr>\n",
              "      <th>4</th>\n",
              "      <td>5</td>\n",
              "      <td>B006K2ZZ7K</td>\n",
              "      <td>A1UQRSCLF8GW1T</td>\n",
              "      <td>Michael D. Bigham \"M. Wassir\"</td>\n",
              "      <td>0</td>\n",
              "      <td>0</td>\n",
              "      <td>5</td>\n",
              "      <td>1350777600</td>\n",
              "      <td>Great taffy</td>\n",
              "      <td>Great taffy at a great price.  There was a wid...</td>\n",
              "    </tr>\n",
              "  </tbody>\n",
              "</table>\n",
              "</div>"
            ],
            "text/plain": [
              "   Id   ProductId          UserId                      ProfileName  \\\n",
              "0   1  B001E4KFG0  A3SGXH7AUHU8GW                       delmartian   \n",
              "1   2  B00813GRG4  A1D87F6ZCVE5NK                           dll pa   \n",
              "2   3  B000LQOCH0   ABXLMWJIXXAIN  Natalia Corres \"Natalia Corres\"   \n",
              "3   4  B000UA0QIQ  A395BORC6FGVXV                             Karl   \n",
              "4   5  B006K2ZZ7K  A1UQRSCLF8GW1T    Michael D. Bigham \"M. Wassir\"   \n",
              "\n",
              "   HelpfulnessNumerator  HelpfulnessDenominator  Score        Time  \\\n",
              "0                     1                       1      5  1303862400   \n",
              "1                     0                       0      1  1346976000   \n",
              "2                     1                       1      4  1219017600   \n",
              "3                     3                       3      2  1307923200   \n",
              "4                     0                       0      5  1350777600   \n",
              "\n",
              "                 Summary                                               Text  \n",
              "0  Good Quality Dog Food  I have bought several of the Vitality canned d...  \n",
              "1      Not as Advertised  Product arrived labeled as Jumbo Salted Peanut...  \n",
              "2  \"Delight\" says it all  This is a confection that has been around a fe...  \n",
              "3         Cough Medicine  If you are looking for the secret ingredient i...  \n",
              "4            Great taffy  Great taffy at a great price.  There was a wid...  "
            ]
          },
          "execution_count": 107,
          "metadata": {},
          "output_type": "execute_result"
        }
      ],
      "source": [
        "df.head()"
      ]
    },
    {
      "cell_type": "markdown",
      "metadata": {
        "id": "gBL3uZiuqW-N"
      },
      "source": [
        "Distribution of Scores"
      ]
    },
    {
      "cell_type": "code",
      "execution_count": 108,
      "metadata": {
        "colab": {
          "base_uri": "https://localhost:8080/",
          "height": 328
        },
        "id": "1YPMsbdvqW-O",
        "outputId": "2104d5e1-4401-41d0-fe61-500507ee85e8"
      },
      "outputs": [
        {
          "data": {
            "image/png": "[encoded data removed]",
            "text/plain": [
              "<Figure size 400x300 with 1 Axes>"
            ]
          },
          "metadata": {},
          "output_type": "display_data"
        }
      ],
      "source": [
        "plt.figure(figsize=(4,3))\n",
        "\n",
        "ax = df['Score'].value_counts().sort_index() \\\n",
        "    .plot(kind='bar',\n",
        "          title='Count of Reviews by Stars')\n",
        "ax.set_xlabel('Review Stars')\n",
        "plt.show()"
      ]
    },
    {
      "cell_type": "markdown",
      "metadata": {
        "id": "wd5W4vwkqW-O"
      },
      "source": [
        "Look at an example text"
      ]
    },
    {
      "cell_type": "code",
      "execution_count": 5,
      "metadata": {
        "colab": {
          "base_uri": "https://localhost:8080/"
        },
        "id": "zZKhB3B6qW-P",
        "outputId": "055a400f-176a-462e-cc63-00530185d3e5"
      },
      "outputs": [
        {
          "name": "stdout",
          "output_type": "stream",
          "text": [
            "This oatmeal is not good. Its mushy, soft, I don't like it. Quaker Oats is the way to go.\n"
          ]
        }
      ],
      "source": [
        "example = df['Text'][50]\n",
        "print(example)"
      ]
    },
    {
      "cell_type": "markdown",
      "metadata": {},
      "source": [
        "Distribution of text length"
      ]
    },
    {
      "cell_type": "code",
      "execution_count": 6,
      "metadata": {},
      "outputs": [],
      "source": [
        "lengths = [len(text) for text in df.Text]"
      ]
    },
    {
      "cell_type": "code",
      "execution_count": 7,
      "metadata": {},
      "outputs": [
        {
          "data": {
            "image/png": "[encoded data removed]",
            "text/plain": [
              "<Figure size 640x480 with 1 Axes>"
            ]
          },
          "metadata": {},
          "output_type": "display_data"
        }
      ],
      "source": [
        "plt.hist(lengths, bins=100);"
      ]
    },
    {
      "cell_type": "code",
      "execution_count": 8,
      "metadata": {},
      "outputs": [],
      "source": [
        "lengths = [item for item in lengths if item < 3000]"
      ]
    },
    {
      "cell_type": "code",
      "execution_count": 9,
      "metadata": {},
      "outputs": [
        {
          "data": {
            "image/png": "[encoded data removed]",
            "text/plain": [
              "<Figure size 640x480 with 1 Axes>"
            ]
          },
          "metadata": {},
          "output_type": "display_data"
        }
      ],
      "source": [
        "plt.hist(lengths, bins=100);"
      ]
    },
    {
      "cell_type": "code",
      "execution_count": 10,
      "metadata": {
        "colab": {
          "base_uri": "https://localhost:8080/"
        },
        "id": "zfyqkw4qqW-P",
        "outputId": "6a39854e-eed3-4537-c07c-98e46afa5efd"
      },
      "outputs": [
        {
          "data": {
            "text/plain": [
              "['This', 'oatmeal', 'is', 'not', 'good', '.', 'Its', 'mushy', ',', 'soft']"
            ]
          },
          "execution_count": 10,
          "metadata": {},
          "output_type": "execute_result"
        }
      ],
      "source": [
        "tokens = nltk.word_tokenize(example)\n",
        "tokens[:10]"
      ]
    },
    {
      "cell_type": "markdown",
      "metadata": {
        "id": "Bp9aXwRcqW-Q"
      },
      "source": [
        "### Sentiment Analysis with NLTK Vader\n",
        "\n",
        "NLTK Vader is a simple rule based sentiment analysis model. More information can be found at:\n",
        "\n",
        "Hutto, C.J. & Gilbert, E.E. (2014). VADER: A Parsimonious Rule-based Model for\n",
        "Sentiment Analysis of Social Media Text. Eighth International Conference on\n",
        "Weblogs and Social Media (ICWSM-14). Ann Arbor, MI, June 2014."
      ]
    },
    {
      "cell_type": "code",
      "execution_count": 109,
      "metadata": {
        "colab": {
          "base_uri": "https://localhost:8080/"
        },
        "id": "DqLNPt4rwQTB",
        "outputId": "e96a4cd1-c933-44a6-9b75-f633a196c724"
      },
      "outputs": [
        {
          "name": "stderr",
          "output_type": "stream",
          "text": [
            "[nltk_data] Downloading package vader_lexicon to\n",
            "[nltk_data]     /Users/tevfikaytekin/nltk_data...\n",
            "[nltk_data]   Package vader_lexicon is already up-to-date!\n"
          ]
        },
        {
          "data": {
            "text/plain": [
              "True"
            ]
          },
          "execution_count": 109,
          "metadata": {},
          "output_type": "execute_result"
        }
      ],
      "source": [
        "nltk.download('vader_lexicon')"
      ]
    },
    {
      "cell_type": "code",
      "execution_count": 110,
      "metadata": {
        "id": "ueATc1D2qW-Q"
      },
      "outputs": [],
      "source": [
        "from nltk.sentiment import SentimentIntensityAnalyzer\n",
        "from tqdm.notebook import tqdm\n",
        "\n",
        "sia = SentimentIntensityAnalyzer()"
      ]
    },
    {
      "cell_type": "code",
      "execution_count": 111,
      "metadata": {
        "colab": {
          "base_uri": "https://localhost:8080/"
        },
        "id": "ru4KWim7qW-R",
        "outputId": "e573c6a6-f8cc-4004-8267-7492f52a0c08"
      },
      "outputs": [
        {
          "data": {
            "text/plain": [
              "{'neg': 0.0, 'neu': 0.318, 'pos': 0.682, 'compound': 0.6468}"
            ]
          },
          "execution_count": 111,
          "metadata": {},
          "output_type": "execute_result"
        }
      ],
      "source": [
        "sia.polarity_scores('I am so happy!')"
      ]
    },
    {
      "cell_type": "code",
      "execution_count": 14,
      "metadata": {
        "colab": {
          "base_uri": "https://localhost:8080/"
        },
        "id": "r7tgln9GqW-R",
        "outputId": "c26ff496-6f9d-427e-b185-5f3eec3f903c"
      },
      "outputs": [
        {
          "data": {
            "text/plain": [
              "{'neg': 0.451, 'neu': 0.549, 'pos': 0.0, 'compound': -0.6249}"
            ]
          },
          "execution_count": 14,
          "metadata": {},
          "output_type": "execute_result"
        }
      ],
      "source": [
        "sia.polarity_scores('This is the worst thing ever.')"
      ]
    },
    {
      "cell_type": "code",
      "execution_count": 15,
      "metadata": {},
      "outputs": [
        {
          "data": {
            "text/plain": [
              "{'neg': 0.376, 'neu': 0.624, 'pos': 0.0, 'compound': -0.3412}"
            ]
          },
          "execution_count": 15,
          "metadata": {},
          "output_type": "execute_result"
        }
      ],
      "source": [
        "sia.polarity_scores('This is not a good movie.')"
      ]
    },
    {
      "cell_type": "code",
      "execution_count": 16,
      "metadata": {
        "colab": {
          "base_uri": "https://localhost:8080/"
        },
        "id": "IF8fHxu_qW-R",
        "outputId": "d8c88564-4807-4bfb-c7e8-56a2719516bf"
      },
      "outputs": [
        {
          "data": {
            "text/plain": [
              "{'neg': 0.22, 'neu': 0.78, 'pos': 0.0, 'compound': -0.5448}"
            ]
          },
          "execution_count": 16,
          "metadata": {},
          "output_type": "execute_result"
        }
      ],
      "source": [
        "sia.polarity_scores(example)"
      ]
    },
    {
      "cell_type": "code",
      "execution_count": 126,
      "metadata": {
        "id": "54ADk16aqW-R"
      },
      "outputs": [
        {
          "data": {
            "text/plain": [
              "Counter({1: 7616, 0: 2384})"
            ]
          },
          "execution_count": 126,
          "metadata": {},
          "output_type": "execute_result"
        }
      ],
      "source": [
        "from collections import Counter\n",
        "#df_small = df.sample(n=10000)\n",
        "df_small = df[:10000].copy()\n",
        "df_small['Score'] = df['Score'].apply(lambda x: 1 if x > 3 else 0)\n",
        "Counter(df_small.Score)"
      ]
    },
    {
      "cell_type": "code",
      "execution_count": 113,
      "metadata": {
        "colab": {
          "base_uri": "https://localhost:8080/",
          "height": 49,
          "referenced_widgets": [
            "ba714c7fd3614ceda424063a83d14e25",
            "bbd15b425f394f1b8d312b59130e2d33",
            "efa12eeb325846b481b742f8e28599b9",
            "fa634b229a90448f86f722d7d9751b3b",
            "f3d16c2b035848eb90f28a54f9d6835c",
            "53f944204e1547e6841b1576c07c0c5b",
            "84dc23fd76724f77a1b9a904c920ad99",
            "86591bb6810c4517b0ed192a57e85ac2",
            "f08ef86303064603a1f10ad5be45a4a9",
            "0d360cd7f707440a8b90f064296f81f8",
            "47054ca3684145829228033c9856c534"
          ]
        },
        "id": "jHN2dcheqW-R",
        "outputId": "da7213ad-4ea0-4c65-f47b-fad9c8a6249a"
      },
      "outputs": [
        {
          "data": {
            "application/vnd.jupyter.widget-view+json": {
              "model_id": "6c92f92938554483aa91a57130824670",
              "version_major": 2,
              "version_minor": 0
            },
            "text/plain": [
              "  0%|          | 0/10000 [00:00<?, ?it/s]"
            ]
          },
          "metadata": {},
          "output_type": "display_data"
        }
      ],
      "source": [
        "# Run the polarity score on the entire dataset\n",
        "res = {}\n",
        "for i, row in tqdm(df_small.iterrows(), total=len(df_small)):\n",
        "    text = row['Text']\n",
        "    myid = row['Id']\n",
        "    res[myid] = sia.polarity_scores(text)"
      ]
    },
    {
      "cell_type": "code",
      "execution_count": 114,
      "metadata": {
        "id": "WfHtmYROqW-R"
      },
      "outputs": [],
      "source": [
        "vaders = pd.DataFrame(res).T\n",
        "vaders = vaders.reset_index().rename(columns={'index': 'Id'})\n",
        "vaders = vaders.merge(df_small, how='left')"
      ]
    },
    {
      "cell_type": "code",
      "execution_count": 115,
      "metadata": {
        "colab": {
          "base_uri": "https://localhost:8080/",
          "height": 764
        },
        "id": "obcqUrgTqW-S",
        "outputId": "0ce9edca-67e6-4b47-8106-6e96167faa15"
      },
      "outputs": [
        {
          "data": {
            "text/html": [
              "<div>\n",
              "<style scoped>\n",
              "    .dataframe tbody tr th:only-of-type {\n",
              "        vertical-align: middle;\n",
              "    }\n",
              "\n",
              "    .dataframe tbody tr th {\n",
              "        vertical-align: top;\n",
              "    }\n",
              "\n",
              "    .dataframe thead th {\n",
              "        text-align: right;\n",
              "    }\n",
              "</style>\n",
              "<table border=\"1\" class=\"dataframe\">\n",
              "  <thead>\n",
              "    <tr style=\"text-align: right;\">\n",
              "      <th></th>\n",
              "      <th>Id</th>\n",
              "      <th>neg</th>\n",
              "      <th>neu</th>\n",
              "      <th>pos</th>\n",
              "      <th>compound</th>\n",
              "      <th>ProductId</th>\n",
              "      <th>UserId</th>\n",
              "      <th>ProfileName</th>\n",
              "      <th>HelpfulnessNumerator</th>\n",
              "      <th>HelpfulnessDenominator</th>\n",
              "      <th>Score</th>\n",
              "      <th>Time</th>\n",
              "      <th>Summary</th>\n",
              "      <th>Text</th>\n",
              "    </tr>\n",
              "  </thead>\n",
              "  <tbody>\n",
              "    <tr>\n",
              "      <th>0</th>\n",
              "      <td>226905</td>\n",
              "      <td>0.000</td>\n",
              "      <td>0.682</td>\n",
              "      <td>0.318</td>\n",
              "      <td>0.9589</td>\n",
              "      <td>B000AYFCEU</td>\n",
              "      <td>A198JRUIP09HX5</td>\n",
              "      <td>V. Gera \"deal hound\"</td>\n",
              "      <td>0</td>\n",
              "      <td>0</td>\n",
              "      <td>1</td>\n",
              "      <td>1239926400</td>\n",
              "      <td>Yummy Cookies. Taste just like OR*EOs</td>\n",
              "      <td>Great stuff. Didn't expect them to taste as go...</td>\n",
              "    </tr>\n",
              "    <tr>\n",
              "      <th>1</th>\n",
              "      <td>122663</td>\n",
              "      <td>0.009</td>\n",
              "      <td>0.842</td>\n",
              "      <td>0.149</td>\n",
              "      <td>0.9449</td>\n",
              "      <td>B00416MT4Y</td>\n",
              "      <td>A1SPZYCSGCMM4E</td>\n",
              "      <td>''NATUREGIRL'' \"'CALLY\"</td>\n",
              "      <td>1</td>\n",
              "      <td>1</td>\n",
              "      <td>1</td>\n",
              "      <td>1329696000</td>\n",
              "      <td>The only healthy cinnamon to have.</td>\n",
              "      <td>Recieved quickly. The one pound bag is huge......</td>\n",
              "    </tr>\n",
              "    <tr>\n",
              "      <th>2</th>\n",
              "      <td>125120</td>\n",
              "      <td>0.094</td>\n",
              "      <td>0.748</td>\n",
              "      <td>0.158</td>\n",
              "      <td>0.7904</td>\n",
              "      <td>B000NY8OLK</td>\n",
              "      <td>AAAD48NLZGK2Z</td>\n",
              "      <td>G. Brooks</td>\n",
              "      <td>6</td>\n",
              "      <td>6</td>\n",
              "      <td>0</td>\n",
              "      <td>1289779200</td>\n",
              "      <td>The new recipe is bland plastic-y junk chocolate</td>\n",
              "      <td>I enjoyed Lindt Excellence 70% as a lunch trea...</td>\n",
              "    </tr>\n",
              "    <tr>\n",
              "      <th>3</th>\n",
              "      <td>81237</td>\n",
              "      <td>0.000</td>\n",
              "      <td>0.824</td>\n",
              "      <td>0.176</td>\n",
              "      <td>0.8481</td>\n",
              "      <td>B001G7Q1PY</td>\n",
              "      <td>A1ZSPSXWY7LMQQ</td>\n",
              "      <td>AM \"AM\"</td>\n",
              "      <td>2</td>\n",
              "      <td>2</td>\n",
              "      <td>1</td>\n",
              "      <td>1306195200</td>\n",
              "      <td>Dilmah Tea</td>\n",
              "      <td>I think this tea has a lovely light taste to i...</td>\n",
              "    </tr>\n",
              "    <tr>\n",
              "      <th>4</th>\n",
              "      <td>25666</td>\n",
              "      <td>0.000</td>\n",
              "      <td>0.825</td>\n",
              "      <td>0.175</td>\n",
              "      <td>0.7316</td>\n",
              "      <td>B0015R9BQG</td>\n",
              "      <td>A2AF1JZ62BOBHV</td>\n",
              "      <td>Lori L. \"MomsNightOff\"</td>\n",
              "      <td>0</td>\n",
              "      <td>0</td>\n",
              "      <td>1</td>\n",
              "      <td>1189468800</td>\n",
              "      <td>Delicious and chewey</td>\n",
              "      <td>This really satisfied my yen for a tasty prote...</td>\n",
              "    </tr>\n",
              "  </tbody>\n",
              "</table>\n",
              "</div>"
            ],
            "text/plain": [
              "       Id    neg    neu    pos  compound   ProductId          UserId  \\\n",
              "0  226905  0.000  0.682  0.318    0.9589  B000AYFCEU  A198JRUIP09HX5   \n",
              "1  122663  0.009  0.842  0.149    0.9449  B00416MT4Y  A1SPZYCSGCMM4E   \n",
              "2  125120  0.094  0.748  0.158    0.7904  B000NY8OLK   AAAD48NLZGK2Z   \n",
              "3   81237  0.000  0.824  0.176    0.8481  B001G7Q1PY  A1ZSPSXWY7LMQQ   \n",
              "4   25666  0.000  0.825  0.175    0.7316  B0015R9BQG  A2AF1JZ62BOBHV   \n",
              "\n",
              "               ProfileName  HelpfulnessNumerator  HelpfulnessDenominator  \\\n",
              "0     V. Gera \"deal hound\"                     0                       0   \n",
              "1  ''NATUREGIRL'' \"'CALLY\"                     1                       1   \n",
              "2                G. Brooks                     6                       6   \n",
              "3                  AM \"AM\"                     2                       2   \n",
              "4   Lori L. \"MomsNightOff\"                     0                       0   \n",
              "\n",
              "   Score        Time                                           Summary  \\\n",
              "0      1  1239926400             Yummy Cookies. Taste just like OR*EOs   \n",
              "1      1  1329696000                The only healthy cinnamon to have.   \n",
              "2      0  1289779200  The new recipe is bland plastic-y junk chocolate   \n",
              "3      1  1306195200                                        Dilmah Tea   \n",
              "4      1  1189468800                              Delicious and chewey   \n",
              "\n",
              "                                                Text  \n",
              "0  Great stuff. Didn't expect them to taste as go...  \n",
              "1  Recieved quickly. The one pound bag is huge......  \n",
              "2  I enjoyed Lindt Excellence 70% as a lunch trea...  \n",
              "3  I think this tea has a lovely light taste to i...  \n",
              "4  This really satisfied my yen for a tasty prote...  "
            ]
          },
          "execution_count": 115,
          "metadata": {},
          "output_type": "execute_result"
        }
      ],
      "source": [
        "# Now we have sentiment score and metadata\n",
        "vaders.head()"
      ]
    },
    {
      "cell_type": "code",
      "execution_count": 116,
      "metadata": {
        "colab": {
          "base_uri": "https://localhost:8080/"
        },
        "id": "gqRGyQF9qW-S",
        "outputId": "257f6559-8ea0-49b0-d94a-d446193a5f6e"
      },
      "outputs": [
        {
          "name": "stdout",
          "output_type": "stream",
          "text": [
            "0.9993\n",
            "-0.9809\n"
          ]
        }
      ],
      "source": [
        "print(np.max(vaders.compound))\n",
        "print(np.min(vaders.compound))"
      ]
    },
    {
      "cell_type": "code",
      "execution_count": 117,
      "metadata": {
        "colab": {
          "base_uri": "https://localhost:8080/"
        },
        "id": "M11TwqjhqW-S",
        "outputId": "550b7655-3e5e-42b9-a6cd-ccdeffe87d1c"
      },
      "outputs": [
        {
          "name": "stdout",
          "output_type": "stream",
          "text": [
            "1\n",
            "0\n"
          ]
        }
      ],
      "source": [
        "print(np.max(vaders.Score))\n",
        "print(np.min(vaders.Score))"
      ]
    },
    {
      "cell_type": "code",
      "execution_count": 118,
      "metadata": {
        "colab": {
          "base_uri": "https://localhost:8080/"
        },
        "id": "SZvPZELLqW-S",
        "outputId": "b1b3761b-fa41-427f-cac4-74ea4d3fa274"
      },
      "outputs": [
        {
          "name": "stdout",
          "output_type": "stream",
          "text": [
            "[0.9794499999999999, 0.97245, 0.8952, 0.92405, 0.8658, 0.9647, 0.87, 0.79295, 0.9962500000000001, 0.99855, 0.9788, 0.8295, 0.98525, 0.6863, 0.73135, 0.39885, 0.7202, 0.9670000000000001, 0.9752000000000001, 0.93445, 0.9575, 0.7748999999999999, 0.9646, 0.96565, 0.569, 0.32999999999999996, 0.9634499999999999, 0.9875, 0.91355, 0.6909, 0.6909, 0.7754, 0.9783999999999999, 0.7377, 0.88585, 0.8694999999999999, 0.99015, 0.96785, 0.5, 0.9749, 0.6888, 0.9699, 0.9769, 0.96955, 0.20639999999999997, 0.933, 0.9898, 0.352, 0.8842, 0.98115, 0.9792000000000001, 0.3476, 0.74695, 0.7406, 0.81845, 0.7787, 0.66455, 0.25015, 0.99535, 0.95945, 0.9903500000000001, 0.9875499999999999, 0.9639, 0.90505, 0.6909, 0.9553, 0.9783999999999999, 0.85015, 0.9158, 0.95915, 0.9698, 0.8271, 0.93325, 0.9685, 0.9358500000000001, 0.6706, 0.9691000000000001, 0.92535, 0.9620500000000001, 0.97395, 0.9220999999999999, 0.39015, 0.9858, 0.9179999999999999, 0.9521, 0.58895, 0.352, 0.97285, 0.61805, 0.9061, 0.352, 0.41195, 0.9519, 0.10204999999999997, 0.9455, 0.95665, 0.90535, 0.9499500000000001, 0.88095, 0.96435, 0.99575, 0.9834, 0.7553000000000001, 0.95575, 0.91125, 0.9521, 0.95585, 0.96095, 0.97245, 0.9914000000000001, 0.9294, 0.8953, 0.5, 0.5377, 0.41105, 0.9359, 0.9520500000000001, 0.91845, 0.76955, 0.9232, 0.9574, 0.9526, 0.9682999999999999, 0.9124, 0.9595, 0.9971, 0.8062, 0.97995, 0.90865, 0.8958999999999999, 0.9952, 0.8088500000000001, 0.74715, 0.9448, 0.9035, 0.95755, 0.90605, 0.96495, 0.42445, 0.9642999999999999, 0.9520500000000001, 0.9865999999999999, 0.95635, 0.98115, 0.8694500000000001, 0.2609, 0.375, 0.9777, 0.9774, 0.92435, 0.8589, 0.9824999999999999, 0.3634, 0.013249999999999984, 0.8292999999999999, 0.97485, 0.95665, 0.81845, 0.9673, 0.98285, 0.8088500000000001, 0.9598, 0.86015, 0.96295, 0.9153, 0.9158, 0.99515, 0.9088, 0.93635, 0.9593, 0.9818, 0.95745, 0.9035, 0.98285, 0.9769, 0.98305, 0.94895, 0.97255, 0.81135, 0.86345, 0.8450500000000001, 0.10189999999999999, 0.9811000000000001, 0.80295, 0.88125, 0.9942, 0.9491, 0.67965, 0.93855, 0.0489, 0.9651000000000001, 0.9874499999999999, 0.9078999999999999, 0.98815, 0.5, 0.98605, 0.8916, 0.8665, 0.89515, 0.7940499999999999, 0.88915, 0.9931, 0.9510000000000001, 0.89915, 0.9159999999999999, 0.12064999999999998, 0.7859499999999999, 0.9258500000000001, 0.995, 0.9904999999999999, 0.7746999999999999, 0.7825, 0.81595, 0.9961, 0.9973000000000001, 0.9861500000000001, 0.89335, 0.7787, 0.9465, 0.9761500000000001, 0.8825000000000001, 0.99305, 0.95875, 0.9008, 0.7681, 0.90945, 0.97365, 0.5, 0.71075, 0.95695, 0.9421999999999999, 0.81245, 0.9769, 0.21985, 0.8753, 0.77305, 0.91735, 0.196, 0.99405, 0.5, 0.9055, 0.84385, 0.8493999999999999, 0.9783999999999999, 0.9430000000000001, 0.97055, 0.96795, 0.8987, 0.98455, 0.97255, 0.9478500000000001, 0.8673, 0.8928, 0.9738, 0.91125, 0.9831, 0.8429, 0.96495, 0.81245, 0.86345, 0.9831, 0.9660500000000001, 0.9088, 0.9499500000000001, 0.981, 0.97645, 0.95955, 0.8707, 0.9928, 0.66455, 0.84215, 0.9336, 0.95415, 0.9734, 0.96095, 0.9862500000000001, 0.97675, 0.9238999999999999, 0.95555, 0.81845, 0.8257, 0.96365, 0.22885, 0.6385000000000001, 0.9637, 0.81675, 0.9731000000000001, 0.91805, 0.8827, 0.93155, 0.95055, 0.9515, 0.7706500000000001, 0.7383500000000001, 0.33545, 0.8592500000000001, 0.91425, 0.42345, 0.5, 0.96555, 0.7025, 0.46735, 0.5, 0.9724999999999999, 0.9211, 0.5267, 0.97635, 0.8214, 0.97565, 0.78175, 0.6959500000000001, 0.9433, 0.9075500000000001, 0.898, 0.648, 0.9932000000000001, 0.4678, 0.97435, 0.97115, 0.9882, 0.9411499999999999, 0.5, 0.2167, 0.91785, 0.9481999999999999, 0.9576, 0.9549000000000001, 0.0912, 0.92925, 0.84985, 0.98875, 0.9181, 0.90995, 0.9968, 0.7265, 0.95845, 0.86755, 0.9944500000000001, 0.98295, 0.7468, 0.040700000000000014, 0.86345, 0.61315, 0.9538, 0.7369, 0.16044999999999998, 0.9876499999999999, 0.884, 0.98665, 0.93655, 0.9189, 0.95905, 0.97125, 0.99475, 0.6349, 0.9147000000000001, 0.5, 0.6366, 0.98, 0.9482999999999999, 0.98305, 0.9597, 0.352, 0.9206, 0.65845, 0.8825000000000001, 0.99585, 0.9572499999999999, 0.85015, 0.91105, 0.8404, 0.9654, 0.93085, 0.9853000000000001, 0.7879499999999999, 0.9612499999999999, 0.99195, 0.9642, 0.41645, 0.849, 0.5678, 0.99385, 0.9937, 0.9310499999999999, 0.89235, 0.9299, 0.9179999999999999, 0.9862, 0.9598, 0.9329000000000001, 0.9601999999999999, 0.9063, 0.9872000000000001, 0.97375, 0.8935, 0.95435, 0.97355, 0.94875, 0.65835, 0.9614, 0.97475, 0.3933, 0.85015, 0.98005, 0.94425, 0.9189, 0.83765, 0.9951, 0.8505, 0.4623, 0.929, 0.9132, 0.22960000000000003, 0.9856, 0.88725, 0.9898, 0.99265, 0.9218, 0.97065, 0.9921, 0.9429000000000001, 0.85015, 0.88425, 0.94955, 0.9975499999999999, 0.7047, 0.85805, 0.8787, 0.9881, 0.96905, 0.94685, 0.61315, 0.8613500000000001, 0.99195, 0.99015, 0.9375, 0.3418, 0.9466, 0.80845, 0.9476, 0.009550000000000003, 0.9242, 0.9934499999999999, 0.98295, 0.97395, 0.9848, 0.71005, 0.89915, 0.69985, 0.9516, 0.16735, 0.991, 0.83355, 0.7838, 0.9943, 0.9682999999999999, 0.95435, 0.5, 0.9311, 0.93865, 0.7202, 0.9623999999999999, 0.88045, 0.6469, 0.93325, 0.06709999999999999, 0.9946999999999999, 0.9231, 0.9629, 0.9966999999999999, 0.97495, 0.8404, 0.7553000000000001, 0.9108499999999999, 0.9722999999999999, 0.9235, 0.9156500000000001, 0.9340999999999999, 0.6191, 0.5062, 0.2838, 0.9983500000000001, 0.9813000000000001, 0.9258, 0.8248500000000001, 0.94025, 0.97265, 0.8057000000000001, 0.0912, 0.7924, 0.9782500000000001, 0.9632000000000001, 0.97795, 0.13265, 0.89335, 0.9942, 0.9943, 0.9504, 0.9107000000000001, 0.82335, 0.9641500000000001, 0.9954000000000001, 0.81055, 0.81245, 0.7202, 0.9217, 0.9697, 0.9791000000000001, 0.9519500000000001, 0.7986, 0.9086000000000001, 0.71475, 0.99255, 0.99205, 0.75115, 0.98275, 0.9103, 0.7907500000000001, 0.96245, 0.9455, 0.86755, 0.5893, 0.97445, 0.98085, 0.9757, 0.9806, 0.92875, 0.9521, 0.51575, 0.93745, 0.9809, 0.9616, 0.9244, 0.5191, 0.9277500000000001, 0.8348, 0.9734, 0.87395, 0.93435, 0.9851, 0.94475, 0.90255, 0.9124, 0.9818, 0.9771000000000001, 0.9372, 0.96885, 0.92595, 0.8180000000000001, 0.9193, 0.97175, 0.044999999999999984, 0.7673, 0.59605, 0.9568, 0.9734, 0.9592, 0.9694499999999999, 0.9951, 0.9134, 0.2783, 0.8427, 0.9711000000000001, 0.9371, 0.8904000000000001, 0.9701, 0.91015, 0.9061, 0.70485, 0.9378500000000001, 0.9627, 0.7807, 0.9498, 0.9771000000000001, 0.88915, 0.66825, 0.5258, 0.9847, 0.97035, 0.9935499999999999, 0.036250000000000004, 0.6909, 0.9575, 0.9819, 0.98505, 0.9811000000000001, 0.9439, 0.79635, 0.86345, 0.9791000000000001, 0.97785, 0.9706, 0.8783000000000001, 0.9036500000000001, 0.66835, 0.9536, 0.6806, 0.9944500000000001, 0.9599500000000001, 0.94095, 0.26380000000000003, 0.8714999999999999, 0.9924, 0.8446, 0.8543000000000001, 0.9646, 0.81845, 0.99785, 0.9559, 0.97645, 0.92955, 0.92405, 0.9248000000000001, 0.66095, 0.9583999999999999, 0.9467, 0.9239999999999999, 0.88915, 0.7553000000000001, 0.9063, 0.58175, 0.85015, 0.92965, 0.98705, 0.9553, 0.71595, 0.9637, 0.9766, 0.7859499999999999, 0.8238, 0.9088, 0.25365, 0.9238999999999999, 0.9887, 0.97885, 0.648, 0.99675, 0.93435, 0.8988499999999999, 0.91555, 0.9762500000000001, 0.9075500000000001, 0.8784000000000001, 0.95365, 0.9430000000000001, 0.88045, 0.34935, 0.9220999999999999, 0.69375, 0.39265, 0.7997000000000001, 0.77115, 0.969, 0.9473, 0.93445, 0.58915, 0.7736000000000001, 0.8994500000000001, 0.67975, 0.69295, 0.59005, 0.9200999999999999, 0.9580500000000001, 0.94145, 0.9631000000000001, 0.93495, 0.92955, 0.27785000000000004, 0.70095, 0.97855, 0.41105, 0.9832000000000001, 0.9597, 0.75115, 0.2653, 0.99015, 0.9497, 0.83525, 0.9858, 0.99325, 0.9158, 0.9872000000000001, 0.9656, 0.92405, 0.93275, 0.98305, 0.9599500000000001, 0.9165, 0.98335, 0.26234999999999997, 0.9148499999999999, 0.81845, 0.9875499999999999, 0.75135, 0.8538, 0.93875, 0.9394, 0.8271, 0.65985, 0.98815, 0.85405, 0.98535, 0.9008, 0.97725, 0.86345, 0.85015, 0.9875, 0.32875, 0.3634, 0.95485, 0.04680000000000001, 0.74695, 0.9815, 0.9088, 0.9774, 0.9359, 0.91355, 0.8624499999999999, 0.2455, 0.61315, 0.9454, 0.935, 0.31965, 0.9775499999999999, 0.3194, 0.84945, 0.94655, 0.7693, 0.97175, 0.9673499999999999, 0.020100000000000007, 0.983, 0.96255, 0.4461, 0.4742, 0.9797, 0.8400000000000001, 0.9037, 0.8592, 0.96855, 0.9912000000000001, 0.5888, 0.42345, 0.9416, 0.95875, 0.9194, 0.9417, 0.9551499999999999, 0.29235, 0.77115, 0.90545, 0.71075, 0.82465, 0.61175, 0.7705500000000001, 0.9841, 0.9037, 0.9532499999999999, 0.9740500000000001, 0.9791000000000001, 0.9737, 0.9035, 0.79635, 0.9429000000000001, 0.6587000000000001, 0.9016, 0.969, 0.9061, 0.982, 0.9500500000000001, 0.9311, 0.9902500000000001, 0.99275, 0.94895, 0.82405, 0.51775, 0.9975499999999999, 0.9863, 0.16625, 0.97905, 0.7258, 0.9694, 0.9976, 0.86295, 0.9196, 0.9208000000000001, 0.6473, 0.37395, 0.9856, 0.9915, 0.9897, 0.99395, 0.8989, 0.97115, 0.93125, 0.7202, 0.61235, 0.9329000000000001, 0.99275, 0.9992, 0.99295, 0.9626, 0.9023, 0.9238999999999999, 0.81845, 0.96965, 0.83525, 0.8453999999999999, 0.36915, 0.65845, 0.8446, 0.2469, 0.892, 0.9237500000000001, 0.59015, 0.52025, 0.8825000000000001, 0.9156500000000001, 0.2888, 0.9410000000000001, 0.9841, 0.9879, 0.8753, 0.16815000000000002, 0.89775, 0.9769, 0.9842, 0.86345, 0.8326, 0.9063, 0.9178, 0.9416, 0.9863500000000001, 0.2798, 0.9816, 0.99375, 0.78945, 0.8453999999999999, 0.97065, 0.9901, 0.6366, 0.9200999999999999, 0.7633, 0.5, 0.96585, 0.97855, 0.9813000000000001, 0.563, 0.9988, 0.8184, 0.5, 0.6691, 0.8348, 0.5, 0.94765, 0.98905, 0.27949999999999997, 0.27885, 0.9612, 0.9088, 0.5, 0.23665000000000003, 0.94745, 0.8491500000000001, 0.92405, 0.92885, 0.5, 0.9989, 0.9691000000000001, 0.98175, 0.40495000000000003, 0.436, 0.9876, 0.9839, 0.91745, 0.98565, 0.9918, 0.96485, 0.95945, 0.3778, 0.99175, 0.9276, 0.9742500000000001, 0.6909, 0.9337500000000001, 0.93275, 0.55135, 0.9388000000000001, 0.94505, 0.99205, 0.9520500000000001, 0.05425000000000002, 0.9783, 0.39885, 0.8243, 0.98185, 0.94955, 0.5722, 0.8825000000000001, 0.7935, 0.9964999999999999, 0.8429, 0.97585, 0.9968, 0.94505, 0.9218, 0.66535, 0.9679, 0.9455, 0.94355, 0.9887, 0.99525, 0.9763, 0.8548, 0.9516, 0.89505, 0.7859499999999999, 0.4227, 0.9551499999999999, 0.99065, 0.9277500000000001, 0.7553000000000001, 0.981, 0.88405, 0.73895, 0.841, 0.83655, 0.7383500000000001, 0.8807499999999999, 0.9643999999999999, 0.5862, 0.93435, 0.9633499999999999, 0.9521, 0.417, 0.98775, 0.78485, 0.9147000000000001, 0.17885, 0.80935, 0.63825, 0.9721500000000001, 0.96145, 0.95095, 0.9458, 0.55455, 0.87505, 0.5, 0.9153, 0.9691000000000001, 0.92925, 0.94375, 0.37935, 0.97585, 0.9606, 0.9935499999999999, 0.42595, 0.7706500000000001, 0.96435, 0.9343, 0.8625499999999999, 0.9487, 0.3028, 0.9825999999999999, 0.98365, 0.9473, 0.9258, 0.4102, 0.9037, 0.9763999999999999, 0.9511000000000001, 0.9842, 0.8400000000000001, 0.971, 0.7553000000000001, 0.9768, 0.96775, 0.9667, 0.98935, 0.9583999999999999, 0.257, 0.77495, 0.9492499999999999, 0.99175, 0.96865, 0.19205, 0.9289499999999999, 0.9550000000000001, 0.98695, 0.88935, 0.61315, 0.94225, 0.9375, 0.98785, 0.7924, 0.96775, 0.98885, 0.8592, 0.5, 0.9795, 0.977, 0.15649999999999997, 0.9922, 0.23665000000000003, 0.9158, 0.58895, 0.8886000000000001, 0.93465, 0.99815, 0.8982, 0.9568, 0.8825000000000001, 0.625, 0.8787, 0.93645, 0.06130000000000002, 0.94875, 0.43555, 0.98715, 0.6582, 0.9854499999999999, 0.98515, 0.9936499999999999, 0.39595, 0.9769, 0.95745, 0.9722500000000001, 0.98865, 0.316, 0.96885, 0.44865, 0.9134, 0.3718, 0.8967499999999999, 0.9888, 0.9285, 0.9914499999999999, 0.5, 0.9179999999999999, 0.975, 0.8972, 0.9398500000000001, 0.99895, 0.93165, 0.5640000000000001, 0.9193, 0.98565, 0.972, 0.7374499999999999, 0.9178, 0.988, 0.625, 0.9277500000000001, 0.8218, 0.48065, 0.81765, 0.9417, 0.90345, 0.98455, 0.98085, 0.9358, 0.31695, 0.5506, 0.94415, 0.9674499999999999, 0.9655, 0.99135, 0.9572, 0.81845, 0.85015, 0.8057000000000001, 0.6591, 0.9484, 0.90325, 0.98855, 0.9642999999999999, 0.20475, 0.99305, 0.60115, 0.43685, 0.10089999999999999, 0.97075, 0.9720500000000001, 0.966, 0.8062, 0.98865, 0.8160499999999999, 0.97915, 0.427, 0.1839, 0.9238999999999999, 0.5, 0.94025, 0.9063, 0.9158, 0.5, 0.8626499999999999, 0.901, 0.8453999999999999, 0.98085, 0.1884, 0.74695, 0.9863500000000001, 0.82985, 0.09499999999999997, 0.97255, 0.89445, 0.98325, 0.9384, 0.9329000000000001, 0.9843500000000001, 0.9958, 0.93885, 0.6899, 0.7182, 0.88915, 0.9063, 0.9553499999999999, 0.9864999999999999, 0.89795, 0.96975, 0.93415, 0.9583999999999999, 0.87275, 0.66605, 0.7461, 0.87895, 0.9823999999999999, 0.563, 0.3194, 0.97075, 0.91785, 0.9374, 0.99, 0.9455, 0.9817, 0.99615, 0.94895, 0.99485, 0.9766, 0.698, 0.92595, 0.9654, 0.94855, 0.5, 0.97795, 0.9511000000000001, 0.18114999999999998, 0.9567, 0.9962500000000001, 0.23720000000000002, 0.7702, 0.91315, 0.9037, 0.9989, 0.15494999999999998, 0.99675, 0.92345, 0.9722, 0.04199999999999998, 0.9035, 0.9232, 0.93825, 0.93155, 0.81245, 0.8825000000000001, 0.95495, 0.1281, 0.65355, 0.9371499999999999, 0.9945999999999999, 0.9895, 0.93055, 0.7781, 0.9774, 0.03594999999999998, 0.83525, 0.94625, 0.83525, 0.8924000000000001, 0.90865, 0.9775499999999999, 0.8987, 0.9896499999999999, 0.9895499999999999, 0.99485, 0.8404, 0.7737499999999999, 0.47025, 0.9253, 0.9936499999999999, 0.9685, 0.67415, 0.9948, 0.9527, 0.7202, 0.35325, 0.58895, 0.65735, 0.7404, 0.07595000000000002, 0.9845999999999999, 0.97465, 0.94425, 0.6738500000000001, 0.99245, 0.2798, 0.86345, 0.98035, 0.9934000000000001, 0.91045, 0.7488, 0.92685, 0.99175, 0.9258, 0.29005000000000003, 0.95755, 0.98515, 0.9618, 0.96085, 0.94865, 0.5386, 0.61425, 0.79295, 0.98045, 0.7847999999999999, 0.99515, 0.9863, 0.96145, 0.9883500000000001, 0.8667, 0.95655, 0.9282, 0.9626, 0.9654499999999999, 0.9961, 0.9465, 0.9916499999999999, 0.8544, 0.9375, 0.97115, 0.9801500000000001, 0.969, 0.76275, 0.93445, 0.98375, 0.9218500000000001, 0.8585, 0.87375, 0.07590000000000002, 0.92195, 0.9656, 0.9819, 0.9978, 0.9375, 0.3294, 0.9794, 0.9863, 0.92415, 0.99605, 0.8343, 0.9329000000000001, 0.9504, 0.9701, 0.98105, 0.4742, 0.89695, 0.99075, 0.25305, 0.95065, 0.97885, 0.69995, 0.9550000000000001, 0.9067000000000001, 0.4423, 0.9500500000000001, 0.7268, 0.8269, 0.91995, 0.98065, 0.4569, 0.9903, 0.8566, 0.9274, 0.9952, 0.9559, 0.9365, 0.3409, 0.5, 0.9662, 0.42345, 0.9501, 0.9430000000000001, 0.9798, 0.38685, 0.901, 0.9734499999999999, 0.9802500000000001, 0.9769, 0.9884, 0.7587999999999999, 0.20029999999999998, 0.9637, 0.0862, 0.954, 0.96365, 0.9158, 0.85575, 0.63045, 0.98665, 0.92955, 0.9775499999999999, 0.9616, 0.9809, 0.7202, 0.9822500000000001, 0.9782, 0.9200999999999999, 0.9702, 0.6895, 0.94005, 0.66305, 0.99295, 0.93435, 0.8592, 0.94765, 0.98785, 0.94265, 0.9701500000000001, 0.99795, 0.9714, 0.99285, 0.93365, 0.9574, 0.11085, 0.9836, 0.99735, 0.99055, 0.27885, 0.9435, 0.98285, 0.97065, 0.9864999999999999, 0.9701, 0.29185, 0.5803, 0.98645, 0.93335, 0.9510000000000001, 0.98395, 0.88925, 0.89195, 0.6806, 0.8849, 0.9575, 0.9881, 0.6472, 0.23159999999999997, 0.9577, 0.94945, 0.9673499999999999, 0.7859499999999999, 0.4053, 0.96495, 0.5347, 0.96435, 0.9888, 0.8453999999999999, 0.94415, 0.9525, 0.5294, 0.99395, 0.39885, 0.91845, 0.86715, 0.9134, 0.7621, 0.96, 0.9158, 0.96905, 0.9754499999999999, 0.9685, 0.79295, 0.9416, 0.8953, 0.86345, 0.8591, 0.94845, 0.875, 0.91615, 0.9916, 0.99335, 0.63235, 0.6853, 0.04915000000000003, 0.94895, 0.47395, 0.8825000000000001, 0.7924, 0.97915, 0.07790000000000002, 0.28515, 0.9849, 0.8589, 0.8925000000000001, 0.9716, 0.999, 0.927, 0.93835, 0.96965, 0.96095, 0.8825000000000001, 0.92195, 0.9965999999999999, 0.9220999999999999, 0.77115, 0.96555, 0.97065, 0.96685, 0.9927, 0.9786, 0.20400000000000001, 0.51325, 0.9945999999999999, 0.9968, 0.3409, 0.95465, 0.9809, 0.99325, 0.018450000000000022, 0.37535, 0.8902, 0.5, 0.5, 0.54105, 0.9763, 0.97705, 0.9618, 0.9158, 0.8329500000000001, 0.9341999999999999, 0.9837, 0.9674, 0.875, 0.7859499999999999, 0.9063, 0.9758, 0.9948, 0.9818, 0.9008, 0.8951, 0.96675, 0.12345, 0.9924, 0.9731000000000001, 0.30910000000000004, 0.9809, 0.89225, 0.98905, 0.8478, 0.74695, 0.8951, 0.5676, 0.9427, 0.9847, 0.7294, 0.86755, 0.89225, 0.9178, 0.1674, 0.1452, 0.94425, 0.93885, 0.9742500000000001, 0.91545, 0.9784999999999999, 0.11580000000000001, 0.92825, 0.93885, 0.9794, 0.7576, 0.89655, 0.9540500000000001, 0.8404, 0.993, 0.96495, 0.7859499999999999, 0.9815, 0.9653, 0.97365, 0.93895, 0.87235, 0.9179999999999999, 0.88, 0.9257, 0.9061, 0.9858, 0.96485, 0.9568, 0.70995, 0.9966999999999999, 0.99725, 0.9863, 0.9196500000000001, 0.8243, 0.7085, 0.98645, 0.6128, 0.5, 0.7097, 0.9964999999999999, 0.7463, 0.85015, 0.99075, 0.92085, 0.9668, 0.7155, 0.9777, 0.81845, 0.27549999999999997, 0.9429000000000001, 0.989, 0.9769, 0.7141, 0.9572499999999999, 0.9498500000000001, 0.15835, 0.96875, 0.81245, 0.9654, 0.59305, 0.93895, 0.9598, 0.9652000000000001, 0.9963, 0.9275, 0.9918, 0.9794499999999999, 0.9942, 0.9329000000000001, 0.97325, 0.8679, 0.9192, 0.9755499999999999, 0.58795, 0.96085, 0.87895, 0.97585, 0.97195, 0.9, 0.71705, 0.9709, 0.4086, 0.76335, 0.9802, 0.6191, 0.99395, 0.992, 0.352, 0.9601999999999999, 0.9066000000000001, 0.9828, 0.8498, 0.9407, 0.966, 0.984, 0.9915, 0.375, 0.9482999999999999, 0.9248000000000001, 0.98105, 0.9622999999999999, 0.9825999999999999, 0.93445, 0.90535, 0.81845, 0.5, 0.95035, 0.9027499999999999, 0.94035, 0.95875, 0.96155, 0.9873000000000001, 0.8809, 0.92835, 0.73885, 0.9521, 0.97995, 0.7463500000000001, 0.9469000000000001, 0.94425, 0.9969, 0.6909, 0.96695, 0.98645, 0.6806, 0.97975, 0.9200999999999999, 0.09849999999999998, 0.7859499999999999, 0.5, 0.25305, 0.9943, 0.985, 0.17015000000000002, 0.86755, 0.9681500000000001, 0.91125, 0.77845, 0.21839999999999998, 0.9568, 0.7383500000000001, 0.6716, 0.98325, 0.9612499999999999, 0.99935, 0.9889, 0.92145, 0.89055, 0.9179999999999999, 0.7859499999999999, 0.9179999999999999, 0.82985, 0.38315, 0.94895, 0.9550000000000001, 0.9875499999999999, 0.9762500000000001, 0.9976, 0.75405, 0.99885, 0.44, 0.81245, 0.9917, 0.57805, 0.88915, 0.9915, 0.96355, 0.9816, 0.93445, 0.94035, 0.9098999999999999, 0.8642000000000001, 0.8511, 0.9294, 0.86225, 0.97385, 0.5, 0.9581999999999999, 0.9556, 0.9792000000000001, 0.9068499999999999, 0.9467, 0.9537, 0.9938, 0.8691, 0.81845, 0.9777, 0.96565, 0.9636, 0.9379500000000001, 0.85015, 0.9499500000000001, 0.5961, 0.9869, 0.6191, 0.9650000000000001, 0.9674, 0.9884999999999999, 0.97975, 0.95845, 0.8712, 0.9915499999999999, 0.9440500000000001, 0.98035, 0.5, 0.86315, 0.8753, 0.9558, 0.95475, 0.81845, 0.9064, 0.9521, 0.87895, 0.9178, 0.9647, 0.9509000000000001, 0.7924, 0.7463500000000001, 0.5, 0.24045, 0.9500500000000001, 0.64005, 0.9811000000000001, 0.9499, 0.9200999999999999, 0.9425, 0.99665, 0.989, 0.9816, 0.9386, 0.6897, 0.99385, 0.9575, 0.87895, 0.7787, 0.6887, 0.99395, 0.83165, 0.99535, 0.9823999999999999, 0.93445, 0.9061, 0.9430000000000001, 0.9814499999999999, 0.9035, 0.9832000000000001, 0.7287, 0.8714999999999999, 0.9714, 0.8548, 0.83745, 0.8453999999999999, 0.9882, 0.9795499999999999, 0.9478500000000001, 0.9802, 0.97265, 0.9331499999999999, 0.9903500000000001, 0.85015, 0.7997000000000001, 0.954, 0.07655, 0.986, 0.991, 0.5, 0.9954000000000001, 0.84345, 0.5, 0.96625, 0.96625, 0.9804999999999999, 0.94765, 0.9843, 0.51665, 0.97785, 0.35065, 0.8953, 0.5615, 0.9430000000000001, 0.8592, 0.9868, 0.9525, 0.9466, 0.01745000000000002, 0.92055, 0.8101499999999999, 0.375, 0.9486, 0.9925999999999999, 0.8888499999999999, 0.8443499999999999, 0.9304, 0.8605, 0.94365, 0.97905, 0.6011, 0.9891, 0.9776, 0.9768, 0.82865, 0.9668, 0.55135, 0.6366, 0.12930000000000003, 0.92595, 0.99415, 0.60115, 0.9580500000000001, 0.8734500000000001, 0.9774499999999999, 0.90335, 0.59825, 0.23004999999999998, 0.9863, 0.86085, 0.98645, 0.973, 0.7859499999999999, 0.9552, 0.98705, 0.89585, 0.8982, 0.7982, 0.91625, 0.9856, 0.85015, 0.9499500000000001, 0.9966999999999999, 0.5258, 0.79295, 0.9583999999999999, 0.86345, 0.77115, 0.9631000000000001, 0.64485, 0.98185, 0.8453999999999999, 0.97235, 0.94025, 0.5, 0.99615, 0.9734499999999999, 0.79915, 0.33804999999999996, 0.9158, 0.9883, 0.98005, 0.96155, 0.8484499999999999, 0.7199, 0.9867, 0.61315, 0.9741, 0.33175, 0.82785, 0.21700000000000003, 0.9637, 0.85885, 0.5, 0.95585, 0.9823500000000001, 0.91145, 0.39885, 0.8588, 0.9158, 0.9677, 0.9659, 0.9623999999999999, 0.9740500000000001, 0.844, 0.07335000000000003, 0.6806, 0.9136500000000001, 0.9606, 0.86755, 0.99105, 0.4371, 0.19755, 0.96435, 0.5882000000000001, 0.8712500000000001, 0.9465, 0.9821500000000001, 0.9676, 0.59985, 0.7294, 0.5, 0.8955, 0.95555, 0.95255, 0.9585, 0.81845, 0.9319, 0.9238999999999999, 0.04804999999999998, 0.9862500000000001, 0.40925, 0.8951, 0.9877, 0.8329, 0.41725, 0.85015, 0.28925, 0.9711000000000001, 0.60015, 0.36095, 0.9773000000000001, 0.94885, 0.935, 0.8794, 0.9323, 0.9568, 0.5, 0.9096500000000001, 0.58915, 0.5009, 0.1456, 0.9467, 0.93945, 0.97065, 0.9828, 0.9735, 0.973, 0.57565, 0.9742, 0.9888, 0.98895, 0.9134, 0.97325, 0.9433, 0.99015, 0.9479, 0.9037, 0.9778, 0.9628, 0.969, 0.9834, 0.97455, 0.97585, 0.7859499999999999, 0.91945, 0.9383, 0.1768, 0.9905999999999999, 0.9702999999999999, 0.8062, 0.8822, 0.8782, 0.9983, 0.9058999999999999, 0.94955, 0.99735, 0.9638, 0.7202, 0.9758, 0.87225, 0.77115, 0.971, 0.9911, 0.98095, 0.97725, 0.97795, 0.9709, 0.9545, 0.95915, 0.91105, 0.95755, 0.9374, 0.92565, 0.9370499999999999, 0.83525, 0.9088, 0.12040000000000001, 0.74695, 0.8404, 0.81845, 0.923, 0.98065, 0.9478500000000001, 0.16575, 0.98375, 0.9396, 0.8336, 0.6361, 0.75115, 0.30315000000000003, 0.8453999999999999, 0.9232, 0.9709, 0.7202, 0.93275, 0.9841500000000001, 0.9063, 0.81245, 0.67, 0.98985, 0.84575, 0.96225, 0.8914500000000001, 0.9630000000000001, 0.89225, 0.9874499999999999, 0.8774500000000001, 0.8692, 0.9691000000000001, 0.99795, 0.9851, 0.96855, 0.9956, 0.9294, 0.91105, 0.9652499999999999, 0.94775, 0.94015, 0.982, 0.67405, 0.9821500000000001, 0.95655, 0.9238999999999999, 0.21405000000000002, 0.9915499999999999, 0.9935499999999999, 0.9817, 0.95765, 0.9485, 0.95655, 0.34965, 0.79915, 0.98905, 0.79295, 0.9513499999999999, 0.65355, 0.8473999999999999, 0.91125, 0.9269000000000001, 0.04594999999999999, 0.9075500000000001, 0.38575, 0.9209499999999999, 0.98265, 0.94775, 0.86345, 0.88025, 0.75115, 0.2213, 0.96885, 0.8069, 0.9329000000000001, 0.9061, 0.5640000000000001, 0.9265, 0.9685, 0.88585, 0.3791, 0.95835, 0.9754, 0.31815, 0.9337, 0.9084, 0.9367, 0.9674499999999999, 0.93675, 0.9132, 0.8875, 0.33545, 0.30910000000000004, 0.9700500000000001, 0.95045, 0.96095, 0.95375, 0.5395, 0.5191, 0.76945, 0.9294, 0.99255, 0.9636, 0.98295, 0.71005, 0.8238, 0.69565, 0.76335, 0.5, 0.9088, 0.9899, 0.9834, 0.648, 0.9449000000000001, 0.27859999999999996, 0.901, 0.9359999999999999, 0.8748, 0.06030000000000002, 0.9872000000000001, 0.95885, 0.99315, 0.9706, 0.91125, 0.968, 0.5, 0.99215, 0.9008, 0.2549, 0.97915, 0.9913000000000001, 0.9912000000000001, 0.9630000000000001, 0.9807, 0.8862, 0.9238999999999999, 0.99595, 0.9867, 0.9632499999999999, 0.9035500000000001, 0.81845, 0.92195, 0.87685, 0.6366, 0.9388000000000001, 0.23665000000000003, 0.41105, 0.70015, 0.45545, 0.98075, 0.92405, 0.9787, 0.77115, 0.9305, 0.94035, 0.96665, 0.9795, 0.90845, 0.9904, 0.45715, 0.9175, 0.90465, 0.8398, 0.50815, 0.8244, 0.9761, 0.6806, 0.9909, 0.8753, 0.9961, 0.99045, 0.6909, 0.8169500000000001, 0.42345, 0.96625, 0.9859, 0.92595, 0.973, 0.1411, 0.1743, 0.94895, 0.7987500000000001, 0.776, 0.66455, 0.9467, 0.48109999999999997, 0.58895, 0.7383500000000001, 0.83355, 0.9582999999999999, 0.9711000000000001, 0.8360000000000001, 0.9754499999999999, 0.97395, 0.9612499999999999, 0.77115, 0.70095, 0.91105, 0.9682, 0.21334999999999998, 0.98385, 0.81245, 0.97465, 0.5, 0.33155, 0.9883, 0.9788, 0.4614, 0.9766, 0.9642999999999999, 0.7346, 0.9109, 0.9117, 0.9720500000000001, 0.9918, 0.9701500000000001, 0.7435499999999999, 0.9122, 0.9821500000000001, 0.7721, 0.41085, 0.9358500000000001, 0.71075, 0.24275000000000002, 0.94495, 0.96675, 0.92405, 0.4723, 0.74695, 0.1658, 0.85695, 0.9153, 0.9353, 0.98165, 0.94265, 0.8629, 0.9215, 0.9061, 0.9734, 0.9935499999999999, 0.0867, 0.9821, 0.02150000000000002, 0.9942500000000001, 0.9693499999999999, 0.8404, 0.2494, 0.9615, 0.9956499999999999, 0.93145, 0.5640000000000001, 0.94895, 0.8592, 0.19640000000000002, 0.98335, 0.9753499999999999, 0.8822, 0.9592, 0.8894500000000001, 0.9148499999999999, 0.9875499999999999, 0.97465, 0.9828, 0.97855, 0.9977, 0.9318500000000001, 0.96995, 0.91915, 0.96795, 0.9593, 0.7292, 0.97795, 0.97495, 0.46105, 0.9351, 0.20365, 0.9637, 0.8672500000000001, 0.99325, 0.9863, 0.9848, 0.36915, 0.9992, 0.1612, 0.89695, 0.9854, 0.95765, 0.98865, 0.8982, 0.8518, 0.9754, 0.8222, 0.5, 0.95415, 0.81245, 0.9662, 0.8928, 0.15889999999999999, 0.93085, 0.89325, 0.5, 0.9037, 0.18025000000000002, 0.95455, 0.9824999999999999, 0.83485, 0.9147000000000001, 0.84005, 0.86345, 0.03165000000000001, 0.056999999999999995, 0.01984999999999998, 0.9486, 0.9931, 0.9531000000000001, 0.96855, 0.9490000000000001, 0.5649, 0.8232999999999999, 0.043800000000000006, 0.18064999999999998, 0.8214, 0.3787, 0.8787, 0.9685, 0.9803, 0.26165, 0.7383500000000001, 0.9951, 0.59465, 0.9733499999999999, 0.9902, 0.602, 0.61315, 0.9872000000000001, 0.98915, 0.8829, 0.9310499999999999, 0.9520500000000001, 0.91325, 0.8034, 0.9031, 0.62105, 0.9480500000000001, 0.9501999999999999, 0.08155000000000001, 0.7202, 0.8243, 0.99295, 0.9329000000000001, 0.9365, 0.9068499999999999, 0.9403, 0.9823, 0.84575, 0.94645, 0.8111999999999999, 0.8673, 0.95375, 0.98175, 0.7265, 0.99385, 0.66665, 0.8929, 0.9803, 0.9311, 0.94425, 0.9519500000000001, 0.545, 0.90585, 0.9703999999999999, 0.94895, 0.23475000000000001, 0.7966500000000001, 0.6471, 0.9652499999999999, 0.3798, 0.98505, 0.88585, 0.74925, 0.8182499999999999, 0.9714, 0.6104, 0.9559, 0.698, 0.92635, 0.96, 0.93275, 0.7918499999999999, 0.9428000000000001, 0.9200999999999999, 0.9918, 0.91355, 0.4421, 0.9498, 0.89505, 0.99195, 0.94425, 0.6658999999999999, 0.92955, 0.93325, 0.93005, 0.9485, 0.9915, 0.17435, 0.9421999999999999, 0.94765, 0.7559, 0.97785, 0.0912, 0.60365, 0.98135, 0.91205, 0.27205, 0.96785, 0.8982, 0.9329000000000001, 0.8062, 0.96675, 0.9581999999999999, 0.25305, 0.95845, 0.80575, 0.81845, 0.88445, 0.96145, 0.9733, 0.79295, 0.9635, 0.79635, 0.98065, 0.6636, 0.59995, 0.96655, 0.70095, 0.9555, 0.97695, 0.8494999999999999, 0.89775, 0.067, 0.92405, 0.8294, 0.98705, 0.9867, 0.9498500000000001, 0.10465000000000002, 0.85665, 0.7069, 0.9541999999999999, 0.87165, 0.9683999999999999, 0.91125, 0.95065, 0.93265, 0.81845, 0.9139999999999999, 0.21405000000000002, 0.9720500000000001, 0.06374999999999997, 0.8866, 0.76275, 0.8749, 0.9269000000000001, 0.9884999999999999, 0.9440500000000001, 0.84795, 0.9956499999999999, 0.9895499999999999, 0.9568, 0.8404, 0.75465, 0.8812, 0.90655, 0.9843500000000001, 0.8714999999999999, 0.8088500000000001, 0.94975, 0.99795, 0.9976499999999999, 0.97965, 0.9169, 0.91105, 0.9849, 0.99215, 0.95485, 0.9797, 0.964, 0.9599, 0.91115, 0.90145, 0.07784999999999997, 0.14329999999999998, 0.9339999999999999, 0.9888, 0.8741, 0.99675, 0.92955, 0.9803, 0.98285, 0.81545, 0.19485000000000002, 0.7607999999999999, 0.9929, 0.97065, 0.648, 0.7997000000000001, 0.037250000000000005, 0.931, 0.8498, 0.11295, 0.0801, 0.6691, 0.9006000000000001, 0.99495, 0.9883500000000001, 0.8547, 0.92595, 0.9958, 0.30510000000000004, 0.60115, 0.9208000000000001, 0.5, 0.44865, 0.9063, 0.7987, 0.98775, 0.98915, 0.6113999999999999, 0.9466, 0.9579500000000001, 0.20755, 0.9509000000000001, 0.036849999999999994, 0.9613499999999999, 0.4036, 0.4845, 0.58165, 0.9776, 0.98125, 0.29905000000000004, 0.7697, 0.97, 0.92315, 0.3634, 0.8116, 0.9591000000000001, 0.98815, 0.15165, 0.8544499999999999, 0.63535, 0.9674, 0.9183, 0.9561999999999999, 0.97245, 0.4012, 0.06555, 0.92085, 0.9297500000000001, 0.8822, 0.9498500000000001, 0.77415, 0.99315, 0.16325, 0.9521, 0.7338, 0.90015, 0.96315, 0.9363, 0.625, 0.5386, 0.8284, 0.82055, 0.92725, 0.91995, 0.92595, 0.6848, 0.39715, 0.901, 0.9259999999999999, 0.8642000000000001, 0.9898, 0.9148499999999999, 0.9979, 0.34645000000000004, 0.901, 0.985, 0.9042, 0.94835, 0.92335, 0.42495, 0.9294, 0.9600500000000001, 0.97585, 0.9806, 0.9653499999999999, 0.93955, 0.99175, 0.8825000000000001, 0.988, 0.9634499999999999, 0.9454, 0.92615, 0.33545, 0.9897, 0.9747, 0.9559, 0.9985999999999999, 0.9451, 0.9540500000000001, 0.5, 0.16649999999999998, 0.638, 0.66565, 0.9983, 0.9757, 0.7369, 0.026000000000000023, 0.99545, 0.31420000000000003, 0.91215, 0.9658, 0.9897, 0.95545, 0.9637, 0.78755, 0.94165, 0.043899999999999995, 0.9602999999999999, 0.4614, 0.83065, 0.9631000000000001, 0.9828, 0.97675, 0.9236500000000001, 0.5, 0.8001499999999999, 0.9804999999999999, 0.9355, 0.99085, 0.9550000000000001, 0.9553, 0.96505, 0.8866499999999999, 0.99905, 0.9088, 0.41825, 0.9472499999999999, 0.99295, 0.9813000000000001, 0.78925, 0.2293, 0.995, 0.98815, 0.93275, 0.9198999999999999, 0.9673499999999999, 0.9449000000000001, 0.13905, 0.23845, 0.07865, 0.7907500000000001, 0.012149999999999994, 0.91385, 0.97885, 0.9511000000000001, 0.77115, 0.057599999999999985, 0.57555, 0.86345, 0.30125, 0.85015, 0.99535, 0.8886000000000001, 0.7717, 0.954, 0.92885, 0.9795, 0.77115, 0.7787, 0.14675, 0.9958, 0.987, 0.776, 0.9963500000000001, 0.9922500000000001, 0.93955, 0.9511000000000001, 0.8951, 0.8304, 0.9049499999999999, 0.86345, 0.9158, 0.96625, 0.72745, 0.987, 0.4113, 0.94275, 0.47295, 0.84455, 0.81845, 0.363, 0.90795, 0.03670000000000001, 0.8243, 0.986, 0.9736, 0.6909, 0.7463500000000001, 0.9158, 0.9674499999999999, 0.954, 0.9716, 0.9749, 0.9514, 0.8243, 0.8592, 0.07595000000000002, 0.93445, 0.99715, 0.26165, 0.9158, 0.89205, 0.87165, 0.563, 0.9854, 0.97835, 0.62405, 0.83525, 0.89225, 0.9842500000000001, 0.41525, 0.9642999999999999, 0.3751, 0.9531499999999999, 0.9512499999999999, 0.7997000000000001, 0.3577, 0.9893000000000001, 0.94035, 0.9189, 0.9186000000000001, 0.95765, 0.5059, 0.33504999999999996, 0.99185, 0.88285, 0.89505, 0.9179999999999999, 0.9311, 0.95765, 0.77115, 0.954, 0.98245, 0.91805, 0.05830000000000002, 0.9415, 0.92595, 0.9677, 0.30225, 0.94895, 0.9368000000000001, 0.97115, 0.95425, 0.9455, 0.90995, 0.88195, 0.33545, 0.98485, 0.7199, 0.9755, 0.9478500000000001, 0.812, 0.99245, 0.36929999999999996, 0.98255, 0.8243, 0.9406, 0.9489000000000001, 0.96965, 0.22875, 0.9622999999999999, 0.94235, 0.9863999999999999, 0.81245, 0.2706, 0.97055, 0.9935, 0.8613500000000001, 0.8912, 0.77225, 0.9851, 0.70165, 0.9540500000000001, 0.81195, 0.9821, 0.71455, 0.94425, 0.9008, 0.1522, 0.85015, 0.7031000000000001, 0.9718, 0.95575, 0.92405, 0.34299999999999997, 0.80575, 0.81185, 0.8148, 0.9219999999999999, 0.36224999999999996, 0.4973, 0.8855999999999999, 0.8057000000000001, 0.96025, 0.9847, 0.5, 0.9823999999999999, 0.9134, 0.9424, 0.9889, 0.9714, 0.97665, 0.6385000000000001, 0.75465, 0.9956499999999999, 0.9716, 0.63845, 0.4614, 0.9003, 0.9438500000000001, 0.95055, 0.58895, 0.99615, 0.9964, 0.94275, 0.21089999999999998, 0.93445, 0.9976499999999999, 0.82535, 0.8714999999999999, 0.88915, 0.7006, 0.98775, 0.92405, 0.93525, 0.99175, 0.98285, 0.7553000000000001, 0.9169, 0.81845, 0.5827, 0.99375, 0.94415, 0.9742999999999999, 0.98525, 0.892, 0.5, 0.96505, 0.96455, 0.9774, 0.97505, 0.3326, 0.9359999999999999, 0.9063, 0.97465, 0.7374499999999999, 0.91885, 0.591, 0.723, 0.8348, 0.91865, 0.65575, 0.8585, 0.96695, 0.96625, 0.94885, 0.77495, 0.9681500000000001, 0.8274, 0.96905, 0.99595, 0.0807, 0.98735, 0.8562000000000001, 0.8953, 0.9218500000000001, 0.93815, 0.85185, 0.5, 0.8951, 0.76335, 0.31965, 0.86755, 0.17830000000000001, 0.9641, 0.8849, 0.96895, 0.7202, 0.9630000000000001, 0.7202, 0.8348, 0.9238999999999999, 0.60115, 0.42945, 0.96775, 0.8222499999999999, 0.93895, 0.617, 0.89225, 0.8942, 0.8243, 0.93965, 0.95305, 0.72145, 0.9134, 0.92325, 0.9359999999999999, 0.9037, 0.9962500000000001, 0.9649, 0.3294, 0.9002, 0.9938, 0.7294, 0.77815, 0.9414, 0.8837999999999999, 0.9409000000000001, 0.9222, 0.9558, 0.8842, 0.76415, 0.9734, 0.8548, 0.9084, 0.03744999999999998, 0.9251, 0.91045, 0.9923, 0.9196, 0.5, 0.987, 0.9934000000000001, 0.96355, 0.88805, 0.93015, 0.9843, 0.9359999999999999, 0.9672499999999999, 0.9701500000000001, 0.69575, 0.9258, 0.74695, 0.5, 0.9925999999999999, 0.98045, 0.7859499999999999, 0.9839, 0.97575, 0.9086000000000001, 0.9821, 0.83175, 0.9895499999999999, 0.1053, 0.9358500000000001, 0.93275, 0.9625, 0.7202, 0.9550000000000001, 0.87225, 0.70095, 0.88585, 0.98875, 0.9861, 0.968, 0.98175, 0.9964500000000001, 0.8346, 0.44195, 0.95905, 0.8714999999999999, 0.9752000000000001, 0.84945, 0.16799999999999998, 0.81245, 0.06630000000000003, 0.9371499999999999, 0.9783, 0.9995, 0.9716, 0.92195, 0.6366, 0.95035, 0.93525, 0.95975, 0.6858, 0.9533, 0.8493999999999999, 0.8887, 0.16665000000000002, 0.792, 0.9944500000000001, 0.9323, 0.9486, 0.8916, 0.9084, 0.2887, 0.8062, 0.6806, 0.88565, 0.9683999999999999, 0.9086000000000001, 0.9158, 0.94455, 0.98935, 0.8057000000000001, 0.9894000000000001, 0.8753, 0.7997000000000001, 0.9453, 0.18009999999999998, 0.9903500000000001, 0.9964500000000001, 0.8753, 0.9593, 0.9143, 0.9220999999999999, 0.9659, 0.9579500000000001, 0.9944999999999999, 0.98005, 0.87715, 0.99605, 0.8996500000000001, 0.993, 0.5, 0.99495, 0.97795, 0.7377, 0.90855, 0.9962500000000001, 0.6894, 0.7499, 0.9185, 0.74665, 0.7202, 0.84055, 0.7739, 0.96675, 0.86195, 0.98315, 0.98395, 0.9374, 0.74695, 0.9208000000000001, 0.9061, 0.88915, 0.9843999999999999, 0.9520500000000001, 0.96965, 0.02184999999999998, 0.6870499999999999, 0.78535, 0.9736, 0.7463500000000001, 0.8563000000000001, 0.8753, 0.93675, 0.9681, 0.9586, 0.98995, 0.9622999999999999, 0.9600500000000001, 0.9724999999999999, 0.91545, 0.9177, 0.9190499999999999, 0.9253, 0.38555, 0.86755, 0.13235000000000002, 0.014649999999999996, 0.08084999999999998, 0.91995, 0.8953, 0.92405, 0.9600500000000001, 0.43385, 0.95985, 0.3194, 0.2959, 0.1679, 0.9691000000000001, 0.09034999999999999, 0.9754, 0.9028, 0.98515, 0.6917, 0.9498500000000001, 0.98935, 0.8942, 0.4991, 0.3835, 0.36419999999999997, 0.9834499999999999, 0.8325, 0.9741, 0.81245, 0.9628, 0.5, 0.7715000000000001, 0.9879, 0.8844000000000001, 0.7616499999999999, 0.74695, 0.018400000000000027, 0.8982, 0.806, 0.98595, 0.22405000000000003, 0.93435, 0.18235, 0.5258, 0.87895, 0.9742999999999999, 0.9096500000000001, 0.95185, 0.5245, 0.98985, 0.74695, 0.98705, 0.9622999999999999, 0.6909, 0.99465, 0.58895, 0.6472, 0.8155, 0.5752, 0.99315, 0.87715, 0.06409999999999999, 0.79175, 0.8632, 0.73005, 0.87905, 0.57555, 0.9878, 0.93465, 0.9579, 0.9896, 0.8753, 0.9845999999999999, 0.9825999999999999, 0.8809, 0.88645, 0.94425, 0.81245, 0.9573, 0.9781500000000001, 0.9231, 0.93685, 0.86565, 0.8895500000000001, 0.99045, 0.98075, 0.8373999999999999, 0.4555, 0.9509000000000001, 0.9869, 0.7533000000000001, 0.7202, 0.9722999999999999, 0.81755, 0.98065, 0.9724999999999999, 0.98165, 0.99135, 0.98305, 0.80575, 0.9975499999999999, 0.98275, 0.98175, 0.95905, 0.9359999999999999, 0.72085, 0.9928, 0.03620000000000001, 0.95035, 0.97995, 0.9837, 0.38325, 0.91625, 0.82575, 0.9821, 0.03694999999999998, 0.99195, 0.98045, 0.8732, 0.86755, 0.7294, 0.95845, 0.5, 0.9863, 0.54245, 0.352, 0.6697500000000001, 0.9158, 0.93125, 0.97905, 0.973, 0.9612, 0.9834, 0.68825, 0.60115, 0.898, 0.9637, 0.4742, 0.95745, 0.77495, 0.9811000000000001, 0.88175, 0.9794, 0.91535, 0.41105, 0.96955, 0.976, 0.99585, 0.8362, 0.62635, 0.7463500000000001, 0.62395, 0.7992, 0.9550000000000001, 0.9390499999999999, 0.92195, 0.94035, 0.63715, 0.94295, 0.91475, 0.92405, 0.9277500000000001, 0.9200999999999999, 0.6909, 0.7084, 0.5, 0.9670000000000001, 0.9600500000000001, 0.9738, 0.2818, 0.9111, 0.6628499999999999, 0.88585, 0.9037, 0.593, 0.99915, 0.77115, 0.83485, 0.9679, 0.97775, 0.9275, 0.6691, 0.81845, 0.9273, 0.31015000000000004, 0.9865999999999999, 0.9875, 0.6242, 0.28054999999999997, 0.9944999999999999, 0.9539, 0.9478500000000001, 0.98005, 0.98665, 0.21405000000000002, 0.9681, 0.9943, 0.92085, 0.7859499999999999, 0.71175, 0.81245, 0.6528, 0.99715, 0.96855, 0.93275, 0.94035, 0.93895, 0.898, 0.8537, 0.9764999999999999, 0.40495000000000003, 0.9521, 0.9845999999999999, 0.962, 0.9375, 0.78175, 0.98685, 0.9855499999999999, 0.92955, 0.96625, 0.0948, 0.8753, 0.86755, 0.24469999999999997, 0.9771000000000001, 0.6741, 0.1558, 0.98595, 0.66055, 0.82445, 0.9700500000000001, 0.5, 0.90455, 0.8714999999999999, 0.98305, 0.9676, 0.82985, 0.97865, 0.89325, 0.9772000000000001, 0.5727, 0.94895, 0.8128500000000001, 0.9889, 0.8525, 0.97985, 0.844, 0.76335, 0.9894499999999999, 0.64115, 0.9605, 0.86755, 0.95365, 0.79445, 0.9791000000000001, 0.9118999999999999, 0.9478500000000001, 0.9875, 0.86755, 0.9778, 0.81245, 0.97355, 0.99735, 0.9465, 0.5, 0.99475, 0.91145, 0.96955, 0.98675, 0.58895, 0.8965000000000001, 0.9293, 0.8753, 0.9541999999999999, 0.96905, 0.97805, 0.9462999999999999, 0.9701, 0.96555, 0.9488, 0.34485, 0.9429000000000001, 0.8592, 0.94025, 0.6858, 0.98605, 0.9583999999999999, 0.97965, 0.9294, 0.9173, 0.7997000000000001, 0.86345, 0.9854, 0.5258, 0.9835, 0.99285, 0.9637, 0.9197500000000001, 0.8453999999999999, 0.85625, 0.97185, 0.7591, 0.51935, 0.9843999999999999, 0.987, 0.95785, 0.95345, 0.9884999999999999, 0.9575, 0.98445, 0.9847, 0.6806, 0.8982, 0.92815, 0.7463500000000001, 0.96855, 0.9416, 0.9707, 0.98445, 0.15744999999999998, 0.85175, 0.85675, 0.98525, 0.9872000000000001, 0.90435, 0.8876999999999999, 0.98445, 0.98585, 0.9420999999999999, 0.7997000000000001, 0.9955499999999999, 0.99, 0.9338, 0.9374, 0.46825, 0.95055, 0.90435, 0.6909, 0.23720000000000002, 0.98265, 0.9691000000000001, 0.9621, 0.9451, 0.9613, 0.9979, 0.96495, 0.8348, 0.9700500000000001, 0.92085, 0.13665, 0.17335, 0.92595, 0.98365, 0.71075, 0.58895, 0.98245, 0.98805, 0.86755, 0.9834, 0.4678, 0.95145, 0.88915, 0.9856, 0.9808, 0.81845, 0.9409000000000001, 0.9731000000000001, 0.9235, 0.83195, 0.95095, 0.9484, 0.9764999999999999, 0.9844999999999999, 0.9629, 0.9339500000000001, 0.872, 0.9689, 0.9869, 0.9399500000000001, 0.99085, 0.92405, 0.91125, 0.96875, 0.90865, 0.9582999999999999, 0.82985, 0.9855499999999999, 0.9550000000000001, 0.9430000000000001, 0.9635, 0.4742, 0.9656, 0.9451, 0.58805, 0.9102, 0.8589, 0.5, 0.5, 0.9198999999999999, 0.97505, 0.9007499999999999, 0.96025, 0.91125, 0.9858, 0.22885, 0.9794499999999999, 0.93085, 0.8744000000000001, 0.9713499999999999, 0.11195, 0.9654, 0.9467, 0.9876499999999999, 0.9294, 0.9682, 0.6806, 0.9691000000000001, 0.8579, 0.9597, 0.97255, 0.88215, 0.5386, 0.9200999999999999, 0.9500500000000001, 0.7973, 0.9916, 0.96285, 0.82115, 0.1698, 0.32365, 0.9843500000000001, 0.9602999999999999, 0.6911499999999999, 0.9706, 0.96975, 0.93815, 0.99065, 0.8714999999999999, 0.93035, 0.28305, 0.94025, 0.9358, 0.98715, 0.5, 0.94415, 0.9716, 0.77, 0.352, 0.81245, 0.61055, 0.93445, 0.85355, 0.9782500000000001, 0.7377, 0.9688, 0.9769, 0.94655, 0.62885, 0.99475, 0.9540500000000001, 0.86345, 0.9908, 0.9108, 0.6115, 0.9478500000000001, 0.8753, 0.0948, 0.61235, 0.9673499999999999, 0.67975, 0.9593, 0.82985, 0.82985, 0.89465, 0.7859499999999999, 0.9670000000000001, 0.8744000000000001, 0.9923, 0.8783000000000001, 0.9188000000000001, 0.22675, 0.95845, 0.90135, 0.13019999999999998, 0.9916499999999999, 0.9677, 0.9169, 0.96895, 0.8998999999999999, 0.8652, 0.9779, 0.5129, 0.81245, 0.97065, 0.9179999999999999, 0.8057000000000001, 0.9129499999999999, 0.9733, 0.97065, 0.99725, 0.991, 0.9158, 0.9580500000000001, 0.93085, 0.9941, 0.9979, 0.9467, 0.8062, 0.98705, 0.9568, 0.9540500000000001, 0.38685, 0.8592, 0.9941, 0.9211, 0.97885, 0.81395, 0.8559, 0.8714999999999999, 0.96675, 0.96555, 0.93275, 0.9802, 0.08150000000000002, 0.78645, 0.91415, 0.9694, 0.9793499999999999, 0.75815, 0.81845, 0.8855999999999999, 0.85195, 0.9511000000000001, 0.9794, 0.8839, 0.9975499999999999, 0.8078000000000001, 0.94085, 0.99485, 0.90405, 0.93275, 0.9754499999999999, 0.8404, 0.94535, 0.95665, 0.96435, 0.10035, 0.9512, 0.9630000000000001, 0.9612499999999999, 0.05385000000000001, 0.9289499999999999, 0.69435, 0.72215, 0.9088, 0.9774499999999999, 0.90055, 0.8294, 0.98925, 0.9158, 0.9681500000000001, 0.94885, 0.032299999999999995, 0.17754999999999999, 0.88455, 0.98665, 0.99275, 0.9519, 0.5559499999999999, 0.93675, 0.49935, 0.8057000000000001, 0.02510000000000001, 0.011299999999999977, 0.9788, 0.9633499999999999, 0.97685, 0.9247000000000001, 0.95505, 0.9848, 0.9397, 0.9271499999999999, 0.9142, 0.92405, 0.97255, 0.9216500000000001, 0.99325, 0.7859499999999999, 0.9991, 0.91315, 0.93425, 0.31475, 0.9525, 0.7859499999999999, 0.9738, 0.9537, 0.9825999999999999, 0.96495, 0.89175, 0.9788, 0.7771, 0.2213, 0.9719, 0.8279000000000001, 0.99255, 0.81245, 0.71075, 0.99255, 0.9258, 0.9912000000000001, 0.98085, 0.8888499999999999, 0.27975, 0.5, 0.9084, 0.9767, 0.988, 0.92675, 0.5, 0.98115, 0.9935, 0.9733499999999999, 0.98665, 0.91105, 0.89045, 0.9962, 0.9092, 0.9134, 0.9375, 0.61235, 0.97975, 0.9899, 0.925, 0.4447, 0.9621500000000001, 0.8731, 0.9088, 0.7627999999999999, 0.9672499999999999, 0.95085, 0.0801, 0.98705, 0.6708000000000001, 0.85015, 0.90515, 0.98525, 0.9802500000000001, 0.8996999999999999, 0.9478500000000001, 0.7886500000000001, 0.9630000000000001, 0.9544, 0.9637, 0.8825000000000001, 0.984, 0.16735, 0.9674, 0.9691000000000001, 0.5893, 0.88705, 0.98705, 0.5, 0.94425, 0.9592, 0.82335, 0.9746, 0.9412499999999999, 0.97865, 0.95765, 0.46405, 0.6582, 0.9635, 0.9622999999999999, 0.42905, 0.9662, 0.6806, 0.99525, 0.9742999999999999, 0.9883500000000001, 0.81245, 0.93125, 0.9063, 0.6909, 0.9452, 0.19065, 0.7294, 0.9838, 0.9961, 0.85885, 0.9895499999999999, 0.38685, 0.9652499999999999, 0.98065, 0.98185, 0.8953, 0.5, 0.9598, 0.95755, 0.95465, 0.96905, 0.9429000000000001, 0.40495000000000003, 0.7463, 0.97485, 0.7278, 0.95175, 0.93065, 0.9823500000000001, 0.9088, 0.96485, 0.9568, 0.9550000000000001, 0.9295, 0.352, 0.6687, 0.42905, 0.93825, 0.59565, 0.57095, 0.90325, 0.9889, 0.9720500000000001, 0.9237, 0.96065, 0.16499999999999998, 0.81245, 0.9091, 0.8844000000000001, 0.35585, 0.8348, 0.92405, 0.8363, 0.9902, 0.9464, 0.9776, 0.9036500000000001, 0.9622999999999999, 0.8874500000000001, 0.9329000000000001, 0.2595, 0.4972, 0.9375, 0.8801, 0.9858, 0.93365, 0.9842500000000001, 0.98325, 0.95485, 0.98305, 0.99135, 0.9371, 0.9197, 0.9639, 0.5, 0.9721, 0.9553499999999999, 0.75115, 0.94025, 0.1405, 0.93965, 0.89505, 0.5972500000000001, 0.94275, 0.9076, 0.989, 0.91865, 0.81595, 0.9428000000000001, 0.94425, 0.98605, 0.9783, 0.9359999999999999, 0.9600500000000001, 0.9965999999999999, 0.8176, 0.91105, 0.9700500000000001, 0.9088, 0.93035, 0.9408000000000001, 0.9512, 0.77115, 0.93855, 0.81845, 0.9277500000000001, 0.98395, 0.9821, 0.92275, 0.2626, 0.8712, 0.98645, 0.96905, 0.9869, 0.8753, 0.58645, 0.5258, 0.96625, 0.97465, 0.06609999999999999, 0.97975, 0.9552, 0.9762, 0.9633499999999999, 0.99315, 0.9758, 0.18755, 0.84475, 0.9673, 0.8279000000000001, 0.9847, 0.9795, 0.9586, 0.96565, 0.85885, 0.74385, 0.97295, 0.91355, 0.97875, 0.5, 0.5640000000000001, 0.72395, 0.1008, 0.52285, 0.7463, 0.9847, 0.9540500000000001, 0.70095, 0.44865, 0.79915, 0.8605, 0.74695, 0.996, 0.9370499999999999, 0.9583999999999999, 0.96425, 0.94535, 0.95635, 0.9240999999999999, 0.6626, 0.92675, 0.8836999999999999, 0.9223, 0.97565, 0.95345, 0.7377, 0.9647, 0.9052, 0.96365, 0.91265, 0.9343, 0.9962, 0.88585, 0.9834499999999999, 0.993, 0.84615, 0.91785, 0.9248000000000001, 0.97605, 0.9986999999999999, 0.9608, 0.9192, 0.8453999999999999, 0.9701, 0.8748, 0.9861, 0.9580500000000001, 0.9580500000000001, 0.9632000000000001, 0.97315, 0.9508, 0.6689, 0.5394, 0.93125, 0.9650000000000001, 0.8579, 0.9812000000000001, 0.7774, 0.9815499999999999, 0.356, 0.93725, 0.99, 0.76995, 0.92735, 0.58735, 0.9740500000000001, 0.7673, 0.8875, 0.82985, 0.75465, 0.9088, 0.8914500000000001, 0.7763, 0.9311, 0.92195, 0.85985, 0.78755, 0.94015, 0.9124, 0.97685, 0.2475, 0.79575, 0.5, 0.971, 0.93875, 0.92405, 0.8016, 0.98305, 0.63025, 0.9884999999999999, 0.9795499999999999, 0.68435, 0.98845, 0.13269999999999998, 0.58895, 0.24180000000000001, 0.9394, 0.9873000000000001, 0.7464500000000001, 0.9082, 0.9636, 0.92955, 0.29159999999999997, 0.9211, 0.8183, 0.95665, 0.9375, 0.05275000000000002, 0.9673499999999999, 0.96075, 0.9848, 0.9041, 0.9817, 0.98885, 0.9540500000000001, 0.9737, 0.9856, 0.9349000000000001, 0.9177500000000001, 0.845, 0.9863500000000001, 0.9904, 0.9393, 0.94765, 0.9994000000000001, 0.9843, 0.91785, 0.91065, 0.9437, 0.95545, 0.9904, 0.90055, 0.4469, 0.9836, 0.5, 0.11270000000000002, 0.8453999999999999, 0.97725, 0.9337, 0.99725, 0.9637, 0.9240999999999999, 0.9510000000000001, 0.11530000000000001, 0.9225, 0.93035, 0.98285, 0.96365, 0.9088, 0.96955, 0.59335, 0.9455, 0.9685, 0.15134999999999998, 0.9895, 0.95025, 0.352, 0.9116, 0.9630000000000001, 0.991, 0.9108499999999999, 0.97475, 0.040600000000000025, 0.40800000000000003, 0.9088, 0.972, 0.92335, 0.948, 0.9615, 0.9996499999999999, 0.9416, 0.90705, 0.8825000000000001, 0.9027499999999999, 0.9653499999999999, 0.7673, 0.9904, 0.9734, 0.95295, 0.96755, 0.8825000000000001, 0.41615, 0.9889, 0.9611000000000001, 0.93885, 0.8492, 0.97445, 0.45945, 0.88915, 0.96835, 0.8799, 0.95215, 0.9733499999999999, 0.98735, 0.9777, 0.55035, 0.8632, 0.6988, 0.98055, 0.7537, 0.93775, 0.44345, 0.9922, 0.975, 0.13069999999999998, 0.8779, 0.5254, 0.98845, 0.86345, 0.9944, 0.61825, 0.9924, 0.99925, 0.86755, 0.2783, 0.9458500000000001, 0.9371, 0.98645, 0.375, 0.9683999999999999, 0.9844999999999999, 0.97915, 0.9450000000000001, 0.9359, 0.14350000000000002, 0.7294, 0.97975, 0.93205, 0.8425, 0.988, 0.81245, 0.99085, 0.85365, 0.8982, 0.9942, 0.76335, 0.9395, 0.8062, 0.28165, 0.9291499999999999, 0.98005, 0.87315, 0.022950000000000026, 0.9754499999999999, 0.86755, 0.9364, 0.97085, 0.8391500000000001, 0.94415, 0.93215, 0.9526, 0.10299999999999998, 0.8816999999999999, 0.9472, 0.9162, 0.9617, 0.79295, 0.9200999999999999, 0.9677, 0.9972, 0.9073, 0.9656, 0.95475, 0.96625, 0.59555, 0.7449, 0.895, 0.7495, 0.92615, 0.13245, 0.5, 0.89575, 0.9806, 0.8671, 0.98655, 0.94415, 0.9167000000000001, 0.96795, 0.9891, 0.9764999999999999, 0.91815, 0.9827, 0.8272999999999999, 0.97315, 0.9656, 0.9634499999999999, 0.9734499999999999, 0.9169, 0.9803, 0.16215000000000002, 0.99795, 0.5708, 0.9716, 0.9774499999999999, 0.9551499999999999, 0.9313, 0.6806, 0.92025, 0.9709, 0.99785, 0.7924, 0.12469999999999998, 0.9267000000000001, 0.7652, 0.7621, 0.9063, 0.81245, 0.93125, 0.8214, 0.88915, 0.54675, 0.7556, 0.9824999999999999, 0.8243, 0.9913000000000001, 0.9801, 0.94965, 0.375, 0.9511000000000001, 0.8088, 0.728, 0.4678, 0.10244999999999999, 0.2713, 0.04420000000000002, 0.96645, 0.8180000000000001, 0.9744999999999999, 0.89505, 0.8714999999999999, 0.35414999999999996, 0.892, 0.9964500000000001, 0.9652499999999999, 0.98505, 0.991, 0.45885, 0.7047, 0.9284, 0.964, 0.9753499999999999, 0.95065, 0.9965999999999999, 0.9238999999999999, 0.93275, 0.6900999999999999, 0.17570000000000002, 0.92405, 0.05780000000000002, 0.75465, 0.9218500000000001, 0.9845999999999999, 0.8714, 0.9892000000000001, 0.9359, 0.99295, 0.94745, 0.98865, 0.9749, 0.97095, 0.76335, 0.86315, 0.9902500000000001, 0.94555, 0.9029499999999999, 0.5, 0.5, 0.96625, 0.9887, 0.99785, 0.8243, 0.8953, 0.99675, 0.92055, 0.95785, 0.9211, 0.9416, 0.88585, 0.9876, 0.9824999999999999, 0.9134, 0.9875499999999999, 0.5446, 0.73675, 0.9779, 0.9626, 0.9891, 0.9691000000000001, 0.512, 0.81245, 0.9836, 0.9715, 0.9722999999999999, 0.9492499999999999, 0.9763, 0.9835499999999999, 0.9457, 0.31920000000000004, 0.9823999999999999, 0.9621999999999999, 0.93045, 0.996, 0.9905999999999999, 0.9702, 0.9285, 0.55735, 0.95775, 0.09455000000000002, 0.60875, 0.9794499999999999, 0.9769, 0.96965, 0.95825, 0.9588, 0.7377, 0.9958, 0.8453999999999999, 0.9430000000000001, 0.9754499999999999, 0.93445, 0.8755, 0.44025000000000003, 0.88585, 0.9460999999999999, 0.5129, 0.48645, 0.89335, 0.09134999999999999, 0.96765, 0.92595, 0.9572499999999999, 0.9242, 0.8606, 0.1301, 0.9837, 0.9426, 0.9134, 0.98705, 0.9596, 0.9824999999999999, 0.97805, 0.9481999999999999, 0.15835, 0.37365000000000004, 0.833, 0.99795, 0.8753, 0.85815, 0.7494000000000001, 0.6691, 0.58895, 0.7202, 0.8493999999999999, 0.98365, 0.25705, 0.92195, 0.99215, 0.9499500000000001, 0.61935, 0.06540000000000001, 0.6858, 0.9853000000000001, 0.61315, 0.30695, 0.95775, 0.91005, 0.98975, 0.9814, 0.85885, 0.96075, 0.9901, 0.9568, 0.94235, 0.94475, 0.9711000000000001, 0.9622999999999999, 0.93825, 0.83525, 0.39685, 0.6591, 0.81325, 0.36224999999999996, 0.8976, 0.9945999999999999, 0.9540500000000001, 0.7859499999999999, 0.09784999999999999, 0.87425, 0.89735, 0.5, 0.98525, 0.9358500000000001, 0.89725, 0.96505, 0.98165, 0.8937999999999999, 0.9061, 0.5, 0.9696, 0.2908, 0.6003000000000001, 0.86355, 0.9375, 0.5, 0.19895000000000002, 0.93035, 0.9653, 0.968, 0.76105, 0.9387, 0.98875, 0.71945, 0.95265, 0.9943, 0.3634, 0.7291, 0.8062, 0.9901, 0.1607, 0.654, 0.59385, 0.6909, 0.9158, 0.954, 0.96965, 0.901, 0.9927, 0.70275, 0.9158, 0.96695, 0.9578, 0.5750500000000001, 0.42035, 0.23435, 0.9746, 0.9809, 0.93125, 0.84735, 0.39885, 0.87025, 0.9298, 0.8741, 0.99675, 0.9416, 0.9435, 0.9916, 0.9306, 0.7997000000000001, 0.3538, 0.9953000000000001, 0.901, 0.81845, 0.14984999999999998, 0.8834, 0.94765, 0.96375, 0.734, 0.9088, 0.9151, 0.60115, 0.9455, 0.96685, 0.9063, 0.9099999999999999, 0.9262, 0.99715, 0.9607, 0.57655, 0.97905, 0.97575, 0.9722999999999999, 0.95035, 0.9487, 0.9956499999999999, 0.9653, 0.9642, 0.9791000000000001, 0.9722999999999999, 0.9795, 0.89795, 0.9666, 0.2621, 0.7819499999999999, 0.8909, 0.5, 0.9792000000000001, 0.9179999999999999, 0.9746, 0.2279, 0.8294, 0.9388000000000001, 0.9828, 0.97975, 0.27754999999999996, 0.6916, 0.99335, 0.9885999999999999, 0.9211, 0.8811, 0.7377, 0.9979, 0.981, 0.9596, 0.9837, 0.87095, 0.9595, 0.9964999999999999, 0.4526, 0.9066000000000001, 0.82565, 0.70015, 0.8982, 0.99605, 0.8799, 0.9679, 0.9674499999999999, 0.8787, 0.34645000000000004, 0.9673499999999999, 0.88915, 0.71435, 0.9374, 0.9338, 0.47865, 0.5, 0.67445, 0.98525, 0.8982, 0.58895, 0.96885, 0.95585, 0.94965, 0.91915, 0.92655, 0.95625, 0.9896499999999999, 0.544, 0.8294, 0.9520500000000001, 0.9592499999999999, 0.9914499999999999, 0.997, 0.93435, 0.973, 0.8476, 0.97245, 0.8446, 0.91125, 0.9579, 0.85015, 0.90535, 0.9458, 0.3294, 0.19729999999999998, 0.86015, 0.9915499999999999, 0.60115, 0.9942, 0.89385, 0.7011499999999999, 0.8421000000000001, 0.5, 0.5071, 0.9796, 0.9485, 0.8342499999999999, 0.9833000000000001, 0.55745, 0.9130499999999999, 0.88195, 0.8181, 0.962, 0.7377, 0.8548, 0.9593, 0.9025000000000001, 0.9682999999999999, 0.97705, 0.9455, 0.9811000000000001, 0.6358, 0.97115, 0.4578, 0.18155, 0.95615, 0.10165000000000002, 0.9258, 0.04970000000000002, 0.9336, 0.83485, 0.8083, 0.9009, 0.99575, 0.91125, 0.9290499999999999, 0.5, 0.96565, 0.9521, 0.7377, 0.8948, 0.99095, 0.9540500000000001, 0.95755, 0.95665, 0.79295, 0.52075, 0.9492499999999999, 0.9482999999999999, 0.9521, 0.89815, 0.99285, 0.52205, 0.9486, 0.9898, 0.6806, 0.55645, 0.8855999999999999, 0.79635, 0.98935, 0.86755, 0.9815, 0.95975, 0.14984999999999998, 0.94945, 0.9853000000000001, 0.97455, 0.8871, 0.8493999999999999, 0.9769, 0.21515, 0.63105, 0.9869, 0.9921, 0.7202, 0.9874499999999999, 0.83165, 0.9236500000000001, 0.9691000000000001, 0.74695, 0.9283, 0.97465, 0.9577, 0.7918499999999999, 0.9086000000000001, 0.375, 0.68495, 0.71385, 0.81845, 0.77815, 0.9588, 0.81845, 0.55035, 0.9922, 0.26165, 0.9858, 0.91005, 0.648, 0.92485, 0.7992, 0.9602999999999999, 0.8256, 0.98405, 0.9549000000000001, 0.9963, 0.9839, 0.99735, 0.96785, 0.9819, 0.99485, 0.892, 0.7895, 0.9944999999999999, 0.81245, 0.9613499999999999, 0.96505, 0.9728, 0.9625, 0.91125, 0.9758, 0.7294, 0.8337, 0.9713499999999999, 0.4987, 0.29145, 0.9882500000000001, 0.352, 0.9904, 0.98105, 0.9650000000000001, 0.9615, 0.88585, 0.40065, 0.9754499999999999, 0.6418, 0.9835499999999999, 0.9134, 0.97155, 0.32375, 0.9289000000000001, 0.98335, 0.80645, 0.7859499999999999, 0.9821, 0.97245, 0.15694999999999998, 0.5, 0.8948499999999999, 0.9559, 0.8453999999999999, 0.96845, 0.031299999999999994, 0.9289000000000001, 0.625, 0.9685, 0.1365, 0.9680500000000001, 0.7202, 0.9449000000000001, 0.8589, 0.96595, 0.95855, 0.6005, 0.9375, 0.8936, 0.9848, 0.9819, 0.9854499999999999, 0.97255, 0.8128500000000001, 0.77645, 0.9775, 0.7839499999999999, 0.76335, 0.9632499999999999, 0.9817, 0.9467, 0.8696999999999999, 0.97675, 0.87895, 0.06609999999999999, 0.66835, 0.7997000000000001, 0.87895, 0.96905, 0.95585, 0.8805000000000001, 0.97045, 0.5, 0.9934000000000001, 0.9329000000000001, 0.90835, 0.7463500000000001, 0.9406, 0.9847, 0.89225, 0.94875, 0.74695, 0.9701, 0.99305, 0.9429000000000001, 0.88915, 0.2619, 0.9329000000000001, 0.9981, 0.9773499999999999, 0.86685, 0.5, 0.9927, 0.03005000000000002, 0.8124, 0.8494999999999999, 0.9847, 0.352, 0.97035, 0.9722500000000001, 0.99205, 0.9431, 0.97355, 0.9646, 0.5, 0.67955, 0.93865, 0.7859499999999999, 0.8875, 0.9251499999999999, 0.9729, 0.987, 0.91845, 0.97865, 0.97585, 0.53585, 0.7584, 0.9088, 0.9231, 0.6005, 0.7961, 0.57655, 0.82925, 0.07684999999999997, 0.8292999999999999, 0.90905, 0.9772000000000001, 0.9795499999999999, 0.7919, 0.89925, 0.94175, 0.92955, 0.74695, 0.9732000000000001, 0.76155, 0.81835, 0.5992999999999999, 0.5, 0.9706, 0.34935, 0.70095, 0.9467, 0.98385, 0.8062, 0.5, 0.8825000000000001, 0.96495, 0.14565, 0.96795, 0.9658, 0.9720500000000001, 0.94775, 0.7786, 0.7779499999999999, 0.97365, 0.9673, 0.8792, 0.6645, 0.9868, 0.9963, 0.32999999999999996, 0.8879, 0.7987500000000001, 0.9861, 0.93645, 0.9088, 0.9601, 0.9295, 0.90435, 0.9085, 0.93965, 0.9084, 0.3099, 0.9716, 0.81145, 0.99685, 0.7935, 0.34155, 0.9198500000000001, 0.20745000000000002, 0.9357, 0.8569, 0.77115, 0.66875, 0.85015, 0.99185, 0.81845, 0.58895, 0.98815, 0.24535, 0.9416, 0.9583999999999999, 0.9909, 0.95265, 0.9685, 0.9273, 0.8951, 0.9199999999999999, 0.41725, 0.9670000000000001, 0.9553, 0.99475, 0.9762500000000001, 0.9132, 0.8266, 0.8544, 0.9571000000000001, 0.8062, 0.92405, 0.3746, 0.3751, 0.99115, 0.74695, 0.9370499999999999, 0.9258, 0.20140000000000002, 0.88585, 0.9616, 0.9512, 0.8243, 0.97795, 0.5, 0.9807, 0.95635, 0.36155000000000004, 0.89455, 0.9851, 0.9916, 0.9179999999999999, 0.91135, 0.98445, 0.8953, 0.26735, 0.8875, 0.18169999999999997, 0.037750000000000006, 0.85015, 0.94705, 0.7997000000000001, 0.9936, 0.7287, 0.92275, 0.9018999999999999, 0.8243, 0.9324, 0.97915, 0.7859499999999999, 0.5877, 0.9108499999999999, 0.3409, 0.6909, 0.9863, 0.5976, 0.27745, 0.9337, 0.9814499999999999, 0.9249, 0.67445, 0.9550000000000001, 0.6909, 0.95485, 0.9854499999999999, 0.9440500000000001, 0.9767, 0.9082, 0.9329000000000001, 0.97765, 0.6946, 0.9709, 0.5833, 0.9061, 0.9872000000000001, 0.9669, 0.9955, 0.31235, 0.5, 0.07629999999999998, 0.89225, 0.97795, 0.7705500000000001, 0.9842500000000001, 0.9794, 0.9621999999999999, 0.30405, 0.905, 0.9724999999999999, 0.4113, 0.9339999999999999, 0.86485, 0.98525, 0.97705, 0.16570000000000001, 0.75405, 0.9808, 0.92935, 0.4742, 0.23159999999999997, 0.9983500000000001, 0.9654499999999999, 0.8666, 0.9678, 0.97445, 0.9440500000000001, 0.8953, 0.8493999999999999, 0.8270500000000001, 0.9426, 0.98305, 0.9519500000000001, 0.0948, 0.9702999999999999, 0.9622999999999999, 0.77495, 0.8109500000000001, 0.9553499999999999, 0.95485, 0.98925, 0.93275, 0.98905, 0.8294, 0.06919999999999998, 0.9915, 0.96075, 0.9728, 0.9540500000000001, 0.982, 0.3398, 0.9457, 0.23420000000000002, 0.82965, 0.9068499999999999, 0.99085, 0.9602999999999999, 0.6373, 0.9748, 0.7294, 0.9975499999999999, 0.6003000000000001, 0.7202, 0.96045, 0.9868, 0.3634, 0.9759, 0.9398500000000001, 0.7434499999999999, 0.978, 0.98645, 0.9365, 0.9198999999999999, 0.7152499999999999, 0.9407, 0.99685, 0.9824999999999999, 0.976, 0.9951, 0.88915, 0.7960499999999999, 0.69345, 0.98665, 0.9035, 0.98675, 0.40495000000000003, 0.24469999999999997, 0.9976499999999999, 0.9766, 0.61315, 0.97465, 0.9207000000000001, 0.9943500000000001, 0.94895, 0.9156500000000001, 0.75115, 0.97725, 0.22504999999999997, 0.29985, 0.7294, 0.6806, 0.95845, 0.9871, 0.17015000000000002, 0.9075500000000001, 0.24469999999999997, 0.67375, 0.901, 0.9674499999999999, 0.9218500000000001, 0.39039999999999997, 0.9671000000000001, 0.9455, 0.9633499999999999, 0.9699, 0.86495, 0.20715, 0.56445, 0.34245000000000003, 0.98515, 0.8243, 0.9834, 0.9629, 0.96295, 0.94425, 0.8953, 0.78015, 0.9634499999999999, 0.9339500000000001, 0.9782500000000001, 0.9806, 0.8453999999999999, 0.7859499999999999, 0.9884, 0.75725, 0.8623000000000001, 0.9622999999999999, 0.9656, 0.97505, 0.98045, 0.9856, 0.6860999999999999, 0.99465, 0.9410499999999999, 0.8018000000000001, 0.9823500000000001, 0.9476, 0.98735, 0.9108499999999999, 0.7202999999999999, 0.9496, 0.635, 0.7369, 0.97155, 0.96155, 0.8453999999999999, 0.96685, 0.98165, 0.9721, 0.9708, 0.7463500000000001, 0.9822, 0.7202, 0.95485, 0.12645, 0.89635, 0.60675, 0.28600000000000003, 0.6636, 0.96, 0.9549000000000001, 0.73925, 0.823, 0.5386, 0.9277500000000001, 0.9905999999999999, 0.9859, 0.83525, 0.8538, 0.95565, 0.96175, 0.954, 0.9852000000000001, 0.96665, 0.352, 0.96145, 0.88565, 0.99675, 0.874, 0.39885, 0.94035, 0.9901, 0.96175, 0.8779, 0.201, 0.7852, 0.194, 0.9652499999999999, 0.0872, 0.96085, 0.22885, 0.99215, 0.08489999999999998, 0.97675, 0.96465, 0.8569, 0.9716, 0.8648, 0.6909, 0.85815, 0.9274, 0.948, 0.03244999999999998, 0.8237, 0.72975, 0.93445, 0.9198, 0.9724999999999999, 0.81, 0.9932000000000001, 0.94035, 0.8548, 0.81845, 0.9843, 0.9924999999999999, 0.98335, 0.99515, 0.9109499999999999, 0.8982, 0.8478, 0.9934000000000001, 0.88405, 0.6641, 0.86915, 0.87395, 0.3194, 0.972, 0.8363, 0.77495, 0.8712500000000001, 0.9782, 0.9884, 0.93085, 0.6462, 0.9165, 0.9559, 0.9668, 0.7294, 0.8159000000000001, 0.7859499999999999, 0.94935, 0.97115, 0.36745, 0.9857, 0.9992, 0.94415, 0.98535, 0.14984999999999998, 0.185, 0.9822, 0.5367999999999999, 0.9793000000000001, 0.55025, 0.9822, 0.9806, 0.9511000000000001, 0.9558, 0.9854, 0.9238999999999999, 0.81245, 0.9909, 0.9621999999999999, 0.8593999999999999, 0.59505, 0.9936, 0.9962500000000001, 0.9724999999999999, 0.9061, 0.9603999999999999, 0.73485, 0.9084, 0.99205, 0.9819, 0.97125, 0.9586, 0.97715, 0.9896, 0.80245, 0.8062, 0.97105, 0.9359, 0.4129, 0.98905, 0.9179999999999999, 0.71395, 0.97295, 0.96785, 0.9867, 0.8945000000000001, 0.8852, 0.79295, 0.8322, 0.9577, 0.9540500000000001, 0.9924, 0.9630000000000001, 0.9480999999999999, 0.9944500000000001, 0.8665499999999999, 0.95635, 0.74025, 0.13490000000000002, 0.98605, 0.9553, 0.7437, 0.92355, 0.5, 0.22599999999999998, 0.3405, 0.85015, 0.9459, 0.85885, 0.36760000000000004, 0.92195, 0.9391499999999999, 0.7754, 0.95875, 0.8967499999999999, 0.26185, 0.1139, 0.89225, 0.32999999999999996, 0.85015, 0.9835, 0.9944999999999999, 0.9623999999999999, 0.8953, 0.64825, 0.99795, 0.9088, 0.9959, 0.7553000000000001, 0.9088, 0.9617, 0.95745, 0.9521999999999999, 0.89045, 0.8832, 0.8711, 0.9466, 0.99495, 0.9465, 0.9521, 0.9189499999999999, 0.8996, 0.445, 0.09315000000000001, 0.9693, 0.75475, 0.54765, 0.94635, 0.7355, 0.98985, 0.9531000000000001, 0.9942, 0.7997000000000001, 0.93125, 0.9853000000000001, 0.99505, 0.9220999999999999, 0.9729, 0.9894000000000001, 0.95755, 0.9622999999999999, 0.9744999999999999, 0.95665, 0.81845, 0.62685, 0.9063, 0.93205, 0.905, 0.76995, 0.94745, 0.8948499999999999, 0.90845, 0.99085, 0.982, 0.9343, 0.97275, 0.89905, 0.931, 0.9499500000000001, 0.9894499999999999, 0.993, 0.45740000000000003, 0.5640000000000001, 0.8825000000000001, 0.96555, 0.42195, 0.95285, 0.982, 0.9903, 0.80575, 0.9774, 0.5, 0.792, 0.96785, 0.9652499999999999, 0.9600500000000001, 0.93895, 0.96155, 0.80555, 0.60455, 0.60475, 0.88, 0.98525, 0.94025, 0.98125, 0.84675, 0.9929, 0.27075, 0.8498, 0.9179999999999999, 0.9915, 0.9908, 0.9858, 0.5, 0.97505, 0.9395, 0.3751, 0.96, 0.9414, 0.9698, 0.6956, 0.99455, 0.8787, 0.95035, 0.9328000000000001, 0.969, 0.97855, 0.9374, 0.9779, 0.9718, 0.7463500000000001, 0.86755, 0.8895, 0.18824999999999997, 0.26275000000000004, 0.24664999999999998, 0.9550000000000001, 0.91955, 0.9811000000000001, 0.9285, 0.6900999999999999, 0.77365, 0.9179999999999999, 0.9762, 0.92065, 0.5377, 0.9291499999999999, 0.96965, 0.98585, 0.77225, 0.9625, 0.5, 0.7659, 0.9746, 0.04804999999999998, 0.83945, 0.7294, 0.5386, 0.91355, 0.93445, 0.9698, 0.9429000000000001, 0.25305, 0.9883, 0.86755, 0.9662999999999999, 0.06495000000000001, 0.8348, 0.43220000000000003, 0.97835, 0.3358, 0.86435, 0.9903, 0.9277500000000001, 0.9704999999999999, 0.13269999999999998, 0.9782500000000001, 0.9904, 0.96895, 0.7202, 0.95745, 0.9006000000000001, 0.5258, 0.989, 0.9340999999999999, 0.982, 0.10385, 0.15500000000000003, 0.97765, 0.98675, 0.86755, 0.97725, 0.8855500000000001, 0.9512, 0.7997000000000001, 0.34355, 0.95585, 0.8531500000000001, 0.9904, 0.9411499999999999, 0.94035, 0.84055, 0.81845, 0.98705, 0.90605, 0.9509000000000001, 0.8557, 0.9158, 0.9783999999999999, 0.8766, 0.98875, 0.94425, 0.51935, 0.98315, 0.93355, 0.93085, 0.6306, 0.9693499999999999, 0.90855, 0.26165, 0.86755, 0.58635, 0.9637, 0.7671, 0.93125, 0.5, 0.86345, 0.7383500000000001, 0.9916499999999999, 0.437, 0.9431, 0.9941, 0.97435, 0.27885, 0.9706, 0.9956, 0.41105, 0.9357500000000001, 0.02310000000000001, 0.92615, 0.96065, 0.9949, 0.9169, 0.6909, 0.07574999999999998, 0.96145, 0.9386, 0.857, 0.92345, 0.84665, 0.9630000000000001, 0.5, 0.99885, 0.99005, 0.94425, 0.91595, 0.5258, 0.9821500000000001, 0.98335, 0.8463499999999999, 0.98095, 0.98305, 0.9470000000000001, 0.98875, 0.76395, 0.79085, 0.77115, 0.9634499999999999, 0.9330499999999999, 0.93895, 0.8505499999999999, 0.9798, 0.21055000000000001, 0.12319999999999998, 0.901, 0.9654, 0.9902500000000001, 0.5682, 0.95835, 0.93025, 0.9822, 0.95485, 0.86215, 0.7787, 0.94845, 0.9817, 0.88915, 0.9220999999999999, 0.97775, 0.99655, 0.44875, 0.9238999999999999, 0.92285, 0.98045, 0.9895499999999999, 0.9135, 0.1285, 0.3409, 0.05745, 0.7859499999999999, 0.9499500000000001, 0.9868, 0.9889, 0.7294, 0.94945, 0.9424, 0.9802500000000001, 0.95915, 0.97325, 0.915, 0.9538, 0.86755, 0.9935, 0.69705, 0.9544, 0.9467, 0.9652499999999999, 0.9434, 0.9963, 0.6806, 0.9433, 0.9277500000000001, 0.96855, 0.62535, 0.90785, 0.8239000000000001, 0.9235, 0.95075, 0.938, 0.94025, 0.8875, 0.9924, 0.85015, 0.56315, 0.9674499999999999, 0.96475, 0.92565, 0.95655, 0.7966500000000001, 0.75095, 0.9540500000000001, 0.9739, 0.8825000000000001, 0.91125, 0.9628, 0.96255, 0.9375, 0.9917, 0.6003000000000001, 0.28564999999999996, 0.98, 0.9477, 0.5, 0.9793499999999999, 0.38780000000000003, 0.85335, 0.8826, 0.9197500000000001, 0.98685, 0.9943, 0.9636, 0.9934000000000001, 0.9761, 0.461, 0.17015000000000002, 0.8592, 0.96225, 0.96625, 0.60115, 0.8592, 0.82985, 0.9220999999999999, 0.97095, 0.36235, 0.1301, 0.99545, 0.9553, 0.020399999999999974, 0.97975, 0.9944999999999999, 0.98995, 0.97375, 0.9741500000000001, 0.59285, 0.9549000000000001, 0.7427, 0.81245, 0.977, 0.91625, 0.79935, 0.9198999999999999, 0.5, 0.98305, 0.5129, 0.91005, 0.9843500000000001, 0.99325, 0.97385, 0.9215, 0.96675, 0.9531000000000001, 0.7724, 0.97805, 0.8062, 0.9521, 0.8543499999999999, 0.8896, 0.95585, 0.9746, 0.88585, 0.9311, 0.9007000000000001, 0.30065, 0.09455000000000002, 0.9430000000000001, 0.84855, 0.9319, 0.88495, 0.8062, 0.83485, 0.74695, 0.9229, 0.9430000000000001, 0.9841, 0.9578, 0.33285, 0.9788, 0.13965, 0.82985, 0.8492, 0.94895, 0.648, 0.11604999999999999, 0.9291, 0.9668, 0.65745, 0.9731000000000001, 0.8393999999999999, 0.95495, 0.6806, 0.9848, 0.79635, 0.97045, 0.9568, 0.97395, 0.03270000000000001, 0.995, 0.99105, 0.8404, 0.9889, 0.17485, 0.96075, 0.9540500000000001, 0.9815, 0.9649, 0.7859499999999999, 0.9407, 0.99005, 0.9964999999999999, 0.9706, 0.98085, 0.7294, 0.9188000000000001, 0.99715, 0.9540500000000001, 0.9467, 0.9903500000000001, 0.65345, 0.88915, 0.2924, 0.97605, 0.9530000000000001, 0.97505, 0.9245, 0.96975, 0.9294, 0.9375, 0.86755, 0.7287, 0.5, 0.596, 0.9693499999999999, 0.7383500000000001, 0.10349999999999998, 0.9737, 0.9861500000000001, 0.7338, 0.58895, 0.9939, 0.8826499999999999, 0.98325, 0.95845, 0.93525, 0.88585, 0.942, 0.9971, 0.9779, 0.9009, 0.99505, 0.9228000000000001, 0.98815, 0.8953, 0.9844999999999999, 0.97245, 0.9275, 0.9636, 0.7202, 0.78945, 0.95095, 0.5, 0.9844999999999999, 0.67265, 0.979, 0.9419, 0.16565000000000002, 0.9661500000000001, 0.6806, 0.99705, 0.65415, 0.80465, 0.07124999999999998, 0.98805, 0.86345, 0.9857, 0.83485, 0.91665, 0.9961, 0.9948, 0.99525, 0.79225, 0.5558, 0.9353, 0.99495, 0.9260999999999999, 0.9559, 0.0398, 0.92465, 0.9568, 0.9795499999999999, 0.9258, 0.96685, 0.95585, 0.94425, 0.9897, 0.86785, 0.9471499999999999, 0.99385, 0.70095, 0.9319, 0.5, 0.9661500000000001, 0.8088500000000001, 0.91355, 0.9701500000000001, 0.2374, 0.6366, 0.954, 0.4871, 0.8806, 0.88915, 0.7361, 0.98135, 0.9716, 0.88045, 0.8672500000000001, 0.98285, 0.9158, 0.9862500000000001, 0.8982, 0.5, 0.9550000000000001, 0.9769, 0.92405, 0.8404, 0.95475, 0.97075, 0.46625, 0.9035, 0.12430000000000002, 0.9452499999999999, 0.9630000000000001, 0.98335, 0.9550000000000001, 0.9279, 0.9857, 0.9294, 0.41105, 0.9815499999999999, 0.5, 0.8024, 0.6191, 0.14589999999999997, 0.10894999999999999, 0.9525, 0.8747, 0.9001, 0.8625499999999999, 0.5, 0.1199, 0.9478500000000001, 0.5, 0.85015, 0.9132, 0.91215, 0.9673, 0.7787, 0.99655, 0.98645, 0.08024999999999999, 0.9649, 0.81245, 0.1935, 0.04225000000000001, 0.91355, 0.94035, 0.96365, 0.9606, 0.9218, 0.98405, 0.9479500000000001, 0.9179999999999999, 0.9556, 0.28864999999999996, 0.95055, 0.9580500000000001, 0.92595, 0.966, 0.93815, 0.91105, 0.91035, 0.5, 0.8155, 0.08605000000000002, 0.9903, 0.9614, 0.9815, 0.99135, 0.96645, 0.9685, 0.9903, 0.034999999999999976, 0.9156500000000001, 0.91125, 0.9211, 0.9961, 0.99195, 0.849, 0.11635000000000001, 0.9962, 0.9924, 0.60115, 0.9467, 0.9598, 0.9629, 0.97105, 0.9882, 0.9742500000000001, 0.96665, 0.8316, 0.97275, 0.9626, 0.96295, 0.9567, 0.9323, 0.973, 0.98505, 0.9358, 0.19535000000000002, 0.63085, 0.84135, 0.5322, 0.3993, 0.9862, 0.3528, 0.9733499999999999, 0.91045, 0.9733499999999999, 0.99115, 0.9673499999999999, 0.9555, 0.7218, 0.96425, 0.23720000000000002, 0.40925, 0.8294, 0.9814499999999999, 0.87155, 0.93165, 0.21175, 0.92395, 0.71075, 0.8698, 0.98865, 0.4252, 0.9854, 0.9552499999999999, 0.7155, 0.94005, 0.96985, 0.04444999999999999, 0.8478, 0.95425, 0.99065, 0.6362, 0.9636, 0.85885, 0.57555, 0.15239999999999998, 0.9568, 0.9887, 0.98325, 0.9904999999999999, 0.9559, 0.8295, 0.96685, 0.3887, 0.95285, 0.93155, 0.06490000000000001, 0.8057000000000001, 0.9430000000000001, 0.9037, 0.56255, 0.35845, 0.8632, 0.97765, 0.8875, 0.98665, 0.9982, 0.96, 0.9902500000000001, 0.4742, 0.7924, 0.9409000000000001, 0.9794499999999999, 0.9677, 0.9749, 0.98275, 0.61315, 0.375, 0.7553000000000001, 0.71945, 0.9843, 0.9436, 0.47125, 0.9349000000000001, 0.36224999999999996, 0.8825000000000001, 0.5258, 0.9831, 0.70545, 0.71075, 0.74695, 0.75135, 0.93055, 0.75465, 0.91745, 0.9472499999999999, 0.9620500000000001, 0.07990000000000003, 0.9573499999999999, 0.9563999999999999, 0.9327, 0.9641500000000001, 0.96075, 0.9859, 0.99415, 0.9576, 0.98845, 0.9178, 0.9823999999999999, 0.95685, 0.9590000000000001, 0.95555, 0.50605, 0.9436, 0.9922, 0.9843, 0.9277500000000001, 0.60415, 0.9755, 0.99585, 0.9883, 0.9823, 0.6139, 0.99325, 0.87895, 0.9863, 0.8825000000000001, 0.9429000000000001, 0.8548, 0.94415, 0.98735, 0.98375, 0.97065, 0.9774499999999999, 0.88585, 0.09499999999999997, 0.62385, 0.7836000000000001, 0.038449999999999984, 0.9668, 0.89115, 0.9409000000000001, 0.9679, 0.9252, 0.037750000000000006, 0.9808, 0.9885999999999999, 0.94975, 0.9162, 0.97375, 0.58275, 0.73675, 0.95905, 0.93275, 0.93085, 0.9896, 0.96145, 0.99335, 0.98925, 0.98005, 0.9768, 0.7307, 0.24585, 0.9552499999999999, 0.95015, 0.9911, 0.58275, 0.6658999999999999, 0.15889999999999999, 0.95645, 0.9238500000000001, 0.8753, 0.9440500000000001, 0.07074999999999998, 0.9784999999999999, 0.9782, 0.9329000000000001, 0.6191, 0.9398, 0.9477, 0.7202, 0.9764999999999999, 0.97465, 0.94445, 0.8202, 0.9934499999999999, 0.97105, 0.9082, 0.76275, 0.9293, 0.78125, 0.63515, 0.8326, 0.9400999999999999, 0.9654499999999999, 0.9638, 0.7859499999999999, 0.9945999999999999, 0.7202, 0.9409000000000001, 0.75865, 0.79635, 0.96625, 0.9625, 0.9929, 0.7872, 0.2152, 0.17015000000000002, 0.9714, 0.98815, 0.73805, 0.16985, 0.9893000000000001, 0.9097999999999999, 0.437, 0.94885, 0.99415, 0.70355, 0.69935, 0.7202, 0.6959500000000001, 0.966, 0.9277500000000001, 0.16915000000000002, 0.89835, 0.869, 0.30910000000000004, 0.95485, 0.94555, 0.85015, 0.19419999999999998, 0.41105, 0.92195, 0.9823500000000001, 0.8784000000000001, 0.9825999999999999, 0.9159999999999999, 0.9568, 0.9267000000000001, 0.87895, 0.5, 0.9429000000000001, 0.94225, 0.9740500000000001, 0.47345, 0.8767, 0.8753, 0.9914499999999999, 0.8618, 0.6191, 0.9385, 0.68835, 0.9869, 0.9658, 0.94015, 0.8062, 0.93215, 0.97655, 0.74985, 0.8853500000000001, 0.81845, 0.9742, 0.9035, 0.9410000000000001, 0.8347, 0.93125, 0.7997000000000001, 0.991, 0.15415, 0.9907, 0.9854, 0.9233, 0.989, 0.92955, 0.5743, 0.05459999999999998, 0.35314999999999996, 0.9478500000000001, 0.5, 0.7463, 0.98255, 0.9803999999999999, 0.9622999999999999, 0.81245, 0.93675, 0.9324, 0.8404, 0.9863999999999999, 0.58895, 0.9472499999999999, 0.33955, 0.81845, 0.86555, 0.9863500000000001, 0.9311, 0.9924, 0.9928, 0.98305, 0.98445, 0.96835, 0.86345, 0.9499500000000001, 0.9691000000000001, 0.9842, 0.39785, 0.7859499999999999, 0.97915, 0.89505, 0.8748, 0.9569, 0.8222, 0.13245, 0.22885, 0.84005, 0.79225, 0.97485, 0.98975, 0.9955, 0.9500500000000001, 0.9984999999999999, 0.9902, 0.8400000000000001, 0.9815499999999999, 0.9823, 0.90225, 0.9943500000000001, 0.9822, 0.92405, 0.2213, 0.9472, 0.7699, 0.8062, 0.9243, 0.20190000000000002, 0.91805, 0.80025, 0.44865, 0.8189, 0.07790000000000002, 0.13965, 0.8243, 0.96, 0.9852000000000001, 0.4918, 0.9411499999999999, 0.8294, 0.9114, 0.8787, 0.89445, 0.8825000000000001, 0.9063, 0.9094, 0.9374, 0.6806, 0.93945, 0.9614, 0.6591, 0.9875499999999999, 0.97125, 0.97595, 0.9559500000000001, 0.25429999999999997, 0.98175, 0.8563000000000001, 0.2761, 0.886, 0.8236, 0.70105, 0.9995499999999999, 0.12419999999999998, 0.9615, 0.35175, 0.9329000000000001, 0.9859, 0.9277500000000001, 0.88585, 0.3194, 0.98845, 0.90865, 0.9357500000000001, 0.97165, 0.9801500000000001, 0.9782, 0.8243, 0.9375, 0.38625, 0.625, 0.9046000000000001, 0.76345, 0.8592, 0.7234, 0.5496, 0.99195, 0.95215, 0.06569999999999998, 0.38415, 0.87375, 0.86755, 0.9268000000000001, 0.30705, 0.9755, 0.9521999999999999, 0.76335, 0.9949, 0.5871999999999999, 0.98645, 0.9654, 0.9899, 0.96145, 0.901, 0.9147000000000001, 0.7859499999999999, 0.9929, 0.32925, 0.74295, 0.9799, 0.9058999999999999, 0.7294, 0.9551499999999999, 0.9631000000000001, 0.81245, 0.95225, 0.85695, 0.96855, 0.9766, 0.894, 0.9923, 0.9823500000000001, 0.9889, 0.97105, 0.8825000000000001, 0.9248000000000001, 0.8525, 0.9200999999999999, 0.97855, 0.9086000000000001, 0.11295, 0.95915, 0.5, 0.9914499999999999, 0.8712500000000001, 0.03820000000000001, 0.9934499999999999, 0.9867, 0.96925, 0.9658, 0.9275, 0.9550000000000001, 0.03344999999999998, 0.8953, 0.9351499999999999, 0.96075, 0.88795, 0.9862500000000001, 0.014600000000000002, 0.9639, 0.98005, 0.0973, 0.9592, 0.9531000000000001, 0.9772000000000001, 0.9742, 0.8382000000000001, 0.96, 0.9170499999999999, 0.2934, 0.9963, 0.82245, 0.98115, 0.95295, 0.97155, 0.99315, 0.95645, 0.94425, 0.9795499999999999, 0.93775, 0.9896, 0.9212, 0.71075, 0.6806, 0.75465, 0.97105, 0.9567, 0.5, 0.99405, 0.9792000000000001, 0.9763, 0.94035, 0.9773499999999999, 0.92955, 0.4366, 0.8825000000000001, 0.9858, 0.9723999999999999, 0.9155, 0.9579500000000001, 0.9913000000000001, 0.94075, 0.75465, 0.98185, 0.9173, 0.9540500000000001, 0.93205, 0.9456, 0.99295, 0.8866, 0.88625, 0.8864000000000001, 0.5, 0.9061, 0.6366, 0.91105, 0.57655, 0.5249, 0.9811000000000001, 0.8632, 0.9245, 0.9716, 0.5258, 0.95845, 0.50645, 0.9797, 0.9872000000000001, 0.9884, 0.23270000000000002, 0.9650000000000001, 0.3025, 0.69705, 0.93085, 0.9673499999999999, 0.9978, 0.88455, 0.95715, 0.7383, 0.9589, 0.91745, 0.8665, 0.88915, 0.9714499999999999, 0.70095, 0.96385, 0.9275, 0.9854, 0.9211, 0.9460999999999999, 0.0842, 0.9294, 0.96905, 0.188, 0.96705, 0.9359500000000001, 0.4746, 0.64595, 0.8104, 0.81245, 0.05359999999999998, 0.9500500000000001, 0.3504, 0.7294, 0.9661500000000001, 0.869, 0.9794, 0.97635, 0.9619500000000001, 0.14365, 0.9764999999999999, 0.83925, 0.7997000000000001, 0.9408000000000001, 0.42410000000000003, 0.28925, 0.81245, 0.95765, 0.98285, 0.15460000000000002, 0.8592, 0.9583999999999999, 0.6025, 0.9375, 0.7955, 0.8216, 0.97595, 0.49315, 0.9707, 0.993, 0.7288, 0.9903, 0.7155, 0.9673, 0.91945, 0.95445, 0.9599500000000001, 0.7859499999999999, 0.9977, 0.98525, 0.7355, 0.94035, 0.9539, 0.5, 0.86315, 0.9311, 0.99525, 0.9307000000000001, 0.02260000000000001, 0.9037, 0.9532499999999999, 0.97105, 0.9865999999999999, 0.6517999999999999, 0.6026, 0.9803, 0.9068499999999999, 0.92735, 0.93825, 0.83525, 0.9049499999999999, 0.76275, 0.8714999999999999, 0.5845, 0.84425, 0.9733499999999999, 0.99115, 0.5, 0.8062, 0.9035, 0.9863, 0.9510000000000001, 0.8712, 0.98305, 0.9875, 0.26165, 0.9681, 0.92955, 0.97105, 0.9742, 0.88225, 0.0801, 0.8714999999999999, 0.6806, 0.9918, 0.9913000000000001, 0.9520500000000001, 0.15910000000000002, 0.9472, 0.96765, 0.99195, 0.85015, 0.020299999999999985, 0.87505, 0.99475, 0.75465, 0.9802, 0.9773499999999999, 0.84875, 0.8613500000000001, 0.99735, 0.993, 0.9549000000000001, 0.98915, 0.95375, 0.9429000000000001, 0.9467, 0.5, 0.10315000000000002, 0.5249, 0.6431, 0.9656, 0.86755, 0.89225, 0.08734999999999998, 0.9694499999999999, 0.9084, 0.7859499999999999, 0.9211, 0.81845, 0.8925000000000001, 0.99, 0.82385, 0.6628499999999999, 0.8239000000000001, 0.9238999999999999, 0.7779499999999999, 0.9955, 0.9572, 0.9735, 0.9158, 0.5, 0.8404, 0.9764999999999999, 0.92955, 0.7997000000000001, 0.9929, 0.9385, 0.9674499999999999, 0.9822, 0.98005, 0.9902500000000001, 0.95685, 0.99005, 0.9779, 0.9562999999999999, 0.64935, 0.98595, 0.92485, 0.9728, 0.88795, 0.9263, 0.8042, 0.8069, 0.59505, 0.8532500000000001, 0.9889, 0.9976, 0.06285000000000002, 0.92955, 0.70995, 0.85885, 0.76335, 0.9650000000000001, 0.8232999999999999, 0.99855, 0.9567, 0.95765, 0.9285, 0.86565, 0.7763, 0.75935, 0.21955000000000002, 0.93275, 0.89495, 0.83765, 0.9847, 0.9472499999999999, 0.90865, 0.39605, 0.98405, 0.9670000000000001, 0.93895, 0.71075, 0.95245, 0.9895499999999999, 0.7463500000000001, 0.97475, 0.9511000000000001, 0.9339999999999999, 0.9023, 0.06724999999999998, 0.7412, 0.81965, 0.70095, 0.7559, 0.9265, 0.938, 0.9323, 0.7948999999999999, 0.9814, 0.9329000000000001, 0.99055, 0.92425, 0.74695, 0.6591, 0.6806, 0.67565, 0.9701500000000001, 0.1653, 0.3968, 0.81845, 0.89785, 0.9797, 0.8666499999999999, 0.5414, 0.8853500000000001, 0.93445, 0.5506, 0.8347, 0.9510000000000001, 0.5, 0.90235, 0.89255, 0.9411499999999999, 0.563, 0.97385, 0.7202, 0.845, 0.9685, 0.975, 0.99615, 0.9769, 0.97355, 0.9200999999999999, 0.8875, 0.9380999999999999, 0.9954000000000001, 0.8712500000000001, 0.51935, 0.9794, 0.9921, 0.93415, 0.59285, 0.97865, 0.96855, 0.92405, 0.363, 0.9662, 0.77425, 0.97305, 0.9401999999999999, 0.95565, 0.97275, 0.9008, 0.998, 0.9546, 0.9453, 0.97395, 0.98, 0.9499500000000001, 0.9511000000000001, 0.99465, 0.9676, 0.9311, 0.92215, 0.9689, 0.03975000000000001, 0.96155, 0.94545, 0.10744999999999999, 0.9501, 0.9764999999999999, 0.67995, 0.98885, 0.6691, 0.81845, 0.2706, 0.27790000000000004, 0.16660000000000003, 0.5825, 0.9944500000000001, 0.9583999999999999, 0.9792000000000001, 0.9788, 0.8243, 0.6284, 0.8235, 0.45555, 0.38475, 0.61315, 0.9568, 0.9754499999999999, 0.89435, 0.95095, 0.87895, 0.9939, 0.13729999999999998, 0.9179999999999999, 0.909, 0.7463500000000001, 0.89115, 0.8712, 0.63035, 0.4655, 0.99775, 0.99055, 0.70295, 0.99615, 0.9849, 0.85885, 0.91355, 0.8243, 0.92525, 0.985, 0.98855, 0.88045, 0.97115, 0.74315, 0.9964500000000001, 0.839, 0.635, 0.87895, 0.74695, 0.9525, 0.9174, 0.9742, 0.9802, 0.9249499999999999, 0.95185, 0.6909, 0.9465, 0.98005, 0.98915, 0.8243, 0.7463, 0.08005000000000001, 0.8954500000000001, 0.81845, 0.9727, 0.9220999999999999, 0.98445, 0.99005, 0.9794499999999999, 0.9514, 0.75665, 0.9733, 0.97505, 0.9410000000000001, 0.70685, 0.99525, 0.9962, 0.42605, 0.83175, 0.92555, 0.9456, 0.13655, 0.881, 0.2248, 0.8951, 0.9888, 0.9566, 0.9915499999999999, 0.4836, 0.92925, 0.98815, 0.85, 0.9375, 0.9701, 0.9692000000000001, 0.6569, 0.9035, 0.23920000000000002, 0.9035, 0.98705, 0.3089, 0.9037, 0.8341000000000001, 0.9841, 0.10744999999999999, 0.995, 0.6909, 0.87475, 0.36260000000000003, 0.9971, 0.9954000000000001, 0.7202, 0.3156, 0.7363999999999999, 0.98205, 0.70095, 0.99855, 0.9417, 0.79635, 0.72145, 0.9949, 0.76335, 0.98385, 0.9629, 0.9329000000000001, 0.84005, 0.98795, 0.93895, 0.054649999999999976, 0.85015, 0.9681500000000001, 0.99015, 0.9472499999999999, 0.92195, 0.9236, 0.9567, 0.9473, 0.97975, 0.9531000000000001, 0.6768000000000001, 0.97595, 0.8505, 0.78235, 0.9654499999999999, 0.866, 0.9758, 0.95755, 0.8714999999999999, 0.8466, 0.75935, 0.7997000000000001, 0.9824999999999999, 0.9593, 0.9592, 0.7451, 0.4249, 0.09129999999999999, 0.8975500000000001, 0.9794, 0.9793499999999999, 0.9865999999999999, 0.72465, 0.99395, 0.99185, 0.8057000000000001, 0.8592, 0.9807, 0.8294, 0.9895, 0.9783999999999999, 0.9478500000000001, 0.5, 0.5129, 0.9761500000000001, 0.9754499999999999, 0.9440500000000001, 0.94245, 0.5577, 0.882, 0.82985, 0.8003, 0.99915, 0.18155, 0.68725, 0.9499500000000001, 0.18755, 0.07984999999999998, 0.93445, 0.89925, 0.83165, 0.9747, 0.8864000000000001, 0.75935, 0.8450500000000001, 0.6356999999999999, 0.9500500000000001, 0.8822, 0.9478500000000001, 0.7437, 0.9864999999999999, 0.9835, 0.95845, 0.8766, 0.9712000000000001, 0.9466, 0.9536, 0.9582999999999999, 0.9991, 0.9668, 0.96965, 0.99535, 0.8573, 0.89225, 0.9976, 0.93435, 0.9528, 0.8161, 0.96075, 0.3409, 0.9837, 0.97885, 0.9942, 0.985, 0.8875, 0.17725000000000002, 0.6909, 0.62575, 0.9809, 0.9501999999999999, 0.9712000000000001, 0.77115, 0.9927, 0.9779, 0.08474999999999999, 0.9935499999999999, 0.96965, 0.8825000000000001, 0.99005, 0.81845, 0.9264, 0.8666, 0.9124, 0.12359999999999999, 0.9924999999999999, 0.99735, 0.99255, 0.9683999999999999, 0.7202, 0.9449000000000001, 0.9471499999999999, 0.2545, 0.81245, 0.7916000000000001, 0.99305, 0.9228000000000001, 0.9442999999999999, 0.9520500000000001, 0.8953, 0.92595, 0.9272, 0.9557, 0.87105, 0.4091, 0.8582000000000001, 0.9847, 0.42345, 0.89225, 0.43435, 0.5505, 0.9063, 0.67, 0.97275, 0.9642999999999999, 0.82675, 0.9027499999999999, 0.98995, 0.8968499999999999, 0.7553000000000001, 0.9035, 0.952, 0.931, 0.9129499999999999, 0.92275, 0.9513, 0.96785, 0.09134999999999999, 0.9540500000000001, 0.8953, 0.96385, 0.5, 0.5640000000000001, 0.8951, 0.97925, 0.8673, 0.9716, 0.9939, 0.17570000000000002, 0.9828, 0.98065, 0.8942, 0.7047, 0.9621999999999999, 0.8825000000000001, 0.92195, 0.9896, 0.97295, 0.9048499999999999, 0.75085, 0.9088, 0.6547499999999999, 0.8982, 0.71075, 0.7419, 0.9922500000000001, 0.98905, 0.2676, 0.74695, 0.28485, 0.54945, 0.9512499999999999, 0.32430000000000003, 0.8625, 0.5101, 0.9478500000000001, 0.87715, 0.8807499999999999, 0.99265, 0.93885, 0.96435, 0.96495, 0.8332999999999999, 0.9722500000000001, 0.81245, 0.7294, 0.9359999999999999, 0.99505, 0.8765000000000001, 0.9904, 0.98275, 0.97915, 0.83525, 0.9063, 0.3406, 0.1604, 0.9381999999999999, 0.9339999999999999, 0.5577, 0.174, 0.94425, 0.9855, 0.9134, 0.85015, 0.9248000000000001, 0.70995, 0.98165, 0.17295, 0.7202, 0.8201, 0.8392, 0.9894499999999999, 0.94895, 0.9559, 0.98565, 0.8027, 0.9529000000000001, 0.9878, 0.62505, 0.9922500000000001, 0.96595, 0.81245, 0.5129, 0.8326, 0.9574, 0.98935, 0.9478500000000001, 0.9646, 0.72055, 0.98295, 0.91535, 0.9485, 0.97785, 0.9189, 0.7706, 0.5, 0.9108499999999999, 0.8585, 0.98675, 0.97385, 0.92765, 0.19324999999999998, 0.9196, 0.9088, 0.94425, 0.97975, 0.95665, 0.94425, 0.9923, 0.9734, 0.8404, 0.9855, 0.93415, 0.1794, 0.9541999999999999, 0.81665, 0.9593, 0.98685, 0.8471, 0.9446, 0.99265, 0.96085, 0.9903, 0.93125, 0.8986000000000001, 0.8825000000000001, 0.97, 0.9545, 0.7383500000000001, 0.9838, 0.96235, 0.97875, 0.26165, 0.79295, 0.8238, 0.37475, 0.6435500000000001, 0.3537, 0.9674, 0.9501, 0.92535, 0.5640000000000001, 0.9374, 0.4433, 0.94035, 0.08079999999999998, 0.6806, 0.9946999999999999, 0.9732000000000001, 0.9346, 0.89795, 0.7997000000000001, 0.9778, 0.86345, 0.9598, 0.9300999999999999, 0.30910000000000004, 0.99115, 0.9662, 0.7626, 0.9622999999999999, 0.9410000000000001, 0.60115, 0.81245, 0.88025, 0.5640000000000001, 0.9837, 0.97175, 0.5066, 0.9718, 0.971, 0.8431, 0.5, 0.9945999999999999, 0.7294, 0.97725, 0.7202, 0.9179999999999999, 0.81465, 0.9252, 0.9741, 0.9035, 0.97725, 0.9778, 0.9158, 0.8592, 0.9291499999999999, 0.9662, 0.27885, 0.98075, 0.7997000000000001, 0.82655, 0.96145, 0.94885, 0.6913, 0.9114, 0.72795, 0.95865, 0.96495, 0.99015, 0.6431, 0.11395, 0.9008, 0.9832000000000001, 0.9763999999999999, 0.99465, 0.8548, 0.9176500000000001, 0.9628, 0.901, 0.17570000000000002, 0.42905, 0.9875499999999999, 0.96995, 0.9879, 0.9499, 0.9934499999999999, 0.88585, 0.9716, 0.5, 0.89845, 0.94705, 0.9893000000000001, 0.1895, 0.8099000000000001, 0.48605, 0.87795, 0.58895, 0.9864999999999999, 0.8706499999999999, 0.36915, 0.9897, 0.5, 0.96435, 0.8825000000000001, 0.8822, 0.5, 0.97505, 0.41205, 0.98305, 0.8948499999999999, 0.9455, 0.9956, 0.91515, 0.7484, 0.88585, 0.61315, 0.9853000000000001, 0.86345, 0.86345, 0.58895, 0.9816, 0.55355, 0.94265, 0.9849, 0.97585, 0.98885, 0.21134999999999998, 0.98985, 0.88585, 0.9779, 0.8914500000000001, 0.9593, 0.95845, 0.9242, 0.92405, 0.9697, 0.9742999999999999, 0.96245, 0.9839, 0.9200999999999999, 0.9589, 0.9869, 0.9223, 0.6806, 0.5992999999999999, 0.9942500000000001, 0.9375, 0.93725, 0.77115, 0.93475, 0.9673, 0.76335, 0.8875, 0.9935, 0.352, 0.57925, 0.954, 0.9799, 0.67975, 0.9531499999999999, 0.87015, 0.9145, 0.9609, 0.8714999999999999, 0.55035, 0.9167000000000001, 0.97505, 0.9086000000000001, 0.8062, 0.99515, 0.8906499999999999, 0.9964999999999999, 0.9674, 0.98705, 0.86345, 0.99855, 0.98475, 0.8701, 0.11085, 0.75465, 0.9277500000000001, 0.9641500000000001, 0.8239000000000001, 0.70935, 0.9928, 0.99795, 0.87565, 0.060950000000000004, 0.9246, 0.91535, 0.9887, 0.80385, 0.7383500000000001, 0.9258, 0.82985, 0.5577, 0.99675, 0.9828, 0.7553000000000001, 0.9021, 0.91065, 0.94245, 0.18755, 0.016699999999999993, 0.91675, 0.9944999999999999, 0.8250500000000001, 0.9861, 0.96755, 0.9964500000000001, 0.88585, 0.88255, 0.6366, 0.96225, 0.1652, 0.76335, 0.9555, 0.97295, 0.9269499999999999, 0.9272, 0.11514999999999997, 0.8412999999999999, 0.9845999999999999, 0.9061, 0.6753, 0.9296, 0.99585, 0.67925, 0.92195, 0.7763, 0.90735, 0.9782500000000001, 0.9196500000000001, 0.6624, 0.71405, 0.5182, 0.9063, 0.85015, 0.9626, 0.9619500000000001, 0.9146000000000001, 0.88585, 0.8180000000000001, 0.9797, 0.352, 0.06519999999999998, 0.3095, 0.94035, 0.15960000000000002, 0.9843999999999999, 0.63085, 0.07990000000000003, 0.9231, 0.9720500000000001, 0.75475, 0.9568, 0.9714, 0.90785, 0.8244, 0.18064999999999998, 0.5664, 0.9692000000000001, 0.93895, 0.95855, 0.3409, 0.5, 0.9550000000000001, 0.5, 0.97055, 0.9231, 0.9656, 0.9488, 0.93725, 0.9701500000000001, 0.9312, 0.9185, 0.92645, 0.93445, 0.77115, 0.7463500000000001, 0.6125, 0.9856, 0.9951, 0.9520500000000001, 0.352, 0.3228, 0.93205, 0.8308, 0.61315, 0.9923500000000001, 0.9781, 0.07595000000000002, 0.98535, 0.97065, 0.5, 0.8785000000000001, 0.9754499999999999, 0.9909, 0.4745, 0.29235, 0.9859, 0.9337, 0.91035, 0.78855, 0.33455, 0.81245, 0.97725, 0.9359500000000001, 0.7499, 0.6959500000000001, 0.6806, 0.9884999999999999, 0.89505, 0.96495, 0.9738, 0.9511000000000001, 0.9913000000000001, 0.9510000000000001, 0.96635, 0.86955, 0.9358500000000001, 0.6692, 0.8805499999999999, 0.81845, 0.9158, 0.8335, 0.9742, 0.9981, 0.9634499999999999, 0.87025, 0.9795, 0.5258, 0.6907, 0.6366, 0.99055, 0.901, 0.65985, 0.92955, 0.9163, 0.94815, 0.8853, 0.778, 0.7515499999999999, 0.99185, 0.8400000000000001, 0.9792000000000001, 0.76335, 0.9440500000000001, 0.8062, 0.94445, 0.9736, 0.861, 0.3452, 0.98695, 0.96285, 0.9823999999999999, 0.4893, 0.9284, 0.92955, 0.9359999999999999, 0.8416, 0.9764999999999999, 0.98685, 0.98805, 0.69295, 0.96155, 0.97575, 0.94295, 0.86035, 0.9451499999999999, 0.92865, 0.72485, 0.72085, 0.8548, 0.9006000000000001, 0.99485, 0.9484, 0.98875, 0.8746499999999999, 0.9861, 0.93445, 0.9198, 0.24045, 0.07595000000000002, 0.9238999999999999, 0.70135, 0.9674, 0.8025, 0.9829, 0.9572499999999999, 0.9454, 0.9868, 0.9375, 0.3714, 0.70095, 0.5640000000000001, 0.99095, 0.88455, 0.9714, 0.901, 0.9329000000000001, 0.25355, 0.90105, 0.9262, 0.5582, 0.7859499999999999, 0.96155, 0.9774, 0.9297500000000001, 0.93775, 0.86755, 0.905, 0.352, 0.9699, 0.5605, 0.9964500000000001, 0.6258, 0.9621999999999999, 0.98795, 0.9794, 0.9417, 0.9008499999999999, 0.90215, 0.9541, 0.92735, 0.28925, 0.86215, 0.8243, 0.436, 0.6931499999999999, 0.98715, 0.60115, 0.9633499999999999, 0.9052, 0.7383500000000001, 0.96065, 0.8592, 0.6293, 0.8234, 0.9520500000000001, 0.9540500000000001, 0.61585, 0.5, 0.375, 0.9811000000000001, 0.99095, 0.08639999999999998, 0.9575, 0.71075, 0.4751, 0.7463500000000001, 0.9518, 0.9753499999999999, 0.77815, 0.9803, 0.9955, 0.9775499999999999, 0.9145, 0.92935, 0.9430000000000001, 0.9117999999999999, 0.80935, 0.43085, 0.9674499999999999, 0.9084, 0.20440000000000003, 0.9568, 0.9400999999999999, 0.8034, 0.85015, 0.9934499999999999, 0.98725, 0.9285, 0.9539, 0.61615, 0.9626, 0.9857, 0.9677, 0.9509000000000001, 0.8967499999999999, 0.95575, 0.96655, 0.989, 0.9963500000000001, 0.8973, 0.9742, 0.96085, 0.70095, 0.9843, 0.90585, 0.9833000000000001, 0.93125, 0.92955, 0.95865, 0.97785, 0.8548, 0.9863, 0.98795, 0.26495, 0.9198500000000001, 0.9384, 0.96875, 0.98055, 0.95635, 0.9531000000000001, 0.9616, 0.75465, 0.9734, 0.9757, 0.98675, 0.94415, 0.9384, 0.96055, 0.82985, 0.97585, 0.99045, 0.9592, 0.9521, 0.33545, 0.989, 0.08174999999999999, 0.05359999999999998, 0.95985, 0.9803999999999999, 0.97255, 0.74175, 0.79295, 0.9773499999999999, 0.3861, 0.98135, 0.94485, 0.9218500000000001, 0.05335000000000001, 0.92925, 0.87895, 0.8974500000000001, 0.96265, 0.85015, 0.81245, 0.9944500000000001, 0.8995, 0.9061, 0.98895, 0.4871, 0.96155, 0.9923500000000001, 0.6008, 0.8899, 0.92595, 0.954, 0.925, 0.70095, 0.64025, 0.9273, 0.9359999999999999, 0.8271, 0.59835, 0.34515, 0.96865, 0.88585, 0.8294, 0.16665000000000002, 0.81245, 0.3991, 0.97665, 0.9855, 0.76, 0.94025, 0.8057000000000001, 0.9334, 0.9881, 0.98305, 0.7155, 0.9722, 0.6591, 0.8573999999999999, 0.99265, 0.03284999999999999, 0.98305, 0.9872000000000001, 0.9812000000000001, 0.16435, 0.9633, 0.22885, 0.4614, 0.96625, 0.86755, 0.9311, 0.8712500000000001, 0.95845, 0.8348, 0.9329000000000001, 0.9415, 0.9976, 0.92765, 0.9594, 0.87765, 0.9467, 0.9608, 0.9857, 0.99815, 0.352, 0.50385, 0.85555, 0.9056500000000001, 0.99675, 0.9758, 0.9383, 0.9948, 0.8833500000000001, 0.96115, 0.8344, 0.08255000000000001, 0.8155, 0.9294, 0.2706, 0.98645, 0.98305, 0.9467, 0.91865, 0.95585, 0.9409000000000001, 0.79415, 0.8783000000000001, 0.99135, 0.98075, 0.24835000000000002, 0.93825, 0.9937, 0.8235, 0.06564999999999999, 0.4305, 0.95185, 0.9169, 0.9642999999999999, 0.9718, 0.97715, 0.93445, 0.86755, 0.87295, 0.93265, 0.97255, 0.998, 0.75195, 0.98315, 0.9417, 0.9964500000000001, 0.9869, 0.6389, 0.98045, 0.8585499999999999, 0.8707, 0.9949, 0.8825000000000001, 0.8571, 0.73655, 0.9758, 0.9934499999999999, 0.95075, 0.985, 0.9359500000000001, 0.9082, 0.8714999999999999, 0.9809, 0.8714999999999999, 0.96965, 0.99285, 0.9829, 0.20705, 0.8360000000000001, 0.99135, 0.0806, 0.969, 0.974, 0.66065, 0.9126000000000001, 0.9616, 0.9549000000000001, 0.9339500000000001, 0.16475, 0.83525, 0.8453999999999999, 0.89505, 0.9132, 0.96855, 0.9178, 0.9629, 0.42345, 0.8128, 0.9904999999999999, 0.95755, 0.32555, 0.7859499999999999, 0.15799999999999997, 0.9682999999999999, 0.95265, 0.037349999999999994, 0.13615, 0.9172, 0.86345, 0.81245, 0.9724999999999999, 0.9546, 0.0817, 0.9128499999999999, 0.96155, 0.9693499999999999, 0.94765, 0.8908, 0.57565, 0.9700500000000001, 0.97305, 0.7859499999999999, 0.86985, 0.9605, 0.9484, 0.9294, 0.9061, 0.96965, 0.97075, 0.8548, 0.86345, 0.9035, 0.8908499999999999, 0.2573, 0.9293, 0.874, 0.18755, 0.69995, 0.79245, 0.9854, 0.76015, 0.857, 0.9455, 0.97645, 0.18755, 0.99075, 0.9793000000000001, 0.9677, 0.96165, 0.3815, 0.40495000000000003, 0.8312999999999999, 0.38825, 0.39885, 0.9897, 0.9255, 0.87845, 0.9407, 0.992, 0.9088, 0.97845, 0.9521, 0.9576, 0.87035, 0.418, 0.8654, 0.831, 0.97365, 0.11630000000000001, 0.8652, 0.4835, 0.94415, 0.87715, 0.8210500000000001, 0.9937, 0.9277500000000001, 0.9915, 0.6858, 0.9179999999999999, 0.95845, 0.9426, 0.7847999999999999, 0.92955, 0.60115, 0.5, 0.9218, 0.96625, 0.9863, 0.99465, 0.9843, 0.9963, 0.97065, 0.71075, 0.97175, 0.08200000000000002, 0.99795, 0.91655, 0.32999999999999996, 0.9478500000000001, 0.7967500000000001, 0.8822, 0.9006000000000001, 0.4742, 0.89365, 0.90045, 0.19779999999999998, 0.9258, 0.8948499999999999, 0.9173, 0.8057000000000001, 0.9853000000000001, 0.9876499999999999, 0.9847, 0.7553000000000001, 0.81845, 0.5914, 0.403, 0.96365, 0.99115, 0.9903, 0.09860000000000002, 0.9374, 0.9466, 0.92955, 0.56005, 0.9359999999999999, 0.90315, 0.9633499999999999, 0.75995, 0.9115500000000001, 0.97065, 0.9674499999999999, 0.9922, 0.96495, 0.7787, 0.9063, 0.9124, 0.903, 0.827, 0.18335, 0.8795999999999999, 0.93275, 0.8294, 0.9955, 0.9017, 0.90845, 0.8672500000000001, 0.41035, 0.9646, 0.8886000000000001, 0.9819, 0.9858, 0.5, 0.94425, 0.93235, 0.29905000000000004, 0.1945, 0.9512, 0.9883500000000001, 0.9753000000000001, 0.97675, 0.97765, 0.9359999999999999, 0.9837, 0.48065, 0.9849, 0.9618, 0.81845, 0.9884, 0.9848, 0.9776, 0.9696, 0.6682, 0.9897, 0.91065, 0.9814, 0.97235, 0.5753, 0.9935499999999999, 0.9878, 0.9737, 0.4742, 0.97575, 0.9383, 0.9359500000000001, 0.92395, 0.9606, 0.9599500000000001, 0.9061, 0.7964, 0.9677, 0.97385, 0.7202, 0.4871, 0.8746, 0.39465, 0.9580500000000001, 0.9472, 0.9440999999999999, 0.9275, 0.98305, 0.94035, 0.9791000000000001, 0.9834, 0.6217, 0.9429000000000001, 0.98005, 0.9673499999999999, 0.9370499999999999, 0.9794, 0.9951, 0.54985, 0.81245, 0.9938, 0.7202, 0.9957, 0.7323, 0.93125, 0.97395, 0.9521999999999999, 0.88715, 0.7859499999999999, 0.96515, 0.96085, 0.9701, 0.9216500000000001, 0.96255, 0.82565, 0.88585, 0.9661, 0.81045, 0.8453999999999999, 0.42345, 0.76275, 0.97115, 0.901, 0.9517, 0.98075, 0.8956, 0.82985, 0.91355, 0.9635, 0.771, 0.03670000000000001, 0.96965, 0.9500500000000001, 0.9583999999999999, 0.9632000000000001, 0.8343, 0.9971, 0.9511000000000001, 0.87315, 0.6806, 0.60885, 0.97965, 0.9717, 0.98275, 0.99515, 0.9290499999999999, 0.9903500000000001, 0.97455, 0.8908, 0.7706500000000001, 0.9510000000000001, 0.8851, 0.98325, 0.3867, 0.99285, 0.9554, 0.9457, 0.15500000000000003, 0.9035500000000001, 0.79335, 0.043999999999999984, 0.9007499999999999, 0.9668, 0.70765, 0.5, 0.36224999999999996, 0.5, 0.6223, 0.5045, 0.82135, 0.985, 0.7859499999999999, 0.968, 0.998, 0.94955, 0.97715, 0.9883, 0.9454, 0.7787, 0.64025, 0.79725, 0.09960000000000002, 0.9088, 0.78545, 0.9642, 0.9674, 0.19779999999999998, 0.72975, 0.9553499999999999, 0.74855, 0.99675, 0.9429000000000001, 0.8057000000000001, 0.9088, 0.9200999999999999, 0.9484, 0.25305, 0.8982, 0.7383500000000001, 0.22870000000000001, 0.92115, 0.9567, 0.9727, 0.9505, 0.99255, 0.8264, 0.92995, 0.95635, 0.96115, 0.9455, 0.8787, 0.92225, 0.49305, 0.92535, 0.95565, 0.99185, 0.78535, 0.8180000000000001, 0.29874999999999996, 0.24745, 0.9559, 0.98, 0.9646, 0.9467, 0.01655000000000001, 0.966, 0.98575, 0.9898, 0.79295, 0.5, 0.9759, 0.8110999999999999, 0.9200999999999999, 0.91105, 0.2486, 0.9593, 0.9457, 0.9922500000000001, 0.8404, 0.9696, 0.79295, 0.9636, 0.7463, 0.98085, 0.97705, 0.7294, 0.96465, 0.984, 0.58805, 0.9875, 0.73275, 0.983, 0.8911, 0.94695, 0.39375, 0.6872, 0.9188000000000001, 0.63085, 0.92595, 0.94035, 0.25275000000000003, 0.9519, 0.9843, 0.9769, 0.55035, 0.15494999999999998, 0.9568, 0.04720000000000002, 0.9035, 0.9198, 0.9622999999999999, 0.98975, 0.937, 0.7997000000000001, 0.86695, 0.44965, 0.7847999999999999, 0.24669999999999997, 0.7775000000000001, 0.60005, 0.9716, 0.9165, 0.9568, 0.6423, 0.9803, 0.7463500000000001, 0.81645, 0.9190499999999999, 0.5, 0.025000000000000022, 0.8418, 0.90215, 0.97385, 0.95845, 0.7288, 0.9782500000000001, 0.7988, 0.8981, 0.9721500000000001, 0.76335, 0.9349000000000001, 0.9827, 0.9077999999999999, 0.9835499999999999, 0.8404, 0.9063, 0.9361999999999999, 0.26165, 0.5, 0.22344999999999998, 0.9445, 0.9727, 0.9884, 0.9196500000000001, 0.8931, 0.9914499999999999, 0.8692500000000001, 0.6366, 0.83055, 0.96785, 0.9896, 0.9430000000000001, 0.8876, 0.9231, 0.9621999999999999, 0.9867, 0.98285, 0.9847, 0.8109500000000001, 0.9881, 0.9637, 0.9942500000000001, 0.9550000000000001, 0.93165, 0.38995, 0.29275, 0.90605, 0.9706, 0.85015, 0.8450500000000001, 0.20689999999999997, 0.8833, 0.02579999999999999, 0.60885, 0.9521, 0.9599500000000001, 0.8180499999999999, 0.9964, 0.87315, 0.99295, 0.8294, 0.83485, 0.93345, 0.9873000000000001, 0.9200999999999999, 0.99855, 0.9835, 0.9453, 0.625, 0.9575, 0.7274, 0.9500500000000001, 0.6959500000000001, 0.86345, 0.71075, 0.8062, 0.97445, 0.901, 0.9665, 0.3758, 0.98285, 0.5, 0.8584499999999999, 0.81845, 0.9061, 0.9942, 0.86675, 0.92405, 0.92865, 0.9398500000000001, 0.982, 0.8982, 0.91655, 0.94765, 0.24164999999999998, 0.80025, 0.9189, 0.6806, 0.9863999999999999, 0.9757, 0.97465, 0.9838, 0.9918, 0.5588, 0.8348, 0.94885, 0.95875, 0.93465, 0.71075, 0.94905, 0.857, 0.18855, 0.98305, 0.9768, 0.90945, 0.9499, 0.9540500000000001, 0.60115, 0.8062, 0.98855, 0.9298500000000001, 0.9511000000000001, 0.6806, 0.73315, 0.94035, 0.7859499999999999, 0.93145, 0.9135, 0.96965, 0.9974000000000001, 0.9958, 0.8982, 0.82665, 0.93825, 0.9439, 0.9856, 0.4222, 0.87385, 0.9696, 0.7553000000000001, 0.99415, 0.8243, 0.8062, 0.9706, 0.9198, 0.9922, 0.9329000000000001, 0.95915, 0.95765, 0.9979, 0.6909, 0.98455, 0.79915, 0.9962500000000001, 0.9229, 0.9901, 0.59565, 0.98525, 0.9069, 0.1452, 0.9037, 0.8855999999999999, 0.9084, 0.9977, 0.9465, 0.8348, 0.9794, 0.8984, 0.79295, 0.901, 0.9876499999999999, 0.9593, 0.9715, 0.88585, 0.9741500000000001, 0.9465, 0.12390000000000001, 0.9458500000000001, 0.9437, 0.30695, 0.65325, 0.9430000000000001, 0.9484, 0.91265, 0.0398, 0.97795, 0.9837, 0.94015, 0.99115, 0.85015, 0.94035, 0.7787, 0.9430000000000001, 0.055800000000000016, 0.93735, 0.9308000000000001, 0.73795, 0.98065, 0.8294, 0.33799999999999997, 0.91355, 0.9550000000000001, 0.98665, 0.5, 0.9724999999999999, 0.9873000000000001, 0.94035, 0.98795, 0.9849, 0.9873000000000001, 0.9902, 0.99255, 0.9949, 0.87895, 0.58895, 0.95845, 0.8020499999999999, 0.8982, 0.91355, 0.917, 0.9863999999999999, 0.92275, 0.9541999999999999, 0.8382000000000001, 0.9918, 0.9063, 0.9905999999999999, 0.99085, 0.9882, 0.8695999999999999, 0.9697, 0.86755, 0.93445, 0.9426, 0.99295, 0.5, 0.95385, 0.9865999999999999, 0.99455, 0.1733, 0.41295, 0.97775, 0.9748, 0.99465, 0.9530000000000001, 0.9173, 0.9176500000000001, 0.927, 0.41105, 0.99725, 0.7202, 0.8613500000000001, 0.07990000000000003, 0.6177, 0.16975, 0.76995, 0.65315, 0.9633499999999999, 0.6988, 0.82985, 0.98785, 0.901, 0.9972, 0.7292, 0.9567, 0.9794, 0.70685, 0.7798499999999999, 0.5386, 0.9852000000000001, 0.6191, 0.91355, 0.9682999999999999, 0.9734, 0.8888, 0.7970999999999999, 0.59015, 0.9977, 0.9063, 0.7673, 0.9761500000000001, 0.94415, 0.05349999999999999, 0.9957, 0.9792000000000001, 0.99615, 0.313, 0.8825000000000001, 0.5, 0.97485, 0.75185, 0.6591, 0.9277500000000001, 0.9834499999999999, 0.7817000000000001, 0.96385, 0.9494, 0.32999999999999996, 0.9855, 0.5386, 0.96645, 0.9865999999999999, 0.9069499999999999, 0.93125, 0.8632, 0.5941, 0.5, 0.97355, 0.9680500000000001, 0.8237, 0.99125, 0.94035, 0.9587, 0.93275, 0.70095, 0.11395, 0.61315, 0.9932000000000001, 0.9855, 0.87895, 0.9293, 0.8592, 0.9721500000000001, 0.95265, 0.9819, 0.97115, 0.7202, 0.82985, 0.9777, 0.9626, 0.9539, 0.9247000000000001, 0.99095, 0.9198999999999999, 0.8062, 0.98475, 0.9427, 0.8632, 0.9779, 0.8123, 0.969, 0.05309999999999998, 0.9537, 0.9660500000000001, 0.86755, 0.7463, 0.9878, 0.8180000000000001, 0.8243, 0.7781, 0.9467, 0.9656, 0.88715, 0.9670000000000001, 0.9682, 0.98195, 0.9929, 0.974, 0.9804999999999999, 0.71005, 0.9544, 0.8888499999999999, 0.97455, 0.9515, 0.95175, 0.94265, 0.4871, 0.9656, 0.9500500000000001, 0.97115, 0.9941, 0.9966999999999999, 0.34175, 0.9763999999999999, 0.99275, 0.70135, 0.29159999999999997, 0.86745, 0.9224, 0.82985, 0.7556499999999999, 0.5877, 0.58295, 0.3634, 0.96965, 0.97445, 0.8891, 0.7865, 0.80935, 0.81845, 0.93895, 0.899, 0.10565000000000002, 0.7323999999999999, 0.98035, 0.93895, 0.8446, 0.9776, 0.9488, 0.98335, 0.9294, 0.9902500000000001, 0.9957, 0.9626, 0.9655, 0.98845, 0.4898, 0.91125, 0.6951499999999999, 0.95845, 0.9923, 0.91065, 0.9189, 0.91935, 0.98695, 0.9962500000000001, 0.89225, 0.6591, 0.9955499999999999, 0.8875, 0.12685000000000002, 0.9375, 0.97495, 0.9228000000000001, 0.93565, 0.9511000000000001, 0.9318500000000001, 0.9451, 0.9592499999999999, 0.96795, 0.94025, 0.19915, 0.973, 0.9721, 0.9838, 0.89695, 0.94895, 0.352, 0.98485, 0.8926499999999999, 0.3104, 0.12090000000000001, 0.9455, 0.6072, 0.91215, 0.98735, 0.93015, 0.98815, 0.76495, 0.7987, 0.90005, 0.9567, 0.055999999999999994, 0.9901, 0.8673, 0.9455, 0.96755, 0.98645, 0.11330000000000001, 0.9738, 0.8714999999999999, 0.9674499999999999, 0.99675, 0.3033, 0.77115, 0.9429000000000001, 0.96155, 0.7202, 0.9781, 0.9655, 0.89115, 0.46645, 0.9959, 0.9788, 0.8653, 0.9751000000000001, 0.78945, 0.9711000000000001, 0.89795, 0.8451, 0.94145, 0.94015, 0.5, 0.8450500000000001, 0.9721, 0.9775499999999999, 0.9659, 0.9682999999999999, 0.70955, 0.9655, 0.9246, 0.13435000000000002, 0.95365, 0.8617, 0.81515, 0.7383500000000001, 0.9688, 0.98995, 0.52705, 0.9661500000000001, 0.73135, 0.9615, 0.9696, 0.24464999999999998, 0.6487, 0.93085, 0.92405, 0.97255, 0.97395, 0.98775, 0.98035, 0.7992, 0.97115, 0.7706500000000001, 0.78945, 0.96625, 0.9801500000000001, 0.5377, 0.69345, 0.9825999999999999, 0.9679, 0.9929, 0.6772, 0.964, 0.54455, 0.8209500000000001, 0.9453, 0.7985, 0.91355, 0.9819, 0.9600500000000001, 0.98045, 0.71955, 0.98675, 0.94685, 0.9258, 0.82745, 0.9715, 0.9996499999999999, 0.9061, 0.97725, 0.9843, 0.9915499999999999, 0.6471, 0.91355, 0.81845, 0.28515, 0.7771, 0.96115, 0.95255, 0.9895, 0.9625, 0.9198999999999999, 0.11580000000000001, 0.39885, 0.71925, 0.9879, 0.7621, 0.03804999999999997, 0.89975, 0.96865, 0.07765, 0.97505, 0.9733499999999999, 0.96395, 0.9495, 0.9540500000000001, 0.84775, 0.98465, 0.857, 0.9615, 0.9665, 0.98995, 0.98565, 0.96555, 0.96025, 0.7202, 0.6, 0.7287, 0.92405, 0.9782500000000001, 0.95155, 0.8822, 0.95015, 0.13165, 0.9357500000000001, 0.65355, 0.97045, 0.8672500000000001, 0.9792000000000001, 0.32084999999999997, 0.50645, 0.7666999999999999, 0.94095, 0.62325, 0.9590000000000001, 0.95265, 0.98495, 0.8348, 0.9534, 0.86345, 0.9419500000000001, 0.9416, 0.9195, 0.9877, 0.8822, 0.9728, 0.8452999999999999, 0.9787, 0.9754, 0.9678, 0.95845, 0.9724999999999999, 0.9473, 0.9066000000000001, 0.969, 0.9587, 0.8825000000000001, 0.6191, 0.8592, 0.25305, 0.16560000000000002, 0.88315, 0.97895, 0.95895, 0.95835, 0.93125, 0.85015, 0.9661, 0.71275, 0.8657, 0.9662, 0.9936499999999999, 0.9915499999999999, 0.61315, 0.9931, 0.98275, 0.96045, 0.33125, 0.9218999999999999, 0.9941, 0.93675, 0.99375, 0.9702500000000001, 0.99195, 0.99305, 0.984, 0.5781499999999999, 0.87895, 0.28755, 0.1871, 0.858, 0.9742999999999999, 0.81755, 0.88625, 0.9834499999999999, 0.97855, 0.97835, 0.95825, 0.99135, 0.8042, 0.80355, 0.7997000000000001, 0.5, 0.9374, 0.79635, 0.91315, 0.9837, 0.93735, 0.9073, 0.9882, 0.71315, 0.93825, 0.97105, 0.8111999999999999, 0.9814, 0.9991, 0.9188000000000001, 0.2474, 0.8400000000000001, 0.866, 0.7869999999999999, 0.95485, 0.88585, 0.9783, 0.97915, 0.41045, 0.96075, 0.1839, 0.91125, 0.9681500000000001, 0.83985, 0.8886000000000001, 0.22885, 0.9662999999999999, 0.7891, 0.97185, 0.99285, 0.3634, 0.9025000000000001, 0.87505, 0.94455, 0.96305, 0.87395, 0.9915, 0.8953, 0.97785, 0.9818, 0.9622999999999999, 0.96875, 0.93005, 0.992, 0.5192, 0.9311, 0.27885, 0.37945, 0.97795, 0.94145, 0.92405, 0.98065, 0.27915, 0.21765, 0.9176500000000001, 0.9035500000000001, 0.70095, 0.9844999999999999, 0.61315, 0.13140000000000002, 0.9369000000000001, 0.9294, 0.96295, 0.6366, 0.8093, 0.8243, 0.93055, 0.8348, 0.9858, 0.93435, 0.9972, 0.9320999999999999, 0.81305, 0.11795, 0.97915, 0.9911, 0.5386, 0.9821500000000001, 0.98865, 0.8041499999999999, 0.9108499999999999, 0.96955, 0.85005, 0.9956499999999999, 0.98775, 0.9326, 0.13055, 0.1829, 0.5, 0.88915, 0.70025, 0.8548, 0.7463, 0.8343, 0.9843, 0.8308, 0.95455, 0.9291, 0.9772000000000001, 0.7989999999999999, 0.11775000000000002, 0.93745, 0.78175, 0.976, 0.7258, 0.78215, 0.8585, 0.99285, 0.93125, 0.9238999999999999, 0.11520000000000002, 0.81475, 0.7787, 0.81845, 0.9112, 0.9063, 0.9390000000000001, 0.81195, 0.9969, 0.9835, 0.9411, 0.9593499999999999, 0.6591, 0.55405, 0.9835, 0.9877, 0.1972, 0.8466, 0.12145, 0.9622999999999999, 0.22525, 0.96225, 0.95285, 0.89775, 0.97295, 0.84765, 0.24885000000000002, 0.16899999999999998, 0.9896499999999999, 0.989, 0.30305000000000004, 0.8825000000000001, 0.7859499999999999, 0.82245, 0.15760000000000002, 0.9511000000000001, 0.99, 0.8824000000000001, 0.9426, 0.9086000000000001, 0.99195, 0.5, 0.6806, 0.9399500000000001, 0.9520500000000001, 0.98045, 0.9764999999999999, 0.9904999999999999, 0.92565, 0.61455, 0.81245, 0.81845, 0.5689, 0.9510000000000001, 0.9411, 0.8592, 0.92655, 0.81705, 0.39765, 0.98735, 0.99275, 0.9014, 0.98445, 0.98895, 0.5, 0.6858, 0.98295, 0.5888, 0.9829, 0.8951, 0.7997000000000001, 0.954, 0.1778, 0.26234999999999997, 0.7463500000000001, 0.8404, 0.86755, 0.13655, 0.6736, 0.9258, 0.91355, 0.9277500000000001, 0.9928, 0.9147000000000001, 0.9801500000000001, 0.94425, 0.9357500000000001, 0.8593999999999999, 0.93655, 0.8463499999999999, 0.92595, 0.8457, 0.14795000000000003, 0.968, 0.94355, 0.9794499999999999, 0.81245, 0.7798499999999999, 0.9429000000000001, 0.4871, 0.44865, 0.898, 0.92735, 0.8855999999999999, 0.94855, 0.9637, 0.8714999999999999, 0.987, 0.92595, 0.9738, 0.9825999999999999, 0.9935499999999999, 0.6806, 0.30979999999999996, 0.9709, 0.9309499999999999, 0.9977, 0.07640000000000002, 0.98035, 0.8473999999999999, 0.9996, 0.9511000000000001, 0.68765, 0.65985, 0.98375, 0.99, 0.92685, 0.8825000000000001, 0.97265, 0.9861, 0.96795, 0.97195, 0.5871999999999999, 0.9682999999999999, 0.625, 0.13069999999999998, 0.81845, 0.9371499999999999, 0.9400999999999999, 0.97565, 0.97505, 0.99335, 0.85015, 0.9832000000000001, 0.4347, 0.98295, 0.6174999999999999, 0.99085, 0.954, 0.8982, 0.96, 0.9722999999999999, 0.9211, 0.9558, 0.7924, 0.9621999999999999, 0.09179999999999999, 0.45205, 0.6839999999999999, 0.9734, 0.59565, 0.8712, 0.9903, 0.81845, 0.06619999999999998, 0.07595000000000002, 0.9777, 0.93725, 0.58895, 0.76335, 0.9416, 0.52385, 0.9229499999999999, 0.89175, 0.8553999999999999, 0.9959, 0.74385, 0.97265, 0.6854, 0.352, 0.9962500000000001, 0.92625, 0.36260000000000003, 0.9863999999999999, 0.7357, 0.9425, 0.9386, 0.76335, 0.9815, 0.8048500000000001, 0.93885, 0.9089499999999999, 0.75465, 0.8017000000000001, 0.97895, 0.98275, 0.96995, 0.9647, 0.034999999999999976, 0.9802, 0.9674499999999999, 0.97725, 0.6806, 0.8155, 0.99685, 0.9530000000000001, 0.93625, 0.5, 0.9625, 0.99375, 0.9914499999999999, 0.40325, 0.9852000000000001, 0.93425, 0.92405, 0.9037, 0.9485, 0.625, 0.96625, 0.9251, 0.96275, 0.9311, 0.95505, 0.95965, 0.9258, 0.9985999999999999, 0.8817999999999999, 0.9941, 0.86315, 0.88915, 0.97635, 0.931, 0.9978, 0.87895, 0.95285, 0.9576, 0.32999999999999996, 0.9592, 0.6753, 0.99325, 0.9451, 0.9454, 0.9853000000000001, 0.9889, 0.9156, 0.9701, 0.944, 0.9764999999999999, 0.9417, 0.987, 0.7339, 0.89205, 0.9739, 0.9238999999999999, 0.9353, 0.96885, 0.9454, 0.9213, 0.415, 0.9692000000000001, 0.9097500000000001, 0.9801500000000001, 0.78135, 0.3409, 0.22599999999999998, 0.91255, 0.92925, 0.8464499999999999, 0.4802, 0.70345, 0.63085, 0.79295, 0.5386, 0.5, 0.9652000000000001, 0.9902, 0.96555, 0.8632, 0.6802, 0.60355, 0.9796, 0.648, 0.8572500000000001, 0.9773499999999999, 0.76895, 0.9742500000000001, 0.90605, 0.7859499999999999, 0.9797, 0.86345, 0.9075500000000001, 0.99255, 0.9700500000000001, 0.98105, 0.94895, 0.9294, 0.901, 0.7383500000000001, 0.10449999999999998, 0.9702, 0.8951, 0.97885, 0.6753, 0.976, 0.5686, 0.9311, 0.82985, 0.9612, 0.81245, 0.9682999999999999, 0.9806, 0.9577, 0.9706, 0.9521, 0.99415, 0.9179999999999999, 0.73125, 0.8595999999999999, 0.96855, 0.8953, 0.892, 0.9309000000000001, 0.96905, 0.98385, 0.8411, 0.8948499999999999, 0.9247000000000001, 0.93125, 0.98775, 0.04325000000000001, 0.9773499999999999, 0.87765, 0.91885, 0.20579999999999998, 0.98855, 0.6666, 0.66305, 0.97275, 0.1391, 0.9871, 0.4905, 0.93445, 0.9297, 0.87895, 0.13229999999999997, 0.50645, 0.98695, 0.7907500000000001, 0.9637, 0.6356999999999999, 0.9260999999999999, 0.81845, 0.9921, 0.9500500000000001, 0.9938, 0.9158, 0.9769, 0.6366, 0.4614, 0.9799, 0.8853, 0.9916499999999999, 0.29169999999999996, 0.91995, 0.2661, 0.9889, 0.9538, 0.84495, 0.9611000000000001, 0.9843, 0.9277500000000001, 0.9164, 0.96265, 0.89205, 0.8886000000000001, 0.9869, 0.93125, 0.4871, 0.9782500000000001, 0.94775, 0.9696, 0.98815, 0.9426, 0.9928, 0.8536, 0.9893000000000001, 0.8613500000000001, 0.7553000000000001, 0.9849, 0.89225, 0.9861, 0.9929, 0.05359999999999998, 0.8040499999999999, 0.8606, 0.8470500000000001, 0.7747999999999999, 0.9089499999999999, 0.12530000000000002, 0.9454, 0.7463500000000001, 0.97805, 0.1527, 0.9932000000000001, 0.9406, 0.9399500000000001, 0.7444500000000001, 0.6691, 0.97435, 0.8243, 0.9597, 0.9646, 0.9238999999999999, 0.9057, 0.8806499999999999, 0.8180000000000001, 0.7071000000000001, 0.91435, 0.39644999999999997, 0.97475, 0.9200999999999999, 0.8686, 0.86345, 0.9943500000000001, 0.42969999999999997, 0.87715, 0.9772000000000001, 0.10794999999999999, 0.6341, 0.19724999999999998, 0.8592, 0.8121, 0.7907500000000001, 0.7781, 0.352, 0.87715, 0.81325, 0.9937, 0.9874499999999999, 0.93895, 0.9902, 0.80945, 0.9734499999999999, 0.8967499999999999, 0.74695, 0.9063, 0.87095, 0.9200999999999999, 0.9295, 0.9636, 0.9472499999999999, 0.9659, 0.1845, 0.6527000000000001, 0.88915, 0.9455, 0.9238, 0.9001, 0.6819999999999999, 0.9861500000000001, 0.9258, 0.9931, 0.99335, 0.55175, 0.9824999999999999, 0.99745, 0.96995, 0.74715, 0.9706, 0.7781, 0.4791, 0.9837, 0.55035, 0.93525, 0.964, 0.9161, 0.60115, 0.97445, 0.9941, 0.92735, 0.9891, 0.9455, 0.86755, 0.55035, 0.7685500000000001, 0.9580500000000001, 0.4492, 0.8763000000000001, 0.92815, 0.9516, 0.9901, 0.8974500000000001, 0.83485, 0.9955, 0.9925999999999999, 0.9884, 0.9559, 0.84985, 0.77115, 0.9610000000000001, 0.9448, 0.3107, 0.83525, 0.2573, 0.8974500000000001, 0.20705, 0.9852000000000001, 0.9455, 0.9494, 0.8854, 0.9458500000000001, 0.5, 0.9972, 0.92395, 0.9895, 0.98675, 0.9661, 0.7587999999999999, 0.91125, 0.78235, 0.74985, 0.9575, 0.9921, 0.9942, 0.7859499999999999, 0.40035, 0.9522999999999999, 0.58895, 0.80295, 0.30074999999999996, 0.9957, 0.85015, 0.9988, 0.6591, 0.38634999999999997, 0.99895, 0.96155, 0.9872000000000001, 0.98795, 0.92405, 0.90585, 0.91325, 0.92955, 0.9879, 0.9283, 0.3194, 0.9743999999999999, 0.88195, 0.85865, 0.6862, 0.9954000000000001, 0.9668, 0.96555, 0.73375, 0.81345, 0.77115, 0.09284999999999999, 0.031100000000000017, 0.9557, 0.9642, 0.9134, 0.9787, 0.8928499999999999, 0.98935, 0.74695, 0.6806, 0.20365, 0.5386, 0.06324999999999997, 0.97575, 0.18755, 0.5, 0.81225, 0.8453999999999999, 0.8745499999999999, 0.8551, 0.1612, 0.9942, 0.9912000000000001, 0.3943, 0.80025, 0.95765, 0.96145, 0.89225, 0.97725, 0.94415, 0.5, 0.9894000000000001, 0.58895, 0.9762, 0.85365, 0.9375, 0.92765, 0.85095, 0.6591, 0.8243, 0.76275, 0.9394, 0.861, 0.97655, 0.9872000000000001, 0.97125, 0.9478500000000001, 0.6909, 0.97855, 0.88125, 0.07790000000000002, 0.9306, 0.98115, 0.5, 0.94365, 0.58895, 0.5395, 0.9148499999999999, 0.7786, 0.7202, 0.9047000000000001, 0.96155, 0.8967499999999999, 0.6613, 0.9167000000000001, 0.9691000000000001, 0.87895, 0.92595, 0.9773499999999999, 0.78945, 0.98485, 0.9008, 0.9775499999999999, 0.83525, 0.9754, 0.8371, 0.9721, 0.99615, 0.88565, 0.9302, 0.90825, 0.07545000000000002, 0.27375, 0.91105, 0.9576, 0.97975, 0.9952, 0.82985, 0.91105, 0.4423, 0.94425, 0.9665, 0.3294, 0.93125, 0.7424, 0.6909, 0.92595, 0.7866, 0.9531000000000001, 0.9200999999999999, 0.9834, 0.8493999999999999, 0.77415, 0.9758, 0.9954000000000001, 0.981, 0.96885, 0.9902500000000001, 0.94895, 0.9919, 0.9842500000000001, 0.78095, 0.9454, 0.72485, 0.36305, 0.9869, 0.44865, 0.9776, 0.7332, 0.8825000000000001, 0.43274999999999997, 0.77495, 0.7656499999999999, 0.76075, 0.96495, 0.89225, 0.00990000000000002, 0.7202, 0.91535, 0.91215, 0.61315, 0.8613500000000001, 0.9277500000000001, 0.86415, 0.29005000000000003, 0.9061, 0.99245, 0.9502999999999999, 0.73605, 0.9219999999999999, 0.9659, 0.9706, 0.86485, 0.9841, 0.98165, 0.96905, 0.2313, 0.95625, 0.9530000000000001, 0.84935, 0.7997000000000001, 0.8239000000000001, 0.5603, 0.97175, 0.9167000000000001, 0.95365, 0.5, 0.81245, 0.9788, 0.9788, 0.9511000000000001, 0.9519500000000001, 0.8525, 0.76335, 0.07135000000000002, 0.7563, 0.6454, 0.75465, 0.86345, 0.8889, 0.93405, 0.95305, 0.99, 0.9359999999999999, 0.96365, 0.6806, 0.9132, 0.9525, 0.79295, 0.98165, 0.6806, 0.33935000000000004, 0.65985, 0.9936, 0.36845, 0.96685, 0.981, 0.98785, 0.9096, 0.9953000000000001, 0.95565, 0.9600500000000001, 0.9734, 0.9460500000000001, 0.6366, 0.9179999999999999, 0.95765, 0.9677, 0.9187000000000001, 0.5871999999999999, 0.5129, 0.80555, 0.95765, 0.69435, 0.24645, 0.61315, 0.0912, 0.9815499999999999, 0.9762500000000001, 0.9623999999999999, 0.9884, 0.9823, 0.9271, 0.97045, 0.84935, 0.9636, 0.9727, 0.7852, 0.91885, 0.97115, 0.8453999999999999, 0.9808, 0.70095, 0.9058999999999999, 0.90615, 0.9734, 0.9654499999999999, 0.9854, 0.86235, 0.9661, 0.6471, 0.9654499999999999, 0.9576, 0.8121, 0.95465, 0.8783000000000001, 0.9293, 0.7985, 0.239, 0.7592, 0.72395, 0.96435, 0.9599, 0.91995, 0.6243, 0.94025, 0.4974, 0.8453999999999999, 0.9061, 0.9680500000000001, 0.9949, 0.7614000000000001, 0.9833000000000001, 0.9794499999999999, 0.97065, 0.07264999999999999, 0.972, 0.9893000000000001, 0.6806, 0.9761, 0.8294, 0.97105, 0.4714, 0.97485, 0.96225, 0.7842, 0.92595, 0.9873000000000001, 0.92405, 0.92595, 0.9742500000000001, 0.9918, 0.9802, 0.9882500000000001, 0.9905999999999999, 0.6909, 0.7279, 0.93445, 0.6406000000000001, 0.9896499999999999, 0.97925, 0.89205, 0.6422, 0.95585, 0.8846499999999999, 0.99325, 0.9791000000000001, 0.98875, 0.7859499999999999, 0.89205, 0.98525, 0.97925, 0.7121999999999999, 0.8672500000000001, 0.8953, 0.9883500000000001, 0.9522999999999999, 0.84465, 0.8188500000000001, 0.9376, 0.97325, 0.9964500000000001, 0.6393, 0.3022, 0.97525, 0.80575, 0.82165, 0.11185, 0.9580500000000001, 0.9440500000000001, 0.84465, 0.9571000000000001, 0.98645, 0.3025, 0.95755, 0.6806, 0.7578, 0.6909, 0.9007000000000001, 0.9834499999999999, 0.97475, 0.85015, 0.8585, 0.9287000000000001, 0.9976, 0.9606, 0.8807499999999999, 0.9478500000000001, 0.9946999999999999, 0.97255, 0.9963500000000001, 0.9271, 0.9351, 0.92155, 0.875, 0.974, 0.9375, 0.9843, 0.95655, 0.8957999999999999, 0.7686999999999999, 0.79295, 0.8875, 0.31655, 0.94225, 0.9546, 0.9843, 0.91105, 0.6806, 0.9061, 0.6806, 0.9769, 0.437, 0.9490000000000001, 0.7355, 0.9662, 0.8572500000000001, 0.9662999999999999, 0.81245, 0.15710000000000002, 0.88295, 0.09455000000000002, 0.9220999999999999, 0.97465, 0.84875, 0.91785, 0.9152, 0.36915, 0.71075, 0.87995, 0.989, 0.8886499999999999, 0.79295, 0.9329000000000001, 0.7859499999999999, 0.8904000000000001, 0.29905000000000004, 0.80725, 0.99315, 0.77515, 0.27390000000000003, 0.87505, 0.98255, 0.9277500000000001, 0.45005, 0.9854, 0.19485000000000002, 0.97, 0.9467, 0.9028, 0.95955, 0.905, 0.9448, 0.5, 0.9556, 0.9693, 0.91785, 0.36729999999999996, 0.9711000000000001, 0.85015, 0.97465, 0.99745, 0.8073, 0.7564500000000001, 0.9451499999999999, 0.9242, 0.74535, 0.975, 0.8712, 0.97705, 0.96435, 0.87385, 0.9167000000000001, 0.9783999999999999, 0.99795, 0.99495, 0.9209499999999999, 0.8219000000000001, 0.91125, 0.9497, 0.04920000000000002, 0.8417, 0.6913, 0.32794999999999996, 0.892, 0.9493, 0.9843999999999999, 0.9285, 0.92025, 0.5, 0.7645, 0.9734499999999999, 0.9851, 0.9836, 0.7294, 0.9659, 0.9511000000000001, 0.98805, 0.6806, 0.6072, 0.6366, 0.9774, 0.8704000000000001, 0.8664000000000001, 0.8453999999999999, 0.94065, 0.97285, 0.34175, 0.3449, 0.9378, 0.22945, 0.36915, 0.99395, 0.90945]\n"
          ]
        }
      ],
      "source": [
        "def scale_score(x):\n",
        "    return (x+1)/2\n",
        "\n",
        "scaled_scores = [scale_score(x) for x in vaders.compound]\n",
        "print(scaled_scores)\n"
      ]
    },
    {
      "cell_type": "code",
      "execution_count": 119,
      "metadata": {
        "colab": {
          "base_uri": "https://localhost:8080/"
        },
        "id": "uDZ3bhROqW-S",
        "outputId": "bd45b678-45fd-4881-9fe2-8e8648536e50"
      },
      "outputs": [
        {
          "name": "stdout",
          "output_type": "stream",
          "text": [
            "MAE: 0.23100699\n",
            "MSE: 0.14032854740050002\n"
          ]
        }
      ],
      "source": [
        "print(\"MAE:\", mean_absolute_error(vaders.Score, scaled_scores))\n",
        "print(\"MSE:\", mean_squared_error(vaders.Score, scaled_scores))"
      ]
    },
    {
      "cell_type": "markdown",
      "metadata": {
        "id": "LxjXrwu4qW-T"
      },
      "source": [
        "For comparison, following shows the performance of random guess"
      ]
    },
    {
      "cell_type": "code",
      "execution_count": 120,
      "metadata": {
        "colab": {
          "base_uri": "https://localhost:8080/"
        },
        "id": "ysrdgB4RqW-T",
        "outputId": "e7544f06-a190-4ebe-e098-7f1df476d079"
      },
      "outputs": [
        {
          "name": "stdout",
          "output_type": "stream",
          "text": [
            "MAE random: 0.500141117090162\n",
            "MSE random: 0.3339607224044838\n",
            "              precision    recall  f1-score   support\n",
            "\n",
            "           0       0.22      0.52      0.31      2158\n",
            "           1       0.79      0.50      0.61      7842\n",
            "\n",
            "    accuracy                           0.50     10000\n",
            "   macro avg       0.50      0.51      0.46     10000\n",
            "weighted avg       0.67      0.50      0.54     10000\n",
            "\n",
            "[[1113 1045]\n",
            " [3948 3894]]\n"
          ]
        }
      ],
      "source": [
        "random_scores = np.random.uniform(0, 1, len(vaders))\n",
        "print(\"MAE random:\", mean_absolute_error(vaders.Score,random_scores))\n",
        "print(\"MSE random:\", mean_squared_error(vaders.Score, random_scores))\n",
        "\n",
        "random_scores = np.random.randint(0, 2, len(vaders))\n",
        "print(classification_report(vaders.Score,random_scores))\n",
        "print(confusion_matrix(vaders.Score,random_scores))\n",
        "\n"
      ]
    },
    {
      "cell_type": "code",
      "execution_count": 121,
      "metadata": {},
      "outputs": [
        {
          "data": {
            "text/plain": [
              "Counter({1: 7842, 0: 2158})"
            ]
          },
          "execution_count": 121,
          "metadata": {},
          "output_type": "execute_result"
        }
      ],
      "source": [
        "Counter(vaders.Score)"
      ]
    },
    {
      "cell_type": "markdown",
      "metadata": {
        "id": "tlKg48VSqW-T"
      },
      "source": [
        "### Sentiment Analysis with machine learning"
      ]
    },
    {
      "cell_type": "code",
      "execution_count": 127,
      "metadata": {},
      "outputs": [
        {
          "data": {
            "text/plain": [
              "Counter({1: 7616, 0: 2384})"
            ]
          },
          "execution_count": 127,
          "metadata": {},
          "output_type": "execute_result"
        }
      ],
      "source": [
        "#df_small = df.sample(n=10000)\n",
        "df_small = df[:10000].copy()\n",
        "df_small['Score'] = df['Score'].apply(lambda x: 1 if x > 3 else 0)\n",
        "Counter(df_small.Score)"
      ]
    },
    {
      "cell_type": "code",
      "execution_count": 128,
      "metadata": {
        "id": "2dH6FWx8qW-T"
      },
      "outputs": [],
      "source": [
        "from sklearn.feature_extraction.text import TfidfVectorizer\n",
        "\n",
        "# Create TF-IDF features\n",
        "tfidf_vectorizer = TfidfVectorizer(max_features=10000)\n",
        "X = tfidf_vectorizer.fit_transform(df_small['Text'])\n",
        "y = df_small['Score'].values"
      ]
    },
    {
      "cell_type": "code",
      "execution_count": 61,
      "metadata": {},
      "outputs": [
        {
          "data": {
            "text/plain": [
              "(10000, 10000)"
            ]
          },
          "execution_count": 61,
          "metadata": {},
          "output_type": "execute_result"
        }
      ],
      "source": [
        "X.shape"
      ]
    },
    {
      "cell_type": "code",
      "execution_count": 129,
      "metadata": {
        "colab": {
          "base_uri": "https://localhost:8080/"
        },
        "id": "0ZnIY2UZqW-T",
        "outputId": "89a55eb4-17bd-4629-8d84-759f556000f1"
      },
      "outputs": [
        {
          "name": "stdout",
          "output_type": "stream",
          "text": [
            "[LightGBM] [Info] Number of positive: 6871, number of negative: 2129\n",
            "[LightGBM] [Info] Auto-choosing row-wise multi-threading, the overhead of testing was 0.298181 seconds.\n",
            "You can set `force_row_wise=true` to remove the overhead.\n",
            "And if memory is not enough, you can set `force_col_wise=true`.\n",
            "[LightGBM] [Info] Total Bins 100031\n",
            "[LightGBM] [Info] Number of data points in the train set: 9000, number of used features: 2260\n",
            "[LightGBM] [Info] [binary:BoostFromScore]: pavg=0.763444 -> initscore=1.171657\n",
            "[LightGBM] [Info] Start training from score 1.171657\n",
            "[LightGBM] [Info] Auto-choosing row-wise multi-threading, the overhead of testing was 0.123172 seconds.\n",
            "You can set `force_row_wise=true` to remove the overhead.\n",
            "And if memory is not enough, you can set `force_col_wise=true`.\n",
            "[LightGBM] [Info] Total Bins 100031\n",
            "[LightGBM] [Info] Number of data points in the train set: 9000, number of used features: 2260\n",
            "[LightGBM] [Info] Start training from score 0.763444\n",
            "MAE classifier: 0.136\n",
            "MSE classifier: 0.136\n",
            "              precision    recall  f1-score   support\n",
            "\n",
            "           0       0.81      0.60      0.69       255\n",
            "           1       0.88      0.95      0.91       745\n",
            "\n",
            "    accuracy                           0.86      1000\n",
            "   macro avg       0.85      0.78      0.80      1000\n",
            "weighted avg       0.86      0.86      0.86      1000\n",
            "\n",
            "[[154 101]\n",
            " [ 35 710]]\n",
            "MAE regressor: 0.23511877701763564\n",
            "MSE regressor: 0.1065323017021658\n"
          ]
        }
      ],
      "source": [
        "from sklearn.model_selection import train_test_split\n",
        "from sklearn.linear_model import LinearRegression\n",
        "from sklearn.tree import DecisionTreeClassifier\n",
        "from sklearn.ensemble import RandomForestClassifier, RandomForestRegressor\n",
        "from sklearn.metrics import accuracy_score, classification_report, confusion_matrix\n",
        "\n",
        "\n",
        "# Split data into training and testing sets\n",
        "X_train, X_test, y_train, y_test = train_test_split(X, y, test_size=0.1)\n",
        "\n",
        "model1 = LGBMClassifier()\n",
        "model2 = LGBMRegressor()\n",
        "model1.fit(X_train, y_train)\n",
        "model2.fit(X_train, y_train)\n",
        "\n",
        "# Predict and evaluate the classifier\n",
        "predictions1 = model1.predict(X_test)\n",
        "predictions2 = model2.predict(X_test)\n",
        "\n",
        "print(\"MAE classifier:\", mean_absolute_error(y_test, predictions1))\n",
        "print(\"MSE classifier:\", mean_squared_error(y_test, predictions1))\n",
        "\n",
        "print(classification_report(y_test, predictions1))\n",
        "print(confusion_matrix(y_test, predictions1))\n",
        "\n",
        "print(\"MAE regressor:\", mean_absolute_error(y_test, predictions2))\n",
        "print(\"MSE regressor:\", mean_squared_error(y_test, predictions2))"
      ]
    },
    {
      "cell_type": "code",
      "execution_count": 65,
      "metadata": {},
      "outputs": [
        {
          "data": {
            "text/plain": [
              "Counter({1: 781, -1: 219})"
            ]
          },
          "execution_count": 65,
          "metadata": {},
          "output_type": "execute_result"
        }
      ],
      "source": [
        "Counter(y_test)"
      ]
    },
    {
      "cell_type": "code",
      "execution_count": null,
      "metadata": {},
      "outputs": [],
      "source": [
        "np.random.randint(-1,2)"
      ]
    },
    {
      "cell_type": "markdown",
      "metadata": {
        "id": "MfmuASW9qW-T"
      },
      "source": [
        "Results are better than the rule based sentiment analysis. Note that, we did not use the entire dataset, more data will improve the performance of the ML classifiers. Aslo note that this is a simple TFIDF+ML implementation, there is room for improvement. Another thing to note is that modeling the problem as a classification problem (as opposed to a regression problem) gave better results in terms of MAE but worse results in terms of MSE. This is reasonable since for the classifier predicting a wrong class amounts to the same error regardless of the actaul value, so the classifier optimizes for predicting the correct class rather than predicting a class which is numerically closer. On the other hand the regressor tries to minimize the distance between the actual value and the prediction. Hence we get lower MAE but higher MSE using a classifier."
      ]
    },
    {
      "cell_type": "markdown",
      "metadata": {},
      "source": [
        "### Word Embeddings"
      ]
    },
    {
      "cell_type": "code",
      "execution_count": 66,
      "metadata": {},
      "outputs": [],
      "source": [
        "from gensim.models import Word2Vec\n",
        "from gensim.models.word2vec import LineSentence\n",
        "from sklearn.metrics.pairwise import cosine_similarity\n",
        "import gensim.downloader\n",
        "from nltk.tokenize import RegexpTokenizer\n"
      ]
    },
    {
      "cell_type": "code",
      "execution_count": 67,
      "metadata": {},
      "outputs": [],
      "source": [
        "embeddings = gensim.downloader.load('glove-twitter-25')"
      ]
    },
    {
      "cell_type": "code",
      "execution_count": 68,
      "metadata": {},
      "outputs": [],
      "source": [
        "import re\n",
        "\n",
        "def simple_preprocess(text):\n",
        "    text = text.lower()  # convert text to lower-case\n",
        "    text = re.sub(r\"@\\w+\", \"\", text)  # remove mentions\n",
        "    text = re.sub(r\"http\\S+\", \"\", text)  # remove URLs\n",
        "    text = re.sub(r\"[^a-zA-Z\\s]\", \"\", text, re.I|re.A)  # remove non-letters\n",
        "    text = re.sub(r\"\\s+\", \" \", text).strip()  # remove excess whitespace\n",
        "    return text"
      ]
    },
    {
      "cell_type": "code",
      "execution_count": 69,
      "metadata": {},
      "outputs": [],
      "source": [
        "def text_to_vector(text, embeddings):\n",
        "    tokenizer = RegexpTokenizer(r'\\w+')\n",
        "\n",
        "    tokens = simple_preprocess(text)\n",
        "    \n",
        "    vectors = []\n",
        "    \n",
        "    for token in tokenizer.tokenize(tokens):\n",
        "        # Check if the token is in the embeddings vocabulary\n",
        "        if token in embeddings:\n",
        "            vectors.append(embeddings[token])\n",
        "    \n",
        "    # If we found any vectors, calculate the mean, otherwise return a zero vector\n",
        "    if vectors:\n",
        "        return np.mean(vectors, axis=0)\n",
        "    else:\n",
        "        return np.zeros(embeddings.vector_size)  \n",
        "\n"
      ]
    },
    {
      "cell_type": "code",
      "execution_count": 70,
      "metadata": {},
      "outputs": [],
      "source": [
        "# Convert texts to vectors\n",
        "vectorized_texts = df_small['Text'].apply(lambda x: text_to_vector(x, embeddings))\n",
        "\n",
        "# Convert to numpy array\n",
        "X = np.array(vectorized_texts.tolist())\n",
        "y = df_small['Score'].values\n"
      ]
    },
    {
      "cell_type": "code",
      "execution_count": 71,
      "metadata": {},
      "outputs": [
        {
          "name": "stdout",
          "output_type": "stream",
          "text": [
            "(10000, 25)\n"
          ]
        },
        {
          "data": {
            "text/plain": [
              "array([[-0.32177737,  0.11186924,  0.2944345 , ...,  0.00684596,\n",
              "        -0.04885194, -0.21955979],\n",
              "       [-0.17622216,  0.19141142,  0.14154655, ..., -0.0460256 ,\n",
              "         0.04607968, -0.16541734],\n",
              "       [-0.11229096,  0.1757816 , -0.03603461, ...,  0.06178362,\n",
              "        -0.03969003, -0.25814965],\n",
              "       ...,\n",
              "       [-0.34509858,  0.06551484,  0.25724173, ...,  0.08161405,\n",
              "         0.07249137, -0.23463704],\n",
              "       [-0.31269816,  0.18445353,  0.04932653, ..., -0.1560497 ,\n",
              "         0.00046292, -0.1122091 ],\n",
              "       [-0.11224597,  0.21784422,  0.2580789 , ...,  0.07429439,\n",
              "         0.05488412, -0.10959364]], dtype=float32)"
            ]
          },
          "execution_count": 71,
          "metadata": {},
          "output_type": "execute_result"
        }
      ],
      "source": [
        "print(X.shape)\n",
        "X"
      ]
    },
    {
      "cell_type": "code",
      "execution_count": 72,
      "metadata": {},
      "outputs": [
        {
          "name": "stdout",
          "output_type": "stream",
          "text": [
            "[LightGBM] [Info] Number of positive: 7037, number of negative: 1963\n",
            "[LightGBM] [Info] Auto-choosing row-wise multi-threading, the overhead of testing was 0.000768 seconds.\n",
            "You can set `force_row_wise=true` to remove the overhead.\n",
            "And if memory is not enough, you can set `force_col_wise=true`.\n",
            "[LightGBM] [Info] Total Bins 6375\n",
            "[LightGBM] [Info] Number of data points in the train set: 9000, number of used features: 25\n",
            "[LightGBM] [Info] [binary:BoostFromScore]: pavg=0.781889 -> initscore=1.276708\n",
            "[LightGBM] [Info] Start training from score 1.276708\n",
            "[LightGBM] [Info] Auto-choosing col-wise multi-threading, the overhead of testing was 0.002720 seconds.\n",
            "You can set `force_col_wise=true` to remove the overhead.\n",
            "[LightGBM] [Info] Total Bins 6375\n",
            "[LightGBM] [Info] Number of data points in the train set: 9000, number of used features: 25\n",
            "[LightGBM] [Info] Start training from score 0.563778\n",
            "MAE classifier: 0.432\n",
            "MSE classifier: 0.864\n",
            "              precision    recall  f1-score   support\n",
            "\n",
            "          -1       0.63      0.31      0.41       248\n",
            "           1       0.80      0.94      0.87       752\n",
            "\n",
            "    accuracy                           0.78      1000\n",
            "   macro avg       0.72      0.62      0.64      1000\n",
            "weighted avg       0.76      0.78      0.75      1000\n",
            "\n",
            "[[ 76 172]\n",
            " [ 44 708]]\n",
            "MAE regressor: 0.5880499765226127\n",
            "MSE regressor: 0.6081255994514561\n"
          ]
        }
      ],
      "source": [
        "# Split data\n",
        "X_train, X_test, y_train, y_test = train_test_split(X, y, test_size=0.1)\n",
        "\n",
        "model1 = LGBMClassifier()\n",
        "model2 = LGBMRegressor()\n",
        "model1.fit(X_train, y_train)\n",
        "model2.fit(X_train, y_train)\n",
        "\n",
        "# Predict and evaluate the classifier\n",
        "predictions1 = model1.predict(X_test)\n",
        "predictions2 = model2.predict(X_test)\n",
        "\n",
        "print(\"MAE classifier:\", mean_absolute_error(y_test, predictions1))\n",
        "print(\"MSE classifier:\", mean_squared_error(y_test, predictions1))\n",
        "\n",
        "print(classification_report(y_test, predictions1))\n",
        "print(confusion_matrix(y_test, predictions1))\n",
        "\n",
        "print(\"MAE regressor:\", mean_absolute_error(y_test, predictions2))\n",
        "print(\"MSE regressor:\", mean_squared_error(y_test, predictions2))\n"
      ]
    },
    {
      "cell_type": "markdown",
      "metadata": {},
      "source": [
        "### Doc2Vec\n"
      ]
    },
    {
      "cell_type": "code",
      "execution_count": 89,
      "metadata": {},
      "outputs": [],
      "source": [
        "texts = df_small['Text'].tolist()\n",
        "tokenized_texts = [word_tokenize(text.lower()) for text in texts]"
      ]
    },
    {
      "cell_type": "code",
      "execution_count": 90,
      "metadata": {},
      "outputs": [],
      "source": [
        "from gensim.models.doc2vec import Doc2Vec, TaggedDocument"
      ]
    },
    {
      "cell_type": "code",
      "execution_count": 91,
      "metadata": {},
      "outputs": [],
      "source": [
        "documents = [TaggedDocument(doc, [i]) for i, doc in enumerate(tokenized_texts)]"
      ]
    },
    {
      "cell_type": "code",
      "execution_count": 92,
      "metadata": {},
      "outputs": [
        {
          "data": {
            "text/plain": [
              "[TaggedDocument(words=['i', 'use', 'the', 'torani', 'syrup', 'to', 'flavor', 'my', 'morning', 'oatmeal', '.', 'i', 'had', 'been', 'using', 'carmrl', 'and', 'chocolate', 'flavors', ',', 'but', 'wanted', 'to', 'try', 'a', 'different', 'flavor', '.', 'the', 'brown', 'sugar', 'cinnamon', 'is', 'pretty', 'good', '-', 'but', 'not', 'my', 'favorite', '(', 'i', 'like', 'the', 'chocolate', 'the', 'best', ')', '.', 'i', 'was', 'surprised', 'that', 'these', 'bottles', 'were', 'quite', 'a', 'bit', 'larger', 'than', 'the', '750', 'ml', 'bottles', 'i', 'had', 'been', 'getting', '.', 'hence', 'the', 'reason', 'for', 'the', 'slightly', 'greater', 'price', '.'], tags=[0]),\n",
              " TaggedDocument(words=['i', \"'m\", 'gluten', 'free', 'and', 'on', 'the', 'go', '.', 'grabbing', 'this', 'on', 'my', 'way', 'in', 'or', 'out', 'is', 'a', 'quick', 'and', 'easy', 'way', 'to', 'ease', 'hunger', 'or', 'cravings', '.', 'and', 'it', 'is', 'so', 'good', 'for', 'you', ',', 'too', '!'], tags=[1]),\n",
              " TaggedDocument(words=['he', 'will', 'not', 'even', 'touch', 'it', 'and', 'he', 'will', 'eat', 'everything', '.', 'i', 'am', 'very', 'disappointed', '.', 'i', 'bought', 'several', 'nylabone', 'products', 'for', 'my', 'dog', 'and', 'he', 'does', 'not', 'like', 'any', 'of', 'them', '.'], tags=[2]),\n",
              " TaggedDocument(words=['this', 'belgian', 'treat', 'is', 'far', 'superior', 'to', 'the', 'sickly', 'sweet', ',', 'cream', 'filled', ',', 'choco-cherries', 'found', 'here.it', 'is', 'a', 'bit', 'pricey', '...', 'a', 'specialty', 'to', 'be', 'savored', '...', 'adults', 'only', '.'], tags=[3]),\n",
              " TaggedDocument(words=['was', 'my', 'first', 'time', 'purchasing', 'this', 'rice', '.', 'i', 'thought', 'the', 'jars', 'would', 'be', 'bigger', 'but', 'then', 'again', 'i', \"'m\", 'used', 'to', 'shopping', 'at', 'those', 'big', 'club', 'stores', '.', 'lol', '.', 'i', 'made', 'some', 'mexican', 'rice', 'pudding', 'with', 'this', 'rice', 'and', 'it', 'came', 'out', 'so', 'smooth', 'and', 'creamy', '.', 'just', 'excellent', '.', 'i', 'was', 'overall', 'satisfied', 'with', 'my', 'purchase', '.', 'was', 'delivered', 'quickly', '.'], tags=[4])]"
            ]
          },
          "execution_count": 92,
          "metadata": {},
          "output_type": "execute_result"
        }
      ],
      "source": [
        "documents[:5]"
      ]
    },
    {
      "cell_type": "code",
      "execution_count": 99,
      "metadata": {},
      "outputs": [],
      "source": [
        "model = Doc2Vec(documents, epochs=30)"
      ]
    },
    {
      "cell_type": "code",
      "execution_count": 102,
      "metadata": {},
      "outputs": [],
      "source": [
        "# Convert texts to vectors\n",
        "vectorized_texts = df_small['Text'].apply(lambda x: model.infer_vector(word_tokenize(x.lower())))\n",
        "\n",
        "# Convert to numpy array\n",
        "X = np.array(vectorized_texts.tolist())\n",
        "y = df_small['Score'].values"
      ]
    },
    {
      "cell_type": "code",
      "execution_count": 103,
      "metadata": {},
      "outputs": [
        {
          "data": {
            "text/plain": [
              "array([[-0.52801806,  0.24901031,  0.13722797, ..., -0.13942836,\n",
              "        -1.3981177 , -0.61421883],\n",
              "       [-0.48453715,  0.3218715 ,  0.31841215, ..., -0.66468513,\n",
              "         0.570333  , -0.6065332 ],\n",
              "       [ 0.28460848, -0.41195086, -0.07580801, ..., -0.6867216 ,\n",
              "        -0.32974234, -0.2326336 ],\n",
              "       ...,\n",
              "       [-0.10609289, -0.15791713, -0.3050419 , ..., -0.46781924,\n",
              "        -0.05644299, -0.11112674],\n",
              "       [ 0.57516176, -0.00166643, -0.00891723, ..., -0.23172179,\n",
              "        -0.3661845 ,  0.5193122 ],\n",
              "       [ 0.275127  , -0.24533929, -0.01040907, ..., -0.25439987,\n",
              "        -0.18783328, -0.21604383]], dtype=float32)"
            ]
          },
          "execution_count": 103,
          "metadata": {},
          "output_type": "execute_result"
        }
      ],
      "source": [
        "X"
      ]
    },
    {
      "cell_type": "code",
      "execution_count": 104,
      "metadata": {},
      "outputs": [
        {
          "name": "stdout",
          "output_type": "stream",
          "text": [
            "[LightGBM] [Info] Number of positive: 7040, number of negative: 1960\n",
            "[LightGBM] [Info] Auto-choosing col-wise multi-threading, the overhead of testing was 0.008644 seconds.\n",
            "You can set `force_col_wise=true` to remove the overhead.\n",
            "[LightGBM] [Info] Total Bins 25500\n",
            "[LightGBM] [Info] Number of data points in the train set: 9000, number of used features: 100\n",
            "[LightGBM] [Info] [binary:BoostFromScore]: pavg=0.782222 -> initscore=1.278664\n",
            "[LightGBM] [Info] Start training from score 1.278664\n",
            "[LightGBM] [Info] Auto-choosing col-wise multi-threading, the overhead of testing was 0.006472 seconds.\n",
            "You can set `force_col_wise=true` to remove the overhead.\n",
            "[LightGBM] [Info] Total Bins 25500\n",
            "[LightGBM] [Info] Number of data points in the train set: 9000, number of used features: 100\n",
            "[LightGBM] [Info] Start training from score 0.782222\n",
            "MAE classifier: 0.191\n",
            "MSE classifier: 0.191\n",
            "              precision    recall  f1-score   support\n",
            "\n",
            "           0       0.74      0.29      0.41       235\n",
            "           1       0.82      0.97      0.89       765\n",
            "\n",
            "    accuracy                           0.81      1000\n",
            "   macro avg       0.78      0.63      0.65      1000\n",
            "weighted avg       0.80      0.81      0.77      1000\n",
            "\n",
            "[[ 67 168]\n",
            " [ 23 742]]\n",
            "MAE regressor: 0.2785089503731237\n",
            "MSE regressor: 0.1383997835699766\n"
          ]
        }
      ],
      "source": [
        "# Split data\n",
        "X_train, X_test, y_train, y_test = train_test_split(X, y, test_size=0.1)\n",
        "\n",
        "model1 = LGBMClassifier()\n",
        "model2 = LGBMRegressor()\n",
        "model1.fit(X_train, y_train)\n",
        "model2.fit(X_train, y_train)\n",
        "\n",
        "# Predict and evaluate the classifier\n",
        "predictions1 = model1.predict(X_test)\n",
        "predictions2 = model2.predict(X_test)\n",
        "\n",
        "print(\"MAE classifier:\", mean_absolute_error(y_test, predictions1))\n",
        "print(\"MSE classifier:\", mean_squared_error(y_test, predictions1))\n",
        "\n",
        "print(classification_report(y_test, predictions1))\n",
        "print(confusion_matrix(y_test, predictions1))\n",
        "\n",
        "print(\"MAE regressor:\", mean_absolute_error(y_test, predictions2))\n",
        "print(\"MSE regressor:\", mean_squared_error(y_test, predictions2))"
      ]
    },
    {
      "cell_type": "code",
      "execution_count": null,
      "metadata": {},
      "outputs": [],
      "source": []
    }
  ],
  "metadata": {
    "colab": {
      "provenance": []
    },
    "kernelspec": {
      "display_name": "sklearn-env",
      "language": "python",
      "name": "python3"
    },
    "language_info": {
      "codemirror_mode": {
        "name": "ipython",
        "version": 3
      },
      "file_extension": ".py",
      "mimetype": "text/x-python",
      "name": "python",
      "nbconvert_exporter": "python",
      "pygments_lexer": "ipython3",
      "version": "3.11.5"
    },
    "widgets": {
      "application/vnd.jupyter.widget-state+json": {
        "0d360cd7f707440a8b90f064296f81f8": {
          "model_module": "@jupyter-widgets/base",
          "model_module_version": "1.2.0",
          "model_name": "LayoutModel",
          "state": {
            "_model_module": "@jupyter-widgets/base",
            "_model_module_version": "1.2.0",
            "_model_name": "LayoutModel",
            "_view_count": null,
            "_view_module": "@jupyter-widgets/base",
            "_view_module_version": "1.2.0",
            "_view_name": "LayoutView",
            "align_content": null,
            "align_items": null,
            "align_self": null,
            "border": null,
            "bottom": null,
            "display": null,
            "flex": null,
            "flex_flow": null,
            "grid_area": null,
            "grid_auto_columns": null,
            "grid_auto_flow": null,
            "grid_auto_rows": null,
            "grid_column": null,
            "grid_gap": null,
            "grid_row": null,
            "grid_template_areas": null,
            "grid_template_columns": null,
            "grid_template_rows": null,
            "height": null,
            "justify_content": null,
            "justify_items": null,
            "left": null,
            "margin": null,
            "max_height": null,
            "max_width": null,
            "min_height": null,
            "min_width": null,
            "object_fit": null,
            "object_position": null,
            "order": null,
            "overflow": null,
            "overflow_x": null,
            "overflow_y": null,
            "padding": null,
            "right": null,
            "top": null,
            "visibility": null,
            "width": null
          }
        },
        "47054ca3684145829228033c9856c534": {
          "model_module": "@jupyter-widgets/controls",
          "model_module_version": "1.5.0",
          "model_name": "DescriptionStyleModel",
          "state": {
            "_model_module": "@jupyter-widgets/controls",
            "_model_module_version": "1.5.0",
            "_model_name": "DescriptionStyleModel",
            "_view_count": null,
            "_view_module": "@jupyter-widgets/base",
            "_view_module_version": "1.2.0",
            "_view_name": "StyleView",
            "description_width": ""
          }
        },
        "53f944204e1547e6841b1576c07c0c5b": {
          "model_module": "@jupyter-widgets/base",
          "model_module_version": "1.2.0",
          "model_name": "LayoutModel",
          "state": {
            "_model_module": "@jupyter-widgets/base",
            "_model_module_version": "1.2.0",
            "_model_name": "LayoutModel",
            "_view_count": null,
            "_view_module": "@jupyter-widgets/base",
            "_view_module_version": "1.2.0",
            "_view_name": "LayoutView",
            "align_content": null,
            "align_items": null,
            "align_self": null,
            "border": null,
            "bottom": null,
            "display": null,
            "flex": null,
            "flex_flow": null,
            "grid_area": null,
            "grid_auto_columns": null,
            "grid_auto_flow": null,
            "grid_auto_rows": null,
            "grid_column": null,
            "grid_gap": null,
            "grid_row": null,
            "grid_template_areas": null,
            "grid_template_columns": null,
            "grid_template_rows": null,
            "height": null,
            "justify_content": null,
            "justify_items": null,
            "left": null,
            "margin": null,
            "max_height": null,
            "max_width": null,
            "min_height": null,
            "min_width": null,
            "object_fit": null,
            "object_position": null,
            "order": null,
            "overflow": null,
            "overflow_x": null,
            "overflow_y": null,
            "padding": null,
            "right": null,
            "top": null,
            "visibility": null,
            "width": null
          }
        },
        "84dc23fd76724f77a1b9a904c920ad99": {
          "model_module": "@jupyter-widgets/controls",
          "model_module_version": "1.5.0",
          "model_name": "DescriptionStyleModel",
          "state": {
            "_model_module": "@jupyter-widgets/controls",
            "_model_module_version": "1.5.0",
            "_model_name": "DescriptionStyleModel",
            "_view_count": null,
            "_view_module": "@jupyter-widgets/base",
            "_view_module_version": "1.2.0",
            "_view_name": "StyleView",
            "description_width": ""
          }
        },
        "86591bb6810c4517b0ed192a57e85ac2": {
          "model_module": "@jupyter-widgets/base",
          "model_module_version": "1.2.0",
          "model_name": "LayoutModel",
          "state": {
            "_model_module": "@jupyter-widgets/base",
            "_model_module_version": "1.2.0",
            "_model_name": "LayoutModel",
            "_view_count": null,
            "_view_module": "@jupyter-widgets/base",
            "_view_module_version": "1.2.0",
            "_view_name": "LayoutView",
            "align_content": null,
            "align_items": null,
            "align_self": null,
            "border": null,
            "bottom": null,
            "display": null,
            "flex": null,
            "flex_flow": null,
            "grid_area": null,
            "grid_auto_columns": null,
            "grid_auto_flow": null,
            "grid_auto_rows": null,
            "grid_column": null,
            "grid_gap": null,
            "grid_row": null,
            "grid_template_areas": null,
            "grid_template_columns": null,
            "grid_template_rows": null,
            "height": null,
            "justify_content": null,
            "justify_items": null,
            "left": null,
            "margin": null,
            "max_height": null,
            "max_width": null,
            "min_height": null,
            "min_width": null,
            "object_fit": null,
            "object_position": null,
            "order": null,
            "overflow": null,
            "overflow_x": null,
            "overflow_y": null,
            "padding": null,
            "right": null,
            "top": null,
            "visibility": null,
            "width": null
          }
        },
        "ba714c7fd3614ceda424063a83d14e25": {
          "model_module": "@jupyter-widgets/controls",
          "model_module_version": "1.5.0",
          "model_name": "HBoxModel",
          "state": {
            "_dom_classes": [],
            "_model_module": "@jupyter-widgets/controls",
            "_model_module_version": "1.5.0",
            "_model_name": "HBoxModel",
            "_view_count": null,
            "_view_module": "@jupyter-widgets/controls",
            "_view_module_version": "1.5.0",
            "_view_name": "HBoxView",
            "box_style": "",
            "children": [
              "IPY_MODEL_bbd15b425f394f1b8d312b59130e2d33",
              "IPY_MODEL_efa12eeb325846b481b742f8e28599b9",
              "IPY_MODEL_fa634b229a90448f86f722d7d9751b3b"
            ],
            "layout": "IPY_MODEL_f3d16c2b035848eb90f28a54f9d6835c"
          }
        },
        "bbd15b425f394f1b8d312b59130e2d33": {
          "model_module": "@jupyter-widgets/controls",
          "model_module_version": "1.5.0",
          "model_name": "HTMLModel",
          "state": {
            "_dom_classes": [],
            "_model_module": "@jupyter-widgets/controls",
            "_model_module_version": "1.5.0",
            "_model_name": "HTMLModel",
            "_view_count": null,
            "_view_module": "@jupyter-widgets/controls",
            "_view_module_version": "1.5.0",
            "_view_name": "HTMLView",
            "description": "",
            "description_tooltip": null,
            "layout": "IPY_MODEL_53f944204e1547e6841b1576c07c0c5b",
            "placeholder": "​",
            "style": "IPY_MODEL_84dc23fd76724f77a1b9a904c920ad99",
            "value": "100%"
          }
        },
        "efa12eeb325846b481b742f8e28599b9": {
          "model_module": "@jupyter-widgets/controls",
          "model_module_version": "1.5.0",
          "model_name": "FloatProgressModel",
          "state": {
            "_dom_classes": [],
            "_model_module": "@jupyter-widgets/controls",
            "_model_module_version": "1.5.0",
            "_model_name": "FloatProgressModel",
            "_view_count": null,
            "_view_module": "@jupyter-widgets/controls",
            "_view_module_version": "1.5.0",
            "_view_name": "ProgressView",
            "bar_style": "success",
            "description": "",
            "description_tooltip": null,
            "layout": "IPY_MODEL_86591bb6810c4517b0ed192a57e85ac2",
            "max": 50000,
            "min": 0,
            "orientation": "horizontal",
            "style": "IPY_MODEL_f08ef86303064603a1f10ad5be45a4a9",
            "value": 50000
          }
        },
        "f08ef86303064603a1f10ad5be45a4a9": {
          "model_module": "@jupyter-widgets/controls",
          "model_module_version": "1.5.0",
          "model_name": "ProgressStyleModel",
          "state": {
            "_model_module": "@jupyter-widgets/controls",
            "_model_module_version": "1.5.0",
            "_model_name": "ProgressStyleModel",
            "_view_count": null,
            "_view_module": "@jupyter-widgets/base",
            "_view_module_version": "1.2.0",
            "_view_name": "StyleView",
            "bar_color": null,
            "description_width": ""
          }
        },
        "f3d16c2b035848eb90f28a54f9d6835c": {
          "model_module": "@jupyter-widgets/base",
          "model_module_version": "1.2.0",
          "model_name": "LayoutModel",
          "state": {
            "_model_module": "@jupyter-widgets/base",
            "_model_module_version": "1.2.0",
            "_model_name": "LayoutModel",
            "_view_count": null,
            "_view_module": "@jupyter-widgets/base",
            "_view_module_version": "1.2.0",
            "_view_name": "LayoutView",
            "align_content": null,
            "align_items": null,
            "align_self": null,
            "border": null,
            "bottom": null,
            "display": null,
            "flex": null,
            "flex_flow": null,
            "grid_area": null,
            "grid_auto_columns": null,
            "grid_auto_flow": null,
            "grid_auto_rows": null,
            "grid_column": null,
            "grid_gap": null,
            "grid_row": null,
            "grid_template_areas": null,
            "grid_template_columns": null,
            "grid_template_rows": null,
            "height": null,
            "justify_content": null,
            "justify_items": null,
            "left": null,
            "margin": null,
            "max_height": null,
            "max_width": null,
            "min_height": null,
            "min_width": null,
            "object_fit": null,
            "object_position": null,
            "order": null,
            "overflow": null,
            "overflow_x": null,
            "overflow_y": null,
            "padding": null,
            "right": null,
            "top": null,
            "visibility": null,
            "width": null
          }
        },
        "fa634b229a90448f86f722d7d9751b3b": {
          "model_module": "@jupyter-widgets/controls",
          "model_module_version": "1.5.0",
          "model_name": "HTMLModel",
          "state": {
            "_dom_classes": [],
            "_model_module": "@jupyter-widgets/controls",
            "_model_module_version": "1.5.0",
            "_model_name": "HTMLModel",
            "_view_count": null,
            "_view_module": "@jupyter-widgets/controls",
            "_view_module_version": "1.5.0",
            "_view_name": "HTMLView",
            "description": "",
            "description_tooltip": null,
            "layout": "IPY_MODEL_0d360cd7f707440a8b90f064296f81f8",
            "placeholder": "​",
            "style": "IPY_MODEL_47054ca3684145829228033c9856c534",
            "value": " 50000/50000 [01:03&lt;00:00, 957.19it/s]"
          }
        }
      }
    }
  },
  "nbformat": 4,
  "nbformat_minor": 0
}
