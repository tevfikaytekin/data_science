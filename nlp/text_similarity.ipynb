{
 "cells": [
  {
   "cell_type": "markdown",
   "metadata": {},
   "source": [
    "# Text Similarity\n",
    "(by Tevfik Aytekin)"
   ]
  },
  {
   "cell_type": "code",
   "execution_count": 140,
   "metadata": {},
   "outputs": [],
   "source": [
    "from nltk.corpus import wordnet as wn\n",
    "import nltk\n",
    "from nltk.corpus import gutenberg, brown\n",
    "import numpy as np\n",
    "from scipy.sparse import csr_matrix\n",
    "from nltk.tokenize import RegexpTokenizer\n",
    "import pandas as pd\n",
    "from nltk.tokenize import sent_tokenize, word_tokenize \n",
    "from sklearn.feature_extraction.text import CountVectorizer"
   ]
  },
  {
   "cell_type": "markdown",
   "metadata": {},
   "source": [
    "# WordNet"
   ]
  },
  {
   "cell_type": "markdown",
   "metadata": {},
   "source": [
    "### Lexical Matrix\n",
    "table taken from [https://wordnetcode.princeton.edu/5papers.pdf](https://wordnetcode.princeton.edu/5papers.pdf)\n",
    "\n",
    "<img src=\"./images/lexical_matrix.png\" style=\"width: 400px;\"/>\n",
    "\n",
    "\n",
    "The word meaning $M_1$ in above table can be represented by the set of word forms that can be used to express it: {F1, F2, . . . }. These sets are called synonym sets (or simply synsets)."
   ]
  },
  {
   "cell_type": "markdown",
   "metadata": {},
   "source": [
    "### WordNet Hierarchy\n",
    "Below is a simplified illustration of the hierarchy of wordnet.\n",
    "\n",
    "<img src=\"./images/wordnet_hierarchy.png\" style=\"width: 400px;\"/>\n"
   ]
  },
  {
   "cell_type": "markdown",
   "metadata": {},
   "source": [
    "### A word is a set of meanings\n",
    "wn.synsets('word') gives these meanings."
   ]
  },
  {
   "cell_type": "code",
   "execution_count": 141,
   "metadata": {},
   "outputs": [
    {
     "data": {
      "text/plain": [
       "[Synset('car.n.01'),\n",
       " Synset('car.n.02'),\n",
       " Synset('car.n.03'),\n",
       " Synset('car.n.04'),\n",
       " Synset('cable_car.n.01')]"
      ]
     },
     "execution_count": 141,
     "metadata": {},
     "output_type": "execute_result"
    }
   ],
   "source": [
    "wn.synsets(\"car\")"
   ]
  },
  {
   "cell_type": "markdown",
   "metadata": {},
   "source": [
    "### Synsets"
   ]
  },
  {
   "cell_type": "markdown",
   "metadata": {},
   "source": [
    "A synset is a set of synonyms (word forms). Each synset corresponds to a concept/meaning. The nodes in the WordNet hierarchy corresponds to synsets. A synset is identified with a 3-part name of the form: word.pos.nn. For example, 'car.n.01' means the first meaning of 'car' used as a noun."
   ]
  },
  {
   "cell_type": "code",
   "execution_count": 142,
   "metadata": {},
   "outputs": [
    {
     "name": "stdout",
     "output_type": "stream",
     "text": [
      "a motor vehicle with four wheels; usually propelled by an internal combustion engine\n"
     ]
    }
   ],
   "source": [
    "print(wn.synset('car.n.01').definition())"
   ]
  },
  {
   "cell_type": "markdown",
   "metadata": {},
   "source": [
    "Lemmas correspond to word forms."
   ]
  },
  {
   "cell_type": "code",
   "execution_count": 143,
   "metadata": {},
   "outputs": [
    {
     "data": {
      "text/plain": [
       "['car', 'auto', 'automobile', 'machine', 'motorcar']"
      ]
     },
     "execution_count": 143,
     "metadata": {},
     "output_type": "execute_result"
    }
   ],
   "source": [
    "wn.synset('car.n.01').lemma_names()"
   ]
  },
  {
   "cell_type": "code",
   "execution_count": 144,
   "metadata": {},
   "outputs": [
    {
     "data": {
      "text/plain": [
       "[Lemma('car.n.01.car'),\n",
       " Lemma('car.n.01.auto'),\n",
       " Lemma('car.n.01.automobile'),\n",
       " Lemma('car.n.01.machine'),\n",
       " Lemma('car.n.01.motorcar')]"
      ]
     },
     "execution_count": 144,
     "metadata": {},
     "output_type": "execute_result"
    }
   ],
   "source": [
    "wn.synset('car.n.01').lemmas()"
   ]
  },
  {
   "cell_type": "code",
   "execution_count": 145,
   "metadata": {},
   "outputs": [
    {
     "data": {
      "text/plain": [
       "['car', 'railcar', 'railway_car', 'railroad_car']"
      ]
     },
     "execution_count": 145,
     "metadata": {},
     "output_type": "execute_result"
    }
   ],
   "source": [
    "wn.synset('car.n.02').lemma_names()"
   ]
  },
  {
   "cell_type": "markdown",
   "metadata": {},
   "source": [
    "Hypernyms anf hyponyms\n",
    "\n",
    "In linguistics, hyponymy means a subtype and a hypernym means a supertype"
   ]
  },
  {
   "cell_type": "code",
   "execution_count": 146,
   "metadata": {},
   "outputs": [
    {
     "data": {
      "text/plain": [
       "[Synset('motor_vehicle.n.01')]"
      ]
     },
     "execution_count": 146,
     "metadata": {},
     "output_type": "execute_result"
    }
   ],
   "source": [
    "wn.synset('car.n.01').hypernyms()"
   ]
  },
  {
   "cell_type": "code",
   "execution_count": 147,
   "metadata": {},
   "outputs": [
    {
     "data": {
      "text/plain": [
       "[Synset('ambulance.n.01'),\n",
       " Synset('beach_wagon.n.01'),\n",
       " Synset('bus.n.04'),\n",
       " Synset('cab.n.03'),\n",
       " Synset('compact.n.03'),\n",
       " Synset('convertible.n.01'),\n",
       " Synset('coupe.n.01'),\n",
       " Synset('cruiser.n.01'),\n",
       " Synset('electric.n.01'),\n",
       " Synset('gas_guzzler.n.01'),\n",
       " Synset('hardtop.n.01'),\n",
       " Synset('hatchback.n.01'),\n",
       " Synset('horseless_carriage.n.01'),\n",
       " Synset('hot_rod.n.01'),\n",
       " Synset('jeep.n.01'),\n",
       " Synset('limousine.n.01'),\n",
       " Synset('loaner.n.02'),\n",
       " Synset('minicar.n.01'),\n",
       " Synset('minivan.n.01'),\n",
       " Synset('model_t.n.01'),\n",
       " Synset('pace_car.n.01'),\n",
       " Synset('racer.n.02'),\n",
       " Synset('roadster.n.01'),\n",
       " Synset('sedan.n.01'),\n",
       " Synset('sport_utility.n.01'),\n",
       " Synset('sports_car.n.01'),\n",
       " Synset('stanley_steamer.n.01'),\n",
       " Synset('stock_car.n.01'),\n",
       " Synset('subcompact.n.01'),\n",
       " Synset('touring_car.n.01'),\n",
       " Synset('used-car.n.01')]"
      ]
     },
     "execution_count": 147,
     "metadata": {},
     "output_type": "execute_result"
    }
   ],
   "source": [
    "wn.synset('car.n.01').hyponyms()"
   ]
  },
  {
   "cell_type": "code",
   "execution_count": 148,
   "metadata": {},
   "outputs": [
    {
     "data": {
      "text/plain": [
       "[Synset('entity.n.01')]"
      ]
     },
     "execution_count": 148,
     "metadata": {},
     "output_type": "execute_result"
    }
   ],
   "source": [
    "wn.synset('car.n.01').root_hypernyms()"
   ]
  },
  {
   "cell_type": "markdown",
   "metadata": {},
   "source": [
    "## Synonymy"
   ]
  },
  {
   "cell_type": "markdown",
   "metadata": {},
   "source": [
    "### Path Similarity\n",
    "path_similarity assigns a score in the range 0–1 based on the shortest path that connects the concepts in the hypernym hierarchy (-1 is returned in those cases where a path cannot be found)"
   ]
  },
  {
   "cell_type": "code",
   "execution_count": 149,
   "metadata": {},
   "outputs": [],
   "source": [
    "right = wn.synset('right_whale.n.01')\n",
    "orca = wn.synset('orca.n.01')\n",
    "minke = wn.synset('minke_whale.n.01')\n",
    "tortoise = wn.synset('tortoise.n.01')\n",
    "novel = wn.synset('novel.n.01')"
   ]
  },
  {
   "cell_type": "code",
   "execution_count": 150,
   "metadata": {},
   "outputs": [
    {
     "name": "stdout",
     "output_type": "stream",
     "text": [
      "0.25\n",
      "0.16666666666666666\n",
      "0.07692307692307693\n",
      "0.043478260869565216\n"
     ]
    }
   ],
   "source": [
    "print(right.path_similarity(minke))\n",
    "print(right.path_similarity(orca))\n",
    "print(right.path_similarity(tortoise))\n",
    "print(right.path_similarity(novel))\n"
   ]
  },
  {
   "cell_type": "markdown",
   "metadata": {},
   "source": [
    "<img src=\"images/wordnet_hierarchy.png\" style=\"width: 400px;\"/>"
   ]
  },
  {
   "cell_type": "code",
   "execution_count": 151,
   "metadata": {},
   "outputs": [
    {
     "name": "stdout",
     "output_type": "stream",
     "text": [
      "0.5\n"
     ]
    }
   ],
   "source": [
    "motorcar = wn.synset('car.n.01')\n",
    "compact = wn.synset('compact.n.03')\n",
    "hatchback = wn.synset('hatchback.n.01')\n",
    "print(motorcar.path_similarity(compact))"
   ]
  },
  {
   "cell_type": "code",
   "execution_count": 152,
   "metadata": {},
   "outputs": [
    {
     "name": "stdout",
     "output_type": "stream",
     "text": [
      "0.3333333333333333\n"
     ]
    }
   ],
   "source": [
    "print(hatchback.path_similarity(compact))"
   ]
  },
  {
   "cell_type": "code",
   "execution_count": 153,
   "metadata": {},
   "outputs": [
    {
     "name": "stdout",
     "output_type": "stream",
     "text": [
      "1.0\n"
     ]
    }
   ],
   "source": [
    "print(hatchback.path_similarity(hatchback))"
   ]
  },
  {
   "cell_type": "markdown",
   "metadata": {},
   "source": [
    "## Automated ways for finding synonyms\n",
    "\n",
    "WordNet is constructed manually by experts of linguistics. There is also the computational approach to semantics. Below we will look at one such approach for finding synonyms. The approach relies on the below fundamental hypothesis:\n",
    "<br><br>\n",
    "<center><b>Distributional Hypothesis: similar words appear in similar contexts.</b></center>\n",
    "<br><br>\n",
    "We will first need to build a corpus and a co-occurrence matrix."
   ]
  },
  {
   "cell_type": "code",
   "execution_count": 154,
   "metadata": {},
   "outputs": [],
   "source": [
    "def build_corpus(text):\n",
    "    \"\"\" \n",
    "  \n",
    "    Parameters: \n",
    "    text (string): A (long) string \n",
    "  \n",
    "    Returns: \n",
    "    words: A list of unique word names.\n",
    "    word_to_index: a mapping from word names to integers.\n",
    "    index_to_word: a mapping from integers to word names.\n",
    "  \n",
    "    \"\"\"\n",
    "    porter = nltk.PorterStemmer()\n",
    "\n",
    "    tokenizer = RegexpTokenizer(r'\\w+')\n",
    "    words = [] \n",
    "    for i in sent_tokenize(text): \n",
    "        for j in tokenizer.tokenize(i):\n",
    "            words.append(j.lower())\n",
    "    words = np.unique(words)\n",
    "\n",
    "    porter = nltk.PorterStemmer()\n",
    "    words = [porter.stem(t) for t in words]\n",
    "    #wn_lemma = nltk.WordNetLemmatizer()\n",
    "    #words = [wn_lemma.lemmatize(t) for t in words]\n",
    "\n",
    "    words = np.unique(words)\n",
    "    \n",
    "    word_to_index = {}\n",
    "    index_to_word = {}\n",
    "    counter = 0;\n",
    "    for w in words:\n",
    "        word_to_index[w] = counter\n",
    "        index_to_word[counter] = w\n",
    "        counter += 1  \n",
    "    return words, word_to_index, index_to_word"
   ]
  },
  {
   "cell_type": "code",
   "execution_count": 155,
   "metadata": {},
   "outputs": [],
   "source": [
    "text = \"This is data mining course cmp5101. It is about data mining. I like it so much.\"\n",
    "words, word_to_index, index_to_word = build_corpus(text)"
   ]
  },
  {
   "cell_type": "code",
   "execution_count": 156,
   "metadata": {},
   "outputs": [
    {
     "name": "stdout",
     "output_type": "stream",
     "text": [
      "['about' 'cmp5101' 'cours' 'data' 'i' 'is' 'it' 'like' 'mine' 'much' 'so'\n",
      " 'thi']\n",
      "{'about': 0, 'cmp5101': 1, 'cours': 2, 'data': 3, 'i': 4, 'is': 5, 'it': 6, 'like': 7, 'mine': 8, 'much': 9, 'so': 10, 'thi': 11}\n",
      "{0: 'about', 1: 'cmp5101', 2: 'cours', 3: 'data', 4: 'i', 5: 'is', 6: 'it', 7: 'like', 8: 'mine', 9: 'much', 10: 'so', 11: 'thi'}\n"
     ]
    }
   ],
   "source": [
    "corpus_size = len(words)\n",
    "print(words)\n",
    "print(word_to_index)\n",
    "print(index_to_word)"
   ]
  },
  {
   "cell_type": "code",
   "execution_count": 157,
   "metadata": {},
   "outputs": [
    {
     "data": {
      "text/plain": [
       "3"
      ]
     },
     "execution_count": 157,
     "metadata": {},
     "output_type": "execute_result"
    }
   ],
   "source": [
    "word_to_index['data']"
   ]
  },
  {
   "cell_type": "code",
   "execution_count": 158,
   "metadata": {},
   "outputs": [
    {
     "data": {
      "text/plain": [
       "'data'"
      ]
     },
     "execution_count": 158,
     "metadata": {},
     "output_type": "execute_result"
    }
   ],
   "source": [
    "index_to_word[3]"
   ]
  },
  {
   "cell_type": "code",
   "execution_count": 159,
   "metadata": {},
   "outputs": [
    {
     "name": "stdout",
     "output_type": "stream",
     "text": [
      "27114\n",
      "number of tokens:  2084675\n"
     ]
    },
    {
     "data": {
      "text/plain": [
       "array(['alcov', 'alden', 'alderman', 'aldermen', 'aldo', 'aldridg', 'ale',\n",
       "       'alec', 'aleck', 'alemagna'], dtype='<U20')"
      ]
     },
     "execution_count": 159,
     "metadata": {},
     "output_type": "execute_result"
    }
   ],
   "source": [
    "text = brown.raw()\n",
    "words, word_to_index, index_to_word = build_corpus(text)\n",
    "corpus_size = len(words)\n",
    "print(corpus_size)\n",
    "tokenizer = RegexpTokenizer(r'\\w+')\n",
    "tokens = tokenizer.tokenize(text)\n",
    "print(\"number of tokens: \", len(tokens))\n",
    "words[1500:1510]"
   ]
  },
  {
   "cell_type": "code",
   "execution_count": 115,
   "metadata": {},
   "outputs": [],
   "source": [
    "def build_co_matrix2(text, words, word_to_index, window=1):\n",
    "    \"\"\" \n",
    "    Build a co-occurrence matrix \n",
    "    \n",
    "    Parameters: \n",
    "    text (string): A long string to be split into sentences.\n",
    "    words: A list of unique word names.\n",
    "    word_to_index: a mapping from word names to integers.\n",
    "    window: The size of the context window.\n",
    "  \n",
    "    Returns: \n",
    "    co_matrix: ndarray \n",
    "  \n",
    "    \"\"\"\n",
    "    porter = nltk.PorterStemmer()\n",
    "    wn_lemma = nltk.WordNetLemmatizer()\n",
    "\n",
    "    tokenizer = RegexpTokenizer(r'\\w+')\n",
    "    corpus_size = len(words)\n",
    "    co_matrix = np.zeros((corpus_size,corpus_size),dtype=int)\n",
    "    for s in sent_tokenize(text): \n",
    "        sent = [] \n",
    "        for w in tokenizer.tokenize(s):        \n",
    "            sent.append(porter.stem(w.lower()))\n",
    "            #sent.append(wn_lemma.lemmatize(w.lower()))\n",
    "        for i, w in enumerate(sent):\n",
    "            for j in range(max(i-window,0),min(i+window+1,len(sent))):\n",
    "                co_matrix[word_to_index[w],word_to_index[sent[j]]] += 1\n",
    "        np.fill_diagonal(co_matrix,0)\n",
    "    return co_matrix"
   ]
  },
  {
   "cell_type": "markdown",
   "metadata": {},
   "source": [
    "The following code is not an efficient way to build a co-occurrence matrix, it will be used for illustration"
   ]
  },
  {
   "cell_type": "code",
   "execution_count": 116,
   "metadata": {},
   "outputs": [],
   "source": [
    "def build_co_matrix(text, window=1):\n",
    "    porter = nltk.PorterStemmer()\n",
    "    wn_lemma = nltk.WordNetLemmatizer()\n",
    "\n",
    "    tokenizer = RegexpTokenizer(r'\\w+')\n",
    "    counter = 0\n",
    "    co_matrix = pd.DataFrame();\n",
    "    for s in sent_tokenize(text): \n",
    "        sent = [] \n",
    "        for w in tokenizer.tokenize(s):        \n",
    "            sent.append(porter.stem(w.lower()))\n",
    "            #sent.append(wn_lemma.lemmatize(w.lower()))\n",
    "        for i, w in enumerate(sent):\n",
    "            for j in range(max(i-window,0),min(i+window+1,len(sent))):\n",
    "                if w == sent[j]:# skip the word itself\n",
    "                    co_matrix.loc[w,sent[j]] = 0\n",
    "                elif (w in co_matrix.index and sent[j] in co_matrix.columns) and not np.isnan(co_matrix.loc[w,sent[j]]):\n",
    "                    co_matrix.loc[w,sent[j]] += 1\n",
    "                else:\n",
    "                    co_matrix.loc[w,sent[j]] = 1\n",
    "    co_matrix.fillna(0, inplace=True)\n",
    "    return co_matrix"
   ]
  },
  {
   "cell_type": "markdown",
   "metadata": {},
   "source": [
    "How tokenization with regex works"
   ]
  },
  {
   "cell_type": "code",
   "execution_count": 117,
   "metadata": {},
   "outputs": [
    {
     "name": "stdout",
     "output_type": "stream",
     "text": [
      "This\n",
      "is\n",
      "data\n",
      "mining\n",
      "course\n",
      "cmp5101\n",
      "It\n",
      "is\n",
      "about\n",
      "data\n",
      "mining\n",
      "I\n",
      "like\n",
      "it\n",
      "so\n",
      "much\n"
     ]
    }
   ],
   "source": [
    "text = \"This is data mining course cmp5101. It is about data mining. I like it so much.\"\n",
    "tokenizer = RegexpTokenizer(r'\\w+')\n",
    "for w in tokenizer.tokenize(text):  \n",
    "    print(w)"
   ]
  },
  {
   "cell_type": "code",
   "execution_count": 118,
   "metadata": {},
   "outputs": [
    {
     "data": {
      "text/html": [
       "<div>\n",
       "<style scoped>\n",
       "    .dataframe tbody tr th:only-of-type {\n",
       "        vertical-align: middle;\n",
       "    }\n",
       "\n",
       "    .dataframe tbody tr th {\n",
       "        vertical-align: top;\n",
       "    }\n",
       "\n",
       "    .dataframe thead th {\n",
       "        text-align: right;\n",
       "    }\n",
       "</style>\n",
       "<table border=\"1\" class=\"dataframe\">\n",
       "  <thead>\n",
       "    <tr style=\"text-align: right;\">\n",
       "      <th></th>\n",
       "      <th>thi</th>\n",
       "      <th>is</th>\n",
       "      <th>data</th>\n",
       "      <th>mine</th>\n",
       "      <th>cours</th>\n",
       "      <th>cmp5101</th>\n",
       "      <th>it</th>\n",
       "      <th>about</th>\n",
       "      <th>i</th>\n",
       "      <th>like</th>\n",
       "      <th>so</th>\n",
       "      <th>much</th>\n",
       "    </tr>\n",
       "  </thead>\n",
       "  <tbody>\n",
       "    <tr>\n",
       "      <th>thi</th>\n",
       "      <td>0.0</td>\n",
       "      <td>1.0</td>\n",
       "      <td>1.0</td>\n",
       "      <td>0.0</td>\n",
       "      <td>0.0</td>\n",
       "      <td>0.0</td>\n",
       "      <td>0.0</td>\n",
       "      <td>0.0</td>\n",
       "      <td>0.0</td>\n",
       "      <td>0.0</td>\n",
       "      <td>0.0</td>\n",
       "      <td>0.0</td>\n",
       "    </tr>\n",
       "    <tr>\n",
       "      <th>is</th>\n",
       "      <td>1.0</td>\n",
       "      <td>0.0</td>\n",
       "      <td>2.0</td>\n",
       "      <td>1.0</td>\n",
       "      <td>0.0</td>\n",
       "      <td>0.0</td>\n",
       "      <td>1.0</td>\n",
       "      <td>1.0</td>\n",
       "      <td>0.0</td>\n",
       "      <td>0.0</td>\n",
       "      <td>0.0</td>\n",
       "      <td>0.0</td>\n",
       "    </tr>\n",
       "    <tr>\n",
       "      <th>data</th>\n",
       "      <td>1.0</td>\n",
       "      <td>2.0</td>\n",
       "      <td>0.0</td>\n",
       "      <td>2.0</td>\n",
       "      <td>1.0</td>\n",
       "      <td>0.0</td>\n",
       "      <td>0.0</td>\n",
       "      <td>1.0</td>\n",
       "      <td>0.0</td>\n",
       "      <td>0.0</td>\n",
       "      <td>0.0</td>\n",
       "      <td>0.0</td>\n",
       "    </tr>\n",
       "    <tr>\n",
       "      <th>mine</th>\n",
       "      <td>0.0</td>\n",
       "      <td>1.0</td>\n",
       "      <td>2.0</td>\n",
       "      <td>0.0</td>\n",
       "      <td>1.0</td>\n",
       "      <td>1.0</td>\n",
       "      <td>0.0</td>\n",
       "      <td>1.0</td>\n",
       "      <td>0.0</td>\n",
       "      <td>0.0</td>\n",
       "      <td>0.0</td>\n",
       "      <td>0.0</td>\n",
       "    </tr>\n",
       "    <tr>\n",
       "      <th>cours</th>\n",
       "      <td>0.0</td>\n",
       "      <td>0.0</td>\n",
       "      <td>1.0</td>\n",
       "      <td>1.0</td>\n",
       "      <td>0.0</td>\n",
       "      <td>1.0</td>\n",
       "      <td>0.0</td>\n",
       "      <td>0.0</td>\n",
       "      <td>0.0</td>\n",
       "      <td>0.0</td>\n",
       "      <td>0.0</td>\n",
       "      <td>0.0</td>\n",
       "    </tr>\n",
       "    <tr>\n",
       "      <th>cmp5101</th>\n",
       "      <td>0.0</td>\n",
       "      <td>0.0</td>\n",
       "      <td>0.0</td>\n",
       "      <td>1.0</td>\n",
       "      <td>1.0</td>\n",
       "      <td>0.0</td>\n",
       "      <td>0.0</td>\n",
       "      <td>0.0</td>\n",
       "      <td>0.0</td>\n",
       "      <td>0.0</td>\n",
       "      <td>0.0</td>\n",
       "      <td>0.0</td>\n",
       "    </tr>\n",
       "    <tr>\n",
       "      <th>it</th>\n",
       "      <td>0.0</td>\n",
       "      <td>1.0</td>\n",
       "      <td>0.0</td>\n",
       "      <td>0.0</td>\n",
       "      <td>0.0</td>\n",
       "      <td>0.0</td>\n",
       "      <td>0.0</td>\n",
       "      <td>1.0</td>\n",
       "      <td>1.0</td>\n",
       "      <td>1.0</td>\n",
       "      <td>1.0</td>\n",
       "      <td>1.0</td>\n",
       "    </tr>\n",
       "    <tr>\n",
       "      <th>about</th>\n",
       "      <td>0.0</td>\n",
       "      <td>1.0</td>\n",
       "      <td>1.0</td>\n",
       "      <td>1.0</td>\n",
       "      <td>0.0</td>\n",
       "      <td>0.0</td>\n",
       "      <td>1.0</td>\n",
       "      <td>0.0</td>\n",
       "      <td>0.0</td>\n",
       "      <td>0.0</td>\n",
       "      <td>0.0</td>\n",
       "      <td>0.0</td>\n",
       "    </tr>\n",
       "    <tr>\n",
       "      <th>i</th>\n",
       "      <td>0.0</td>\n",
       "      <td>0.0</td>\n",
       "      <td>0.0</td>\n",
       "      <td>0.0</td>\n",
       "      <td>0.0</td>\n",
       "      <td>0.0</td>\n",
       "      <td>1.0</td>\n",
       "      <td>0.0</td>\n",
       "      <td>0.0</td>\n",
       "      <td>1.0</td>\n",
       "      <td>0.0</td>\n",
       "      <td>0.0</td>\n",
       "    </tr>\n",
       "    <tr>\n",
       "      <th>like</th>\n",
       "      <td>0.0</td>\n",
       "      <td>0.0</td>\n",
       "      <td>0.0</td>\n",
       "      <td>0.0</td>\n",
       "      <td>0.0</td>\n",
       "      <td>0.0</td>\n",
       "      <td>1.0</td>\n",
       "      <td>0.0</td>\n",
       "      <td>1.0</td>\n",
       "      <td>0.0</td>\n",
       "      <td>1.0</td>\n",
       "      <td>0.0</td>\n",
       "    </tr>\n",
       "    <tr>\n",
       "      <th>so</th>\n",
       "      <td>0.0</td>\n",
       "      <td>0.0</td>\n",
       "      <td>0.0</td>\n",
       "      <td>0.0</td>\n",
       "      <td>0.0</td>\n",
       "      <td>0.0</td>\n",
       "      <td>1.0</td>\n",
       "      <td>0.0</td>\n",
       "      <td>0.0</td>\n",
       "      <td>1.0</td>\n",
       "      <td>0.0</td>\n",
       "      <td>1.0</td>\n",
       "    </tr>\n",
       "    <tr>\n",
       "      <th>much</th>\n",
       "      <td>0.0</td>\n",
       "      <td>0.0</td>\n",
       "      <td>0.0</td>\n",
       "      <td>0.0</td>\n",
       "      <td>0.0</td>\n",
       "      <td>0.0</td>\n",
       "      <td>1.0</td>\n",
       "      <td>0.0</td>\n",
       "      <td>0.0</td>\n",
       "      <td>0.0</td>\n",
       "      <td>1.0</td>\n",
       "      <td>0.0</td>\n",
       "    </tr>\n",
       "  </tbody>\n",
       "</table>\n",
       "</div>"
      ],
      "text/plain": [
       "         thi   is  data  mine  cours  cmp5101   it  about    i  like   so  \\\n",
       "thi      0.0  1.0   1.0   0.0    0.0      0.0  0.0    0.0  0.0   0.0  0.0   \n",
       "is       1.0  0.0   2.0   1.0    0.0      0.0  1.0    1.0  0.0   0.0  0.0   \n",
       "data     1.0  2.0   0.0   2.0    1.0      0.0  0.0    1.0  0.0   0.0  0.0   \n",
       "mine     0.0  1.0   2.0   0.0    1.0      1.0  0.0    1.0  0.0   0.0  0.0   \n",
       "cours    0.0  0.0   1.0   1.0    0.0      1.0  0.0    0.0  0.0   0.0  0.0   \n",
       "cmp5101  0.0  0.0   0.0   1.0    1.0      0.0  0.0    0.0  0.0   0.0  0.0   \n",
       "it       0.0  1.0   0.0   0.0    0.0      0.0  0.0    1.0  1.0   1.0  1.0   \n",
       "about    0.0  1.0   1.0   1.0    0.0      0.0  1.0    0.0  0.0   0.0  0.0   \n",
       "i        0.0  0.0   0.0   0.0    0.0      0.0  1.0    0.0  0.0   1.0  0.0   \n",
       "like     0.0  0.0   0.0   0.0    0.0      0.0  1.0    0.0  1.0   0.0  1.0   \n",
       "so       0.0  0.0   0.0   0.0    0.0      0.0  1.0    0.0  0.0   1.0  0.0   \n",
       "much     0.0  0.0   0.0   0.0    0.0      0.0  1.0    0.0  0.0   0.0  1.0   \n",
       "\n",
       "         much  \n",
       "thi       0.0  \n",
       "is        0.0  \n",
       "data      0.0  \n",
       "mine      0.0  \n",
       "cours     0.0  \n",
       "cmp5101   0.0  \n",
       "it        1.0  \n",
       "about     0.0  \n",
       "i         0.0  \n",
       "like      0.0  \n",
       "so        1.0  \n",
       "much      0.0  "
      ]
     },
     "execution_count": 118,
     "metadata": {},
     "output_type": "execute_result"
    }
   ],
   "source": [
    "matrix = build_co_matrix(text, 2)\n",
    "matrix"
   ]
  },
  {
   "cell_type": "code",
   "execution_count": 119,
   "metadata": {},
   "outputs": [
    {
     "data": {
      "text/plain": [
       "array([[0, 0, 0, 1, 0, 1, 1, 0, 1, 0, 0, 0],\n",
       "       [0, 0, 1, 0, 0, 0, 0, 0, 1, 0, 0, 0],\n",
       "       [0, 1, 0, 1, 0, 0, 0, 0, 1, 0, 0, 0],\n",
       "       [1, 0, 1, 0, 0, 2, 0, 0, 2, 0, 0, 1],\n",
       "       [0, 0, 0, 0, 0, 0, 1, 1, 0, 0, 0, 0],\n",
       "       [1, 0, 0, 2, 0, 0, 1, 0, 1, 0, 0, 1],\n",
       "       [1, 0, 0, 0, 1, 1, 0, 1, 0, 1, 1, 0],\n",
       "       [0, 0, 0, 0, 1, 0, 1, 0, 0, 0, 1, 0],\n",
       "       [1, 1, 1, 2, 0, 1, 0, 0, 0, 0, 0, 0],\n",
       "       [0, 0, 0, 0, 0, 0, 1, 0, 0, 0, 1, 0],\n",
       "       [0, 0, 0, 0, 0, 0, 1, 1, 0, 1, 0, 0],\n",
       "       [0, 0, 0, 1, 0, 1, 0, 0, 0, 0, 0, 0]])"
      ]
     },
     "execution_count": 119,
     "metadata": {},
     "output_type": "execute_result"
    }
   ],
   "source": [
    "words, word_to_index, index_to_word = build_corpus(text)\n",
    "matrix = build_co_matrix2(text, words, word_to_index, 2)\n",
    "matrix"
   ]
  },
  {
   "cell_type": "markdown",
   "metadata": {},
   "source": [
    "Now let us build the co-occurrence matrix for the entire text."
   ]
  },
  {
   "cell_type": "code",
   "execution_count": 120,
   "metadata": {},
   "outputs": [
    {
     "name": "stdout",
     "output_type": "stream",
     "text": [
      "(27114, 27114)\n",
      "[[0 0 0 ... 0 0 0]\n",
      " [0 0 0 ... 0 0 0]\n",
      " [0 0 0 ... 0 0 0]\n",
      " ...\n",
      " [0 0 0 ... 0 0 0]\n",
      " [0 0 0 ... 0 0 0]\n",
      " [0 0 0 ... 0 0 0]]\n"
     ]
    }
   ],
   "source": [
    "text = brown.raw()\n",
    "words, word_to_index, index_to_word = build_corpus(text)\n",
    "co_matrix = build_co_matrix2(text, words, word_to_index, 5)\n",
    "print(co_matrix.shape)\n",
    "print(co_matrix)"
   ]
  },
  {
   "cell_type": "markdown",
   "metadata": {},
   "source": [
    "### Cosine Similarity:\n",
    "Intuition: Dot product increases if both pairs have the same sign and decreases if pairs have different signs (similar to correlation, actually Pearson correlation is just cosine similarity of the mean centered vectors). Division by the norms is necessary to penalize vectors which has large values."
   ]
  },
  {
   "cell_type": "code",
   "execution_count": 121,
   "metadata": {},
   "outputs": [
    {
     "data": {
      "text/plain": [
       "array([  2,   1,   2,   1,   1,   2,   1,   1,   1,   2,  36,   2,   1,\n",
       "         1,   2,   1,   1,   3,   1,   4,   1,   1,   1,   1,   2,  17,\n",
       "         1,   3,   2,   2,   8,   1,   2,   1,  11,   1,   1,  17,   2,\n",
       "         1,   5,   1,   1,   2,   1,   1,   1,   7,   4,   2,   1,   1,\n",
       "        19,   1,   9,   1,   1,   1,   1,  23,   1,   1,   1,   1,   1,\n",
       "         1,   6,   1,  26,   1,   1,   5,   1,   1,   7,   2,   1,  73,\n",
       "         2,   1,   1,   2,  13,   1,   1,   1,   4,   1,   6,   1,  16,\n",
       "         3,   1,   1,   2,   1,   1,   3,   3,   2,   4,   1,   3,   1,\n",
       "         1,   1,   1,  45, 172,   1,   1,   2,   2,   1,   2,   1,   1,\n",
       "         1,   1,   1,   1,   1,   3,   1,   1,   1,   1,   3,   1,   3,\n",
       "         1,   2,   1,   1,   5,   1,   1,   1,   1,   1,   1,   5,   1,\n",
       "         1,   1,   1,   1,   1,   1,   1,   2,   1,   1,   5,   2,   1,\n",
       "         1,   1,   2,   1,   1,   1,   1,   1,   1,   1,   1,   3,   1,\n",
       "         1,   2,   3,   9,   1,   1,   1,   2,   3,   3,   9,   1,  11,\n",
       "         1,   2,   1,   1,   1,   6,   1,   1,   2,   1,   1,   1,   1,\n",
       "         3,   1,   1,   1,   7,   2,   1,   1,   2,   1, 213,   1,   1,\n",
       "         2,   2,   1,   1,   1,   1,   1,   1,   1,   1,   2,  16,   1,\n",
       "         1,   1,   4,  36,   1,   1,   1,   3,   1,   1,   1,   2,   4,\n",
       "         1,   4,   1,   1,   1,   1,   8,   1,   1,   1,  10,   1,   1,\n",
       "         3,   2,   9,   1,   1,   1,   2,   1,   1,   2,   2,   1,   1,\n",
       "         1,  21, 284,   1,   2,   1,   9,   3,   1,  58,   4,   1,   2,\n",
       "         1,  17,   3,   1,   4,   1,   2,   1,   1,   1,   2,  20,   2,\n",
       "         1,   3,   1,   1,   1,   1,   1,   1,   3,   1,   7,   1,   1,\n",
       "         2,   1,   2,   1,   1,   1,   2,   1,   1,   7,   2,   2,   2,\n",
       "        21,   2,   1,   2,   2,   1,   1,   1,   4,   4,   3,   1,   1,\n",
       "         2,   1,   1,   2,   1,   1,   1,   2,   2,   1,   1,   1,   1,\n",
       "         1,   2,   1,   1,   1,   2,   1,   2,   1,   1,   2,   1,   1,\n",
       "         1,   3,   1,   1,   1,   1,   3,   5,  37,   2,   4,   1,   1,\n",
       "         3,   1,   4,   2,  40,   1,   2,   1,   1,   1,   1,   1,   1,\n",
       "         1,   1,   1,   1,   1,   4,   3,   1,   3,   1,  16,   4,  10,\n",
       "        21,   7,   1,   4,   5,   1,   3,   2,   1,   3,   1,   1,   2,\n",
       "         8,   1,   6,   3,   1,   1])"
      ]
     },
     "execution_count": 121,
     "metadata": {},
     "output_type": "execute_result"
    }
   ],
   "source": [
    "co_matrix[:,0][np.nonzero(co_matrix[:,0])]"
   ]
  },
  {
   "cell_type": "code",
   "execution_count": null,
   "metadata": {},
   "outputs": [],
   "source": [
    "# Finds cosine similarity between two vectors a and b\n",
    "def cosine(a, b):\n",
    "    dot = np.dot(a, b)\n",
    "    norma = np.linalg.norm(a)\n",
    "    normb = np.linalg.norm(b)\n",
    "    return dot / (norma * normb)"
   ]
  },
  {
   "cell_type": "markdown",
   "metadata": {},
   "source": [
    "Find most similar words to the target word using cosine similarity"
   ]
  },
  {
   "cell_type": "code",
   "execution_count": 122,
   "metadata": {},
   "outputs": [
    {
     "data": {
      "text/plain": [
       "3621"
      ]
     },
     "execution_count": 122,
     "metadata": {},
     "output_type": "execute_result"
    }
   ],
   "source": [
    "target = word_to_index['book']\n",
    "target"
   ]
  },
  {
   "cell_type": "code",
   "execution_count": 123,
   "metadata": {},
   "outputs": [
    {
     "data": {
      "text/plain": [
       "(27114,)"
      ]
     },
     "execution_count": 123,
     "metadata": {},
     "output_type": "execute_result"
    }
   ],
   "source": [
    "word_vector = co_matrix[target,:]\n",
    "word_vector.shape"
   ]
  },
  {
   "cell_type": "code",
   "execution_count": 124,
   "metadata": {},
   "outputs": [
    {
     "data": {
      "text/plain": [
       "(27114, 1)"
      ]
     },
     "execution_count": 124,
     "metadata": {},
     "output_type": "execute_result"
    }
   ],
   "source": [
    "word_vector = np.reshape(word_vector,(word_vector.size,1 ))\n",
    "word_vector.shape"
   ]
  },
  {
   "cell_type": "code",
   "execution_count": 125,
   "metadata": {},
   "outputs": [
    {
     "data": {
      "text/plain": [
       "array([ 370406,   92920, 1378577, ...,    8263,    2963,    6049])"
      ]
     },
     "execution_count": 125,
     "metadata": {},
     "output_type": "execute_result"
    }
   ],
   "source": [
    "sims = np.dot(word_vector.T,co_matrix)\n",
    "sims = sims[0,:]\n",
    "sims"
   ]
  },
  {
   "cell_type": "code",
   "execution_count": 126,
   "metadata": {},
   "outputs": [
    {
     "data": {
      "text/plain": [
       "array([12229, 16505,  2343, 23958, 13061, 16875,  4753, 24296, 16706,\n",
       "       24294])"
      ]
     },
     "execution_count": 126,
     "metadata": {},
     "output_type": "execute_result"
    }
   ],
   "source": [
    "sims.argsort()[::-1][:10]"
   ]
  },
  {
   "cell_type": "code",
   "execution_count": 127,
   "metadata": {},
   "outputs": [
    {
     "data": {
      "text/plain": [
       "'in'"
      ]
     },
     "execution_count": 127,
     "metadata": {},
     "output_type": "execute_result"
    }
   ],
   "source": [
    "index_to_word[12229]"
   ]
  },
  {
   "cell_type": "code",
   "execution_count": 128,
   "metadata": {},
   "outputs": [],
   "source": [
    "def incremental_row_norms(matrix):\n",
    "    row_norms = []\n",
    "    for row in matrix:\n",
    "        row_norm = np.sqrt(np.dot(row, row))\n",
    "        row_norms.append(row_norm)\n",
    "    return row_norms"
   ]
  },
  {
   "cell_type": "code",
   "execution_count": 129,
   "metadata": {},
   "outputs": [
    {
     "data": {
      "text/plain": [
       "[423.86200584624237,\n",
       " 103.88455130576442,\n",
       " 1443.9882270988223,\n",
       " 9.539392014169456,\n",
       " 6.782329983125268,\n",
       " 6.164414002968976,\n",
       " 22.891046284519195,\n",
       " 4.795831523312719,\n",
       " 5.477225575051661,\n",
       " 20.46948949045872,\n",
       " 6.928203230275509,\n",
       " 10.0,\n",
       " 26.720778431774775,\n",
       " 5.0,\n",
       " 7.0710678118654755,\n",
       " 16.15549442140351,\n",
       " 3.3166247903554,\n",
       " 5.477225575051661,\n",
       " 5.477225575051661,\n",
       " 34.19064199455752,\n",
       " 3.7416573867739413,\n",
       " 18.520259177452136,\n",
       " 3.872983346207417,\n",
       " 4.123105625617661,\n",
       " 3.872983346207417,\n",
       " 5.656854249492381,\n",
       " 30.59411708155671,\n",
       " 6.0,\n",
       " 9.273618495495704,\n",
       " 10.198039027185569,\n",
       " 8.831760866327848,\n",
       " 3.605551275463989,\n",
       " 6.324555320336759,\n",
       " 10.677078252031311,\n",
       " 11.313708498984761,\n",
       " 4.58257569495584,\n",
       " 37.68288736283355,\n",
       " 8.0,\n",
       " 2988.8245181007196,\n",
       " 854.3652614660781,\n",
       " 428.6583721333342,\n",
       " 48.80573736764972,\n",
       " 7.211102550927978,\n",
       " 13.379088160259652,\n",
       " 6.164414002968976,\n",
       " 8.06225774829855,\n",
       " 10.677078252031311,\n",
       " 6.164414002968976,\n",
       " 5.830951894845301,\n",
       " 64.66838485689897,\n",
       " 34.49637662132068,\n",
       " 18.867962264113206,\n",
       " 5.830951894845301,\n",
       " 20.92844953645635,\n",
       " 12.041594578792296,\n",
       " 7.416198487095663,\n",
       " 6.708203932499369,\n",
       " 5.830951894845301,\n",
       " 3.605551275463989,\n",
       " 20.71231517720798,\n",
       " 23.15167380558045,\n",
       " 2.6457513110645907,\n",
       " 295.35402485830457,\n",
       " 40.11234224026316,\n",
       " 14.933184523068078,\n",
       " 23.558437978779494,\n",
       " 11.832159566199232,\n",
       " 17.944358444926362,\n",
       " 9.16515138991168,\n",
       " 5.656854249492381,\n",
       " 8.831760866327848,\n",
       " 5.656854249492381,\n",
       " 4.358898943540674,\n",
       " 3.1622776601683795,\n",
       " 4.358898943540674,\n",
       " 11.135528725660043,\n",
       " 444.53346330731955,\n",
       " 39.293765408777,\n",
       " 8.602325267042627,\n",
       " 13.152946437965905,\n",
       " 11.269427669584644,\n",
       " 8.366600265340756,\n",
       " 12.884098726725126,\n",
       " 5.0990195135927845,\n",
       " 5.0990195135927845,\n",
       " 4.898979485566356,\n",
       " 10.198039027185569,\n",
       " 28.284271247461902,\n",
       " 5.0990195135927845,\n",
       " 14.696938456699069,\n",
       " 7.810249675906654,\n",
       " 16.46207763315433,\n",
       " 5.477225575051661,\n",
       " 5.477225575051661,\n",
       " 5.656854249492381,\n",
       " 5.291502622129181,\n",
       " 5.830951894845301,\n",
       " 214.3245202957422,\n",
       " 23.108440016582687,\n",
       " 4.898979485566356,\n",
       " 6.928203230275509,\n",
       " 5.0990195135927845,\n",
       " 5.477225575051661,\n",
       " 4.898979485566356,\n",
       " 20.566963801203133,\n",
       " 30.0,\n",
       " 16.278820596099706,\n",
       " 3.872983346207417,\n",
       " 11.916375287812984,\n",
       " 23.0,\n",
       " 260.4112132762336,\n",
       " 25.019992006393608,\n",
       " 6.48074069840786,\n",
       " 4.69041575982343,\n",
       " 4.69041575982343,\n",
       " 6.164414002968976,\n",
       " 4.58257569495584,\n",
       " 4.795831523312719,\n",
       " 6.4031242374328485,\n",
       " 3.605551275463989,\n",
       " 7.874007874011811,\n",
       " 5.830951894845301,\n",
       " 5.477225575051661,\n",
       " 3.7416573867739413,\n",
       " 9.695359714832659,\n",
       " 4.898979485566356,\n",
       " 15.459624833740307,\n",
       " 470.8587898722928,\n",
       " 65.29931086925804,\n",
       " 12.206555615733702,\n",
       " 4.0,\n",
       " 5.291502622129181,\n",
       " 5.477225575051661,\n",
       " 5.0990195135927845,\n",
       " 10.198039027185569,\n",
       " 15.0996688705415,\n",
       " 5.656854249492381,\n",
       " 3.4641016151377544,\n",
       " 10.099504938362077,\n",
       " 4.69041575982343,\n",
       " 5.477225575051661,\n",
       " 9.695359714832659,\n",
       " 8.12403840463596,\n",
       " 8.12403840463596,\n",
       " 9.797958971132712,\n",
       " 11.313708498984761,\n",
       " 10.677078252031311,\n",
       " 4.358898943540674,\n",
       " 10.723805294763608,\n",
       " 4.358898943540674,\n",
       " 5.477225575051661,\n",
       " 7.681145747868608,\n",
       " 9.433981132056603,\n",
       " 4.898979485566356,\n",
       " 4.358898943540674,\n",
       " 8.888194417315589,\n",
       " 9.797958971132712,\n",
       " 9.797958971132712,\n",
       " 4.242640687119285,\n",
       " 51.16639522186413,\n",
       " 255.04901489713697,\n",
       " 30.315012782448235,\n",
       " 15.716233645501712,\n",
       " 12.083045973594572,\n",
       " 14.106735979665885,\n",
       " 8.602325267042627,\n",
       " 8.48528137423857,\n",
       " 4.69041575982343,\n",
       " 12.68857754044952,\n",
       " 4.795831523312719,\n",
       " 13.19090595827292,\n",
       " 13.038404810405298,\n",
       " 7.3484692283495345,\n",
       " 3.872983346207417,\n",
       " 11.74734012447073,\n",
       " 3.872983346207417,\n",
       " 7.615773105863909,\n",
       " 18.627936010197157,\n",
       " 4.123105625617661,\n",
       " 9.055385138137417,\n",
       " 18.303005217723125,\n",
       " 6.48074069840786,\n",
       " 3.872983346207417,\n",
       " 18.547236990991408,\n",
       " 3.872983346207417,\n",
       " 6.0,\n",
       " 3.872983346207417,\n",
       " 9.899494936611665,\n",
       " 3.7416573867739413,\n",
       " 4.47213595499958,\n",
       " 4.47213595499958,\n",
       " 11.045361017187261,\n",
       " 4.898979485566356,\n",
       " 14.491376746189438,\n",
       " 4.69041575982343,\n",
       " 5.477225575051661,\n",
       " 4.358898943540674,\n",
       " 6.855654600401044,\n",
       " 5.477225575051661,\n",
       " 6.324555320336759,\n",
       " 5.0,\n",
       " 4.123105625617661,\n",
       " 12.649110640673518,\n",
       " 5.477225575051661,\n",
       " 3.7416573867739413,\n",
       " 6.324555320336759,\n",
       " 6.708203932499369,\n",
       " 5.0990195135927845,\n",
       " 4.69041575982343,\n",
       " 4.898979485566356,\n",
       " 21.702534414210707,\n",
       " 172.18304213830118,\n",
       " 27.313000567495326,\n",
       " 14.317821063276353,\n",
       " 5.656854249492381,\n",
       " 10.14889156509222,\n",
       " 5.0990195135927845,\n",
       " 5.0990195135927845,\n",
       " 11.045361017187261,\n",
       " 14.966629547095765,\n",
       " 3.7416573867739413,\n",
       " 8.0,\n",
       " 4.123105625617661,\n",
       " 4.69041575982343,\n",
       " 5.0990195135927845,\n",
       " 5.656854249492381,\n",
       " 5.477225575051661,\n",
       " 6.6332495807108,\n",
       " 4.47213595499958,\n",
       " 5.0990195135927845,\n",
       " 5.830951894845301,\n",
       " 5.477225575051661,\n",
       " 3.4641016151377544,\n",
       " 4.242640687119285,\n",
       " 4.123105625617661,\n",
       " 3.605551275463989,\n",
       " 7.615773105863909,\n",
       " 3.4641016151377544,\n",
       " 5.916079783099616,\n",
       " 3.872983346207417,\n",
       " 5.656854249492381,\n",
       " 9.486832980505138,\n",
       " 5.0,\n",
       " 5.291502622129181,\n",
       " 3.605551275463989,\n",
       " 5.291502622129181,\n",
       " 5.477225575051661,\n",
       " 17.175564037317667,\n",
       " 4.123105625617661,\n",
       " 9.797958971132712,\n",
       " 8.06225774829855,\n",
       " 6.6332495807108,\n",
       " 10.04987562112089,\n",
       " 8.602325267042627,\n",
       " 5.477225575051661,\n",
       " 8.717797887081348,\n",
       " 15.684387141358123,\n",
       " 10.63014581273465,\n",
       " 14.142135623730951,\n",
       " 6.324555320336759,\n",
       " 13.038404810405298,\n",
       " 9.0,\n",
       " 20.639767440550294,\n",
       " 15.297058540778355,\n",
       " 6.0,\n",
       " 7.3484692283495345,\n",
       " 38.31448812133603,\n",
       " 215.87033144922904,\n",
       " 34.161381705077446,\n",
       " 10.677078252031311,\n",
       " 13.45362404707371,\n",
       " 4.242640687119285,\n",
       " 15.362291495737216,\n",
       " 4.898979485566356,\n",
       " 5.291502622129181,\n",
       " 3.7416573867739413,\n",
       " 5.656854249492381,\n",
       " 6.0,\n",
       " 15.748015748023622,\n",
       " 8.831760866327848,\n",
       " 15.0,\n",
       " 9.16515138991168,\n",
       " 7.615773105863909,\n",
       " 20.46948949045872,\n",
       " 4.47213595499958,\n",
       " 14.035668847618199,\n",
       " 16.76305461424021,\n",
       " 27.85677655436824,\n",
       " 5.0990195135927845,\n",
       " 10.862780491200215,\n",
       " 18.083141320025124,\n",
       " 8.366600265340756,\n",
       " 5.477225575051661,\n",
       " 10.770329614269007,\n",
       " 4.242640687119285,\n",
       " 6.855654600401044,\n",
       " 3.872983346207417,\n",
       " 12.328828005937952,\n",
       " 23.706539182259394,\n",
       " 5.291502622129181,\n",
       " 15.459624833740307,\n",
       " 11.61895003862225,\n",
       " 7.280109889280518,\n",
       " 3.7416573867739413,\n",
       " 5.0,\n",
       " 6.164414002968976,\n",
       " 22.38302928559939,\n",
       " 5.477225575051661,\n",
       " 6.0,\n",
       " 4.898979485566356,\n",
       " 16.1245154965971,\n",
       " 17.944358444926362,\n",
       " 4.47213595499958,\n",
       " 9.797958971132712,\n",
       " 12.328828005937952,\n",
       " 8.54400374531753,\n",
       " 12.206555615733702,\n",
       " 19.390719429665317,\n",
       " 14.560219778561036,\n",
       " 5.656854249492381,\n",
       " 3.7416573867739413,\n",
       " 3.605551275463989,\n",
       " 9.591663046625438,\n",
       " 8.660254037844387,\n",
       " 6.48074069840786,\n",
       " 40.95119045888654,\n",
       " 4.0,\n",
       " 9.486832980505138,\n",
       " 15.968719422671311,\n",
       " 27.748873851023216,\n",
       " 9.273618495495704,\n",
       " 13.152946437965905,\n",
       " 10.099504938362077,\n",
       " 23.08679276123039,\n",
       " 5.830951894845301,\n",
       " 3.872983346207417,\n",
       " 18.681541692269406,\n",
       " 5.291502622129181,\n",
       " 15.394804318340652,\n",
       " 8.306623862918075,\n",
       " 4.242640687119285,\n",
       " 10.583005244258363,\n",
       " 3.605551275463989,\n",
       " 5.830951894845301,\n",
       " 14.798648586948742,\n",
       " 16.792855623746664,\n",
       " 5.656854249492381,\n",
       " 10.295630140987,\n",
       " 8.0,\n",
       " 10.488088481701515,\n",
       " 13.856406460551018,\n",
       " 13.038404810405298,\n",
       " 22.825424421026653,\n",
       " 8.888194417315589,\n",
       " 12.84523257866513,\n",
       " 11.224972160321824,\n",
       " 15.748015748023622,\n",
       " 23.430749027719962,\n",
       " 6.324555320336759,\n",
       " 9.0,\n",
       " 27.568097504180443,\n",
       " 16.34013463836819,\n",
       " 17.0,\n",
       " 12.806248474865697,\n",
       " 28.478061731796284,\n",
       " 27.60434748368452,\n",
       " 14.66287829861518,\n",
       " 15.874507866387544,\n",
       " 13.30413469565007,\n",
       " 13.416407864998739,\n",
       " 36.55133376499413,\n",
       " 131.14877048604,\n",
       " 5.656854249492381,\n",
       " 48.518037882832814,\n",
       " 18.708286933869708,\n",
       " 13.416407864998739,\n",
       " 11.090536506409418,\n",
       " 10.535653752852738,\n",
       " 18.681541692269406,\n",
       " 10.198039027185569,\n",
       " 17.378147196982766,\n",
       " 26.115129714401192,\n",
       " 25.514701644346147,\n",
       " 60.77005841695399,\n",
       " 13.416407864998739,\n",
       " 54.04627646748664,\n",
       " 40.17461885320133,\n",
       " 32.29551052391029,\n",
       " 18.33030277982336,\n",
       " 17.916472867168917,\n",
       " 38.92300091205713,\n",
       " 16.431676725154983,\n",
       " 19.026297590440446,\n",
       " 10.723805294763608,\n",
       " 81.25884567233281,\n",
       " 31.89043743820395,\n",
       " 27.459060435491963,\n",
       " 25.079872407968907,\n",
       " 32.2335229225724,\n",
       " 36.796738985948195,\n",
       " 20.46948949045872,\n",
       " 63.20601237224193,\n",
       " 21.0,\n",
       " 29.223278392404914,\n",
       " 73.21885003194191,\n",
       " 30.903074280724887,\n",
       " 15.0996688705415,\n",
       " 30.773365106858236,\n",
       " 27.202941017470888,\n",
       " 38.71692136521188,\n",
       " 21.095023109728988,\n",
       " 27.49545416973504,\n",
       " 41.012193308819754,\n",
       " 22.338307903688676,\n",
       " 57.54128952326321,\n",
       " 42.15447781671598,\n",
       " 41.08527716834828,\n",
       " 47.45524207081869,\n",
       " 49.889878733065686,\n",
       " 60.199667773169644,\n",
       " 69.5197813575388,\n",
       " 54.378304497290095,\n",
       " 63.52952069707436,\n",
       " 62.19324722186485,\n",
       " 10.246950765959598,\n",
       " 99.55400544428134,\n",
       " 69.84983894040128,\n",
       " 96.8607247546703,\n",
       " 87.14355971613737,\n",
       " 145.8389522727039,\n",
       " 87.8179936004006,\n",
       " 96.20810776644555,\n",
       " 156.08010763707205,\n",
       " 1.7320508075688772,\n",
       " 295.0423698386386,\n",
       " 355.98595477911766,\n",
       " 7.0,\n",
       " 612.7430130160604,\n",
       " 460.85572579713056,\n",
       " 101.56278846112882,\n",
       " 32.03123475609393,\n",
       " 10.954451150103322,\n",
       " 15.652475842498529,\n",
       " 13.527749258468683,\n",
       " 7.937253933193772,\n",
       " 13.19090595827292,\n",
       " 2.23606797749979,\n",
       " 7.416198487095663,\n",
       " 2.23606797749979,\n",
       " 5.291502622129181,\n",
       " 16.3707055437449,\n",
       " 2.23606797749979,\n",
       " 5.0990195135927845,\n",
       " 11.357816691600547,\n",
       " 4.358898943540674,\n",
       " 45.232731511594565,\n",
       " 7.0710678118654755,\n",
       " 5.0990195135927845,\n",
       " 2455.65897469498,\n",
       " 473.255744814577,\n",
       " 214.17516195861742,\n",
       " 15.874507866387544,\n",
       " 5.291502622129181,\n",
       " 29.748949561287034,\n",
       " 6.164414002968976,\n",
       " 4.795831523312719,\n",
       " 5.830951894845301,\n",
       " 5.291502622129181,\n",
       " 4.242640687119285,\n",
       " 4.0,\n",
       " 54.35071296680477,\n",
       " 196.77144101723704,\n",
       " 13.152946437965905,\n",
       " 17.26267650163207,\n",
       " 5.477225575051661,\n",
       " 4.898979485566356,\n",
       " 8.06225774829855,\n",
       " 10.295630140987,\n",
       " 3.4641016151377544,\n",
       " 14.7648230602334,\n",
       " 4.123105625617661,\n",
       " 5.656854249492381,\n",
       " 5.477225575051661,\n",
       " 15.427248620541512,\n",
       " 211.56795598577776,\n",
       " 19.339079605813716,\n",
       " 4.358898943540674,\n",
       " 6.782329983125268,\n",
       " 6.48074069840786,\n",
       " 5.0990195135927845,\n",
       " 5.477225575051661,\n",
       " 12.328828005937952,\n",
       " 6.782329983125268,\n",
       " 4.898979485566356,\n",
       " 6.48074069840786,\n",
       " 8.0,\n",
       " 13.784048752090222,\n",
       " 11.224972160321824,\n",
       " 178.70366532335032,\n",
       " 22.338307903688676,\n",
       " 9.0,\n",
       " 5.830951894845301,\n",
       " 4.69041575982343,\n",
       " 7.937253933193772,\n",
       " 3.605551275463989,\n",
       " 21.37755832643195,\n",
       " 11.832159566199232,\n",
       " 233.7006632425334,\n",
       " 14.730919862656235,\n",
       " 6.708203932499369,\n",
       " 5.477225575051661,\n",
       " 5.477225575051661,\n",
       " 5.196152422706632,\n",
       " 8.48528137423857,\n",
       " 23.57965224510319,\n",
       " 411.7839239212721,\n",
       " 79.60527620704548,\n",
       " 8.54400374531753,\n",
       " 4.69041575982343,\n",
       " 12.36931687685298,\n",
       " 5.0990195135927845,\n",
       " 6.164414002968976,\n",
       " 5.744562646538029,\n",
       " 19.8997487421324,\n",
       " 5.744562646538029,\n",
       " 4.898979485566356,\n",
       " 9.591663046625438,\n",
       " 140.85453489327207,\n",
       " 21.354156504062622,\n",
       " 4.358898943540674,\n",
       " 5.291502622129181,\n",
       " 5.656854249492381,\n",
       " 8.602325267042627,\n",
       " 6.928203230275509,\n",
       " 3.605551275463989,\n",
       " 7.745966692414834,\n",
       " 111.33283433021904,\n",
       " 14.212670403551895,\n",
       " 4.69041575982343,\n",
       " 7.0,\n",
       " 5.477225575051661,\n",
       " 9.899494936611665,\n",
       " 7.615773105863909,\n",
       " 22.9128784747792,\n",
       " 5.830951894845301,\n",
       " 9.16515138991168,\n",
       " 4.898979485566356,\n",
       " 107.24271537032247,\n",
       " 21.447610589527216,\n",
       " 5.477225575051661,\n",
       " 4.123105625617661,\n",
       " 7.615773105863909,\n",
       " 5.0,\n",
       " 9.539392014169456,\n",
       " 3.872983346207417,\n",
       " 22.825424421026653,\n",
       " 109.05503197927182,\n",
       " 6.4031242374328485,\n",
       " 4.58257569495584,\n",
       " 4.123105625617661,\n",
       " 3.872983346207417,\n",
       " 5.291502622129181,\n",
       " 20.97617696340303,\n",
       " 5.656854249492381,\n",
       " 14.352700094407323,\n",
       " 13.152946437965905,\n",
       " 1402.6282472558437,\n",
       " 604.3641286509318,\n",
       " 151.70695435608744,\n",
       " 5.477225575051661,\n",
       " 3.7416573867739413,\n",
       " 3.872983346207417,\n",
       " 5.291502622129181,\n",
       " 3.872983346207417,\n",
       " 18.920887928424502,\n",
       " 139.18333233544885,\n",
       " 6.324555320336759,\n",
       " 5.744562646538029,\n",
       " 4.58257569495584,\n",
       " 5.830951894845301,\n",
       " 5.291502622129181,\n",
       " 7.416198487095663,\n",
       " 5.830951894845301,\n",
       " 6.708203932499369,\n",
       " 9.327379053088816,\n",
       " 79.59271323431561,\n",
       " 7.810249675906654,\n",
       " 5.385164807134504,\n",
       " 11.135528725660043,\n",
       " 5.0990195135927845,\n",
       " 7.211102550927978,\n",
       " 18.05547008526779,\n",
       " 7.937253933193772,\n",
       " 6.324555320336759,\n",
       " 52.32590180780452,\n",
       " 15.905973720586866,\n",
       " 6.164414002968976,\n",
       " 15.165750888103101,\n",
       " 3.605551275463989,\n",
       " 9.38083151964686,\n",
       " 6.0,\n",
       " 5.830951894845301,\n",
       " 117.73699503554522,\n",
       " 8.306623862918075,\n",
       " 5.830951894845301,\n",
       " 4.795831523312719,\n",
       " 8.602325267042627,\n",
       " 6.0,\n",
       " 9.746794344808963,\n",
       " 20.97617696340303,\n",
       " 102.12247548899312,\n",
       " 46.119410230400824,\n",
       " 4.58257569495584,\n",
       " 7.211102550927978,\n",
       " 4.242640687119285,\n",
       " 21.213203435596427,\n",
       " 9.643650760992955,\n",
       " 12.489995996796797,\n",
       " 6.0,\n",
       " 99.66945369570358,\n",
       " 23.173260452512935,\n",
       " 6.557438524302,\n",
       " 7.745966692414834,\n",
       " 6.48074069840786,\n",
       " 5.477225575051661,\n",
       " 5.656854249492381,\n",
       " 4.69041575982343,\n",
       " 13.92838827718412,\n",
       " 9.746794344808963,\n",
       " 5.291502622129181,\n",
       " 88.11356308764276,\n",
       " 3.3166247903554,\n",
       " 22.40535650240808,\n",
       " 3.7416573867739413,\n",
       " 5.477225575051661,\n",
       " 4.47213595499958,\n",
       " 62.03224967708329,\n",
       " 8.18535277187245,\n",
       " 61.741396161732524,\n",
       " 5.477225575051661,\n",
       " 5.385164807134504,\n",
       " 10.099504938362077,\n",
       " 41.95235392680606,\n",
       " 11.575836902790225,\n",
       " 4.58257569495584,\n",
       " 10.14889156509222,\n",
       " 5.291502622129181,\n",
       " 8.366600265340756,\n",
       " 3.872983346207417,\n",
       " 5.196152422706632,\n",
       " 6.082762530298219,\n",
       " 16.673332000533065,\n",
       " 1094.6223092921139,\n",
       " 246.92711475251153,\n",
       " 121.22293512368029,\n",
       " 4.242640687119285,\n",
       " 4.795831523312719,\n",
       " 3.3166247903554,\n",
       " 4.898979485566356,\n",
       " 9.797958971132712,\n",
       " 44.37341546466758,\n",
       " 9.486832980505138,\n",
       " 8.831760866327848,\n",
       " 4.358898943540674,\n",
       " 4.123105625617661,\n",
       " 5.477225575051661,\n",
       " 6.164414002968976,\n",
       " 9.38083151964686,\n",
       " 6.324555320336759,\n",
       " 64.18722614352485,\n",
       " 11.575836902790225,\n",
       " 6.164414002968976,\n",
       " 3.872983346207417,\n",
       " 6.164414002968976,\n",
       " 6.48074069840786,\n",
       " 42.49705872175156,\n",
       " 4.898979485566356,\n",
       " 6.164414002968976,\n",
       " 6.48074069840786,\n",
       " 34.249087579087416,\n",
       " 4.358898943540674,\n",
       " 5.291502622129181,\n",
       " 4.123105625617661,\n",
       " 5.0,\n",
       " 4.123105625617661,\n",
       " 4.898979485566356,\n",
       " 5.0,\n",
       " 4.242640687119285,\n",
       " 3.3166247903554,\n",
       " 14.89966442575134,\n",
       " 105.53198567259123,\n",
       " 53.094255809833136,\n",
       " 9.16515138991168,\n",
       " 5.477225575051661,\n",
       " 4.69041575982343,\n",
       " 54.3415126767741,\n",
       " 8.366600265340756,\n",
       " 4.242640687119285,\n",
       " 4.69041575982343,\n",
       " 5.196152422706632,\n",
       " 6.782329983125268,\n",
       " 8.94427190999916,\n",
       " 47.32863826479693,\n",
       " 13.416407864998739,\n",
       " 56.382621436041795,\n",
       " 9.486832980505138,\n",
       " 4.358898943540674,\n",
       " 5.0990195135927845,\n",
       " 6.48074069840786,\n",
       " 5.656854249492381,\n",
       " 28.337254630609507,\n",
       " 4.358898943540674,\n",
       " 3.872983346207417,\n",
       " 5.0990195135927845,\n",
       " 4.898979485566356,\n",
       " 8.0,\n",
       " 5.830951894845301,\n",
       " 3.872983346207417,\n",
       " 36.180105030251084,\n",
       " 944.1657693434983,\n",
       " 468.42502068100504,\n",
       " 244.59354038894813,\n",
       " 34.14674215792775,\n",
       " 8.602325267042627,\n",
       " 4.47213595499958,\n",
       " 8.246211251235321,\n",
       " 5.291502622129181,\n",
       " 5.477225575051661,\n",
       " 12.12435565298214,\n",
       " 19.235384061671343,\n",
       " 5.0990195135927845,\n",
       " 6.928203230275509,\n",
       " 29.03446228191595,\n",
       " 8.06225774829855,\n",
       " 5.291502622129181,\n",
       " 8.48528137423857,\n",
       " 10.04987562112089,\n",
       " 8.0,\n",
       " 75.32595834106593,\n",
       " 9.273618495495704,\n",
       " 8.48528137423857,\n",
       " 9.486832980505138,\n",
       " 6.0,\n",
       " 6.48074069840786,\n",
       " 6.48074069840786,\n",
       " 24.43358344574123,\n",
       " 5.477225575051661,\n",
       " 10.954451150103322,\n",
       " 27.2213151776324,\n",
       " 13.674794331177344,\n",
       " 7.810249675906654,\n",
       " 5.0990195135927845,\n",
       " 6.6332495807108,\n",
       " 3.7416573867739413,\n",
       " 5.291502622129181,\n",
       " 47.885279575251516,\n",
       " 6.244997998398398,\n",
       " 8.366600265340756,\n",
       " 4.898979485566356,\n",
       " 4.795831523312719,\n",
       " 62.505999712027645,\n",
       " 6.6332495807108,\n",
       " 4.795831523312719,\n",
       " 4.358898943540674,\n",
       " 5.0990195135927845,\n",
       " 7.615773105863909,\n",
       " 9.055385138137417,\n",
       " 6.164414002968976,\n",
       " 48.2078831727758,\n",
       " 5.291502622129181,\n",
       " 6.855654600401044,\n",
       " 3.3166247903554,\n",
       " 4.123105625617661,\n",
       " 36.64696440361739,\n",
       " 4.358898943540674,\n",
       " 9.797958971132712,\n",
       " 5.830951894845301,\n",
       " 7.0710678118654755,\n",
       " 5.477225575051661,\n",
       " 5.291502622129181,\n",
       " 7.3484692283495345,\n",
       " 13.490737563232042,\n",
       " 22.759613353482084,\n",
       " 3.4641016151377544,\n",
       " 9.0,\n",
       " 605.3883051397673,\n",
       " 239.64557162609952,\n",
       " 96.66436778875658,\n",
       " 8.660254037844387,\n",
       " 6.164414002968976,\n",
       " 5.477225575051661,\n",
       " 6.0,\n",
       " 7.615773105863909,\n",
       " 7.615773105863909,\n",
       " 4.58257569495584,\n",
       " 9.219544457292887,\n",
       " 7.54983443527075,\n",
       " 4.358898943540674,\n",
       " 35.199431813596085,\n",
       " 4.898979485566356,\n",
       " 4.69041575982343,\n",
       " 3.605551275463989,\n",
       " 6.164414002968976,\n",
       " 3.605551275463989,\n",
       " 5.830951894845301,\n",
       " 4.242640687119285,\n",
       " 8.48528137423857,\n",
       " 21.307275752662516,\n",
       " 8.94427190999916,\n",
       " 4.69041575982343,\n",
       " 27.622454633866266,\n",
       " 5.477225575051661,\n",
       " 5.291502622129181,\n",
       " 5.477225575051661,\n",
       " 6.782329983125268,\n",
       " 4.795831523312719,\n",
       " 4.123105625617661,\n",
       " 39.48417404479927,\n",
       " 5.656854249492381,\n",
       " 5.291502622129181,\n",
       " 5.656854249492381,\n",
       " 4.58257569495584,\n",
       " 87.84645695758026,\n",
       " 9.643650760992955,\n",
       " 16.583123951777,\n",
       " 4.0,\n",
       " 6.0,\n",
       " 14.2828568570857,\n",
       " 4.69041575982343,\n",
       " 9.591663046625438,\n",
       " 6.0,\n",
       " 9.486832980505138,\n",
       " 4.123105625617661,\n",
       " 20.493901531919196,\n",
       " 3.7416573867739413,\n",
       " 5.291502622129181,\n",
       " 20.663978319771825,\n",
       " 5.0990195135927845,\n",
       " 5.291502622129181,\n",
       " 5.0990195135927845,\n",
       " 5.196152422706632,\n",
       " 27.09243436828813,\n",
       " 570.2490683902955,\n",
       " 146.6253729748027,\n",
       " 59.36328831862332,\n",
       " 9.486832980505138,\n",
       " 5.830951894845301,\n",
       " 5.291502622129181,\n",
       " 5.744562646538029,\n",
       " 6.324555320336759,\n",
       " 12.767145334803704,\n",
       " 29.49576240750525,\n",
       " 18.894443627691185,\n",
       " 5.291502622129181,\n",
       " 34.942810419312295,\n",
       " 5.477225575051661,\n",
       " 37.53664875824692,\n",
       " 5.0,\n",
       " 4.358898943540674,\n",
       " 5.830951894845301,\n",
       " 9.695359714832659,\n",
       " 17.05872210923198,\n",
       " 6.164414002968976,\n",
       " 10.488088481701515,\n",
       " 26.92582403567252,\n",
       " 7.681145747868608,\n",
       " 3.605551275463989,\n",
       " 5.291502622129181,\n",
       " 4.123105625617661,\n",
       " 3.605551275463989,\n",
       " 4.898979485566356,\n",
       " 146.30105946301276,\n",
       " 38.71692136521188,\n",
       " 5.656854249492381,\n",
       " 4.69041575982343,\n",
       " 5.656854249492381,\n",
       " 5.196152422706632,\n",
       " 5.830951894845301,\n",
       " 27.0,\n",
       " 5.477225575051661,\n",
       " 5.477225575051661,\n",
       " 3.872983346207417,\n",
       " 5.477225575051661,\n",
       " 3.7416573867739413,\n",
       " 29.647934160747187,\n",
       " 7.681145747868608,\n",
       " 28.39013913315678,\n",
       " 5.291502622129181,\n",
       " 9.848857801796104,\n",
       " 15.198684153570664,\n",
       " 5.0990195135927845,\n",
       " 3.872983346207417,\n",
       " 5.291502622129181,\n",
       " 6.082762530298219,\n",
       " 6.324555320336759,\n",
       " 50.83306010855534,\n",
       " 642.6795468972075,\n",
       " 120.63996021219504,\n",
       " 81.10487038396646,\n",
       " 5.291502622129181,\n",
       " 5.477225575051661,\n",
       " 21.095023109728988,\n",
       " 6.244997998398398,\n",
       " 4.58257569495584,\n",
       " 11.489125293076057,\n",
       " 5.656854249492381,\n",
       " 10.583005244258363,\n",
       " 9.486832980505138,\n",
       " 4.358898943540674,\n",
       " 6.164414002968976,\n",
       " 13.038404810405298,\n",
       " 6.164414002968976,\n",
       " 5.291502622129181,\n",
       " 5.291502622129181,\n",
       " 10.198039027185569,\n",
       " 10.0,\n",
       " 5.196152422706632,\n",
       " 5.291502622129181,\n",
       " 88.91006692158093,\n",
       " 5.477225575051661,\n",
       " 33.27160951922825,\n",
       " 4.123105625617661,\n",
       " 5.477225575051661,\n",
       " 6.0,\n",
       " 17.204650534085253,\n",
       " 4.69041575982343,\n",
       " 4.47213595499958,\n",
       " 8.306623862918075,\n",
       " 9.16515138991168,\n",
       " 11.789826122551595,\n",
       " 5.830951894845301,\n",
       " 3.7416573867739413,\n",
       " 5.0990195135927845,\n",
       " 4.69041575982343,\n",
       " 10.954451150103322,\n",
       " 4.123105625617661,\n",
       " 4.69041575982343,\n",
       " 9.746794344808963,\n",
       " 305.48486050866745,\n",
       " 108.51267207105353,\n",
       " 51.720402163943,\n",
       " 5.291502622129181,\n",
       " 5.656854249492381,\n",
       " 6.0,\n",
       " 4.0,\n",
       " 5.291502622129181,\n",
       " 18.384776310850235,\n",
       " 6.928203230275509,\n",
       " 5.0990195135927845,\n",
       " 5.477225575051661,\n",
       " 6.164414002968976,\n",
       " 11.575836902790225,\n",
       " 6.928203230275509,\n",
       " 4.47213595499958,\n",
       " 14.560219778561036,\n",
       " 4.58257569495584,\n",
       " 4.47213595499958,\n",
       " 5.291502622129181,\n",
       " 23.874672772626646,\n",
       " 3.605551275463989,\n",
       " 5.830951894845301,\n",
       " 19.672315572906,\n",
       " 5.0990195135927845,\n",
       " 5.656854249492381,\n",
       " 9.0,\n",
       " 16.852299546352718,\n",
       " 18.027756377319946,\n",
       " 3.872983346207417,\n",
       " 3.7416573867739413,\n",
       " 37.48332962798263,\n",
       " 5.477225575051661,\n",
       " 5.0990195135927845,\n",
       " 4.69041575982343,\n",
       " 5.656854249492381,\n",
       " 5.477225575051661,\n",
       " 30.04995840263344,\n",
       " 74495.5653780814,\n",
       " 4.242640687119285,\n",
       " 6.6332495807108,\n",
       " 1.0,\n",
       " 4.898979485566356,\n",
       " 3.7416573867739413,\n",
       " 3.872983346207417,\n",
       " 8.306623862918075,\n",
       " 3.0,\n",
       " 29.393876913398138,\n",
       " 16.522711641858304,\n",
       " 3.4641016151377544,\n",
       " 4.0,\n",
       " 5.656854249492381,\n",
       " 7.0,\n",
       " 176.0454486773231,\n",
       " 5.5677643628300215,\n",
       " 8.426149773176359,\n",
       " 5.830951894845301,\n",
       " 5.916079783099616,\n",
       " 21.840329667841555,\n",
       " 14.071247279470288,\n",
       " 6.0,\n",
       " 31.874754901018456,\n",
       " ...]"
      ]
     },
     "execution_count": 129,
     "metadata": {},
     "output_type": "execute_result"
    }
   ],
   "source": [
    "norms = incremental_row_norms(co_matrix.T)\n",
    "norms"
   ]
  },
  {
   "cell_type": "code",
   "execution_count": 130,
   "metadata": {},
   "outputs": [],
   "source": [
    "norm_sims = np.divide(sims,norms)"
   ]
  },
  {
   "cell_type": "code",
   "execution_count": 131,
   "metadata": {},
   "outputs": [
    {
     "data": {
      "text/plain": [
       "array([ 3621, 15247,  5609, 11816, 22614, 16887, 22582, 20014,  5222,\n",
       "        2200])"
      ]
     },
     "execution_count": 131,
     "metadata": {},
     "output_type": "execute_result"
    }
   ],
   "source": [
    "norm_sims.argsort()[::-1][:10]"
   ]
  },
  {
   "cell_type": "code",
   "execution_count": 132,
   "metadata": {},
   "outputs": [
    {
     "data": {
      "text/plain": [
       "'book'"
      ]
     },
     "execution_count": 132,
     "metadata": {},
     "output_type": "execute_result"
    }
   ],
   "source": [
    "index_to_word[3621]"
   ]
  },
  {
   "cell_type": "code",
   "execution_count": 133,
   "metadata": {
    "scrolled": true
   },
   "outputs": [
    {
     "data": {
      "text/plain": [
       "'famili'"
      ]
     },
     "execution_count": 133,
     "metadata": {},
     "output_type": "execute_result"
    }
   ],
   "source": [
    "index_to_word[8957]"
   ]
  },
  {
   "cell_type": "code",
   "execution_count": 134,
   "metadata": {},
   "outputs": [
    {
     "data": {
      "text/plain": [
       "array([16688, 17624,  3621, 26796,  5576,  4800, 25055, 22516, 22193,\n",
       "       11590])"
      ]
     },
     "execution_count": 134,
     "metadata": {},
     "output_type": "execute_result"
    }
   ],
   "source": [
    "word_vector = co_matrix[word_to_index['novel'],:]\n",
    "word_vector = np.reshape(word_vector,(1,word_vector.size))\n",
    "sims = np.dot(word_vector,co_matrix)\n",
    "sims = sims[0,:]\n",
    "norm_sims = np.divide(sims,norms)\n",
    "top10 = norm_sims.argsort()[::-1][:10]\n",
    "top10"
   ]
  },
  {
   "cell_type": "code",
   "execution_count": 135,
   "metadata": {},
   "outputs": [
    {
     "name": "stdout",
     "output_type": "stream",
     "text": [
      "novel\n",
      "part\n",
      "book\n",
      "world\n",
      "column\n",
      "center\n",
      "under\n",
      "spirit\n",
      "societi\n",
      "histori\n"
     ]
    }
   ],
   "source": [
    "for i in range(len(top10)):\n",
    "    print(index_to_word[top10[i]])"
   ]
  },
  {
   "cell_type": "code",
   "execution_count": null,
   "metadata": {},
   "outputs": [],
   "source": [
    "word_vector = co_matrix[word_to_index['novel'],:]\n",
    "word_vector = np.reshape(word_vector,(1,word_vector.size))\n",
    "sims = np.dot(word_vector,co_matrix)\n",
    "sims = sims[0,:]\n",
    "#norm_sims = np.divide(sims,norms)\n",
    "top10 = sims.argsort()[::-1][:10]\n",
    "top10"
   ]
  },
  {
   "cell_type": "code",
   "execution_count": null,
   "metadata": {},
   "outputs": [],
   "source": [
    "for i in range(len(top10)):\n",
    "    print(index_to_word[top10[i]])"
   ]
  },
  {
   "cell_type": "code",
   "execution_count": 136,
   "metadata": {},
   "outputs": [
    {
     "data": {
      "text/plain": [
       "array([ 9818,  9022, 15911, 26564, 17579, 22291,  7899,  9110, 11236,\n",
       "       15530])"
      ]
     },
     "execution_count": 136,
     "metadata": {},
     "output_type": "execute_result"
    }
   ],
   "source": [
    "word_vector = co_matrix[word_to_index['friend'],:]\n",
    "word_vector = np.reshape(word_vector,(1,word_vector.size))\n",
    "sims = np.dot(word_vector,co_matrix)\n",
    "sims = sims[0,:]\n",
    "norm_sims = np.divide(sims,norms)\n",
    "top10 = norm_sims.argsort()[::-1][:10]\n",
    "top10"
   ]
  },
  {
   "cell_type": "code",
   "execution_count": 137,
   "metadata": {},
   "outputs": [
    {
     "name": "stdout",
     "output_type": "stream",
     "text": [
      "friend\n",
      "father\n",
      "mother\n",
      "wife\n",
      "parent\n",
      "son\n",
      "duti\n",
      "fellow\n",
      "head\n",
      "mine\n"
     ]
    }
   ],
   "source": [
    "for i in range(len(top10)):\n",
    "    print(index_to_word[top10[i]])"
   ]
  },
  {
   "cell_type": "code",
   "execution_count": 138,
   "metadata": {},
   "outputs": [
    {
     "data": {
      "text/plain": [
       "array([ 8091,  9689, 21894, 24112,  9327, 21405, 24858, 23834, 24840,\n",
       "       15504])"
      ]
     },
     "execution_count": 138,
     "metadata": {},
     "output_type": "execute_result"
    }
   ],
   "source": [
    "word_vector = co_matrix[word_to_index['eight'],:]\n",
    "word_vector = np.reshape(word_vector,(1,word_vector.size))\n",
    "sims = np.dot(word_vector,co_matrix)\n",
    "sims = sims[0,:]\n",
    "norm_sims = np.divide(sims,norms)\n",
    "top10 = norm_sims.argsort()[::-1][:10]\n",
    "top10"
   ]
  },
  {
   "cell_type": "code",
   "execution_count": 139,
   "metadata": {},
   "outputs": [
    {
     "name": "stdout",
     "output_type": "stream",
     "text": [
      "eight\n",
      "four\n",
      "six\n",
      "three\n",
      "five\n",
      "seven\n",
      "two\n",
      "ten\n",
      "twenti\n",
      "million\n"
     ]
    }
   ],
   "source": [
    "for i in range(len(top10)):\n",
    "    print(index_to_word[top10[i]])"
   ]
  }
 ],
 "metadata": {
  "kernelspec": {
   "display_name": "Python 3 (ipykernel)",
   "language": "python",
   "name": "python3"
  },
  "language_info": {
   "codemirror_mode": {
    "name": "ipython",
    "version": 3
   },
   "file_extension": ".py",
   "mimetype": "text/x-python",
   "name": "python",
   "nbconvert_exporter": "python",
   "pygments_lexer": "ipython3",
   "version": "3.11.0"
  }
 },
 "nbformat": 4,
 "nbformat_minor": 2
}
