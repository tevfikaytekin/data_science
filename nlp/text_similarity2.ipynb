{
 "cells": [
  {
   "cell_type": "markdown",
   "metadata": {},
   "source": [
    "# Text Similarity\n",
    "(by Tevfik Aytekin)"
   ]
  },
  {
   "cell_type": "code",
   "execution_count": 2,
   "metadata": {},
   "outputs": [],
   "source": [
    "from nltk.corpus import wordnet as wn\n",
    "import nltk\n",
    "from nltk.corpus import gutenberg, brown\n",
    "import numpy as np\n",
    "from scipy.sparse import csr_matrix\n",
    "from nltk.tokenize import RegexpTokenizer\n",
    "import pandas as pd\n",
    "from nltk.tokenize import sent_tokenize, word_tokenize \n",
    "from sklearn.feature_extraction.text import CountVectorizer"
   ]
  },
  {
   "cell_type": "code",
   "execution_count": 3,
   "metadata": {},
   "outputs": [
    {
     "name": "stderr",
     "output_type": "stream",
     "text": [
      "[nltk_data] Downloading package stopwords to /home/tevfik/nltk_data...\n",
      "[nltk_data]   Package stopwords is already up-to-date!\n"
     ]
    }
   ],
   "source": [
    "nltk.download('stopwords')\n",
    "from nltk.corpus import stopwords\n",
    "stop_words = set(stopwords.words('english'))"
   ]
  },
  {
   "cell_type": "code",
   "execution_count": null,
   "metadata": {},
   "outputs": [],
   "source": []
  },
  {
   "cell_type": "markdown",
   "metadata": {},
   "source": [
    "# WordNet"
   ]
  },
  {
   "cell_type": "markdown",
   "metadata": {},
   "source": [
    "### Lexical Matrix\n",
    "table taken from [https://wordnetcode.princeton.edu/5papers.pdf](https://wordnetcode.princeton.edu/5papers.pdf)\n",
    "\n",
    "<img src=\"./images/lexical_matrix.png\" style=\"width: 400px;\"/>\n",
    "\n",
    "\n",
    "The word meaning $M_1$ in above table can be represented by the set of word forms that can be used to express it: {F1, F2, . . . }. These sets are called synonym sets (or simply synsets)."
   ]
  },
  {
   "cell_type": "markdown",
   "metadata": {},
   "source": [
    "### WordNet Hierarchy\n",
    "Below is a simplified illustration of the hierarchy of wordnet.\n",
    "\n",
    "<img src=\"./images/wordnet_hierarchy.png\" style=\"width: 400px;\"/>\n"
   ]
  },
  {
   "cell_type": "markdown",
   "metadata": {},
   "source": [
    "### A word is a set of meanings\n",
    "wn.synsets('word') gives these meanings."
   ]
  },
  {
   "cell_type": "code",
   "execution_count": 4,
   "metadata": {},
   "outputs": [
    {
     "data": {
      "text/plain": [
       "[Synset('car.n.01'),\n",
       " Synset('car.n.02'),\n",
       " Synset('car.n.03'),\n",
       " Synset('car.n.04'),\n",
       " Synset('cable_car.n.01')]"
      ]
     },
     "execution_count": 4,
     "metadata": {},
     "output_type": "execute_result"
    }
   ],
   "source": [
    "wn.synsets(\"car\")"
   ]
  },
  {
   "cell_type": "markdown",
   "metadata": {},
   "source": [
    "### Synsets"
   ]
  },
  {
   "cell_type": "markdown",
   "metadata": {},
   "source": [
    "A synset is a set of synonyms (word forms). Each synset corresponds to a concept/meaning. The nodes in the WordNet hierarchy corresponds to synsets. A synset is identified with a 3-part name of the form: word.pos.nn. For example, 'car.n.01' means the first meaning of 'car' used as a noun."
   ]
  },
  {
   "cell_type": "code",
   "execution_count": 5,
   "metadata": {},
   "outputs": [
    {
     "name": "stdout",
     "output_type": "stream",
     "text": [
      "a motor vehicle with four wheels; usually propelled by an internal combustion engine\n"
     ]
    }
   ],
   "source": [
    "print(wn.synset('car.n.01').definition())"
   ]
  },
  {
   "cell_type": "code",
   "execution_count": 6,
   "metadata": {},
   "outputs": [
    {
     "name": "stdout",
     "output_type": "stream",
     "text": [
      "a wheeled vehicle adapted to the rails of railroad\n"
     ]
    }
   ],
   "source": [
    "print(wn.synset('car.n.02').definition())"
   ]
  },
  {
   "cell_type": "markdown",
   "metadata": {},
   "source": [
    "Lemmas correspond to word forms."
   ]
  },
  {
   "cell_type": "code",
   "execution_count": 7,
   "metadata": {},
   "outputs": [
    {
     "data": {
      "text/plain": [
       "['car', 'auto', 'automobile', 'machine', 'motorcar']"
      ]
     },
     "execution_count": 7,
     "metadata": {},
     "output_type": "execute_result"
    }
   ],
   "source": [
    "wn.synset('car.n.01').lemma_names()"
   ]
  },
  {
   "cell_type": "code",
   "execution_count": 8,
   "metadata": {},
   "outputs": [
    {
     "data": {
      "text/plain": [
       "[Lemma('car.n.01.car'),\n",
       " Lemma('car.n.01.auto'),\n",
       " Lemma('car.n.01.automobile'),\n",
       " Lemma('car.n.01.machine'),\n",
       " Lemma('car.n.01.motorcar')]"
      ]
     },
     "execution_count": 8,
     "metadata": {},
     "output_type": "execute_result"
    }
   ],
   "source": [
    "wn.synset('car.n.01').lemmas()"
   ]
  },
  {
   "cell_type": "code",
   "execution_count": 9,
   "metadata": {},
   "outputs": [
    {
     "data": {
      "text/plain": [
       "['car', 'railcar', 'railway_car', 'railroad_car']"
      ]
     },
     "execution_count": 9,
     "metadata": {},
     "output_type": "execute_result"
    }
   ],
   "source": [
    "wn.synset('car.n.02').lemma_names()"
   ]
  },
  {
   "cell_type": "markdown",
   "metadata": {},
   "source": [
    "Hypernyms anf hyponyms\n",
    "\n",
    "In linguistics, hyponymy means a subtype and a hypernym means a supertype"
   ]
  },
  {
   "cell_type": "code",
   "execution_count": 10,
   "metadata": {},
   "outputs": [
    {
     "data": {
      "text/plain": [
       "[Synset('motor_vehicle.n.01')]"
      ]
     },
     "execution_count": 10,
     "metadata": {},
     "output_type": "execute_result"
    }
   ],
   "source": [
    "wn.synset('car.n.01').hypernyms()"
   ]
  },
  {
   "cell_type": "code",
   "execution_count": 11,
   "metadata": {},
   "outputs": [
    {
     "data": {
      "text/plain": [
       "[Synset('ambulance.n.01'),\n",
       " Synset('beach_wagon.n.01'),\n",
       " Synset('bus.n.04'),\n",
       " Synset('cab.n.03'),\n",
       " Synset('compact.n.03'),\n",
       " Synset('convertible.n.01'),\n",
       " Synset('coupe.n.01'),\n",
       " Synset('cruiser.n.01'),\n",
       " Synset('electric.n.01'),\n",
       " Synset('gas_guzzler.n.01'),\n",
       " Synset('hardtop.n.01'),\n",
       " Synset('hatchback.n.01'),\n",
       " Synset('horseless_carriage.n.01'),\n",
       " Synset('hot_rod.n.01'),\n",
       " Synset('jeep.n.01'),\n",
       " Synset('limousine.n.01'),\n",
       " Synset('loaner.n.02'),\n",
       " Synset('minicar.n.01'),\n",
       " Synset('minivan.n.01'),\n",
       " Synset('model_t.n.01'),\n",
       " Synset('pace_car.n.01'),\n",
       " Synset('racer.n.02'),\n",
       " Synset('roadster.n.01'),\n",
       " Synset('sedan.n.01'),\n",
       " Synset('sport_utility.n.01'),\n",
       " Synset('sports_car.n.01'),\n",
       " Synset('stanley_steamer.n.01'),\n",
       " Synset('stock_car.n.01'),\n",
       " Synset('subcompact.n.01'),\n",
       " Synset('touring_car.n.01'),\n",
       " Synset('used-car.n.01')]"
      ]
     },
     "execution_count": 11,
     "metadata": {},
     "output_type": "execute_result"
    }
   ],
   "source": [
    "wn.synset('car.n.01').hyponyms()"
   ]
  },
  {
   "cell_type": "code",
   "execution_count": 12,
   "metadata": {},
   "outputs": [
    {
     "data": {
      "text/plain": [
       "[Synset('entity.n.01')]"
      ]
     },
     "execution_count": 12,
     "metadata": {},
     "output_type": "execute_result"
    }
   ],
   "source": [
    "wn.synset('car.n.01').root_hypernyms()"
   ]
  },
  {
   "cell_type": "markdown",
   "metadata": {},
   "source": [
    "## Synonymy"
   ]
  },
  {
   "cell_type": "markdown",
   "metadata": {},
   "source": [
    "### Path Similarity\n",
    "path_similarity assigns a score in the range 0–1 based on the shortest path that connects the concepts in the hypernym hierarchy (-1 is returned in those cases where a path cannot be found)"
   ]
  },
  {
   "cell_type": "code",
   "execution_count": 13,
   "metadata": {},
   "outputs": [],
   "source": [
    "right = wn.synset('right_whale.n.01')\n",
    "orca = wn.synset('orca.n.01')\n",
    "minke = wn.synset('minke_whale.n.01')\n",
    "tortoise = wn.synset('tortoise.n.01')\n",
    "novel = wn.synset('novel.n.01')"
   ]
  },
  {
   "cell_type": "code",
   "execution_count": 14,
   "metadata": {},
   "outputs": [
    {
     "name": "stdout",
     "output_type": "stream",
     "text": [
      "0.25\n",
      "0.16666666666666666\n",
      "0.07692307692307693\n",
      "0.043478260869565216\n"
     ]
    }
   ],
   "source": [
    "print(right.path_similarity(minke))\n",
    "print(right.path_similarity(orca))\n",
    "print(right.path_similarity(tortoise))\n",
    "print(right.path_similarity(novel))\n"
   ]
  },
  {
   "cell_type": "markdown",
   "metadata": {},
   "source": [
    "<img src=\"./images/wordnet_hierarchy.png\" style=\"width: 400px;\"/>"
   ]
  },
  {
   "cell_type": "code",
   "execution_count": 15,
   "metadata": {},
   "outputs": [
    {
     "name": "stdout",
     "output_type": "stream",
     "text": [
      "0.5\n"
     ]
    }
   ],
   "source": [
    "motorcar = wn.synset('car.n.01')\n",
    "compact = wn.synset('compact.n.03')\n",
    "hatchback = wn.synset('hatchback.n.01')\n",
    "print(motorcar.path_similarity(compact))"
   ]
  },
  {
   "cell_type": "code",
   "execution_count": 16,
   "metadata": {},
   "outputs": [
    {
     "name": "stdout",
     "output_type": "stream",
     "text": [
      "0.3333333333333333\n"
     ]
    }
   ],
   "source": [
    "print(hatchback.path_similarity(compact))"
   ]
  },
  {
   "cell_type": "code",
   "execution_count": 17,
   "metadata": {},
   "outputs": [
    {
     "name": "stdout",
     "output_type": "stream",
     "text": [
      "1.0\n"
     ]
    }
   ],
   "source": [
    "print(hatchback.path_similarity(hatchback))"
   ]
  },
  {
   "cell_type": "markdown",
   "metadata": {},
   "source": [
    "### Automated ways for finding synonyms\n",
    "\n",
    "WordNet is constructed manually by experts of linguistics. There is also the computational approach to semantics. Below we will look at one such approach for finding synonyms. The approach relies on the below fundamental hypothesis:\n",
    "<br><br>\n",
    "<center><b>Distributional Hypothesis: similar words appear in similar contexts.</b></center>\n",
    "<br><br>\n",
    "We will first need to build a corpus and a co-occurrence matrix.\n",
    "\n"
   ]
  },
  {
   "cell_type": "code",
   "execution_count": null,
   "metadata": {},
   "outputs": [],
   "source": [
    "\n",
    "\n"
   ]
  },
  {
   "cell_type": "code",
   "execution_count": 18,
   "metadata": {},
   "outputs": [],
   "source": [
    "def build_corpus(text):\n",
    "    \"\"\" \n",
    "  \n",
    "    Parameters: \n",
    "    text (string): A (long) string \n",
    "  \n",
    "    Returns: \n",
    "    words: A list of unique word names.\n",
    "    word_to_index: a mapping from word names to integers.\n",
    "    index_to_word: a mapping from integers to word names.\n",
    "  \n",
    "    \"\"\"\n",
    "    porter = nltk.PorterStemmer()\n",
    "\n",
    "    tokenizer = RegexpTokenizer(r'\\w+')\n",
    "    words = [] \n",
    "    for i in sent_tokenize(text): \n",
    "        for j in tokenizer.tokenize(i):\n",
    "            if (j.lower() not in stop_words):\n",
    "                words.append(j.lower())\n",
    "    words = np.unique(words)\n",
    "\n",
    "    \n",
    "    #porter = nltk.PorterStemmer()\n",
    "    #words = [porter.stem(t) for t in words]\n",
    "    wn_lemma = nltk.WordNetLemmatizer()\n",
    "    words = [wn_lemma.lemmatize(t) for t in words]\n",
    "    \n",
    "    words = np.unique(words)\n",
    "\n",
    "\n",
    "    \n",
    "    word_to_index = {}\n",
    "    index_to_word = {}\n",
    "    counter = 0;\n",
    "    for w in words:\n",
    "        word_to_index[w] = counter\n",
    "        index_to_word[counter] = w\n",
    "        counter += 1  \n",
    "    return words, word_to_index, index_to_word"
   ]
  },
  {
   "cell_type": "code",
   "execution_count": 19,
   "metadata": {},
   "outputs": [],
   "source": [
    "text = \"This is data mining course cmp5101. It is about data mining. I like it so much.\"\n",
    "words, word_to_index, index_to_word = build_corpus(text)"
   ]
  },
  {
   "cell_type": "code",
   "execution_count": 20,
   "metadata": {},
   "outputs": [
    {
     "name": "stdout",
     "output_type": "stream",
     "text": [
      "6\n",
      "['cmp5101' 'course' 'data' 'like' 'mining' 'much']\n",
      "{'cmp5101': 0, 'course': 1, 'data': 2, 'like': 3, 'mining': 4, 'much': 5}\n",
      "{0: 'cmp5101', 1: 'course', 2: 'data', 3: 'like', 4: 'mining', 5: 'much'}\n"
     ]
    }
   ],
   "source": [
    "corpus_size = len(words)\n",
    "print(corpus_size)\n",
    "print(words)\n",
    "print(word_to_index)\n",
    "print(index_to_word)"
   ]
  },
  {
   "cell_type": "code",
   "execution_count": 21,
   "metadata": {},
   "outputs": [
    {
     "name": "stdout",
     "output_type": "stream",
     "text": [
      "37011\n"
     ]
    },
    {
     "data": {
      "text/plain": [
       "array(['absolutely', 'absoluteness', 'absolution', 'absorb', 'absorbed',\n",
       "       'absorbency', 'absorbent', 'absorber', 'absorbing', 'absorbs'],\n",
       "      dtype='<U21')"
      ]
     },
     "execution_count": 21,
     "metadata": {},
     "output_type": "execute_result"
    }
   ],
   "source": [
    "text = brown.raw()\n",
    "words, word_to_index, index_to_word = build_corpus(text)\n",
    "corpus_size = len(words)\n",
    "print(corpus_size)\n",
    "\n",
    "words[1100:1110]"
   ]
  },
  {
   "cell_type": "code",
   "execution_count": 22,
   "metadata": {},
   "outputs": [],
   "source": [
    "def build_co_matrix2(text, words, word_to_index, window=1):\n",
    "    \"\"\" \n",
    "    Build a co-occurrence matrix \n",
    "    \n",
    "    Parameters: \n",
    "    text (string): A long string to be split into sentences.\n",
    "    words: A list of unique word names.\n",
    "    word_to_index: a mapping from word names to integers.\n",
    "    window: The size of the context window.\n",
    "  \n",
    "    Returns: \n",
    "    co_matrix: ndarray \n",
    "  \n",
    "    \"\"\"\n",
    "    porter = nltk.PorterStemmer()\n",
    "    wn_lemma = nltk.WordNetLemmatizer()\n",
    "\n",
    "    tokenizer = RegexpTokenizer(r'\\w+')\n",
    "    corpus_size = len(words)\n",
    "    co_matrix = np.zeros((corpus_size,corpus_size),dtype=int)\n",
    "    for s in sent_tokenize(text): \n",
    "        sent = [] \n",
    "        for w in tokenizer.tokenize(s):   \n",
    "            if w.lower() not in stop_words:      \n",
    "                sent.append(wn_lemma.lemmatize(w.lower()))\n",
    "        for i, w in enumerate(sent):\n",
    "            for j in range(max(i-window,0),min(i+window+1,len(sent))):\n",
    "                co_matrix[word_to_index[w],word_to_index[sent[j]]] += 1\n",
    "        np.fill_diagonal(co_matrix,0)\n",
    "    return co_matrix"
   ]
  },
  {
   "cell_type": "code",
   "execution_count": 23,
   "metadata": {},
   "outputs": [],
   "source": [
    "def build_co_matrix(text, window=1):\n",
    "    tokenizer = RegexpTokenizer(r'\\w+')\n",
    "    wn_lemma = nltk.WordNetLemmatizer()\n",
    "\n",
    "    counter = 0\n",
    "    co_matrix = pd.DataFrame();\n",
    "    for s in sent_tokenize(text): \n",
    "        sent = [] \n",
    "        for w in tokenizer.tokenize(s):  \n",
    "            if w.lower() not in stop_words:      \n",
    "                sent.append(wn_lemma.lemmatize(w.lower()))\n",
    "        for i, w in enumerate(sent):\n",
    "            for j in range(max(i-window,0),min(i+window+1,len(sent))):\n",
    "                if w == sent[j]:# skip the word itself\n",
    "                    co_matrix.loc[w,sent[j]] = 0\n",
    "                elif (w in co_matrix.index and sent[j] in co_matrix.columns) and not np.isnan(co_matrix.loc[w,sent[j]]):\n",
    "                    co_matrix.loc[w,sent[j]] += 1\n",
    "                else:\n",
    "                    co_matrix.loc[w,sent[j]] = 1\n",
    "    co_matrix.fillna(0, inplace=True)\n",
    "    return co_matrix"
   ]
  },
  {
   "cell_type": "markdown",
   "metadata": {},
   "source": [
    "How tokenization with regex works"
   ]
  },
  {
   "cell_type": "code",
   "execution_count": 24,
   "metadata": {},
   "outputs": [
    {
     "name": "stdout",
     "output_type": "stream",
     "text": [
      "This\n",
      "is\n",
      "data\n",
      "mining\n",
      "course\n",
      "cmp5101\n",
      "It\n",
      "is\n",
      "about\n",
      "data\n",
      "mining\n",
      "I\n",
      "like\n",
      "it\n",
      "so\n",
      "much\n"
     ]
    }
   ],
   "source": [
    "text = \"This is data mining course cmp5101. It is about data mining. I like it so much.\"\n",
    "tokenizer = RegexpTokenizer(r'\\w+')\n",
    "for w in tokenizer.tokenize(text):  \n",
    "    print(w)"
   ]
  },
  {
   "cell_type": "code",
   "execution_count": 25,
   "metadata": {},
   "outputs": [
    {
     "data": {
      "text/html": [
       "<div>\n",
       "<style scoped>\n",
       "    .dataframe tbody tr th:only-of-type {\n",
       "        vertical-align: middle;\n",
       "    }\n",
       "\n",
       "    .dataframe tbody tr th {\n",
       "        vertical-align: top;\n",
       "    }\n",
       "\n",
       "    .dataframe thead th {\n",
       "        text-align: right;\n",
       "    }\n",
       "</style>\n",
       "<table border=\"1\" class=\"dataframe\">\n",
       "  <thead>\n",
       "    <tr style=\"text-align: right;\">\n",
       "      <th></th>\n",
       "      <th>data</th>\n",
       "      <th>mining</th>\n",
       "      <th>course</th>\n",
       "      <th>cmp5101</th>\n",
       "      <th>like</th>\n",
       "      <th>much</th>\n",
       "    </tr>\n",
       "  </thead>\n",
       "  <tbody>\n",
       "    <tr>\n",
       "      <th>data</th>\n",
       "      <td>0.0</td>\n",
       "      <td>2.0</td>\n",
       "      <td>1.0</td>\n",
       "      <td>0.0</td>\n",
       "      <td>0.0</td>\n",
       "      <td>0.0</td>\n",
       "    </tr>\n",
       "    <tr>\n",
       "      <th>mining</th>\n",
       "      <td>2.0</td>\n",
       "      <td>0.0</td>\n",
       "      <td>1.0</td>\n",
       "      <td>1.0</td>\n",
       "      <td>0.0</td>\n",
       "      <td>0.0</td>\n",
       "    </tr>\n",
       "    <tr>\n",
       "      <th>course</th>\n",
       "      <td>1.0</td>\n",
       "      <td>1.0</td>\n",
       "      <td>0.0</td>\n",
       "      <td>1.0</td>\n",
       "      <td>0.0</td>\n",
       "      <td>0.0</td>\n",
       "    </tr>\n",
       "    <tr>\n",
       "      <th>cmp5101</th>\n",
       "      <td>0.0</td>\n",
       "      <td>1.0</td>\n",
       "      <td>1.0</td>\n",
       "      <td>0.0</td>\n",
       "      <td>0.0</td>\n",
       "      <td>0.0</td>\n",
       "    </tr>\n",
       "    <tr>\n",
       "      <th>like</th>\n",
       "      <td>0.0</td>\n",
       "      <td>0.0</td>\n",
       "      <td>0.0</td>\n",
       "      <td>0.0</td>\n",
       "      <td>0.0</td>\n",
       "      <td>1.0</td>\n",
       "    </tr>\n",
       "    <tr>\n",
       "      <th>much</th>\n",
       "      <td>0.0</td>\n",
       "      <td>0.0</td>\n",
       "      <td>0.0</td>\n",
       "      <td>0.0</td>\n",
       "      <td>1.0</td>\n",
       "      <td>0.0</td>\n",
       "    </tr>\n",
       "  </tbody>\n",
       "</table>\n",
       "</div>"
      ],
      "text/plain": [
       "         data  mining  course  cmp5101  like  much\n",
       "data      0.0     2.0     1.0      0.0   0.0   0.0\n",
       "mining    2.0     0.0     1.0      1.0   0.0   0.0\n",
       "course    1.0     1.0     0.0      1.0   0.0   0.0\n",
       "cmp5101   0.0     1.0     1.0      0.0   0.0   0.0\n",
       "like      0.0     0.0     0.0      0.0   0.0   1.0\n",
       "much      0.0     0.0     0.0      0.0   1.0   0.0"
      ]
     },
     "execution_count": 25,
     "metadata": {},
     "output_type": "execute_result"
    }
   ],
   "source": [
    "matrix = build_co_matrix(text, 2)\n",
    "matrix"
   ]
  },
  {
   "cell_type": "code",
   "execution_count": 26,
   "metadata": {},
   "outputs": [
    {
     "data": {
      "text/plain": [
       "array([[0, 1, 0, 0, 1, 0],\n",
       "       [1, 0, 1, 0, 1, 0],\n",
       "       [0, 1, 0, 0, 2, 0],\n",
       "       [0, 0, 0, 0, 0, 1],\n",
       "       [1, 1, 2, 0, 0, 0],\n",
       "       [0, 0, 0, 1, 0, 0]])"
      ]
     },
     "execution_count": 26,
     "metadata": {},
     "output_type": "execute_result"
    }
   ],
   "source": [
    "words, word_to_index, index_to_word = build_corpus(text)\n",
    "matrix = build_co_matrix2(text, words, word_to_index, 2)\n",
    "matrix"
   ]
  },
  {
   "cell_type": "code",
   "execution_count": 53,
   "metadata": {},
   "outputs": [
    {
     "name": "stdout",
     "output_type": "stream",
     "text": [
      "(37011, 37011)\n",
      "[[0 0 0 ... 0 0 0]\n",
      " [0 0 0 ... 0 0 0]\n",
      " [0 0 0 ... 0 0 0]\n",
      " ...\n",
      " [0 0 0 ... 0 0 0]\n",
      " [0 0 0 ... 0 0 0]\n",
      " [0 0 0 ... 0 0 0]]\n"
     ]
    }
   ],
   "source": [
    "text = brown.raw()\n",
    "words, word_to_index, index_to_word = build_corpus(text)\n",
    "co_matrix = build_co_matrix2(text, words, word_to_index, 5)\n",
    "print(co_matrix.shape)\n",
    "print(co_matrix)"
   ]
  },
  {
   "cell_type": "markdown",
   "metadata": {},
   "source": [
    "### Cosine Similarity:\n",
    "Intuition: Dot product increases if both pairs have the same sign and decreases if pairs have different signs (similar to correlation, actually Pearson correlation is just cosine similarity of the mean centered vectors). Division by the norms is necessary to penalize vectors which has large values."
   ]
  },
  {
   "cell_type": "code",
   "execution_count": 54,
   "metadata": {},
   "outputs": [
    {
     "data": {
      "text/plain": [
       "array([  2,   1,   1,   1,   1,   2,   1,   1,   2,  32,   2,   1,   2,\n",
       "         3,   1,   4,   1,   1,   2,  13,   2,   2,   2,   7,   1,   2,\n",
       "         1,  10,   1,   1,  17,   2,   1,   4,   1,   1,   1,   1,   1,\n",
       "         1,   6,   4,   1,   1,   1,   1,   1,   1,   1,  19,   1,   1,\n",
       "         1,   1,   1,   3,   1,   1,   1,   2,   1,   1,   1,   1,   3,\n",
       "         1,   5,  16,   3,   2,   1,   1,   3,   2,   1,   4,   1,   1,\n",
       "        33, 155,   1,   1,   2,   1,   1,   1,   1,   1,   1,   1,   2,\n",
       "         3,   3,   1,   2,   1,   1,   1,   1,   1,   2,   1,   1,   1,\n",
       "         1,   1,   1,   1,   1,   2,   1,   4,   1,   1,   1,   1,   1,\n",
       "         1,   1,   3,   1,   2,   2,   6,   1,   1,   1,   1,   1,   1,\n",
       "         1,   1,   1,   1,   5,   1,   1,   1,   1,   1,   1,   1,   4,\n",
       "         1,   1,   1,   1,   1,   1,   1,   1,   1,   1,   2,   1,   1,\n",
       "        26,   1,   1,   3,   1,   1,   3,   1,   2,   4,   1,   1,   1,\n",
       "         1,   5,   1,   1,   3,   1,   9,   1,   1,   2,   1,   2,   2,\n",
       "         1,   1,  16, 169,  41,   5,   2,   1,   1,   3,   3,   1,   2,\n",
       "         1,   1,   1,   1,   6,   2,   1,   1,   1,   1,   1,   5,   2,\n",
       "         1,   1,   1,   2,   1,   1,   1,   7,   2,   2,   1,  17,   1,\n",
       "         2,   1,   1,   1,   2,   2,   1,   1,   1,   1,   1,   1,   1,\n",
       "         1,   1,   1,   1,   1,   1,   1,   1,   2,   1,   1,   2,   1,\n",
       "         1,   1,   1,   1,   1,   1,   2,   2,   1,   2,   1,   1,   1,\n",
       "         3,   1,   3,  12,   4,   9,  16,   7,   1,   1,   2,   1,   2,\n",
       "         1,   1,   5,   1,   1,   1,   1])"
      ]
     },
     "execution_count": 54,
     "metadata": {},
     "output_type": "execute_result"
    }
   ],
   "source": [
    "co_matrix[:,0][np.nonzero(co_matrix[:,0])]"
   ]
  },
  {
   "cell_type": "code",
   "execution_count": 29,
   "metadata": {},
   "outputs": [],
   "source": [
    "# Finds cosine similarity between two vectors a and b\n",
    "def cosine(a, b):\n",
    "    dot = np.dot(a, b)\n",
    "    norma = np.linalg.norm(a)\n",
    "    normb = np.linalg.norm(b)\n",
    "    return dot / (norma * normb)"
   ]
  },
  {
   "cell_type": "markdown",
   "metadata": {},
   "source": [
    "Find most similar words to the target word using cosine similarity"
   ]
  },
  {
   "cell_type": "code",
   "execution_count": 55,
   "metadata": {},
   "outputs": [
    {
     "data": {
      "text/plain": [
       "4646"
      ]
     },
     "execution_count": 55,
     "metadata": {},
     "output_type": "execute_result"
    }
   ],
   "source": [
    "target = word_to_index['book']\n",
    "target"
   ]
  },
  {
   "cell_type": "code",
   "execution_count": 56,
   "metadata": {},
   "outputs": [
    {
     "name": "stdout",
     "output_type": "stream",
     "text": [
      "(37011,)\n"
     ]
    },
    {
     "data": {
      "text/plain": [
       "array([0, 0, 2, 0, 0, 0, 0, 0, 0, 0])"
      ]
     },
     "execution_count": 56,
     "metadata": {},
     "output_type": "execute_result"
    }
   ],
   "source": [
    "word_vector = co_matrix[target,:]\n",
    "print(word_vector.shape)\n",
    "word_vector[:10]"
   ]
  },
  {
   "cell_type": "code",
   "execution_count": 57,
   "metadata": {},
   "outputs": [
    {
     "data": {
      "text/plain": [
       "(37011, 1)"
      ]
     },
     "execution_count": 57,
     "metadata": {},
     "output_type": "execute_result"
    }
   ],
   "source": [
    "word_vector = np.reshape(word_vector,(word_vector.size,1 ))\n",
    "word_vector.shape"
   ]
  },
  {
   "cell_type": "code",
   "execution_count": 33,
   "metadata": {},
   "outputs": [
    {
     "data": {
      "text/plain": [
       "array([ 38012,   8980, 130748, ...,    971,    117,    744])"
      ]
     },
     "execution_count": 33,
     "metadata": {},
     "output_type": "execute_result"
    }
   ],
   "source": [
    "sims = np.dot(word_vector.T,co_matrix)\n",
    "sims = sims[0,:]\n",
    "sims"
   ]
  },
  {
   "cell_type": "code",
   "execution_count": 34,
   "metadata": {},
   "outputs": [
    {
     "data": {
      "text/plain": [
       "array([18209, 22508,  6051, 33447, 22509, 22746, 35325, 35322, 26780,\n",
       "       25405])"
      ]
     },
     "execution_count": 34,
     "metadata": {},
     "output_type": "execute_result"
    }
   ],
   "source": [
    "sims.argsort()[::-1][:10]"
   ]
  },
  {
   "cell_type": "code",
   "execution_count": 35,
   "metadata": {},
   "outputs": [
    {
     "data": {
      "text/plain": [
       "'cc'"
      ]
     },
     "execution_count": 35,
     "metadata": {},
     "output_type": "execute_result"
    }
   ],
   "source": [
    "index_to_word[6051]"
   ]
  },
  {
   "cell_type": "code",
   "execution_count": 38,
   "metadata": {},
   "outputs": [],
   "source": [
    "def incremental_row_norms(matrix):\n",
    "    row_norms = []\n",
    "    # Iterate over each row in the matrix\n",
    "    for row in matrix:\n",
    "        # Compute the Euclidean norm (L2 norm) of the row\n",
    "        row_norm = np.sqrt(np.dot(row, row))\n",
    "        row_norms.append(row_norm)\n",
    "    return row_norms"
   ]
  },
  {
   "cell_type": "code",
   "execution_count": 40,
   "metadata": {},
   "outputs": [
    {
     "data": {
      "text/plain": [
       "[157.87336697492708,\n",
       " 40.124805295477756,\n",
       " 505.8932693760612,\n",
       " 4.69041575982343,\n",
       " 2.8284271247461903,\n",
       " 2.8284271247461903,\n",
       " 10.677078252031311,\n",
       " 2.449489742783178,\n",
       " 2.449489742783178,\n",
       " 8.94427190999916,\n",
       " 2.8284271247461903,\n",
       " 4.47213595499958,\n",
       " 9.643650760992955,\n",
       " 2.449489742783178,\n",
       " 2.8284271247461903,\n",
       " 7.3484692283495345,\n",
       " 2.0,\n",
       " 2.8284271247461903,\n",
       " 2.449489742783178,\n",
       " 17.944358444926362,\n",
       " 2.23606797749979,\n",
       " 9.899494936611665,\n",
       " 2.449489742783178,\n",
       " 2.8284271247461903,\n",
       " 2.449489742783178,\n",
       " 2.449489742783178,\n",
       " 10.954451150103322,\n",
       " 2.8284271247461903,\n",
       " 4.0,\n",
       " 5.830951894845301,\n",
       " 3.4641016151377544,\n",
       " 2.0,\n",
       " 2.449489742783178,\n",
       " 4.898979485566356,\n",
       " 4.69041575982343,\n",
       " 2.449489742783178,\n",
       " 26.40075756488817,\n",
       " 3.4641016151377544,\n",
       " 1223.6314804711426,\n",
       " 333.42615374322395,\n",
       " 167.91962362987834,\n",
       " 21.18962010041709,\n",
       " 2.8284271247461903,\n",
       " 4.898979485566356,\n",
       " 2.8284271247461903,\n",
       " 4.0,\n",
       " 4.47213595499958,\n",
       " 2.8284271247461903,\n",
       " 2.449489742783178,\n",
       " 31.016124838541646,\n",
       " 21.42428528562855,\n",
       " 10.862780491200215,\n",
       " 2.449489742783178,\n",
       " 9.327379053088816,\n",
       " 5.0990195135927845,\n",
       " 4.242640687119285,\n",
       " 4.242640687119285,\n",
       " 2.8284271247461903,\n",
       " 2.0,\n",
       " 9.38083151964686,\n",
       " 8.94427190999916,\n",
       " 2.0,\n",
       " 128.18736287169654,\n",
       " 15.033296378372908,\n",
       " 9.643650760992955,\n",
       " 10.0,\n",
       " 6.324555320336759,\n",
       " 8.888194417315589,\n",
       " 3.7416573867739413,\n",
       " 2.8284271247461903,\n",
       " 4.0,\n",
       " 2.8284271247461903,\n",
       " 2.8284271247461903,\n",
       " 1.7320508075688772,\n",
       " 2.449489742783178,\n",
       " 5.744562646538029,\n",
       " 193.69821888700992,\n",
       " 14.352700094407323,\n",
       " 3.7416573867739413,\n",
       " 7.14142842854285,\n",
       " 4.69041575982343,\n",
       " 2.8284271247461903,\n",
       " 7.280109889280518,\n",
       " 2.449489742783178,\n",
       " 2.8284271247461903,\n",
       " 2.449489742783178,\n",
       " 4.242640687119285,\n",
       " 10.488088481701515,\n",
       " 2.449489742783178,\n",
       " 7.54983443527075,\n",
       " 3.1622776601683795,\n",
       " 8.246211251235321,\n",
       " 2.449489742783178,\n",
       " 2.449489742783178,\n",
       " 2.8284271247461903,\n",
       " 2.449489742783178,\n",
       " 2.8284271247461903,\n",
       " 97.21625378505387,\n",
       " 10.198039027185569,\n",
       " 2.449489742783178,\n",
       " 2.8284271247461903,\n",
       " 2.8284271247461903,\n",
       " 2.449489742783178,\n",
       " 2.449489742783178,\n",
       " 9.273618495495704,\n",
       " 12.328828005937952,\n",
       " 9.327379053088816,\n",
       " 2.449489742783178,\n",
       " 4.898979485566356,\n",
       " 10.677078252031311,\n",
       " 119.824872209404,\n",
       " 10.908712114635714,\n",
       " 2.8284271247461903,\n",
       " 2.449489742783178,\n",
       " 2.449489742783178,\n",
       " 3.3166247903554,\n",
       " 2.449489742783178,\n",
       " 2.0,\n",
       " 3.7416573867739413,\n",
       " 2.0,\n",
       " 3.3166247903554,\n",
       " 2.449489742783178,\n",
       " 2.449489742783178,\n",
       " 2.6457513110645907,\n",
       " 3.7416573867739413,\n",
       " 2.449489742783178,\n",
       " 7.280109889280518,\n",
       " 217.07141681944216,\n",
       " 27.367864366808018,\n",
       " 5.291502622129181,\n",
       " 2.23606797749979,\n",
       " 2.449489742783178,\n",
       " 2.449489742783178,\n",
       " 2.449489742783178,\n",
       " 4.242640687119285,\n",
       " 8.48528137423857,\n",
       " 2.449489742783178,\n",
       " 1.7320508075688772,\n",
       " 4.795831523312719,\n",
       " 2.449489742783178,\n",
       " 2.449489742783178,\n",
       " 5.477225575051661,\n",
       " 4.0,\n",
       " 3.872983346207417,\n",
       " 3.7416573867739413,\n",
       " 4.242640687119285,\n",
       " 4.898979485566356,\n",
       " 2.0,\n",
       " 4.898979485566356,\n",
       " 2.0,\n",
       " 2.449489742783178,\n",
       " 3.4641016151377544,\n",
       " 3.7416573867739413,\n",
       " 2.8284271247461903,\n",
       " 2.0,\n",
       " 3.4641016151377544,\n",
       " 5.0990195135927845,\n",
       " 6.164414002968976,\n",
       " 2.8284271247461903,\n",
       " 23.345235059857504,\n",
       " 114.74754899343166,\n",
       " 13.74772708486752,\n",
       " 8.06225774829855,\n",
       " 4.0,\n",
       " 4.58257569495584,\n",
       " 2.8284271247461903,\n",
       " 3.605551275463989,\n",
       " 2.8284271247461903,\n",
       " 5.196152422706632,\n",
       " 2.449489742783178,\n",
       " 5.744562646538029,\n",
       " 6.6332495807108,\n",
       " 3.3166247903554,\n",
       " 2.0,\n",
       " 5.477225575051661,\n",
       " 2.0,\n",
       " 4.242640687119285,\n",
       " 11.224972160321824,\n",
       " 2.449489742783178,\n",
       " 3.872983346207417,\n",
       " 7.615773105863909,\n",
       " 2.8284271247461903,\n",
       " 2.0,\n",
       " 7.483314773547883,\n",
       " 2.449489742783178,\n",
       " 2.8284271247461903,\n",
       " 2.449489742783178,\n",
       " 3.605551275463989,\n",
       " 1.7320508075688772,\n",
       " 2.8284271247461903,\n",
       " 2.449489742783178,\n",
       " 6.244997998398398,\n",
       " 2.449489742783178,\n",
       " 6.4031242374328485,\n",
       " 2.449489742783178,\n",
       " 2.8284271247461903,\n",
       " 3.4641016151377544,\n",
       " 3.4641016151377544,\n",
       " 2.8284271247461903,\n",
       " 2.8284271247461903,\n",
       " 2.449489742783178,\n",
       " 2.0,\n",
       " 6.0,\n",
       " 2.8284271247461903,\n",
       " 1.7320508075688772,\n",
       " 2.8284271247461903,\n",
       " 4.123105625617661,\n",
       " 3.1622776601683795,\n",
       " 2.449489742783178,\n",
       " 2.23606797749979,\n",
       " 9.797958971132712,\n",
       " 85.85452812752511,\n",
       " 10.583005244258363,\n",
       " 6.082762530298219,\n",
       " 2.8284271247461903,\n",
       " 5.0990195135927845,\n",
       " 2.449489742783178,\n",
       " 2.449489742783178,\n",
       " 4.0,\n",
       " 5.385164807134504,\n",
       " 1.7320508075688772,\n",
       " 3.3166247903554,\n",
       " 2.0,\n",
       " 2.449489742783178,\n",
       " 2.449489742783178,\n",
       " 2.449489742783178,\n",
       " 2.449489742783178,\n",
       " 2.449489742783178,\n",
       " 2.23606797749979,\n",
       " 2.449489742783178,\n",
       " 2.449489742783178,\n",
       " 3.1622776601683795,\n",
       " 2.23606797749979,\n",
       " 2.8284271247461903,\n",
       " 2.0,\n",
       " 2.449489742783178,\n",
       " 4.0,\n",
       " 2.0,\n",
       " 2.449489742783178,\n",
       " 2.449489742783178,\n",
       " 2.449489742783178,\n",
       " 4.0,\n",
       " 2.449489742783178,\n",
       " 2.449489742783178,\n",
       " 2.0,\n",
       " 2.449489742783178,\n",
       " 2.449489742783178,\n",
       " 8.12403840463596,\n",
       " 2.449489742783178,\n",
       " 4.0,\n",
       " 3.7416573867739413,\n",
       " 2.449489742783178,\n",
       " 4.47213595499958,\n",
       " 4.123105625617661,\n",
       " 2.449489742783178,\n",
       " 4.69041575982343,\n",
       " 6.928203230275509,\n",
       " 6.855654600401044,\n",
       " 7.0710678118654755,\n",
       " 2.449489742783178,\n",
       " 6.164414002968976,\n",
       " 5.0990195135927845,\n",
       " 8.54400374531753,\n",
       " 5.0990195135927845,\n",
       " 2.8284271247461903,\n",
       " 3.1622776601683795,\n",
       " 17.11724276862369,\n",
       " 97.65756499114649,\n",
       " 15.684387141358123,\n",
       " 5.0990195135927845,\n",
       " 7.3484692283495345,\n",
       " 1.7320508075688772,\n",
       " 8.0,\n",
       " 2.449489742783178,\n",
       " 2.8284271247461903,\n",
       " 1.7320508075688772,\n",
       " 2.8284271247461903,\n",
       " 2.8284271247461903,\n",
       " 7.937253933193772,\n",
       " 4.47213595499958,\n",
       " 6.708203932499369,\n",
       " 4.47213595499958,\n",
       " 3.605551275463989,\n",
       " 9.219544457292887,\n",
       " 2.0,\n",
       " 6.48074069840786,\n",
       " 6.48074069840786,\n",
       " 10.099504938362077,\n",
       " 2.449489742783178,\n",
       " 5.0990195135927845,\n",
       " 8.717797887081348,\n",
       " 4.0,\n",
       " 2.449489742783178,\n",
       " 5.291502622129181,\n",
       " 2.449489742783178,\n",
       " 4.898979485566356,\n",
       " 2.449489742783178,\n",
       " 4.242640687119285,\n",
       " 10.44030650891055,\n",
       " 2.8284271247461903,\n",
       " 7.810249675906654,\n",
       " 6.48074069840786,\n",
       " 3.872983346207417,\n",
       " 1.7320508075688772,\n",
       " 2.8284271247461903,\n",
       " 2.8284271247461903,\n",
       " 9.797958971132712,\n",
       " 2.8284271247461903,\n",
       " 2.449489742783178,\n",
       " 2.8284271247461903,\n",
       " 7.3484692283495345,\n",
       " 9.1104335791443,\n",
       " 1.7320508075688772,\n",
       " 4.0,\n",
       " 6.48074069840786,\n",
       " 4.0,\n",
       " 4.58257569495584,\n",
       " 7.615773105863909,\n",
       " 6.324555320336759,\n",
       " 2.8284271247461903,\n",
       " 1.7320508075688772,\n",
       " 2.0,\n",
       " 4.47213595499958,\n",
       " 3.7416573867739413,\n",
       " 3.3166247903554,\n",
       " 25.13961017995307,\n",
       " 2.449489742783178,\n",
       " 4.898979485566356,\n",
       " 7.937253933193772,\n",
       " 13.19090595827292,\n",
       " 5.0990195135927845,\n",
       " 5.830951894845301,\n",
       " 4.358898943540674,\n",
       " 10.583005244258363,\n",
       " 2.449489742783178,\n",
       " 2.0,\n",
       " 9.327379053088816,\n",
       " 2.449489742783178,\n",
       " 6.244997998398398,\n",
       " 4.47213595499958,\n",
       " 1.7320508075688772,\n",
       " 4.58257569495584,\n",
       " 2.0,\n",
       " 2.449489742783178,\n",
       " 6.0,\n",
       " 8.602325267042627,\n",
       " 2.23606797749979,\n",
       " 4.358898943540674,\n",
       " 4.58257569495584,\n",
       " 2.23606797749979,\n",
       " 3.3166247903554,\n",
       " 5.291502622129181,\n",
       " 6.928203230275509,\n",
       " 9.1104335791443,\n",
       " 4.47213595499958,\n",
       " 5.830951894845301,\n",
       " 4.47213595499958,\n",
       " 6.164414002968976,\n",
       " 9.797958971132712,\n",
       " 2.449489742783178,\n",
       " 4.47213595499958,\n",
       " 8.366600265340756,\n",
       " 2.0,\n",
       " 6.6332495807108,\n",
       " 7.745966692414834,\n",
       " 5.291502622129181,\n",
       " 13.379088160259652,\n",
       " 12.96148139681572,\n",
       " 7.211102550927978,\n",
       " 6.4031242374328485,\n",
       " 5.196152422706632,\n",
       " 6.164414002968976,\n",
       " 16.61324772583615,\n",
       " 66.84309986827361,\n",
       " 2.449489742783178,\n",
       " 22.67156809750927,\n",
       " 8.246211251235321,\n",
       " 5.830951894845301,\n",
       " 5.0990195135927845,\n",
       " 5.656854249492381,\n",
       " 8.717797887081348,\n",
       " 5.477225575051661,\n",
       " 7.0,\n",
       " 12.489995996796797,\n",
       " 10.583005244258363,\n",
       " 30.4138126514911,\n",
       " 6.244997998398398,\n",
       " 24.515301344262525,\n",
       " 18.973665961010276,\n",
       " 12.68857754044952,\n",
       " 8.06225774829855,\n",
       " 7.874007874011811,\n",
       " 16.24807680927192,\n",
       " 7.745966692414834,\n",
       " 10.0,\n",
       " 4.795831523312719,\n",
       " 21.72556098240043,\n",
       " 7.483314773547883,\n",
       " 13.564659966250536,\n",
       " 13.711309200802088,\n",
       " 12.806248474865697,\n",
       " 13.784048752090222,\n",
       " 14.89966442575134,\n",
       " 10.344080432788601,\n",
       " 28.548204847240395,\n",
       " 9.219544457292887,\n",
       " 11.40175425099138,\n",
       " 23.043437243605826,\n",
       " 4.242640687119285,\n",
       " 13.564659966250536,\n",
       " 7.0710678118654755,\n",
       " 12.884098726725126,\n",
       " 10.198039027185569,\n",
       " 14.45683229480096,\n",
       " 8.48528137423857,\n",
       " 13.820274961085254,\n",
       " 16.792855623746664,\n",
       " 10.770329614269007,\n",
       " 21.633307652783937,\n",
       " 2.0,\n",
       " 16.703293088490067,\n",
       " 16.61324772583615,\n",
       " 18.275666882497067,\n",
       " 22.090722034374522,\n",
       " 26.70205984563738,\n",
       " 30.380915061926625,\n",
       " 24.698178070456937,\n",
       " 31.192947920964443,\n",
       " 26.851443164195103,\n",
       " 5.477225575051661,\n",
       " 36.180105030251084,\n",
       " 4.795831523312719,\n",
       " 29.866369046136157,\n",
       " 46.238512086787566,\n",
       " 39.102429592034305,\n",
       " 62.39390995922599,\n",
       " 43.829214001622255,\n",
       " 46.4327470649756,\n",
       " 75.24626236564843,\n",
       " 1.7320508075688772,\n",
       " 146.18481453283715,\n",
       " 158.28771272590933,\n",
       " 3.4641016151377544,\n",
       " 273.2965422393778,\n",
       " 2.0,\n",
       " 211.45685139053782,\n",
       " 58.32666628567074,\n",
       " 17.320508075688775,\n",
       " 5.656854249492381,\n",
       " 8.12403840463596,\n",
       " 7.0710678118654755,\n",
       " 5.0990195135927845,\n",
       " 4.69041575982343,\n",
       " 2.449489742783178,\n",
       " 1.7320508075688772,\n",
       " 4.0,\n",
       " 1.7320508075688772,\n",
       " 2.449489742783178,\n",
       " 7.483314773547883,\n",
       " 1.7320508075688772,\n",
       " 2.8284271247461903,\n",
       " 5.916079783099616,\n",
       " 2.8284271247461903,\n",
       " 19.544820285692065,\n",
       " 3.1622776601683795,\n",
       " 2.8284271247461903,\n",
       " 1071.3948851847297,\n",
       " 199.65720623107998,\n",
       " 86.86771552193599,\n",
       " 8.774964387392123,\n",
       " 2.449489742783178,\n",
       " 14.798648586948742,\n",
       " 2.8284271247461903,\n",
       " 2.449489742783178,\n",
       " 2.8284271247461903,\n",
       " 2.8284271247461903,\n",
       " 2.449489742783178,\n",
       " 1.7320508075688772,\n",
       " 24.939927826679853,\n",
       " 89.82204629154248,\n",
       " 7.745966692414834,\n",
       " 6.928203230275509,\n",
       " 3.605551275463989,\n",
       " 2.449489742783178,\n",
       " 4.0,\n",
       " 4.0,\n",
       " 1.7320508075688772,\n",
       " 6.782329983125268,\n",
       " 2.8284271247461903,\n",
       " 2.449489742783178,\n",
       " 2.449489742783178,\n",
       " 6.6332495807108,\n",
       " 95.08943158942533,\n",
       " 8.0,\n",
       " 2.449489742783178,\n",
       " 2.8284271247461903,\n",
       " 2.8284271247461903,\n",
       " 2.8284271247461903,\n",
       " 2.449489742783178,\n",
       " 5.0990195135927845,\n",
       " 2.8284271247461903,\n",
       " 2.23606797749979,\n",
       " 2.449489742783178,\n",
       " 4.242640687119285,\n",
       " 6.6332495807108,\n",
       " 5.656854249492381,\n",
       " 97.83148777362021,\n",
       " 11.045361017187261,\n",
       " 3.7416573867739413,\n",
       " 2.8284271247461903,\n",
       " 2.8284271247461903,\n",
       " 4.47213595499958,\n",
       " 2.449489742783178,\n",
       " 13.2664991614216,\n",
       " 5.656854249492381,\n",
       " 94.95261976375376,\n",
       " 6.4031242374328485,\n",
       " 3.4641016151377544,\n",
       " 2.8284271247461903,\n",
       " 3.1622776601683795,\n",
       " 2.8284271247461903,\n",
       " 4.58257569495584,\n",
       " 11.180339887498949,\n",
       " 166.01807130550577,\n",
       " 31.827660925679098,\n",
       " 4.358898943540674,\n",
       " 2.449489742783178,\n",
       " 5.291502622129181,\n",
       " 2.449489742783178,\n",
       " 2.8284271247461903,\n",
       " 2.449489742783178,\n",
       " 7.615773105863909,\n",
       " 2.8284271247461903,\n",
       " 3.3166247903554,\n",
       " 4.0,\n",
       " 66.49060083951716,\n",
       " 8.717797887081348,\n",
       " 2.0,\n",
       " 2.8284271247461903,\n",
       " 2.8284271247461903,\n",
       " 4.0,\n",
       " 2.8284271247461903,\n",
       " 1.7320508075688772,\n",
       " 4.0,\n",
       " 52.67826876426369,\n",
       " 6.6332495807108,\n",
       " 2.449489742783178,\n",
       " 3.872983346207417,\n",
       " 2.8284271247461903,\n",
       " 4.0,\n",
       " 2.8284271247461903,\n",
       " 10.04987562112089,\n",
       " 2.449489742783178,\n",
       " 3.872983346207417,\n",
       " 2.8284271247461903,\n",
       " 49.68903299521938,\n",
       " 10.295630140987,\n",
       " 2.8284271247461903,\n",
       " 2.6457513110645907,\n",
       " 2.8284271247461903,\n",
       " 2.8284271247461903,\n",
       " 3.4641016151377544,\n",
       " 2.449489742783178,\n",
       " 10.392304845413264,\n",
       " 47.042533945356304,\n",
       " 2.8284271247461903,\n",
       " 2.449489742783178,\n",
       " 2.0,\n",
       " 2.449489742783178,\n",
       " 2.449489742783178,\n",
       " 8.602325267042627,\n",
       " 2.449489742783178,\n",
       " 7.615773105863909,\n",
       " 5.830951894845301,\n",
       " 610.8649605272838,\n",
       " 258.9517329542322,\n",
       " 64.72248450113763,\n",
       " 2.449489742783178,\n",
       " 1.7320508075688772,\n",
       " 2.0,\n",
       " 2.449489742783178,\n",
       " 2.6457513110645907,\n",
       " 8.831760866327848,\n",
       " 75.09993342207434,\n",
       " 2.449489742783178,\n",
       " 2.8284271247461903,\n",
       " 2.449489742783178,\n",
       " 2.8284271247461903,\n",
       " 2.8284271247461903,\n",
       " 2.8284271247461903,\n",
       " 2.449489742783178,\n",
       " 2.8284271247461903,\n",
       " 4.898979485566356,\n",
       " 35.38361202590826,\n",
       " 4.0,\n",
       " 2.8284271247461903,\n",
       " 4.47213595499958,\n",
       " 2.449489742783178,\n",
       " 2.8284271247461903,\n",
       " 7.3484692283495345,\n",
       " 2.8284271247461903,\n",
       " 2.449489742783178,\n",
       " 26.851443164195103,\n",
       " 7.211102550927978,\n",
       " 2.449489742783178,\n",
       " 6.6332495807108,\n",
       " 2.0,\n",
       " 4.47213595499958,\n",
       " 2.449489742783178,\n",
       " 2.8284271247461903,\n",
       " 53.898051912847464,\n",
       " 4.0,\n",
       " 2.8284271247461903,\n",
       " 2.449489742783178,\n",
       " 4.0,\n",
       " 2.8284271247461903,\n",
       " 4.123105625617661,\n",
       " 8.12403840463596,\n",
       " 48.60041152089147,\n",
       " 19.467922333931785,\n",
       " 2.8284271247461903,\n",
       " 2.8284271247461903,\n",
       " 1.7320508075688772,\n",
       " 8.660254037844387,\n",
       " 5.477225575051661,\n",
       " 5.385164807134504,\n",
       " 2.449489742783178,\n",
       " 52.05766033928148,\n",
       " 10.488088481701515,\n",
       " 3.605551275463989,\n",
       " 3.872983346207417,\n",
       " 2.449489742783178,\n",
       " 2.6457513110645907,\n",
       " 2.8284271247461903,\n",
       " 2.449489742783178,\n",
       " 6.928203230275509,\n",
       " 4.69041575982343,\n",
       " 2.449489742783178,\n",
       " 36.08323710533743,\n",
       " 2.0,\n",
       " 9.746794344808963,\n",
       " 2.0,\n",
       " 2.449489742783178,\n",
       " 2.449489742783178,\n",
       " 26.057628441590765,\n",
       " 4.0,\n",
       " 33.15116890850155,\n",
       " 3.1622776601683795,\n",
       " 2.8284271247461903,\n",
       " 3.4641016151377544,\n",
       " 15.811388300841896,\n",
       " 4.898979485566356,\n",
       " 2.8284271247461903,\n",
       " 5.0990195135927845,\n",
       " 2.449489742783178,\n",
       " 3.605551275463989,\n",
       " 2.449489742783178,\n",
       " 2.8284271247461903,\n",
       " 3.4641016151377544,\n",
       " 8.366600265340756,\n",
       " 477.4358595664972,\n",
       " 100.2496882788171,\n",
       " 48.03123983409131,\n",
       " 2.23606797749979,\n",
       " 2.0,\n",
       " 2.0,\n",
       " 2.449489742783178,\n",
       " 4.47213595499958,\n",
       " 18.973665961010276,\n",
       " 3.7416573867739413,\n",
       " 4.898979485566356,\n",
       " 2.0,\n",
       " 2.0,\n",
       " 2.449489742783178,\n",
       " 2.8284271247461903,\n",
       " 3.7416573867739413,\n",
       " 2.449489742783178,\n",
       " 26.589471600616662,\n",
       " 5.477225575051661,\n",
       " 2.8284271247461903,\n",
       " 2.449489742783178,\n",
       " 2.449489742783178,\n",
       " 2.8284271247461903,\n",
       " 19.8997487421324,\n",
       " 2.449489742783178,\n",
       " 2.449489742783178,\n",
       " 2.8284271247461903,\n",
       " 14.2828568570857,\n",
       " 2.0,\n",
       " 2.449489742783178,\n",
       " 2.0,\n",
       " 2.449489742783178,\n",
       " 2.0,\n",
       " 2.449489742783178,\n",
       " 2.449489742783178,\n",
       " 2.23606797749979,\n",
       " 2.0,\n",
       " 5.830951894845301,\n",
       " 40.34848200366403,\n",
       " 21.047565179849187,\n",
       " 4.0,\n",
       " 3.1622776601683795,\n",
       " 2.449489742783178,\n",
       " 23.53720459187964,\n",
       " 3.7416573867739413,\n",
       " 3.0,\n",
       " 2.6457513110645907,\n",
       " 2.449489742783178,\n",
       " 2.8284271247461903,\n",
       " 4.69041575982343,\n",
       " 20.615528128088304,\n",
       " 5.830951894845301,\n",
       " 25.96150997149434,\n",
       " 4.0,\n",
       " 2.449489742783178,\n",
       " 2.449489742783178,\n",
       " 2.449489742783178,\n",
       " 2.449489742783178,\n",
       " 11.61895003862225,\n",
       " 2.0,\n",
       " 2.449489742783178,\n",
       " 2.449489742783178,\n",
       " 2.449489742783178,\n",
       " 4.123105625617661,\n",
       " 3.4641016151377544,\n",
       " 2.449489742783178,\n",
       " 17.291616465790582,\n",
       " 391.76013069223876,\n",
       " 173.51656981395178,\n",
       " 91.18113840043894,\n",
       " 15.0996688705415,\n",
       " 3.4641016151377544,\n",
       " 2.8284271247461903,\n",
       " 2.8284271247461903,\n",
       " 2.8284271247461903,\n",
       " 2.8284271247461903,\n",
       " 5.656854249492381,\n",
       " 7.745966692414834,\n",
       " 2.449489742783178,\n",
       " 2.8284271247461903,\n",
       " 11.135528725660043,\n",
       " 3.7416573867739413,\n",
       " 2.8284271247461903,\n",
       " 2.8284271247461903,\n",
       " 3.7416573867739413,\n",
       " 4.0,\n",
       " 32.37282811247729,\n",
       " 4.69041575982343,\n",
       " 3.7416573867739413,\n",
       " 3.7416573867739413,\n",
       " 2.449489742783178,\n",
       " 2.8284271247461903,\n",
       " 2.8284271247461903,\n",
       " 2.449489742783178,\n",
       " 10.535653752852738,\n",
       " 2.449489742783178,\n",
       " 4.898979485566356,\n",
       " 12.041594578792296,\n",
       " 5.656854249492381,\n",
       " 4.242640687119285,\n",
       " 2.449489742783178,\n",
       " 2.8284271247461903,\n",
       " 2.23606797749979,\n",
       " 2.8284271247461903,\n",
       " 20.784609690826528,\n",
       " 3.4641016151377544,\n",
       " 2.8284271247461903,\n",
       " 2.449489742783178,\n",
       " 2.449489742783178,\n",
       " 25.41653005427767,\n",
       " 2.449489742783178,\n",
       " 2.449489742783178,\n",
       " 2.449489742783178,\n",
       " 2.449489742783178,\n",
       " 4.242640687119285,\n",
       " 2.8284271247461903,\n",
       " 3.0,\n",
       " 21.400934559032695,\n",
       " 2.449489742783178,\n",
       " 2.8284271247461903,\n",
       " 2.0,\n",
       " 2.449489742783178,\n",
       " 17.88854381999832,\n",
       " 2.449489742783178,\n",
       " 4.0,\n",
       " 3.4641016151377544,\n",
       " 2.8284271247461903,\n",
       " 2.8284271247461903,\n",
       " 2.449489742783178,\n",
       " 3.7416573867739413,\n",
       " 5.656854249492381,\n",
       " 9.055385138137417,\n",
       " 2.23606797749979,\n",
       " 4.242640687119285,\n",
       " 273.5982456084103,\n",
       " 95.05261700763425,\n",
       " 38.03945320322047,\n",
       " 4.0,\n",
       " 3.4641016151377544,\n",
       " 2.8284271247461903,\n",
       " 2.23606797749979,\n",
       " 2.8284271247461903,\n",
       " 3.4641016151377544,\n",
       " 2.449489742783178,\n",
       " 5.0,\n",
       " 3.4641016151377544,\n",
       " 2.0,\n",
       " 19.026297590440446,\n",
       " 2.449489742783178,\n",
       " 2.449489742783178,\n",
       " 2.449489742783178,\n",
       " 2.449489742783178,\n",
       " 2.0,\n",
       " 2.449489742783178,\n",
       " 2.449489742783178,\n",
       " 2.8284271247461903,\n",
       " 8.306623862918075,\n",
       " 3.872983346207417,\n",
       " 2.8284271247461903,\n",
       " 13.638181696985855,\n",
       " 2.449489742783178,\n",
       " 2.8284271247461903,\n",
       " 2.449489742783178,\n",
       " 2.449489742783178,\n",
       " 2.449489742783178,\n",
       " 2.449489742783178,\n",
       " 14.966629547095765,\n",
       " 2.449489742783178,\n",
       " 2.449489742783178,\n",
       " 2.449489742783178,\n",
       " 2.8284271247461903,\n",
       " 32.2490309931942,\n",
       " 4.242640687119285,\n",
       " 8.888194417315589,\n",
       " 2.23606797749979,\n",
       " 2.8284271247461903,\n",
       " 5.656854249492381,\n",
       " 2.449489742783178,\n",
       " 3.7416573867739413,\n",
       " 2.8284271247461903,\n",
       " 3.7416573867739413,\n",
       " 2.8284271247461903,\n",
       " 10.954451150103322,\n",
       " 2.6457513110645907,\n",
       " 2.8284271247461903,\n",
       " 11.916375287812984,\n",
       " 3.1622776601683795,\n",
       " 2.8284271247461903,\n",
       " 2.449489742783178,\n",
       " 2.8284271247461903,\n",
       " 13.0,\n",
       " 252.36085274859886,\n",
       " 63.20601237224193,\n",
       " 22.181073012818835,\n",
       " 5.196152422706632,\n",
       " 2.449489742783178,\n",
       " 3.1622776601683795,\n",
       " 3.4641016151377544,\n",
       " 2.8284271247461903,\n",
       " 6.6332495807108,\n",
       " 11.489125293076057,\n",
       " 9.38083151964686,\n",
       " 2.449489742783178,\n",
       " 15.588457268119896,\n",
       " 2.8284271247461903,\n",
       " 18.05547008526779,\n",
       " 2.449489742783178,\n",
       " 2.6457513110645907,\n",
       " 2.8284271247461903,\n",
       " 6.0,\n",
       " 7.810249675906654,\n",
       " 2.8284271247461903,\n",
       " 5.477225575051661,\n",
       " 12.328828005937952,\n",
       " 4.0,\n",
       " 2.0,\n",
       " 2.8284271247461903,\n",
       " 2.23606797749979,\n",
       " 2.0,\n",
       " 2.449489742783178,\n",
       " 53.21653878260028,\n",
       " 14.212670403551895,\n",
       " 2.449489742783178,\n",
       " 2.449489742783178,\n",
       " 2.449489742783178,\n",
       " 2.449489742783178,\n",
       " 2.449489742783178,\n",
       " 12.288205727444508,\n",
       " 2.8284271247461903,\n",
       " 2.8284271247461903,\n",
       " 2.449489742783178,\n",
       " 2.449489742783178,\n",
       " 2.449489742783178,\n",
       " 11.40175425099138,\n",
       " 4.0,\n",
       " 11.0,\n",
       " 2.449489742783178,\n",
       " 4.69041575982343,\n",
       " 5.830951894845301,\n",
       " 2.449489742783178,\n",
       " 2.0,\n",
       " 2.8284271247461903,\n",
       " 2.8284271247461903,\n",
       " 2.8284271247461903,\n",
       " 20.71231517720798,\n",
       " 269.0,\n",
       " 44.97777228809804,\n",
       " 34.77067730142742,\n",
       " 2.449489742783178,\n",
       " 2.8284271247461903,\n",
       " 8.48528137423857,\n",
       " 2.8284271247461903,\n",
       " 2.449489742783178,\n",
       " 4.898979485566356,\n",
       " 2.449489742783178,\n",
       " 3.7416573867739413,\n",
       " 4.0,\n",
       " 2.449489742783178,\n",
       " 2.8284271247461903,\n",
       " 6.082762530298219,\n",
       " 2.8284271247461903,\n",
       " 2.8284271247461903,\n",
       " 2.449489742783178,\n",
       " 4.47213595499958,\n",
       " 3.872983346207417,\n",
       " 2.449489742783178,\n",
       " 2.8284271247461903,\n",
       " 30.04995840263344,\n",
       " 2.8284271247461903,\n",
       " 14.0,\n",
       " 2.0,\n",
       " 2.8284271247461903,\n",
       " 2.8284271247461903,\n",
       " 8.660254037844387,\n",
       " 2.449489742783178,\n",
       " 2.8284271247461903,\n",
       " 3.7416573867739413,\n",
       " 4.47213595499958,\n",
       " 5.196152422706632,\n",
       " 2.449489742783178,\n",
       " 1.7320508075688772,\n",
       " 2.449489742783178,\n",
       " 2.449489742783178,\n",
       " 5.477225575051661,\n",
       " 2.449489742783178,\n",
       " 2.8284271247461903,\n",
       " 5.385164807134504,\n",
       " 146.50255970460037,\n",
       " 39.97499218261337,\n",
       " 19.697715603592208,\n",
       " 2.449489742783178,\n",
       " 2.449489742783178,\n",
       " 2.8284271247461903,\n",
       " 2.23606797749979,\n",
       " 2.449489742783178,\n",
       " 7.483314773547883,\n",
       " 2.8284271247461903,\n",
       " 2.449489742783178,\n",
       " 2.8284271247461903,\n",
       " 2.449489742783178,\n",
       " 6.164414002968976,\n",
       " 2.8284271247461903,\n",
       " 2.449489742783178,\n",
       " 6.164414002968976,\n",
       " 2.8284271247461903,\n",
       " 2.449489742783178,\n",
       " 2.449489742783178,\n",
       " 10.908712114635714,\n",
       " 2.449489742783178,\n",
       " 2.449489742783178,\n",
       " 10.392304845413264,\n",
       " 2.449489742783178,\n",
       " 2.449489742783178,\n",
       " 4.242640687119285,\n",
       " 8.366600265340756,\n",
       " 9.38083151964686,\n",
       " 2.449489742783178,\n",
       " 1.7320508075688772,\n",
       " 17.349351572897472,\n",
       " 2.449489742783178,\n",
       " 2.8284271247461903,\n",
       " 3.0,\n",
       " 2.8284271247461903,\n",
       " 2.449489742783178,\n",
       " 12.24744871391589,\n",
       " 1.7320508075688772,\n",
       " 2.8284271247461903,\n",
       " 1.0,\n",
       " 2.449489742783178,\n",
       " 2.23606797749979,\n",
       " 2.0,\n",
       " 5.0990195135927845,\n",
       " 1.7320508075688772,\n",
       " 16.97056274847714,\n",
       " 8.0,\n",
       " 2.23606797749979,\n",
       " 2.23606797749979,\n",
       " 2.8284271247461903,\n",
       " 4.0,\n",
       " 25.337718918639855,\n",
       " ...]"
      ]
     },
     "execution_count": 40,
     "metadata": {},
     "output_type": "execute_result"
    }
   ],
   "source": [
    "norms = incremental_row_norms(co_matrix.T)\n",
    "norms"
   ]
  },
  {
   "cell_type": "code",
   "execution_count": 41,
   "metadata": {},
   "outputs": [],
   "source": [
    "norm_sims = np.divide(sims,norms)"
   ]
  },
  {
   "cell_type": "code",
   "execution_count": 42,
   "metadata": {},
   "outputs": [
    {
     "data": {
      "text/plain": [
       "array([ 4646, 13381,  8258, 19522, 23159,  5911, 20493, 14972, 12904,\n",
       "       20579])"
      ]
     },
     "execution_count": 42,
     "metadata": {},
     "output_type": "execute_result"
    }
   ],
   "source": [
    "norm_sims.argsort()[::-1][:10]"
   ]
  },
  {
   "cell_type": "code",
   "execution_count": 43,
   "metadata": {},
   "outputs": [
    {
     "data": {
      "text/plain": [
       "'book'"
      ]
     },
     "execution_count": 43,
     "metadata": {},
     "output_type": "execute_result"
    }
   ],
   "source": [
    "index_to_word[4646]"
   ]
  },
  {
   "cell_type": "code",
   "execution_count": 46,
   "metadata": {
    "scrolled": true
   },
   "outputs": [
    {
     "data": {
      "text/plain": [
       "'line'"
      ]
     },
     "execution_count": 46,
     "metadata": {},
     "output_type": "execute_result"
    }
   ],
   "source": [
    "index_to_word[19522]"
   ]
  },
  {
   "cell_type": "code",
   "execution_count": 58,
   "metadata": {},
   "outputs": [
    {
     "data": {
      "text/plain": [
       "array([35325, 26780, 35324, 35326, 35322,  1210, 22746,  4129, 16440,\n",
       "        6053])"
      ]
     },
     "execution_count": 58,
     "metadata": {},
     "output_type": "execute_result"
    }
   ],
   "source": [
    "word_vector = co_matrix[word_to_index['book'],:]\n",
    "word_vector = np.reshape(word_vector,(1,word_vector.size))\n",
    "sims = np.dot(word_vector,co_matrix)\n",
    "sims = sims[0,:]\n",
    "norm_sims = np.divide(sims,norms)\n",
    "top10 = norm_sims.argsort()[::-1][:10]\n",
    "top10"
   ]
  },
  {
   "cell_type": "code",
   "execution_count": 59,
   "metadata": {},
   "outputs": [
    {
     "name": "stdout",
     "output_type": "stream",
     "text": [
      "vbn\n",
      "rb\n",
      "vbg\n",
      "vbz\n",
      "vb\n",
      "according\n",
      "np\n",
      "beyond\n",
      "hvg\n",
      "cd\n"
     ]
    }
   ],
   "source": [
    "for i in range(len(top10)):\n",
    "    print(index_to_word[top10[i]])"
   ]
  },
  {
   "cell_type": "code",
   "execution_count": 60,
   "metadata": {},
   "outputs": [
    {
     "data": {
      "text/plain": [
       "array([35325, 26780, 35324, 35322,  1210,  6053,  1052,  2401, 35326,\n",
       "        4129])"
      ]
     },
     "execution_count": 60,
     "metadata": {},
     "output_type": "execute_result"
    }
   ],
   "source": [
    "word_vector = co_matrix[word_to_index['friend'],:]\n",
    "word_vector = np.reshape(word_vector,(1,word_vector.size))\n",
    "sims = np.dot(word_vector,co_matrix)\n",
    "sims = sims[0,:]\n",
    "norm_sims = np.divide(sims,norms)\n",
    "top10 = norm_sims.argsort()[::-1][:10]\n",
    "top10"
   ]
  },
  {
   "cell_type": "code",
   "execution_count": 61,
   "metadata": {},
   "outputs": [
    {
     "name": "stdout",
     "output_type": "stream",
     "text": [
      "vbn\n",
      "rb\n",
      "vbg\n",
      "vb\n",
      "according\n",
      "cd\n",
      "abn\n",
      "ap\n",
      "vbz\n",
      "beyond\n"
     ]
    }
   ],
   "source": [
    "for i in range(len(top10)):\n",
    "    print(index_to_word[top10[i]])"
   ]
  }
 ],
 "metadata": {
  "kernelspec": {
   "display_name": "Python 3 (ipykernel)",
   "language": "python",
   "name": "python3"
  },
  "language_info": {
   "codemirror_mode": {
    "name": "ipython",
    "version": 3
   },
   "file_extension": ".py",
   "mimetype": "text/x-python",
   "name": "python",
   "nbconvert_exporter": "python",
   "pygments_lexer": "ipython3",
   "version": "3.9.18"
  }
 },
 "nbformat": 4,
 "nbformat_minor": 2
}
