{
 "cells": [
  {
   "cell_type": "markdown",
   "id": "4feb50c7",
   "metadata": {
    "id": "4feb50c7"
   },
   "source": [
    "# Content-based Recommendation\n",
    "(by Tevfik Aytekin)\n",
    "\n",
    "Content-based recommender algorithms use the content of the items for making a recommendation. For example, for movie recommendation movie contents such as plot summary, director, casting, jenres, release date, etc. and user content such as previously watched movies, gender, age, etc. can be used to find out which movies can be recommended to the users.\n",
    "(by Tevfik Aytekin)"
   ]
  },
  {
   "cell_type": "code",
   "execution_count": 1,
   "id": "510f6742",
   "metadata": {
    "id": "510f6742"
   },
   "outputs": [],
   "source": [
    "import numpy as np\n",
    "import pandas as pd\n",
    "from sklearn.model_selection import train_test_split\n",
    "from sklearn.utils import shuffle\n",
    "from scipy.sparse import csr_matrix\n",
    "from collections import Counter\n",
    "from sklearn.metrics import pairwise_distances\n",
    "from operator import itemgetter\n",
    "import copy\n",
    "import heapq\n",
    "import sys, os\n",
    "import pickle\n",
    "import itertools\n",
    "import operator\n",
    "from tqdm.notebook import tqdm"
   ]
  },
  {
   "cell_type": "markdown",
   "id": "c381eb7b",
   "metadata": {
    "id": "c381eb7b"
   },
   "source": [
    "### Movielens ml-latest-small dataset"
   ]
  },
  {
   "cell_type": "code",
   "execution_count": 2,
   "id": "36dd568b",
   "metadata": {
    "id": "36dd568b",
    "outputId": "d95c7bcb-d205-49bd-d76c-06cc075c408a"
   },
   "outputs": [
    {
     "name": "stdout",
     "output_type": "stream",
     "text": [
      "Summary\n",
      "=======\n",
      "\n",
      "This dataset (ml-latest-small) describes 5-star rating and free-text tagging activity from [MovieLens](http://movielens.org), a movie recommendation service. It contains 100836 ratings and 3683 tag applications across 9742 movies. These data were created by 610 users between March 29, 1996 and September 24, 2018. This dataset was generated on September 26, 2018.\n",
      "\n",
      "Users were selected at random for inclusion. All selected users had rated at least 20 movies. No demographic information is included. Each user is represented by an id, and no other information is provided.\n",
      "\n",
      "The data are contained in the files `links.csv`, `movies.csv`, `ratings.csv` and `tags.csv`. More details about the contents and use of all these files follows.\n",
      "\n",
      "This is a *development* dataset. As such, it may change over time and is not an appropriate dataset for shared research results. See available *benchmark* datasets if that is your intent.\n",
      "\n",
      "This and other GroupLens data sets are publicly available for download at <http://grouplens.org/datasets/>.\n",
      "\n",
      "\n",
      "Usage License\n",
      "=============\n",
      "\n",
      "Neither the University of Minnesota nor any of the researchers involved can guarantee the correctness of the data, its suitability for any particular purpose, or the validity of results based on the use of the data set. The data set may be used for any research purposes under the following conditions:\n",
      "\n",
      "* The user may not state or imply any endorsement from the University of Minnesota or the GroupLens Research Group.\n",
      "* The user must acknowledge the use of the data set in publications resulting from the use of the data set (see below for citation information).\n",
      "* The user may redistribute the data set, including transformations, so long as it is distributed under these same license conditions.\n",
      "* The user may not use this information for any commercial or revenue-bearing purposes without first obtaining permission from a faculty member of the GroupLens Research Project at the University of Minnesota.\n",
      "* The executable software scripts are provided \"as is\" without warranty of any kind, either expressed or implied, including, but not limited to, the implied warranties of merchantability and fitness for a particular purpose. The entire risk as to the quality and performance of them is with you. Should the program prove defective, you assume the cost of all necessary servicing, repair or correction.\n",
      "\n",
      "In no event shall the University of Minnesota, its affiliates or employees be liable to you for any damages arising out of the use or inability to use these programs (including but not limited to loss of data or data being rendered inaccurate).\n",
      "\n",
      "If you have any further questions or comments, please email <grouplens-info@umn.edu>\n",
      "\n",
      "\n",
      "Citation\n",
      "========\n",
      "\n",
      "To acknowledge use of the dataset in publications, please cite the following paper:\n",
      "\n",
      "> F. Maxwell Harper and Joseph A. Konstan. 2015. The MovieLens Datasets: History and Context. ACM Transactions on Interactive Intelligent Systems (TiiS) 5, 4: 19:1–19:19. <https://doi.org/10.1145/2827872>\n",
      "\n",
      "\n",
      "Further Information About GroupLens\n",
      "===================================\n",
      "\n",
      "GroupLens is a research group in the Department of Computer Science and Engineering at the University of Minnesota. Since its inception in 1992, GroupLens's research projects have explored a variety of fields including:\n",
      "\n",
      "* recommender systems\n",
      "* online communities\n",
      "* mobile and ubiquitious technologies\n",
      "* digital libraries\n",
      "* local geographic information systems\n",
      "\n",
      "GroupLens Research operates a movie recommender based on collaborative filtering, MovieLens, which is the source of these data. We encourage you to visit <http://movielens.org> to try it out! If you have exciting ideas for experimental work to conduct on MovieLens, send us an email at <grouplens-info@cs.umn.edu> - we are always interested in working with external collaborators.\n",
      "\n",
      "\n",
      "Content and Use of Files\n",
      "========================\n",
      "\n",
      "Formatting and Encoding\n",
      "-----------------------\n",
      "\n",
      "The dataset files are written as [comma-separated values](http://en.wikipedia.org/wiki/Comma-separated_values) files with a single header row. Columns that contain commas (`,`) are escaped using double-quotes (`\"`). These files are encoded as UTF-8. If accented characters in movie titles or tag values (e.g. Misérables, Les (1995)) display incorrectly, make sure that any program reading the data, such as a text editor, terminal, or script, is configured for UTF-8.\n",
      "\n",
      "\n",
      "User Ids\n",
      "--------\n",
      "\n",
      "MovieLens users were selected at random for inclusion. Their ids have been anonymized. User ids are consistent between `ratings.csv` and `tags.csv` (i.e., the same id refers to the same user across the two files).\n",
      "\n",
      "\n",
      "Movie Ids\n",
      "---------\n",
      "\n",
      "Only movies with at least one rating or tag are included in the dataset. These movie ids are consistent with those used on the MovieLens web site (e.g., id `1` corresponds to the URL <https://movielens.org/movies/1>). Movie ids are consistent between `ratings.csv`, `tags.csv`, `movies.csv`, and `links.csv` (i.e., the same id refers to the same movie across these four data files).\n",
      "\n",
      "\n",
      "Ratings Data File Structure (ratings.csv)\n",
      "-----------------------------------------\n",
      "\n",
      "All ratings are contained in the file `ratings.csv`. Each line of this file after the header row represents one rating of one movie by one user, and has the following format:\n",
      "\n",
      "    userId,movieId,rating,timestamp\n",
      "\n",
      "The lines within this file are ordered first by userId, then, within user, by movieId.\n",
      "\n",
      "Ratings are made on a 5-star scale, with half-star increments (0.5 stars - 5.0 stars).\n",
      "\n",
      "Timestamps represent seconds since midnight Coordinated Universal Time (UTC) of January 1, 1970.\n",
      "\n",
      "\n",
      "Tags Data File Structure (tags.csv)\n",
      "-----------------------------------\n",
      "\n",
      "All tags are contained in the file `tags.csv`. Each line of this file after the header row represents one tag applied to one movie by one user, and has the following format:\n",
      "\n",
      "    userId,movieId,tag,timestamp\n",
      "\n",
      "The lines within this file are ordered first by userId, then, within user, by movieId.\n",
      "\n",
      "Tags are user-generated metadata about movies. Each tag is typically a single word or short phrase. The meaning, value, and purpose of a particular tag is determined by each user.\n",
      "\n",
      "Timestamps represent seconds since midnight Coordinated Universal Time (UTC) of January 1, 1970.\n",
      "\n",
      "\n",
      "Movies Data File Structure (movies.csv)\n",
      "---------------------------------------\n",
      "\n",
      "Movie information is contained in the file `movies.csv`. Each line of this file after the header row represents one movie, and has the following format:\n",
      "\n",
      "    movieId,title,genres\n",
      "\n",
      "Movie titles are entered manually or imported from <https://www.themoviedb.org/>, and include the year of release in parentheses. Errors and inconsistencies may exist in these titles.\n",
      "\n",
      "Genres are a pipe-separated list, and are selected from the following:\n",
      "\n",
      "* Action\n",
      "* Adventure\n",
      "* Animation\n",
      "* Children's\n",
      "* Comedy\n",
      "* Crime\n",
      "* Documentary\n",
      "* Drama\n",
      "* Fantasy\n",
      "* Film-Noir\n",
      "* Horror\n",
      "* Musical\n",
      "* Mystery\n",
      "* Romance\n",
      "* Sci-Fi\n",
      "* Thriller\n",
      "* War\n",
      "* Western\n",
      "* (no genres listed)\n",
      "\n",
      "\n",
      "Links Data File Structure (links.csv)\n",
      "---------------------------------------\n",
      "\n",
      "Identifiers that can be used to link to other sources of movie data are contained in the file `links.csv`. Each line of this file after the header row represents one movie, and has the following format:\n",
      "\n",
      "    movieId,imdbId,tmdbId\n",
      "\n",
      "movieId is an identifier for movies used by <https://movielens.org>. E.g., the movie Toy Story has the link <https://movielens.org/movies/1>.\n",
      "\n",
      "imdbId is an identifier for movies used by <http://www.imdb.com>. E.g., the movie Toy Story has the link <http://www.imdb.com/title/tt0114709/>.\n",
      "\n",
      "tmdbId is an identifier for movies used by <https://www.themoviedb.org>. E.g., the movie Toy Story has the link <https://www.themoviedb.org/movie/862>.\n",
      "\n",
      "Use of the resources listed above is subject to the terms of each provider.\n",
      "\n",
      "\n",
      "Cross-Validation\n",
      "----------------\n",
      "\n",
      "Prior versions of the MovieLens dataset included either pre-computed cross-folds or scripts to perform this computation. We no longer bundle either of these features with the dataset, since most modern toolkits provide this as a built-in feature. If you wish to learn about standard approaches to cross-fold computation in the context of recommender systems evaluation, see [LensKit](http://lenskit.org) for tools, documentation, and open-source code examples.\n",
      "\n"
     ]
    }
   ],
   "source": [
    "with open('../../datasets/ml-latest-small/README.txt', 'r') as f:\n",
    "    print(f.read())"
   ]
  },
  {
   "cell_type": "code",
   "execution_count": 3,
   "id": "2e28b48c",
   "metadata": {
    "id": "2e28b48c",
    "outputId": "b2668958-072e-491a-f743-5ece2da29d9f"
   },
   "outputs": [
    {
     "name": "stdout",
     "output_type": "stream",
     "text": [
      "(100836, 4)\n"
     ]
    },
    {
     "data": {
      "text/html": [
       "<div>\n",
       "<style scoped>\n",
       "    .dataframe tbody tr th:only-of-type {\n",
       "        vertical-align: middle;\n",
       "    }\n",
       "\n",
       "    .dataframe tbody tr th {\n",
       "        vertical-align: top;\n",
       "    }\n",
       "\n",
       "    .dataframe thead th {\n",
       "        text-align: right;\n",
       "    }\n",
       "</style>\n",
       "<table border=\"1\" class=\"dataframe\">\n",
       "  <thead>\n",
       "    <tr style=\"text-align: right;\">\n",
       "      <th></th>\n",
       "      <th>userId</th>\n",
       "      <th>movieId</th>\n",
       "      <th>rating</th>\n",
       "      <th>timestamp</th>\n",
       "    </tr>\n",
       "  </thead>\n",
       "  <tbody>\n",
       "    <tr>\n",
       "      <th>0</th>\n",
       "      <td>1</td>\n",
       "      <td>1</td>\n",
       "      <td>4.0</td>\n",
       "      <td>964982703</td>\n",
       "    </tr>\n",
       "    <tr>\n",
       "      <th>1</th>\n",
       "      <td>1</td>\n",
       "      <td>3</td>\n",
       "      <td>4.0</td>\n",
       "      <td>964981247</td>\n",
       "    </tr>\n",
       "    <tr>\n",
       "      <th>2</th>\n",
       "      <td>1</td>\n",
       "      <td>6</td>\n",
       "      <td>4.0</td>\n",
       "      <td>964982224</td>\n",
       "    </tr>\n",
       "    <tr>\n",
       "      <th>3</th>\n",
       "      <td>1</td>\n",
       "      <td>47</td>\n",
       "      <td>5.0</td>\n",
       "      <td>964983815</td>\n",
       "    </tr>\n",
       "    <tr>\n",
       "      <th>4</th>\n",
       "      <td>1</td>\n",
       "      <td>50</td>\n",
       "      <td>5.0</td>\n",
       "      <td>964982931</td>\n",
       "    </tr>\n",
       "  </tbody>\n",
       "</table>\n",
       "</div>"
      ],
      "text/plain": [
       "   userId  movieId  rating  timestamp\n",
       "0       1        1     4.0  964982703\n",
       "1       1        3     4.0  964981247\n",
       "2       1        6     4.0  964982224\n",
       "3       1       47     5.0  964983815\n",
       "4       1       50     5.0  964982931"
      ]
     },
     "execution_count": 3,
     "metadata": {},
     "output_type": "execute_result"
    }
   ],
   "source": [
    "ratings = pd.read_csv(\"../../datasets/ml-latest-small/ratings.csv\", sep=\",\")\n",
    "print(ratings.shape)\n",
    "ratings.head()"
   ]
  },
  {
   "cell_type": "code",
   "execution_count": 4,
   "id": "f438a1e0",
   "metadata": {
    "id": "f438a1e0",
    "outputId": "296cb623-2ce6-4568-a4a7-73749607fde1"
   },
   "outputs": [
    {
     "name": "stdout",
     "output_type": "stream",
     "text": [
      "(9742, 3)\n"
     ]
    },
    {
     "data": {
      "text/html": [
       "<div>\n",
       "<style scoped>\n",
       "    .dataframe tbody tr th:only-of-type {\n",
       "        vertical-align: middle;\n",
       "    }\n",
       "\n",
       "    .dataframe tbody tr th {\n",
       "        vertical-align: top;\n",
       "    }\n",
       "\n",
       "    .dataframe thead th {\n",
       "        text-align: right;\n",
       "    }\n",
       "</style>\n",
       "<table border=\"1\" class=\"dataframe\">\n",
       "  <thead>\n",
       "    <tr style=\"text-align: right;\">\n",
       "      <th></th>\n",
       "      <th>movieId</th>\n",
       "      <th>imdbId</th>\n",
       "      <th>tmdbId</th>\n",
       "    </tr>\n",
       "  </thead>\n",
       "  <tbody>\n",
       "    <tr>\n",
       "      <th>0</th>\n",
       "      <td>1</td>\n",
       "      <td>114709</td>\n",
       "      <td>862.0</td>\n",
       "    </tr>\n",
       "    <tr>\n",
       "      <th>1</th>\n",
       "      <td>2</td>\n",
       "      <td>113497</td>\n",
       "      <td>8844.0</td>\n",
       "    </tr>\n",
       "    <tr>\n",
       "      <th>2</th>\n",
       "      <td>3</td>\n",
       "      <td>113228</td>\n",
       "      <td>15602.0</td>\n",
       "    </tr>\n",
       "    <tr>\n",
       "      <th>3</th>\n",
       "      <td>4</td>\n",
       "      <td>114885</td>\n",
       "      <td>31357.0</td>\n",
       "    </tr>\n",
       "    <tr>\n",
       "      <th>4</th>\n",
       "      <td>5</td>\n",
       "      <td>113041</td>\n",
       "      <td>11862.0</td>\n",
       "    </tr>\n",
       "  </tbody>\n",
       "</table>\n",
       "</div>"
      ],
      "text/plain": [
       "   movieId  imdbId   tmdbId\n",
       "0        1  114709    862.0\n",
       "1        2  113497   8844.0\n",
       "2        3  113228  15602.0\n",
       "3        4  114885  31357.0\n",
       "4        5  113041  11862.0"
      ]
     },
     "execution_count": 4,
     "metadata": {},
     "output_type": "execute_result"
    }
   ],
   "source": [
    "links = pd.read_csv(\"../../datasets/ml-latest-small/links.csv\", sep=\",\")\n",
    "print(links.shape)\n",
    "links.head()"
   ]
  },
  {
   "cell_type": "code",
   "execution_count": 5,
   "id": "afd90fe2",
   "metadata": {
    "id": "afd90fe2",
    "outputId": "9f2c13ba-e4fa-40b1-fc77-dcfb49855597"
   },
   "outputs": [
    {
     "name": "stdout",
     "output_type": "stream",
     "text": [
      "(9742, 3)\n"
     ]
    },
    {
     "data": {
      "text/html": [
       "<div>\n",
       "<style scoped>\n",
       "    .dataframe tbody tr th:only-of-type {\n",
       "        vertical-align: middle;\n",
       "    }\n",
       "\n",
       "    .dataframe tbody tr th {\n",
       "        vertical-align: top;\n",
       "    }\n",
       "\n",
       "    .dataframe thead th {\n",
       "        text-align: right;\n",
       "    }\n",
       "</style>\n",
       "<table border=\"1\" class=\"dataframe\">\n",
       "  <thead>\n",
       "    <tr style=\"text-align: right;\">\n",
       "      <th></th>\n",
       "      <th>movieId</th>\n",
       "      <th>title</th>\n",
       "      <th>genres</th>\n",
       "    </tr>\n",
       "  </thead>\n",
       "  <tbody>\n",
       "    <tr>\n",
       "      <th>0</th>\n",
       "      <td>1</td>\n",
       "      <td>Toy Story (1995)</td>\n",
       "      <td>Adventure|Animation|Children|Comedy|Fantasy</td>\n",
       "    </tr>\n",
       "    <tr>\n",
       "      <th>1</th>\n",
       "      <td>2</td>\n",
       "      <td>Jumanji (1995)</td>\n",
       "      <td>Adventure|Children|Fantasy</td>\n",
       "    </tr>\n",
       "    <tr>\n",
       "      <th>2</th>\n",
       "      <td>3</td>\n",
       "      <td>Grumpier Old Men (1995)</td>\n",
       "      <td>Comedy|Romance</td>\n",
       "    </tr>\n",
       "    <tr>\n",
       "      <th>3</th>\n",
       "      <td>4</td>\n",
       "      <td>Waiting to Exhale (1995)</td>\n",
       "      <td>Comedy|Drama|Romance</td>\n",
       "    </tr>\n",
       "    <tr>\n",
       "      <th>4</th>\n",
       "      <td>5</td>\n",
       "      <td>Father of the Bride Part II (1995)</td>\n",
       "      <td>Comedy</td>\n",
       "    </tr>\n",
       "  </tbody>\n",
       "</table>\n",
       "</div>"
      ],
      "text/plain": [
       "   movieId                               title  \\\n",
       "0        1                    Toy Story (1995)   \n",
       "1        2                      Jumanji (1995)   \n",
       "2        3             Grumpier Old Men (1995)   \n",
       "3        4            Waiting to Exhale (1995)   \n",
       "4        5  Father of the Bride Part II (1995)   \n",
       "\n",
       "                                        genres  \n",
       "0  Adventure|Animation|Children|Comedy|Fantasy  \n",
       "1                   Adventure|Children|Fantasy  \n",
       "2                               Comedy|Romance  \n",
       "3                         Comedy|Drama|Romance  \n",
       "4                                       Comedy  "
      ]
     },
     "execution_count": 5,
     "metadata": {},
     "output_type": "execute_result"
    }
   ],
   "source": [
    "movies = pd.read_csv(\"../../datasets/ml-latest-small/movies.csv\", sep=\",\")\n",
    "print(movies.shape)\n",
    "movies.head()"
   ]
  },
  {
   "cell_type": "code",
   "execution_count": 6,
   "id": "ddcc9382",
   "metadata": {
    "id": "ddcc9382",
    "outputId": "bf2c379e-16c5-4549-c47a-3a6c482d6682"
   },
   "outputs": [
    {
     "name": "stdout",
     "output_type": "stream",
     "text": [
      "(3683, 4)\n"
     ]
    },
    {
     "data": {
      "text/html": [
       "<div>\n",
       "<style scoped>\n",
       "    .dataframe tbody tr th:only-of-type {\n",
       "        vertical-align: middle;\n",
       "    }\n",
       "\n",
       "    .dataframe tbody tr th {\n",
       "        vertical-align: top;\n",
       "    }\n",
       "\n",
       "    .dataframe thead th {\n",
       "        text-align: right;\n",
       "    }\n",
       "</style>\n",
       "<table border=\"1\" class=\"dataframe\">\n",
       "  <thead>\n",
       "    <tr style=\"text-align: right;\">\n",
       "      <th></th>\n",
       "      <th>userId</th>\n",
       "      <th>movieId</th>\n",
       "      <th>tag</th>\n",
       "      <th>timestamp</th>\n",
       "    </tr>\n",
       "  </thead>\n",
       "  <tbody>\n",
       "    <tr>\n",
       "      <th>0</th>\n",
       "      <td>2</td>\n",
       "      <td>60756</td>\n",
       "      <td>funny</td>\n",
       "      <td>1445714994</td>\n",
       "    </tr>\n",
       "    <tr>\n",
       "      <th>1</th>\n",
       "      <td>2</td>\n",
       "      <td>60756</td>\n",
       "      <td>Highly quotable</td>\n",
       "      <td>1445714996</td>\n",
       "    </tr>\n",
       "    <tr>\n",
       "      <th>2</th>\n",
       "      <td>2</td>\n",
       "      <td>60756</td>\n",
       "      <td>will ferrell</td>\n",
       "      <td>1445714992</td>\n",
       "    </tr>\n",
       "    <tr>\n",
       "      <th>3</th>\n",
       "      <td>2</td>\n",
       "      <td>89774</td>\n",
       "      <td>Boxing story</td>\n",
       "      <td>1445715207</td>\n",
       "    </tr>\n",
       "    <tr>\n",
       "      <th>4</th>\n",
       "      <td>2</td>\n",
       "      <td>89774</td>\n",
       "      <td>MMA</td>\n",
       "      <td>1445715200</td>\n",
       "    </tr>\n",
       "  </tbody>\n",
       "</table>\n",
       "</div>"
      ],
      "text/plain": [
       "   userId  movieId              tag   timestamp\n",
       "0       2    60756            funny  1445714994\n",
       "1       2    60756  Highly quotable  1445714996\n",
       "2       2    60756     will ferrell  1445714992\n",
       "3       2    89774     Boxing story  1445715207\n",
       "4       2    89774              MMA  1445715200"
      ]
     },
     "execution_count": 6,
     "metadata": {},
     "output_type": "execute_result"
    }
   ],
   "source": [
    "tags = pd.read_csv(\"../../datasets/ml-latest-small/tags.csv\", sep=\",\")\n",
    "print(tags.shape)\n",
    "tags.head()"
   ]
  },
  {
   "cell_type": "markdown",
   "id": "71d3800e",
   "metadata": {
    "id": "71d3800e"
   },
   "source": [
    "## Create User Item Rating Map\n",
    "It might take some time but will be useful later."
   ]
  },
  {
   "cell_type": "code",
   "execution_count": 7,
   "id": "749b4bb1",
   "metadata": {
    "id": "749b4bb1"
   },
   "outputs": [],
   "source": [
    "rating_map = {}\n",
    "for i in range(len(ratings)):\n",
    "    key = str(ratings.iloc[i,0]) + '_' +str(ratings.iloc[i,1])\n",
    "    rating_map[key]=ratings.iloc[i,2]"
   ]
  },
  {
   "cell_type": "code",
   "execution_count": 17,
   "id": "dbb143c2",
   "metadata": {
    "id": "dbb143c2",
    "outputId": "efe57078-0d08-4a94-97ed-0ceacd088926"
   },
   "outputs": [
    {
     "name": "stdout",
     "output_type": "stream",
     "text": [
      "('1_1', 4.0)\n",
      "('1_3', 4.0)\n",
      "('1_6', 4.0)\n",
      "('1_47', 5.0)\n",
      "('1_50', 5.0)\n"
     ]
    }
   ],
   "source": [
    "iterator = iter(rating_map.items())\n",
    "for i in range(5):\n",
    "    print(next(iterator))"
   ]
  },
  {
   "cell_type": "markdown",
   "id": "9f41c4aa",
   "metadata": {
    "id": "9f41c4aa"
   },
   "source": [
    "## Create movie genre map\n",
    "This map will also be useful later"
   ]
  },
  {
   "cell_type": "code",
   "execution_count": 11,
   "id": "7179624f",
   "metadata": {
    "id": "7179624f"
   },
   "outputs": [],
   "source": [
    "movie_genres = {}\n",
    "for i in range(len(movies)):\n",
    "    key = movies.iloc[i,0]\n",
    "    movie_genres[key]=movies.iloc[i,2].split('|')"
   ]
  },
  {
   "cell_type": "code",
   "execution_count": 10,
   "id": "2c3680ae",
   "metadata": {
    "id": "2c3680ae",
    "outputId": "15fbe779-39c2-4b84-a02f-c94818529e53"
   },
   "outputs": [
    {
     "name": "stdout",
     "output_type": "stream",
     "text": [
      "(1, ['Adventure', 'Animation', 'Children', 'Comedy', 'Fantasy'])\n",
      "(2, ['Adventure', 'Children', 'Fantasy'])\n",
      "(3, ['Comedy', 'Romance'])\n",
      "(4, ['Comedy', 'Drama', 'Romance'])\n",
      "(5, ['Comedy'])\n"
     ]
    }
   ],
   "source": [
    "iterator = iter(movie_genres.items())\n",
    "for i in range(5):\n",
    "    print(next(iterator))"
   ]
  },
  {
   "cell_type": "markdown",
   "id": "ec5d5454",
   "metadata": {
    "id": "ec5d5454"
   },
   "source": [
    "## Rating Prediction\n",
    "\n",
    "### Algorithm \n",
    " \n",
    "Predict rating of user $u$ for item $i$\n",
    "- Calculate the similarity of items that are rated by $u$ with $i$.\n",
    "- Use these similarities to calculate a weighted average of the ratings.\n",
    "\n",
    "Below we only use the genres to calculate the content similarity between movies, but in general, one can use many other information such as the director, date, casting and plot summary. In order to do this one needs to find a way to represent this information and a similarity metric to quantify the similarity.\n",
    "\n",
    "Let us first see an example. "
   ]
  },
  {
   "cell_type": "code",
   "execution_count": 11,
   "id": "67da882d",
   "metadata": {
    "id": "67da882d"
   },
   "outputs": [],
   "source": [
    "movies_ratings_join = movies.merge(ratings, left_on=\"movieId\", right_on=\"movieId\")"
   ]
  },
  {
   "cell_type": "code",
   "execution_count": 12,
   "id": "442b46b8",
   "metadata": {
    "id": "442b46b8",
    "outputId": "47c760f9-6b6e-415c-ea44-17952f0fefa1",
    "scrolled": true
   },
   "outputs": [
    {
     "data": {
      "text/html": [
       "<div>\n",
       "<style scoped>\n",
       "    .dataframe tbody tr th:only-of-type {\n",
       "        vertical-align: middle;\n",
       "    }\n",
       "\n",
       "    .dataframe tbody tr th {\n",
       "        vertical-align: top;\n",
       "    }\n",
       "\n",
       "    .dataframe thead th {\n",
       "        text-align: right;\n",
       "    }\n",
       "</style>\n",
       "<table border=\"1\" class=\"dataframe\">\n",
       "  <thead>\n",
       "    <tr style=\"text-align: right;\">\n",
       "      <th></th>\n",
       "      <th>movieId</th>\n",
       "      <th>title</th>\n",
       "      <th>genres</th>\n",
       "      <th>userId</th>\n",
       "      <th>rating</th>\n",
       "      <th>timestamp</th>\n",
       "    </tr>\n",
       "  </thead>\n",
       "  <tbody>\n",
       "    <tr>\n",
       "      <th>0</th>\n",
       "      <td>1</td>\n",
       "      <td>Toy Story (1995)</td>\n",
       "      <td>Adventure|Animation|Children|Comedy|Fantasy</td>\n",
       "      <td>1</td>\n",
       "      <td>4.0</td>\n",
       "      <td>964982703</td>\n",
       "    </tr>\n",
       "    <tr>\n",
       "      <th>325</th>\n",
       "      <td>3</td>\n",
       "      <td>Grumpier Old Men (1995)</td>\n",
       "      <td>Comedy|Romance</td>\n",
       "      <td>1</td>\n",
       "      <td>4.0</td>\n",
       "      <td>964981247</td>\n",
       "    </tr>\n",
       "    <tr>\n",
       "      <th>433</th>\n",
       "      <td>6</td>\n",
       "      <td>Heat (1995)</td>\n",
       "      <td>Action|Crime|Thriller</td>\n",
       "      <td>1</td>\n",
       "      <td>4.0</td>\n",
       "      <td>964982224</td>\n",
       "    </tr>\n",
       "    <tr>\n",
       "      <th>2107</th>\n",
       "      <td>47</td>\n",
       "      <td>Seven (a.k.a. Se7en) (1995)</td>\n",
       "      <td>Mystery|Thriller</td>\n",
       "      <td>1</td>\n",
       "      <td>5.0</td>\n",
       "      <td>964983815</td>\n",
       "    </tr>\n",
       "    <tr>\n",
       "      <th>2379</th>\n",
       "      <td>50</td>\n",
       "      <td>Usual Suspects, The (1995)</td>\n",
       "      <td>Crime|Mystery|Thriller</td>\n",
       "      <td>1</td>\n",
       "      <td>5.0</td>\n",
       "      <td>964982931</td>\n",
       "    </tr>\n",
       "  </tbody>\n",
       "</table>\n",
       "</div>"
      ],
      "text/plain": [
       "      movieId                        title  \\\n",
       "0           1             Toy Story (1995)   \n",
       "325         3      Grumpier Old Men (1995)   \n",
       "433         6                  Heat (1995)   \n",
       "2107       47  Seven (a.k.a. Se7en) (1995)   \n",
       "2379       50   Usual Suspects, The (1995)   \n",
       "\n",
       "                                           genres  userId  rating  timestamp  \n",
       "0     Adventure|Animation|Children|Comedy|Fantasy       1     4.0  964982703  \n",
       "325                                Comedy|Romance       1     4.0  964981247  \n",
       "433                         Action|Crime|Thriller       1     4.0  964982224  \n",
       "2107                             Mystery|Thriller       1     5.0  964983815  \n",
       "2379                       Crime|Mystery|Thriller       1     5.0  964982931  "
      ]
     },
     "execution_count": 12,
     "metadata": {},
     "output_type": "execute_result"
    }
   ],
   "source": [
    "movies_ratings_join.query(\"userId == 1\").head(5)"
   ]
  },
  {
   "cell_type": "markdown",
   "id": "785b319b",
   "metadata": {
    "id": "785b319b"
   },
   "source": [
    "What would be the rating of this user for the following movie? "
   ]
  },
  {
   "cell_type": "code",
   "execution_count": 13,
   "id": "8135ee71",
   "metadata": {
    "id": "8135ee71",
    "outputId": "e05adc68-073c-4242-ee9a-b2c52cfabe02"
   },
   "outputs": [
    {
     "data": {
      "text/html": [
       "<div>\n",
       "<style scoped>\n",
       "    .dataframe tbody tr th:only-of-type {\n",
       "        vertical-align: middle;\n",
       "    }\n",
       "\n",
       "    .dataframe tbody tr th {\n",
       "        vertical-align: top;\n",
       "    }\n",
       "\n",
       "    .dataframe thead th {\n",
       "        text-align: right;\n",
       "    }\n",
       "</style>\n",
       "<table border=\"1\" class=\"dataframe\">\n",
       "  <thead>\n",
       "    <tr style=\"text-align: right;\">\n",
       "      <th></th>\n",
       "      <th>movieId</th>\n",
       "      <th>title</th>\n",
       "      <th>genres</th>\n",
       "      <th>userId</th>\n",
       "      <th>rating</th>\n",
       "      <th>timestamp</th>\n",
       "    </tr>\n",
       "  </thead>\n",
       "  <tbody>\n",
       "    <tr>\n",
       "      <th>2859</th>\n",
       "      <td>70</td>\n",
       "      <td>From Dusk Till Dawn (1996)</td>\n",
       "      <td>Action|Comedy|Horror|Thriller</td>\n",
       "      <td>1</td>\n",
       "      <td>3.0</td>\n",
       "      <td>964982400</td>\n",
       "    </tr>\n",
       "  </tbody>\n",
       "</table>\n",
       "</div>"
      ],
      "text/plain": [
       "      movieId                       title                         genres  \\\n",
       "2859       70  From Dusk Till Dawn (1996)  Action|Comedy|Horror|Thriller   \n",
       "\n",
       "      userId  rating  timestamp  \n",
       "2859       1     3.0  964982400  "
      ]
     },
     "execution_count": 13,
     "metadata": {},
     "output_type": "execute_result"
    }
   ],
   "source": [
    "movies_ratings_join.query(\"userId == 1 and movieId == 70\")"
   ]
  },
  {
   "cell_type": "markdown",
   "id": "ce32d797",
   "metadata": {
    "id": "ce32d797"
   },
   "source": [
    "Following is the calculation for this example by using Jaccard similarity betwee movie jenres:\n",
    "\n",
    "Jaccard(Toy Story, From Dusk Till Dawn) = 1/8 <br>\n",
    "Jaccard(Grumpier Old Men, From Dusk Till Dawn) = 1/5 <br>\n",
    "Jaccard(Heat, From Dusk Till Dawn) = 2/5 <br>\n",
    "Jaccard(Seven (a.k.a. Se7en), From Dusk Till Dawn) = 1/5 <br>\n",
    "Jaccard(Usual Suspects, From Dusk Till Dawn) = 1/6<br>\n"
   ]
  },
  {
   "cell_type": "code",
   "execution_count": 14,
   "id": "68871ec9",
   "metadata": {
    "id": "68871ec9",
    "outputId": "928ec257-8cab-48ef-fbcd-f2c492f16811"
   },
   "outputs": [
    {
     "data": {
      "text/plain": [
       "4.335877862595419"
      ]
     },
     "execution_count": 14,
     "metadata": {},
     "output_type": "execute_result"
    }
   ],
   "source": [
    "prediction = (1/8*4+1/5*4+2/5*4+1/5*5+1/6*5)/(1/8+1/5+2/5+1/5+1/6)\n",
    "prediction"
   ]
  },
  {
   "cell_type": "markdown",
   "id": "5de642ea",
   "metadata": {
    "id": "5de642ea"
   },
   "source": [
    "### Jaccard Similarity\n",
    "\n",
    "Given two sets $A$ and $B$,\n",
    "\n",
    "$Jaccard(A, B) = \\frac{|A \\cap B|}{|A \\cup B|}$\n",
    "\n",
    "For example if $A = \\{a, b, c, d\\}$ and $B = \\{b, d, e ,f, g\\}$ then\n",
    "\n",
    "$Jaccard(A, B) = \\frac{2}{7}$"
   ]
  },
  {
   "cell_type": "code",
   "execution_count": 15,
   "id": "37328e31",
   "metadata": {
    "id": "37328e31"
   },
   "outputs": [],
   "source": [
    "def content_based_rating_prediction(u, i):\n",
    "    r = 0\n",
    "    sum_sim = 0\n",
    "    # find the movies rated by u\n",
    "    movies = ratings[ratings[\"userId\"]==u].movieId\n",
    "    for j in movies:\n",
    "        sim = genre_sim(i, j)\n",
    "        key = str(u)+\"_\"+str(j)\n",
    "        r += sim*rating_map[key]\n",
    "        sum_sim += sim\n",
    "    if sum_sim == 0:\n",
    "        return 0\n",
    "    else:\n",
    "        return r / sum_sim        "
   ]
  },
  {
   "cell_type": "code",
   "execution_count": 18,
   "id": "ebb90de8",
   "metadata": {},
   "outputs": [],
   "source": [
    "# finds the genre similary of items i and j using Jaccard similarity\n",
    "def genre_sim(i,j):\n",
    "    genres_i = movie_genres[i]\n",
    "    genres_j = movie_genres[j]\n",
    "    #print(genres_i)\n",
    "    #print(genres_j)\n",
    "    intersection_size = len(set(genres_i).intersection(genres_j))\n",
    "    union_size = len(set(genres_i).union(genres_j))\n",
    "    return intersection_size / union_size"
   ]
  },
  {
   "cell_type": "code",
   "execution_count": 19,
   "metadata": {},
   "outputs": [
    {
     "data": {
      "text/plain": [
       "3.3031470777135508"
      ]
     },
     "execution_count": 19,
     "metadata": {},
     "output_type": "execute_result"
    }
   ],
   "source": [
    "content_based_rating_prediction(5,10)"
   ]
  },
  {
   "cell_type": "code",
   "execution_count": 24,
   "metadata": {},
   "outputs": [
    {
     "data": {
      "text/plain": [
       "0.25"
      ]
     },
     "execution_count": 24,
     "metadata": {},
     "output_type": "execute_result"
    }
   ],
   "source": [
    "genre_sim(10,8)"
   ]
  },
  {
   "cell_type": "code",
   "execution_count": null,
   "id": "b06d3d43",
   "metadata": {
    "id": "b06d3d43"
   },
   "outputs": [],
   "source": [
    "# finds the genre similary of items i and j using Jaccard similarity\n",
    "def genre_sim2(i,j):\n",
    "    x = item_content_matrix.loc[i].to_numpy()\n",
    "    y = item_content_matrix.loc[j].to_numpy()\n",
    "    intersection_size = np.count_nonzero(np.bitwise_and(x,y))\n",
    "    union_size = np.count_nonzero(np.bitwise_or(x,y))\n",
    "    return intersection_size / union_size\n"
   ]
  },
  {
   "cell_type": "markdown",
   "id": "6ce68b8d",
   "metadata": {
    "id": "6ce68b8d"
   },
   "source": [
    "## Evaluation of Rating Prediction\n",
    "\n",
    "How can we measure the performance of a recommender algorithm? This is similar to the evaluation used in machine learning.\n",
    "\n",
    "- Make a train/test split\n",
    "- Build the model on the training set\n",
    "- Make predictions for the ratings in the test set\n",
    "- Find the mean absolute error (MAE)\n",
    "\n",
    "For more metrics other then MAE look at the \"Metrics for Regression\" section of [this notebook](http://localhost:8888/notebooks/PycharmProjects/data_science/evaluation.ipynb)\n"
   ]
  },
  {
   "cell_type": "code",
   "execution_count": 20,
   "id": "11bcab01",
   "metadata": {
    "id": "11bcab01",
    "outputId": "e330d650-1a6e-46b5-b97c-43019541f2fe"
   },
   "outputs": [
    {
     "name": "stdout",
     "output_type": "stream",
     "text": [
      "Test size: 1000\n",
      "0.6564083401307\n"
     ]
    }
   ],
   "source": [
    "X_train, X_test = train_test_split(ratings, test_size=1000)\n",
    "train_size = X_train.shape[0]\n",
    "test_size = X_test.shape[0]\n",
    "print(\"Test size:\", test_size)\n",
    "error = 0\n",
    "for k in range(test_size): \n",
    "    u = X_test.iloc[k,0]\n",
    "    i = X_test.iloc[k,1]\n",
    "    r = X_test.iloc[k,2]\n",
    "    error += np.abs(r - content_based_rating_prediction(u,i))\n",
    "print(error/test_size)"
   ]
  },
  {
   "cell_type": "markdown",
   "id": "c2eb0801",
   "metadata": {
    "id": "c2eb0801"
   },
   "source": [
    "## Top-N recommendation Algorithm - Predict and Sort\n",
    "The task in top-$N$ recommendation is to recommend $N$ items to a user. \n",
    "\n",
    "\n",
    "Recommend $N$ movies to user $u$\n",
    "- Predict the ratings of all items which are not watched by $u$\n",
    "- Sort the predicted ratings\n",
    "- Recommend the movies with the highest predicted ratings"
   ]
  },
  {
   "cell_type": "code",
   "execution_count": 21,
   "id": "bb1d7323",
   "metadata": {
    "id": "bb1d7323"
   },
   "outputs": [],
   "source": [
    "def top_N_pred_sort(N, u):\n",
    "    preds = pd.Series([], dtype='float')\n",
    "    # find the movies not rated by u\n",
    "    movies_not_rated = ratings.query(\"userId != @u\").movieId.unique()\n",
    "    for m in movies_not_rated:\n",
    "        preds[m] = content_based_rating_prediction(u, m)\n",
    "    return preds.sort_values(ascending=False)[:N]    "
   ]
  },
  {
   "cell_type": "code",
   "execution_count": 22,
   "id": "975cd7e1",
   "metadata": {
    "id": "975cd7e1",
    "outputId": "fbd2b762-fd98-4b97-a86b-e43da13e549d"
   },
   "outputs": [
    {
     "data": {
      "text/plain": [
       "7335      5.000000\n",
       "4426      5.000000\n",
       "2066      5.000000\n",
       "72603     4.718136\n",
       "170597    4.718136\n",
       "163386    4.718136\n",
       "163112    4.718136\n",
       "153236    4.718136\n",
       "193573    4.718136\n",
       "151769    4.718136\n",
       "dtype: float64"
      ]
     },
     "execution_count": 22,
     "metadata": {},
     "output_type": "execute_result"
    }
   ],
   "source": [
    "top_N_pred_sort(10, 1)"
   ]
  },
  {
   "cell_type": "markdown",
   "id": "dc9766a2",
   "metadata": {
    "id": "dc9766a2"
   },
   "source": [
    "## Efficiency Issues\n",
    "\n",
    "There are important inefficiencies in this algorithm:\n",
    "\n",
    "- The algorithm predicts the rating of all items which are not rated by the user. In the case of millions of items this algorithm is practically infeasible. Numerous techniques have been developed to remedy this problem. Can you suggest a solution? \n",
    "- In rating prediction, similarity between target item and items rated by the user are calculated. To make a recommendation to another user similarity calculations will be done again. For making recommendations to users in general many similarity calculations will be repeated. A general solution to this problem is to precalculate the similarities between items. Moreover, you don't need to store all similarities, only storing $k$ most similar items to every item will be enough. Size of $k$ can be determined according to the needs.\n"
   ]
  },
  {
   "cell_type": "markdown",
   "id": "934589c6",
   "metadata": {
    "id": "934589c6"
   },
   "source": [
    "## Top-N recommendation Algorithm - kNN Map\n",
    "The task in top-$N$ recommendation is to recommend $N$ items to a user. \n",
    "\n",
    "- Build a knn-map (a map which stores the $k$ nearest neighbors of each item)\n",
    "\n",
    "Recommend $N$ movies to user $u$\n",
    "- Get the neigbors of movies which are watched by $u$ and put them into a list $C$.\n",
    "- Choose $N$ movies from $C$. There can be different methods here. Most repeated movies in C can be chosen, movies with the highest total similarity (or maximum similarity) can be chosen.\n",
    "- Recommend the $N$ movies that are chosen."
   ]
  },
  {
   "cell_type": "markdown",
   "id": "008e77bc",
   "metadata": {
    "id": "008e77bc"
   },
   "source": [
    "## Building a knn map\n",
    "This table will hold the most similar $k$ items for each item. In order to build this table we need to calculate all pairwise similarities which takes $O(n^2)$ time. There is no escape from this $O(n^2)$ time unless you use an approximation algorithm such as LSH (Locality Sensitive Hashing) for nearest neighbor search.\n",
    "\n",
    "We will use a heap based priority queue for storing the nearest neighbors. You can look at this [animation](https://www.cs.usfca.edu/~galles/visualization/Heap.html)."
   ]
  },
  {
   "cell_type": "code",
   "execution_count": 23,
   "id": "226648ab",
   "metadata": {
    "id": "226648ab",
    "outputId": "92ec42e5-9d5b-4d7f-8c14-41e3db1529ee"
   },
   "outputs": [
    {
     "data": {
      "text/plain": [
       "[(5, 'c'), (8, 'b')]"
      ]
     },
     "execution_count": 23,
     "metadata": {},
     "output_type": "execute_result"
    }
   ],
   "source": [
    "pq =[(10,\"a\"),(8, \"b\"), (5, \"c\")]\n",
    "heapq.heapify(pq)\n",
    "heapq.nsmallest(2,pq)"
   ]
  },
  {
   "cell_type": "code",
   "execution_count": null,
   "id": "8c5f6748",
   "metadata": {
    "id": "8c5f6748",
    "outputId": "2dac23d0-e188-4830-9b28-7f210f92c598"
   },
   "outputs": [],
   "source": [
    "movies[:10]"
   ]
  },
  {
   "cell_type": "code",
   "execution_count": 24,
   "id": "c44ad103",
   "metadata": {
    "id": "c44ad103",
    "scrolled": true
   },
   "outputs": [],
   "source": [
    "def build_knn_map(movies, K=10):\n",
    "    knn_map = {}\n",
    "    movie_ids = movies['movieId'].unique()\n",
    "    for i in tqdm(range(len(movie_ids))):\n",
    "        pq = []\n",
    "        knn_map[movie_ids[i]] = pq\n",
    "        for j in range(len(movie_ids)):\n",
    "            if (i == j):\n",
    "                continue\n",
    "            sim = genre_sim(movie_ids[i],movie_ids[j])\n",
    "            if (len(pq) >= K):\n",
    "                smallest = pq[0]\n",
    "                if (sim > smallest[0]):\n",
    "                    heapq.heappop(pq)\n",
    "                    heapq.heappush(pq, (sim, movie_ids[j]))\n",
    "            else:\n",
    "                heapq.heappush(pq, (sim, movie_ids[j]))\n",
    "    return knn_map"
   ]
  },
  {
   "cell_type": "code",
   "execution_count": 25,
   "id": "e9d0b4dc",
   "metadata": {
    "colab": {
     "referenced_widgets": [
      "42b290f6a30c474199bfee5bd84592ee"
     ]
    },
    "id": "e9d0b4dc",
    "outputId": "964d239e-ed28-4552-f7a1-fdfa6a53bd26"
   },
   "outputs": [
    {
     "data": {
      "application/vnd.jupyter.widget-view+json": {
       "model_id": "9f6a9a3b240747799a91eb39e7c909e9",
       "version_major": 2,
       "version_minor": 0
      },
      "text/plain": [
       "  0%|          | 0/9742 [00:00<?, ?it/s]"
      ]
     },
     "metadata": {},
     "output_type": "display_data"
    }
   ],
   "source": [
    "knn_map = build_knn_map(movies,K=30)"
   ]
  },
  {
   "cell_type": "code",
   "execution_count": 26,
   "id": "25621bf4",
   "metadata": {
    "id": "25621bf4",
    "outputId": "b9144da4-deb1-49c0-be69-e8e0e8683712"
   },
   "outputs": [
    {
     "data": {
      "text/plain": [
       "[(0.8, 27619),\n",
       " (0.8333333333333334, 673),\n",
       " (0.8, 27706),\n",
       " (0.8333333333333334, 51939),\n",
       " (0.8333333333333334, 47124),\n",
       " (0.8, 27731),\n",
       " (0.8, 33615),\n",
       " (0.8333333333333334, 92348),\n",
       " (0.8333333333333334, 134853),\n",
       " (0.8333333333333334, 78637),\n",
       " (1.0, 2294),\n",
       " (0.8, 31698),\n",
       " (0.8333333333333334, 26340),\n",
       " (0.8333333333333334, 36397),\n",
       " (0.8333333333333334, 130520),\n",
       " (1.0, 45074),\n",
       " (1.0, 3754),\n",
       " (1.0, 4886),\n",
       " (1.0, 103755),\n",
       " (1.0, 4016),\n",
       " (0.8333333333333334, 108932),\n",
       " (1.0, 136016),\n",
       " (1.0, 53121),\n",
       " (0.8333333333333334, 4306),\n",
       " (0.8333333333333334, 78499),\n",
       " (1.0, 3114),\n",
       " (1.0, 65577),\n",
       " (1.0, 91355),\n",
       " (0.8333333333333334, 84637),\n",
       " (1.0, 166461)]"
      ]
     },
     "execution_count": 26,
     "metadata": {},
     "output_type": "execute_result"
    }
   ],
   "source": [
    "knn_map[1]"
   ]
  },
  {
   "cell_type": "markdown",
   "id": "1b79889c",
   "metadata": {
    "id": "1b79889c"
   },
   "source": [
    "## Top-N recommendation using knn map"
   ]
  },
  {
   "cell_type": "code",
   "execution_count": 27,
   "id": "7d0387f0",
   "metadata": {
    "id": "7d0387f0"
   },
   "outputs": [],
   "source": [
    "def top_N_knn_map(ratings, N, u):\n",
    "    C = []\n",
    "    # find the movies rated by u\n",
    "    movies_rated = ratings.query(\"userId == @u\").movieId\n",
    "    for m in movies_rated:\n",
    "        C = C + knn_map[m]\n",
    "    return add_sims_and_sort(C)[:N]    "
   ]
  },
  {
   "cell_type": "code",
   "execution_count": 28,
   "id": "a2dc618d",
   "metadata": {
    "id": "a2dc618d"
   },
   "outputs": [],
   "source": [
    "def add_sims_and_sort(l):\n",
    "    li = []\n",
    "    it = itertools.groupby(l, operator.itemgetter(1))\n",
    "    for key, subiter in it:\n",
    "        li.append((key, sum(item[0] for item in subiter)))\n",
    "    li = sorted(li, key=itemgetter(0), reverse=True)\n",
    "    return li\n",
    "    "
   ]
  },
  {
   "cell_type": "code",
   "execution_count": null,
   "id": "04cffbcc",
   "metadata": {
    "id": "04cffbcc",
    "outputId": "b17696ce-a83a-4b08-94c3-444edefa5abd"
   },
   "outputs": [],
   "source": [
    "top_N_knn_map(ratings, 10, 1)"
   ]
  },
  {
   "cell_type": "markdown",
   "id": "8666ebda",
   "metadata": {
    "id": "8666ebda"
   },
   "source": [
    "## Evaluation of top-N recommendation \n",
    "\n",
    "Evaluation of rating prediction is rather easy: find the mean absolute error between rating predictions and true ratings. How can we evaluate the accuracy of a top-N recommendation? There are several techniques which we will look at in more detail later. Below is one common way to evaluate top-N recommendation:\n",
    "\n",
    "- Randomly sub-sample some portion of positive preferences in order to create a test set $T$. Positive preferences might be 5-star ratings, movies watched more than a certain threshold, or items purchased.\n",
    "- Put the rest of the preferences into the training set and build model.\n",
    "\n",
    "- For each preference $(u,i)$ in the test set:\n",
    "    - Make a top-N recommendation tu user $u$.\n",
    "    - If the test item i occurs among the top-N items, then we have a hit, otherwise we have a miss. \n",
    "\n",
    "Hit ratio is then defined as: \n",
    "\n",
    "$$\n",
    "Hit Ratio: \\frac{\\#hits}{|T|}\n",
    "$$\n",
    "\n"
   ]
  },
  {
   "cell_type": "code",
   "execution_count": 30,
   "id": "c646b5cd",
   "metadata": {
    "id": "c646b5cd",
    "outputId": "bea6b291-3903-43b3-f104-1c3f56bca9df"
   },
   "outputs": [
    {
     "name": "stdout",
     "output_type": "stream",
     "text": [
      "Test size: 186\n"
     ]
    },
    {
     "data": {
      "application/vnd.jupyter.widget-view+json": {
       "model_id": "0168bf5ced264347ac55902b3835a1af",
       "version_major": 2,
       "version_minor": 0
      },
      "text/plain": [
       "  0%|          | 0/186 [00:00<?, ?it/s]"
      ]
     },
     "metadata": {},
     "output_type": "display_data"
    },
    {
     "name": "stdout",
     "output_type": "stream",
     "text": [
      "Hit Ratio 0.0913978494623656\n"
     ]
    }
   ],
   "source": [
    "N = 1000\n",
    "X_train, X_test = train_test_split(ratings, test_size=1000)\n",
    "X_test = X_test.query(\"rating > 4\")\n",
    "train_size = X_train.shape[0]\n",
    "test_size = X_test.shape[0]\n",
    "print(\"Test size:\", test_size)\n",
    "hit_count = 0\n",
    "for k in tqdm(range(test_size)): \n",
    "    u = X_test.iloc[k,0]\n",
    "    i = X_test.iloc[k,1]\n",
    "    r = X_test.iloc[k,2]\n",
    "    top_N = top_N_knn_map(X_train, N, u)\n",
    "    hit_list = [item for item in top_N if item[0] == i]\n",
    "    if len(hit_list) > 0:\n",
    "        hit_count +=1\n",
    "print(\"Hit Ratio\", hit_count/test_size)"
   ]
  },
  {
   "cell_type": "code",
   "execution_count": null,
   "id": "80a13e85",
   "metadata": {
    "id": "80a13e85"
   },
   "outputs": [],
   "source": []
  }
 ],
 "metadata": {
  "colab": {
   "provenance": []
  },
  "kernelspec": {
   "display_name": "sklearn-env",
   "language": "python",
   "name": "python3"
  },
  "language_info": {
   "codemirror_mode": {
    "name": "ipython",
    "version": 3
   },
   "file_extension": ".py",
   "mimetype": "text/x-python",
   "name": "python",
   "nbconvert_exporter": "python",
   "pygments_lexer": "ipython3",
   "version": "3.11.9"
  }
 },
 "nbformat": 4,
 "nbformat_minor": 5
}
