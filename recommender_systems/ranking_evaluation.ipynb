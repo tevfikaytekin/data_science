{
 "cells": [
  {
   "cell_type": "markdown",
   "id": "c3c046b3",
   "metadata": {
    "id": "c3c046b3"
   },
   "source": [
    "# Ranking Evaluation\n",
    "\n",
    "Below measures can be used to measure the gooodness of a ranked list. This might be a ranked list for a search query or a ranked list of recommendations."
   ]
  },
  {
   "cell_type": "code",
   "execution_count": 23,
   "id": "21e6e13f",
   "metadata": {
    "id": "21e6e13f"
   },
   "outputs": [],
   "source": [
    "import scipy.stats as stats\n",
    "import matplotlib.pyplot as plt\n",
    "import numpy as np\n",
    "import pandas as pd\n",
    "from sklearn.model_selection import train_test_split\n",
    "from sklearn import linear_model\n",
    "from sklearn.metrics import mean_squared_error, mean_absolute_error"
   ]
  },
  {
   "cell_type": "markdown",
   "id": "c2644ad6",
   "metadata": {
    "id": "9a555340"
   },
   "source": [
    "Suppose that we have a set of items some of which are relevant. For example:\n",
    "\n",
    "items: a, b, c, d, e, f, g <br>\n",
    "rel_items = b, f\n",
    "\n",
    "You can think of these items as movies. The relevant items are those which a user U watched in the past. We want to rank these items according to their relevance to user U.\n",
    "\n",
    "Suppose that we use two different methods: A and B.\n",
    "\n",
    "The best ranking is the one which puts the relevant items at the top two positions but there are many other possibilties. For example the following shows two possible rankings produced by these methods (A leftward position signifies a higher ranking):\n",
    "\n",
    "A = [c, b, a, f, g, e, d] <br>\n",
    "B = [b, a, g, c, g, f, e]\n",
    "\n",
    "Which ranking is better, given that b and f are the relevant items?\n",
    "\n",
    "To answer this question we need measures for evaluating the goodness of a ranking.\n"
   ]
  },
  {
   "cell_type": "markdown",
   "id": "5ffc459c",
   "metadata": {
    "id": "5ffc459c"
   },
   "source": [
    "### hits@k\n",
    "\n",
    "Measures the number of relevant items at top k positions."
   ]
  },
  {
   "cell_type": "code",
   "execution_count": 1,
   "id": "ccee43d6",
   "metadata": {
    "id": "ccee43d6"
   },
   "outputs": [],
   "source": [
    "def hits_at(ranked_items, rel_items, k):\n",
    "    hits = 0\n",
    "    n = min(k, len(ranked_items))\n",
    "    for i in range(n):\n",
    "        if (ranked_items[i] in rel_items):\n",
    "            hits += 1\n",
    "    return hits"
   ]
  },
  {
   "cell_type": "code",
   "execution_count": 3,
   "id": "a9d2b3ab",
   "metadata": {
    "id": "a9d2b3ab"
   },
   "outputs": [],
   "source": [
    "ranked_items = [\"a\",\"b\",\"c\",\"d\",\"e\"]\n",
    "rel_items = [\"b\",\"e\"]"
   ]
  },
  {
   "cell_type": "code",
   "execution_count": 4,
   "id": "Q-67y1KEVprB",
   "metadata": {
    "colab": {
     "base_uri": "https://localhost:8080/"
    },
    "executionInfo": {
     "elapsed": 448,
     "status": "ok",
     "timestamp": 1672073425894,
     "user": {
      "displayName": "Tevfik Aytekin",
      "userId": "03705756795675396046"
     },
     "user_tz": -180
    },
    "id": "Q-67y1KEVprB",
    "outputId": "cc97c15a-b696-4ae2-e6fc-1aabf61d78b3"
   },
   "outputs": [
    {
     "data": {
      "text/plain": [
       "1"
      ]
     },
     "execution_count": 4,
     "metadata": {},
     "output_type": "execute_result"
    }
   ],
   "source": [
    "hits_at(ranked_items, rel_items, 3)"
   ]
  },
  {
   "cell_type": "markdown",
   "id": "13a6d560",
   "metadata": {},
   "source": [
    "### precision@k\n",
    "\n",
    "Measures the proportion of relevant items at top k positions."
   ]
  },
  {
   "cell_type": "code",
   "execution_count": 2,
   "id": "5d3bcc98",
   "metadata": {
    "id": "5d3bcc98"
   },
   "outputs": [],
   "source": [
    "def precision_at(ranked_items, rel_items, k):\n",
    "    hits = hits_at(ranked_items, rel_items, k)\n",
    "    return hits/k"
   ]
  },
  {
   "cell_type": "code",
   "execution_count": 24,
   "id": "b2f74c9c",
   "metadata": {},
   "outputs": [],
   "source": [
    "ranked_items = [\"7\",\"4\",\"15\",\"12\",\"23\"]\n",
    "rel_items = [\"4\",\"12\",\"14\"]"
   ]
  },
  {
   "cell_type": "code",
   "execution_count": 8,
   "id": "e1f61f0c",
   "metadata": {},
   "outputs": [],
   "source": [
    "ranked_items = [\"a\",\"b\",\"c\",\"d\",\"e\"]\n",
    "rel_items = [\"b\",\"e\"]"
   ]
  },
  {
   "cell_type": "code",
   "execution_count": 7,
   "id": "451a41f2",
   "metadata": {},
   "outputs": [
    {
     "data": {
      "text/plain": [
       "0.4"
      ]
     },
     "execution_count": 7,
     "metadata": {},
     "output_type": "execute_result"
    }
   ],
   "source": [
    "2/5"
   ]
  },
  {
   "cell_type": "code",
   "execution_count": 8,
   "id": "97064cad",
   "metadata": {
    "colab": {
     "base_uri": "https://localhost:8080/"
    },
    "executionInfo": {
     "elapsed": 347,
     "status": "ok",
     "timestamp": 1672073488062,
     "user": {
      "displayName": "Tevfik Aytekin",
      "userId": "03705756795675396046"
     },
     "user_tz": -180
    },
    "id": "97064cad",
    "outputId": "b2c00153-5aff-4949-86bc-aa8a92beef5e"
   },
   "outputs": [
    {
     "data": {
      "text/plain": [
       "0.3333333333333333"
      ]
     },
     "execution_count": 8,
     "metadata": {},
     "output_type": "execute_result"
    }
   ],
   "source": [
    "precision_at(ranked_items, rel_items,3)"
   ]
  },
  {
   "cell_type": "markdown",
   "id": "cbb341a1",
   "metadata": {},
   "source": [
    "### recall@k\n",
    "\n",
    "Measures the proportion of relevant items at top-k relative to all relevant items"
   ]
  },
  {
   "cell_type": "code",
   "execution_count": 9,
   "id": "37c63c6c",
   "metadata": {
    "id": "37c63c6c"
   },
   "outputs": [],
   "source": [
    "def recall_at(ranked_items, true_items, k):\n",
    "    hits = hits_at(ranked_items, true_items, k)\n",
    "    return hits/len(rel_items)"
   ]
  },
  {
   "cell_type": "code",
   "execution_count": 11,
   "id": "f3c30db3",
   "metadata": {},
   "outputs": [],
   "source": [
    "ranked_items = [\"a\",\"b\",\"c\",\"d\",\"e\"]\n",
    "rel_items = [\"b\",\"e\"]"
   ]
  },
  {
   "cell_type": "code",
   "execution_count": 11,
   "id": "1473b609",
   "metadata": {
    "colab": {
     "base_uri": "https://localhost:8080/"
    },
    "executionInfo": {
     "elapsed": 281,
     "status": "ok",
     "timestamp": 1672073526295,
     "user": {
      "displayName": "Tevfik Aytekin",
      "userId": "03705756795675396046"
     },
     "user_tz": -180
    },
    "id": "3d4cbe39",
    "outputId": "f4cc8609-6dd7-461f-c802-2abb3b1fd2dd"
   },
   "outputs": [
    {
     "data": {
      "text/plain": [
       "0.3333333333333333"
      ]
     },
     "execution_count": 11,
     "metadata": {},
     "output_type": "execute_result"
    }
   ],
   "source": [
    "recall_at(ranked_items, rel_items,3)"
   ]
  },
  {
   "cell_type": "markdown",
   "id": "2f598c99",
   "metadata": {},
   "source": [
    "Depending on the applications you can choose the size of k. For example, in a typical web application where 5 items are recommended to the user k=5 might be a good choice. On the other hand, in a mobile web applcation where only 1 item can be shown to the user you might choose k = 1.\n",
    "\n",
    "A problem of these measures is that they do not consider the order of the relevant items at top k positions. For example, for the following scenario:\n",
    "\n",
    "items: a, b, c, d, e, f, g <br>\n",
    "rel_items = b, f\n",
    "\n",
    "Given the following rankings:\n",
    "\n",
    "A = [c, b, f, a, g, e, d] <br>\n",
    "B = [b, f, g, c, g, a, e]\n",
    "\n",
    "hits@3 (hence precisipn@3 and recall@3) will be the same for both rankings, however, B is better than A. To account for this, more complicated metrics formulated.\n"
   ]
  },
  {
   "cell_type": "markdown",
   "id": "8b91e7fa",
   "metadata": {
    "id": "8b91e7fa"
   },
   "source": [
    "### Average Precision"
   ]
  },
  {
   "cell_type": "code",
   "execution_count": 15,
   "id": "dc035851",
   "metadata": {
    "id": "dc035851"
   },
   "outputs": [],
   "source": [
    "def average_precision(ranked_items, rel_items):\n",
    "    hits = 0\n",
    "    avg_prec = 0\n",
    "    i = 0\n",
    "    for item in ranked_items:\n",
    "        if item in rel_items:\n",
    "            hits += 1\n",
    "            avg_prec += hits / (i+1)\n",
    "        i += 1\n",
    "    return avg_prec / len(rel_items)\n",
    "    "
   ]
  },
  {
   "cell_type": "code",
   "execution_count": 17,
   "id": "6e8f785c",
   "metadata": {},
   "outputs": [],
   "source": [
    "def average_precision(ranked_items, rel_items):\n",
    "    hits = 0\n",
    "    avg_prec = 0\n",
    "    for i in range(len(ranked_items)):\n",
    "        if ranked_items[i] in rel_items:\n",
    "            hits += 1\n",
    "            avg_prec += hits / (i+1)\n",
    "    return avg_prec / len(rel_items)"
   ]
  },
  {
   "cell_type": "code",
   "execution_count": 25,
   "id": "57783468",
   "metadata": {
    "id": "57783468"
   },
   "outputs": [],
   "source": [
    "ranked_items1 = [\"c\", \"b\", \"f\", \"a\", \"g\", \"e\", \"d\"]\n",
    "ranked_items2 = [\"b\", \"f\", \"g\", \"c\", \"g\", \"a\", \"e\"]\n",
    "rel_items = [\"b\",\"f\"]"
   ]
  },
  {
   "cell_type": "code",
   "execution_count": 18,
   "id": "3d7bd557",
   "metadata": {},
   "outputs": [
    {
     "data": {
      "text/plain": [
       "0.3333333333333333"
      ]
     },
     "execution_count": 18,
     "metadata": {},
     "output_type": "execute_result"
    }
   ],
   "source": [
    "average_precision(ranked_items,rel_items)"
   ]
  },
  {
   "cell_type": "code",
   "execution_count": 26,
   "id": "787ff3c6",
   "metadata": {
    "colab": {
     "base_uri": "https://localhost:8080/"
    },
    "executionInfo": {
     "elapsed": 5,
     "status": "ok",
     "timestamp": 1672074501777,
     "user": {
      "displayName": "Tevfik Aytekin",
      "userId": "03705756795675396046"
     },
     "user_tz": -180
    },
    "id": "787ff3c6",
    "outputId": "83b97921-137f-4455-fcea-47a796a50950"
   },
   "outputs": [
    {
     "name": "stdout",
     "output_type": "stream",
     "text": [
      "ranking 1:  0.5833333333333333\n",
      "ranking 2:  1.0\n"
     ]
    }
   ],
   "source": [
    "print(\"ranking 1: \",average_precision(ranked_items1, rel_items))\n",
    "print(\"ranking 2: \",average_precision(ranked_items2, rel_items))"
   ]
  },
  {
   "cell_type": "markdown",
   "id": "3dca59f1",
   "metadata": {},
   "source": [
    "Mean Average Precision (MAP) is simply the mean of the APs over all rankings."
   ]
  },
  {
   "cell_type": "markdown",
   "id": "60e7c371",
   "metadata": {
    "id": "60e7c371"
   },
   "source": [
    "### Reciprocal Rank"
   ]
  },
  {
   "cell_type": "code",
   "execution_count": 18,
   "id": "8c0a4e92",
   "metadata": {
    "id": "8c0a4e92"
   },
   "outputs": [],
   "source": [
    "# See http://en.wikipedia.org/wiki/Mean_reciprocal_rank\n",
    "def reciprocal_rank(ranked_items, rel_items):\n",
    "    pos = 0;\n",
    "    for item in ranked_items:\n",
    "        if item in rel_items:\n",
    "            return 1 / (pos+1)\n",
    "        pos +=1\n",
    "            "
   ]
  },
  {
   "cell_type": "code",
   "execution_count": 14,
   "id": "b9cf88db",
   "metadata": {
    "colab": {
     "base_uri": "https://localhost:8080/"
    },
    "executionInfo": {
     "elapsed": 5,
     "status": "ok",
     "timestamp": 1672074563548,
     "user": {
      "displayName": "Tevfik Aytekin",
      "userId": "03705756795675396046"
     },
     "user_tz": -180
    },
    "id": "b9cf88db",
    "outputId": "e7cf327e-2a09-4792-ed0c-e7178e015cc0"
   },
   "outputs": [],
   "source": [
    "ranked_items1 = [\"c\", \"b\", \"f\", \"a\", \"g\", \"e\", \"d\"]\n",
    "ranked_items2 = [\"b\", \"f\", \"g\", \"c\", \"g\", \"a\", \"e\"]\n",
    "rel_items = [\"b\",\"f\"]"
   ]
  },
  {
   "cell_type": "code",
   "execution_count": 19,
   "id": "6f4e04bc",
   "metadata": {},
   "outputs": [
    {
     "name": "stdout",
     "output_type": "stream",
     "text": [
      "ranking 1:  0.5\n",
      "ranking 2:  1.0\n"
     ]
    }
   ],
   "source": [
    "print(\"ranking 1: \",reciprocal_rank(ranked_items1, rel_items))\n",
    "print(\"ranking 2: \",reciprocal_rank(ranked_items2, rel_items))"
   ]
  },
  {
   "cell_type": "markdown",
   "id": "7e7af116",
   "metadata": {
    "id": "7e7af116"
   },
   "source": [
    "### Normalized Discounted Cumulative Gain"
   ]
  },
  {
   "cell_type": "code",
   "execution_count": 20,
   "id": "f26f3907",
   "metadata": {
    "id": "f26f3907"
   },
   "outputs": [],
   "source": [
    "# Computes the ideal DCG given the number of positive items\n",
    "def compute_IDCG(n):\n",
    "    idcg = 0\n",
    "    for i in range(n):\n",
    "        idcg += 1 / np.log2(i+2)\n",
    "    return idcg"
   ]
  },
  {
   "cell_type": "code",
   "execution_count": 19,
   "id": "d815837b",
   "metadata": {
    "id": "d815837b"
   },
   "outputs": [],
   "source": [
    "def NDCG(ranked_items, rel_items):\n",
    "    dcg = 0\n",
    "    idcg = compute_IDCG(len(rel_items))\n",
    "    for i in range(len(ranked_items)):\n",
    "        if ranked_items[i] in rel_items:\n",
    "            dg = 1 / np.log2(i+2)\n",
    "            dcg += dg \n",
    "            #print(dg)\n",
    "    return dcg/idcg\n",
    "    \n",
    "    "
   ]
  },
  {
   "cell_type": "code",
   "execution_count": 28,
   "id": "K538bAf8dQz7",
   "metadata": {
    "id": "K538bAf8dQz7"
   },
   "outputs": [],
   "source": [
    "ranked_items1 = [\"b\", \"f\", \"c\", \"a\", \"g\", \"e\", \"d\"]\n",
    "ranked_items2 = [\"b\", \"c\", \"a\", \"f\", \"g\", \"e\", \"d\"]\n",
    "rel_items = [\"b\",\"f\"]\n"
   ]
  },
  {
   "cell_type": "code",
   "execution_count": 31,
   "id": "53ab4f62",
   "metadata": {
    "colab": {
     "base_uri": "https://localhost:8080/"
    },
    "executionInfo": {
     "elapsed": 299,
     "status": "ok",
     "timestamp": 1672075435360,
     "user": {
      "displayName": "Tevfik Aytekin",
      "userId": "03705756795675396046"
     },
     "user_tz": -180
    },
    "id": "53ab4f62",
    "outputId": "8a840698-b3d7-4b3d-ae88-1ad025106b2e",
    "scrolled": true
   },
   "outputs": [
    {
     "name": "stdout",
     "output_type": "stream",
     "text": [
      "ranking 1:  1.0\n",
      "ranking 2:  0.8772153153380493\n"
     ]
    }
   ],
   "source": [
    "print(\"ranking 1: \",NDCG(ranked_items1, rel_items))\n",
    "print(\"ranking 2: \",NDCG(ranked_items2, rel_items))"
   ]
  },
  {
   "cell_type": "markdown",
   "id": "16155778",
   "metadata": {},
   "source": [
    "### The log function"
   ]
  },
  {
   "cell_type": "code",
   "execution_count": 32,
   "id": "252900fd",
   "metadata": {
    "id": "252900fd"
   },
   "outputs": [
    {
     "data": {
      "image/png": "[encoded data removed]",
      "text/plain": [
       "<Figure size 400x300 with 1 Axes>"
      ]
     },
     "metadata": {},
     "output_type": "display_data"
    }
   ],
   "source": [
    "\n",
    "x = np.linspace(0.1, 20, 400)\n",
    "y = np.log2(x)\n",
    "\n",
    "plt.figure(figsize=(4, 3))\n",
    "plt.plot(x, y, label='y = log(x)')\n",
    "plt.title('Plot of the Logarithmic Function')\n",
    "plt.xlabel('x')\n",
    "plt.ylabel('log(x)')\n",
    "plt.grid(True)\n",
    "plt.legend()\n",
    "plt.show()\n"
   ]
  },
  {
   "cell_type": "code",
   "execution_count": null,
   "id": "205688eb",
   "metadata": {},
   "outputs": [],
   "source": []
  }
 ],
 "metadata": {
  "colab": {
   "provenance": []
  },
  "kernelspec": {
   "display_name": "sklearn-env",
   "language": "python",
   "name": "python3"
  },
  "language_info": {
   "codemirror_mode": {
    "name": "ipython",
    "version": 3
   },
   "file_extension": ".py",
   "mimetype": "text/x-python",
   "name": "python",
   "nbconvert_exporter": "python",
   "pygments_lexer": "ipython3",
   "version": "3.11.9"
  }
 },
 "nbformat": 4,
 "nbformat_minor": 5
}
