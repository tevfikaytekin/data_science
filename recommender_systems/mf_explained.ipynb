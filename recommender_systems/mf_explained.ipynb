{
 "cells": [
  {
   "cell_type": "code",
   "execution_count": 1,
   "id": "d5d50363",
   "metadata": {
    "id": "d5d50363"
   },
   "outputs": [],
   "source": [
    "import numpy as np\n",
    "import scipy.stats as stats\n",
    "from sklearn.utils import shuffle\n",
    "from sklearn import linear_model\n",
    "from sklearn.tree import DecisionTreeRegressor, DecisionTreeClassifier\n",
    "from sklearn.ensemble import GradientBoostingRegressor, RandomForestRegressor, GradientBoostingClassifier, RandomForestClassifier\n",
    "from sklearn.inspection import PartialDependenceDisplay\n",
    "import matplotlib.pyplot as plt\n",
    "from sklearn.model_selection import cross_val_score, KFold, cross_validate\n",
    "from sklearn.decomposition import NMF, LatentDirichletAllocation, FactorAnalysis, PCA\n",
    "from scipy.sparse import coo_matrix, csr_matrix, lil_matrix\n",
    "import sys\n",
    "sys.path.append('../data_science')\n",
    "from sklearn.model_selection import train_test_split\n",
    "from tqdm import tqdm\n",
    "import seaborn as sns\n",
    "\n",
    "\n",
    "\n",
    "np.set_printoptions(precision=2)\n",
    "np.set_printoptions(suppress=True)\n",
    "import pandas as pd"
   ]
  },
  {
   "cell_type": "markdown",
   "id": "b3bcc5c2",
   "metadata": {
    "id": "b3bcc5c2"
   },
   "source": [
    "### Latent Variable Models\n",
    "\n",
    "Assume that we have n students and k courses. All students have grades for all courses. Factor analysis assumes that actually there are few parameters (latent variables) which determine students' grades. For example IQ and study_time might be the basic factors which determine the grades. \n",
    "\n",
    "Let us assume that there are 5 courses. We will assume that IQ scores and study times of the students determine the grades they get from these courses. In other words we can model the grade of a student $s$ for course $c$ as follows:\n",
    "\n",
    "$$\n",
    "grade_{sc} = IQ_s*F_c + ST_s*F_c\n",
    "$$\n",
    "\n",
    "$F_c$ is the factor for each course which together with IQ and study time determine the grade. This is also reasonable to assume since otherwise a student would get the same grade from all courses.\n"
   ]
  },
  {
   "cell_type": "code",
   "execution_count": 80,
   "id": "b4efdd5b",
   "metadata": {
    "colab": {
     "base_uri": "https://localhost:8080/"
    },
    "executionInfo": {
     "elapsed": 4,
     "status": "ok",
     "timestamp": 1671551957051,
     "user": {
      "displayName": "Tevfik Aytekin",
      "userId": "03705756795675396046"
     },
     "user_tz": -180
    },
    "id": "b4efdd5b",
    "outputId": "1bc96f01-7e0b-47b4-a436-82cd996db647"
   },
   "outputs": [
    {
     "name": "stdout",
     "output_type": "stream",
     "text": [
      "[[0.93 0.21 0.57 0.31 0.55]\n",
      " [0.42 0.83 0.01 0.72 0.64]]\n",
      "[[102.01  11.3 ]\n",
      " [ 99.92  10.44]\n",
      " [ 89.81   9.59]\n",
      " [ 88.69  12.35]\n",
      " [100.53  13.17]\n",
      " [102.9   10.57]\n",
      " [ 78.06   5.2 ]\n",
      " [ 59.1   12.1 ]\n",
      " [ 93.4   10.08]\n",
      " [105.97   7.54]]\n"
     ]
    }
   ],
   "source": [
    "n = 100\n",
    "k = 5\n",
    "\n",
    "# Students IQs normally distributed with mean = 100, std = 20\n",
    "IQ = np.random.normal(100,20,n).reshape(n,-1)\n",
    "ST = np.random.normal(10,2,n).reshape(n,-1)\n",
    "IQST = np.hstack([IQ,ST])\n",
    "\n",
    "# Course factors,  what do these values represent? why do we need them?\n",
    "CF = np.random.rand(2,5)\n",
    "\n",
    "print(CF)\n",
    "print(IQST[:10])\n"
   ]
  },
  {
   "cell_type": "code",
   "execution_count": 70,
   "metadata": {},
   "outputs": [
    {
     "data": {
      "text/plain": [
       "array([[23.35, 49.8 ,  1.74, 96.79, 76.84],\n",
       "       [29.05, 11.97, 18.26, 12.25, 57.58],\n",
       "       [45.12, 73.7 , 88.7 , 16.51, 41.5 ],\n",
       "       [63.56, 79.08, 94.1 , 36.62, 53.09],\n",
       "       [43.83, 85.55, 62.41, 33.96, 43.48],\n",
       "       [75.04, 12.58, 46.88, 66.56, 32.64],\n",
       "       [ 6.04, 52.98, 77.6 ,  7.1 ,  0.1 ],\n",
       "       [98.28, 33.44, 61.31, 30.2 , 74.28],\n",
       "       [49.29, 69.67, 29.67, 50.21, 23.84],\n",
       "       [41.57, 86.46, 30.43, 46.48, 84.16],\n",
       "       [46.62, 85.29, 67.7 , 64.07,  3.17],\n",
       "       [23.69, 86.23, 46.97, 84.99, 66.59],\n",
       "       [ 7.66, 47.75, 86.39, 85.83, 69.28],\n",
       "       [67.16, 61.06, 79.13, 39.82, 17.68],\n",
       "       [69.59, 57.37, 37.36, 93.68, 81.63],\n",
       "       [19.23, 30.34, 76.35, 78.06, 39.68],\n",
       "       [42.17, 53.05, 25.13, 27.9 , 15.72],\n",
       "       [93.97, 38.87, 63.47, 28.72, 37.51],\n",
       "       [94.7 , 92.81, 28.78, 35.93, 95.64],\n",
       "       [71.16, 82.5 , 95.55, 17.08, 35.52],\n",
       "       [93.58, 45.16, 33.7 , 41.12, 67.61],\n",
       "       [ 5.86, 26.04, 31.75,  7.93, 15.76],\n",
       "       [77.45, 27.06, 78.77, 10.54, 99.85],\n",
       "       [77.8 , 85.21, 44.41, 85.98, 56.07],\n",
       "       [13.04, 34.45, 55.45,  3.05,  3.83],\n",
       "       [16.6 , 83.73, 71.38, 71.42, 55.63],\n",
       "       [68.38, 81.7 , 76.25, 57.57, 88.15],\n",
       "       [77.92, 47.34, 51.76, 93.53, 16.37],\n",
       "       [52.97, 32.86, 96.5 , 19.97, 46.46],\n",
       "       [ 0.28, 80.75, 27.54, 89.61,  4.55],\n",
       "       [39.05, 32.73, 54.06, 80.33, 66.3 ],\n",
       "       [ 5.5 , 73.17,  7.52, 28.28, 25.67],\n",
       "       [87.59, 65.8 , 68.2 , 43.1 , 98.74],\n",
       "       [ 0.05, 52.25, 14.11, 95.73, 82.85],\n",
       "       [13.51, 51.03, 50.24, 76.59, 13.77],\n",
       "       [14.4 , 71.71,  5.  , 64.18, 59.36],\n",
       "       [92.69, 65.6 , 62.6 , 72.31, 62.91],\n",
       "       [26.19, 74.01, 42.88, 80.44, 58.84],\n",
       "       [75.85, 34.93, 43.69, 24.68, 74.63],\n",
       "       [78.63,  4.65, 76.08, 33.04, 41.86],\n",
       "       [55.5 , 90.66, 55.02, 60.45, 25.69],\n",
       "       [ 2.28, 53.9 , 43.41, 16.77, 47.23],\n",
       "       [41.47, 19.45, 65.49, 80.44, 86.53],\n",
       "       [52.59, 81.19, 56.93, 95.28, 30.8 ],\n",
       "       [85.36, 10.26, 24.7 , 32.95, 17.39],\n",
       "       [52.35, 46.79, 82.59, 11.54,  7.1 ],\n",
       "       [28.64, 30.78, 45.51, 51.02, 31.43],\n",
       "       [75.46, 98.89, 88.93, 94.18, 58.28],\n",
       "       [64.09, 56.31, 86.68, 79.03, 34.11],\n",
       "       [83.04, 51.12,  6.12, 73.89, 43.98],\n",
       "       [26.9 , 58.44, 59.69, 54.98, 41.39],\n",
       "       [76.39, 14.95, 91.59, 65.77, 83.13],\n",
       "       [42.04,  0.4 , 70.74, 42.92, 94.31],\n",
       "       [61.94, 25.68, 43.48, 66.8 , 77.61],\n",
       "       [94.86, 68.18, 89.25, 51.02, 59.88],\n",
       "       [53.03, 26.96, 73.63, 23.03,  6.55],\n",
       "       [20.59, 92.53, 76.93, 66.92, 67.1 ],\n",
       "       [32.66, 20.96, 60.83, 49.98, 45.97],\n",
       "       [74.58, 29.4 , 41.  , 83.83, 32.13],\n",
       "       [33.3 , 33.7 , 28.77, 64.42, 14.79],\n",
       "       [80.41, 79.54, 17.25, 27.41, 82.91],\n",
       "       [38.61, 20.42, 85.53, 76.01, 18.88],\n",
       "       [52.7 , 66.33, 87.11, 34.94,  9.64],\n",
       "       [34.39, 36.09,  4.48, 69.85, 33.64],\n",
       "       [19.97, 25.35,  0.99, 59.58, 25.95],\n",
       "       [49.37,  6.76, 84.34, 52.94,  5.09],\n",
       "       [ 0.84, 72.76, 58.14, 87.56, 94.26],\n",
       "       [28.99, 51.89, 10.9 , 33.78, 52.24],\n",
       "       [63.29, 79.61, 15.48, 64.72, 42.13],\n",
       "       [ 0.9 , 33.97, 46.74, 77.91,  3.49],\n",
       "       [39.99, 35.91, 75.81, 73.65, 94.77],\n",
       "       [34.38, 97.65, 78.16,  2.  ,  7.23],\n",
       "       [20.01, 70.72, 24.91, 95.93, 48.29],\n",
       "       [30.12, 29.57, 97.88, 13.68, 55.66],\n",
       "       [29.64, 50.45, 21.6 , 83.41, 12.76],\n",
       "       [33.78,  9.62, 97.41, 73.66, 88.16],\n",
       "       [64.58, 97.74, 52.88,  7.42, 35.47],\n",
       "       [64.32, 38.33, 99.25, 24.57, 81.7 ],\n",
       "       [75.82, 24.99, 34.47, 89.53, 14.14],\n",
       "       [63.94, 65.88, 34.57, 68.61, 50.63],\n",
       "       [43.26, 99.99, 40.29, 37.19, 20.66],\n",
       "       [71.48, 57.55, 60.6 , 50.29, 44.94],\n",
       "       [81.44,  7.76, 40.7 , 82.08, 45.99],\n",
       "       [ 3.63, 56.75, 91.66, 59.29,  1.59],\n",
       "       [37.38, 54.2 , 43.26, 15.95, 27.62],\n",
       "       [ 4.57, 83.05, 79.04, 77.4 , 74.09],\n",
       "       [37.13, 96.81, 91.52, 58.5 , 78.84],\n",
       "       [24.26, 58.14, 48.47, 20.54, 75.7 ],\n",
       "       [34.62, 66.62, 30.77, 59.01, 98.24],\n",
       "       [74.87, 76.01,  0.93, 93.78, 82.18],\n",
       "       [13.62, 12.46, 22.36, 35.66, 78.33],\n",
       "       [10.17, 42.04, 45.09, 53.11, 24.43],\n",
       "       [39.58,  6.61, 70.39, 92.64,  0.27],\n",
       "       [60.13, 54.69, 54.46, 34.48, 70.98],\n",
       "       [29.83,  6.1 , 66.72, 15.91,  3.47],\n",
       "       [55.79, 46.07, 52.48, 16.9 ,  3.72],\n",
       "       [46.39, 44.43,  2.41, 34.01, 82.61],\n",
       "       [ 3.57, 41.16,  7.78, 36.21, 69.09],\n",
       "       [89.56, 37.66, 86.37, 85.86, 49.84],\n",
       "       [46.03, 78.32, 41.65, 97.02, 49.52]])"
      ]
     },
     "execution_count": 70,
     "metadata": {},
     "output_type": "execute_result"
    }
   ],
   "source": [
    "GM = np.random.rand(100,5) * 100\n",
    "GM"
   ]
  },
  {
   "cell_type": "code",
   "execution_count": 81,
   "id": "Kl1JV3EhoZR6",
   "metadata": {
    "colab": {
     "base_uri": "https://localhost:8080/"
    },
    "executionInfo": {
     "elapsed": 368,
     "status": "ok",
     "timestamp": 1671551959687,
     "user": {
      "displayName": "Tevfik Aytekin",
      "userId": "03705756795675396046"
     },
     "user_tz": -180
    },
    "id": "Kl1JV3EhoZR6",
    "outputId": "25c742bb-e4c2-4dc8-a7c5-576025ed53ec"
   },
   "outputs": [
    {
     "data": {
      "text/plain": [
       "array([[100.  ,  30.49,  58.43,  40.07,  63.13],\n",
       "       [ 97.68,  29.34,  57.23,  38.79,  61.43],\n",
       "       [ 87.88,  26.54,  51.44,  35.02,  55.35],\n",
       "       [ 88.  ,  28.59,  50.82,  36.65,  56.5 ],\n",
       "       [ 99.41,  31.73,  57.6 ,  40.95,  63.52],\n",
       "       [100.51,  30.06,  58.93,  39.82,  63.15],\n",
       "       [ 75.06,  20.48,  44.69,  28.19,  46.11],\n",
       "       [ 60.28,  22.26,  33.89,  27.21,  40.12],\n",
       "       [ 91.44,  27.69,  53.5 ,  36.49,  57.63],\n",
       "       [102.1 ,  28.2 ,  60.67,  38.61,  62.9 ]])"
      ]
     },
     "execution_count": 81,
     "metadata": {},
     "output_type": "execute_result"
    }
   ],
   "source": [
    "GM = np.dot(IQST,CF)\n",
    "GM[:10]"
   ]
  },
  {
   "cell_type": "code",
   "execution_count": 34,
   "metadata": {},
   "outputs": [
    {
     "data": {
      "text/plain": [
       "(100, 5)"
      ]
     },
     "execution_count": 34,
     "metadata": {},
     "output_type": "execute_result"
    }
   ],
   "source": [
    "GM.shape"
   ]
  },
  {
   "cell_type": "code",
   "execution_count": 105,
   "id": "80592914",
   "metadata": {
    "id": "80592914",
    "outputId": "671ce365-f7c2-4d79-d04c-a9ab5b1e6206"
   },
   "outputs": [
    {
     "data": {
      "text/html": [
       "<div>\n",
       "<style scoped>\n",
       "    .dataframe tbody tr th:only-of-type {\n",
       "        vertical-align: middle;\n",
       "    }\n",
       "\n",
       "    .dataframe tbody tr th {\n",
       "        vertical-align: top;\n",
       "    }\n",
       "\n",
       "    .dataframe thead th {\n",
       "        text-align: right;\n",
       "    }\n",
       "</style>\n",
       "<table border=\"1\" class=\"dataframe\">\n",
       "  <thead>\n",
       "    <tr style=\"text-align: right;\">\n",
       "      <th></th>\n",
       "      <th>0</th>\n",
       "      <th>1</th>\n",
       "      <th>2</th>\n",
       "      <th>3</th>\n",
       "      <th>4</th>\n",
       "    </tr>\n",
       "  </thead>\n",
       "  <tbody>\n",
       "    <tr>\n",
       "      <th>0</th>\n",
       "      <td>1.000000</td>\n",
       "      <td>0.768615</td>\n",
       "      <td>0.723923</td>\n",
       "      <td>0.994148</td>\n",
       "      <td>0.840067</td>\n",
       "    </tr>\n",
       "    <tr>\n",
       "      <th>1</th>\n",
       "      <td>0.768615</td>\n",
       "      <td>1.000000</td>\n",
       "      <td>0.997743</td>\n",
       "      <td>0.695013</td>\n",
       "      <td>0.992721</td>\n",
       "    </tr>\n",
       "    <tr>\n",
       "      <th>2</th>\n",
       "      <td>0.723923</td>\n",
       "      <td>0.997743</td>\n",
       "      <td>1.000000</td>\n",
       "      <td>0.645163</td>\n",
       "      <td>0.982392</td>\n",
       "    </tr>\n",
       "    <tr>\n",
       "      <th>3</th>\n",
       "      <td>0.994148</td>\n",
       "      <td>0.695013</td>\n",
       "      <td>0.645163</td>\n",
       "      <td>1.000000</td>\n",
       "      <td>0.776549</td>\n",
       "    </tr>\n",
       "    <tr>\n",
       "      <th>4</th>\n",
       "      <td>0.840067</td>\n",
       "      <td>0.992721</td>\n",
       "      <td>0.982392</td>\n",
       "      <td>0.776549</td>\n",
       "      <td>1.000000</td>\n",
       "    </tr>\n",
       "  </tbody>\n",
       "</table>\n",
       "</div>"
      ],
      "text/plain": [
       "          0         1         2         3         4\n",
       "0  1.000000  0.768615  0.723923  0.994148  0.840067\n",
       "1  0.768615  1.000000  0.997743  0.695013  0.992721\n",
       "2  0.723923  0.997743  1.000000  0.645163  0.982392\n",
       "3  0.994148  0.695013  0.645163  1.000000  0.776549\n",
       "4  0.840067  0.992721  0.982392  0.776549  1.000000"
      ]
     },
     "execution_count": 105,
     "metadata": {},
     "output_type": "execute_result"
    }
   ],
   "source": [
    "pd.DataFrame(GM).corr()"
   ]
  },
  {
   "cell_type": "code",
   "execution_count": 106,
   "id": "e4660e53",
   "metadata": {
    "id": "e4660e53",
    "outputId": "79cece03-4355-47a3-a4ea-5d4734ecb1d5"
   },
   "outputs": [
    {
     "data": {
      "text/plain": [
       "<Axes: >"
      ]
     },
     "execution_count": 106,
     "metadata": {},
     "output_type": "execute_result"
    },
    {
     "data": {
      "image/png": "[encoded data removed]",
      "text/plain": [
       "<Figure size 640x480 with 2 Axes>"
      ]
     },
     "metadata": {},
     "output_type": "display_data"
    }
   ],
   "source": [
    "sns.heatmap(pd.DataFrame(GM).corr())"
   ]
  },
  {
   "cell_type": "markdown",
   "id": "Rev7kiBrpmmm",
   "metadata": {
    "id": "Rev7kiBrpmmm"
   },
   "source": [
    "### Factor Analysis"
   ]
  },
  {
   "cell_type": "code",
   "execution_count": 8,
   "id": "c7K5SG1kpi7X",
   "metadata": {
    "id": "c7K5SG1kpi7X"
   },
   "outputs": [],
   "source": [
    "fa = FactorAnalysis(n_components=2).fit(GM)"
   ]
  },
  {
   "cell_type": "code",
   "execution_count": 9,
   "id": "Zh2d56IOpyVu",
   "metadata": {
    "colab": {
     "base_uri": "https://localhost:8080/"
    },
    "executionInfo": {
     "elapsed": 614,
     "status": "ok",
     "timestamp": 1671551965806,
     "user": {
      "displayName": "Tevfik Aytekin",
      "userId": "03705756795675396046"
     },
     "user_tz": -180
    },
    "id": "Zh2d56IOpyVu",
    "outputId": "4016ae9b-656c-4ea0-97b0-b7e358099074"
   },
   "outputs": [
    {
     "name": "stdout",
     "output_type": "stream",
     "text": [
      "[[-12.15  -6.07 -11.67  -5.55  -0.13]\n",
      " [ -0.27  -0.28   0.33   0.18   1.08]]\n",
      "[[-0.74 -1.57]\n",
      " [-1.7  -1.98]\n",
      " [ 2.97 -0.21]\n",
      " [ 0.22 -1.33]\n",
      " [ 1.64  2.84]\n",
      " [-0.83  0.11]\n",
      " [ 1.86 -0.18]\n",
      " [ 0.42 -1.25]\n",
      " [-2.08  0.61]\n",
      " [ 0.11 -0.29]]\n"
     ]
    }
   ],
   "source": [
    "L = fa.components_\n",
    "print(L)\n",
    "F = fa.transform(GM)\n",
    "print(F[:10])"
   ]
  },
  {
   "cell_type": "code",
   "execution_count": 10,
   "id": "giaRc19cpi-A",
   "metadata": {
    "colab": {
     "base_uri": "https://localhost:8080/"
    },
    "executionInfo": {
     "elapsed": 279,
     "status": "ok",
     "timestamp": 1671551968409,
     "user": {
      "displayName": "Tevfik Aytekin",
      "userId": "03705756795675396046"
     },
     "user_tz": -180
    },
    "id": "giaRc19cpi-A",
    "outputId": "733c09e6-c814-431f-d252-582e3e264d3f"
   },
   "outputs": [
    {
     "data": {
      "text/plain": [
       "array([[77.97, 38.55, 76.62, 36.5 ,  3.88],\n",
       "       [89.71, 44.47, 87.67, 41.74,  3.55],\n",
       "       [32.51, 15.64, 33.74, 16.14,  4.87],\n",
       "       [66.19, 32.63, 65.45, 31.19,  4.02],\n",
       "       [47.85, 22.87, 50.3 , 24.09,  8.35],\n",
       "       [78.65, 38.65, 78.28, 37.33,  5.71],\n",
       "       [46.02, 22.39, 46.74, 22.33,  5.05],\n",
       "       [63.74, 31.39, 63.14, 30.1 ,  4.08],\n",
       "       [93.61, 46.05, 92.96, 44.32,  6.41],\n",
       "       [67.29, 33.03, 67.12, 32.02,  5.16]])"
      ]
     },
     "execution_count": 10,
     "metadata": {},
     "output_type": "execute_result"
    }
   ],
   "source": [
    "GM_recovered = fa.mean_ + np.dot(F,L)\n",
    "GM_recovered[:10]"
   ]
  },
  {
   "cell_type": "code",
   "execution_count": 11,
   "id": "awiu9TLvLlQq",
   "metadata": {
    "colab": {
     "base_uri": "https://localhost:8080/"
    },
    "executionInfo": {
     "elapsed": 281,
     "status": "ok",
     "timestamp": 1671468211495,
     "user": {
      "displayName": "Tevfik Aytekin",
      "userId": "03705756795675396046"
     },
     "user_tz": -180
    },
    "id": "awiu9TLvLlQq",
    "outputId": "5deebeef-23d8-4e23-b01f-36a727fd1b58"
   },
   "outputs": [
    {
     "data": {
      "text/plain": [
       "array([[77.97, 38.55, 76.62, 36.5 ,  3.88],\n",
       "       [89.71, 44.47, 87.67, 41.74,  3.55],\n",
       "       [32.51, 15.64, 33.74, 16.14,  4.87],\n",
       "       [66.19, 32.63, 65.45, 31.19,  4.02],\n",
       "       [47.85, 22.87, 50.3 , 24.09,  8.35],\n",
       "       [78.65, 38.65, 78.28, 37.33,  5.71],\n",
       "       [46.02, 22.39, 46.74, 22.33,  5.05],\n",
       "       [63.74, 31.39, 63.14, 30.1 ,  4.08],\n",
       "       [93.61, 46.05, 92.96, 44.32,  6.41],\n",
       "       [67.29, 33.03, 67.12, 32.02,  5.16]])"
      ]
     },
     "execution_count": 11,
     "metadata": {},
     "output_type": "execute_result"
    }
   ],
   "source": [
    "GM[:10]"
   ]
  },
  {
   "cell_type": "markdown",
   "id": "Z7liUGH-qbfN",
   "metadata": {
    "id": "Z7liUGH-qbfN"
   },
   "source": [
    "### TruncatedSVD and Nonnegative Matrix Factorization\n",
    "\n",
    "We can also do similar factorizations with TruncatedSVD or NMF."
   ]
  },
  {
   "cell_type": "code",
   "execution_count": 111,
   "id": "ba188432",
   "metadata": {},
   "outputs": [
    {
     "name": "stdout",
     "output_type": "stream",
     "text": [
      "  (1, 1)\t5\n",
      "  (2, 3)\t8\n"
     ]
    }
   ],
   "source": [
    "from scipy.sparse import csr_matrix\n",
    "\n",
    "\n",
    "# Create a dense matrix\n",
    "dense_matrix = np.array([[0, 0, 0, 0],\n",
    "                        [0, 5, 0, 0],\n",
    "                        [0, 0, 0, 8]])\n",
    "\n",
    "# Convert the dense matrix to a sparse matrix\n",
    "sparse_matrix = csr_matrix(dense_matrix)\n",
    "\n",
    "print(sparse_matrix)"
   ]
  },
  {
   "cell_type": "code",
   "execution_count": 13,
   "id": "3a6ff040",
   "metadata": {},
   "outputs": [],
   "source": [
    "from sklearn.decomposition import TruncatedSVD"
   ]
  },
  {
   "cell_type": "code",
   "execution_count": 14,
   "id": "77171dc5",
   "metadata": {},
   "outputs": [
    {
     "name": "stdout",
     "output_type": "stream",
     "text": [
      "[[121.56  -2.41]\n",
      " [139.48  -3.77]\n",
      " [ 52.13   2.57]\n",
      " [103.53  -1.25]\n",
      " [ 77.25   5.06]\n",
      " [123.42  -0.46]\n",
      " [ 72.98   1.6 ]\n",
      " [ 99.79  -0.98]\n",
      " [146.73  -0.97]\n",
      " [105.72  -0.09]]\n",
      "[[ 0.64  0.31  0.64  0.3   0.05]\n",
      " [-0.26 -0.25  0.24  0.14  0.89]]\n"
     ]
    }
   ],
   "source": [
    "tsvd = TruncatedSVD(n_components=2).fit(GM)\n",
    "W = tsvd.transform(GM)\n",
    "H = tsvd.components_\n",
    "print(W[:10])\n",
    "print(H)"
   ]
  },
  {
   "cell_type": "code",
   "execution_count": 15,
   "metadata": {},
   "outputs": [
    {
     "data": {
      "text/plain": [
       "array([[77.97, 38.55, 76.62, 36.5 ,  3.88],\n",
       "       [89.71, 44.47, 87.67, 41.74,  3.55],\n",
       "       [32.51, 15.64, 33.74, 16.14,  4.87],\n",
       "       [66.19, 32.63, 65.45, 31.19,  4.02],\n",
       "       [47.85, 22.87, 50.3 , 24.09,  8.35],\n",
       "       [78.65, 38.65, 78.28, 37.33,  5.71],\n",
       "       [46.02, 22.39, 46.74, 22.33,  5.05],\n",
       "       [63.74, 31.39, 63.14, 30.1 ,  4.08],\n",
       "       [93.61, 46.05, 92.96, 44.32,  6.41],\n",
       "       [67.29, 33.03, 67.12, 32.02,  5.16]])"
      ]
     },
     "execution_count": 15,
     "metadata": {},
     "output_type": "execute_result"
    }
   ],
   "source": [
    "GM_recovered = np.dot(W,H)\n",
    "GM_recovered[:10]"
   ]
  },
  {
   "cell_type": "code",
   "execution_count": 115,
   "metadata": {},
   "outputs": [
    {
     "data": {
      "text/plain": [
       "array([[ 15.08,  86.68,  83.83,  17.65,  45.74],\n",
       "       [ 14.02,  97.07,  96.7 ,  16.05,  49.01],\n",
       "       [ 13.99, 103.31, 103.83,  15.88,  51.44],\n",
       "       [ 18.22, 129.98, 130.03,  20.78,  65.2 ],\n",
       "       [ 14.59,  92.54,  90.99,  16.88,  47.67],\n",
       "       [ 13.32,  94.68,  94.67,  15.19,  47.52],\n",
       "       [ 15.53, 108.69, 108.44,  17.76,  54.75],\n",
       "       [ 11.32,  83.6 ,  84.03,  12.84,  41.62],\n",
       "       [ 12.98,  95.84,  96.32,  14.73,  47.72],\n",
       "       [ 18.47, 126.66, 125.99,  21.17,  64.08]])"
      ]
     },
     "execution_count": 115,
     "metadata": {},
     "output_type": "execute_result"
    }
   ],
   "source": [
    "GM[:10]"
   ]
  },
  {
   "cell_type": "code",
   "execution_count": 16,
   "id": "6vVOrjN8qaeu",
   "metadata": {
    "colab": {
     "base_uri": "https://localhost:8080/"
    },
    "executionInfo": {
     "elapsed": 298,
     "status": "ok",
     "timestamp": 1671551982091,
     "user": {
      "displayName": "Tevfik Aytekin",
      "userId": "03705756795675396046"
     },
     "user_tz": -180
    },
    "id": "6vVOrjN8qaeu",
    "outputId": "95093a50-fb41-42da-d779-65e9bf0cd495"
   },
   "outputs": [
    {
     "name": "stdout",
     "output_type": "stream",
     "text": [
      "[[3.05 0.17]\n",
      " [3.39 0.24]\n",
      " [1.48 0.  ]\n",
      " [2.68 0.11]\n",
      " [2.2  0.  ]\n",
      " [3.31 0.08]\n",
      " [2.08 0.  ]\n",
      " [2.61 0.09]\n",
      " [3.89 0.12]\n",
      " [2.87 0.06]]\n",
      "[[22.27 10.88 22.42 10.7   2.09]\n",
      " [54.75 26.96 54.26 25.87  3.56]]\n"
     ]
    },
    {
     "name": "stderr",
     "output_type": "stream",
     "text": [
      "/home/tevfik/anaconda3/lib/python3.9/site-packages/sklearn/decomposition/_nmf.py:1710: ConvergenceWarning: Maximum number of iterations 200 reached. Increase it to improve convergence.\n",
      "  warnings.warn(\n"
     ]
    }
   ],
   "source": [
    "nmf = NMF(n_components=2).fit(GM)\n",
    "W = nmf.transform(GM)\n",
    "H = nmf.components_\n",
    "print(W[:10])\n",
    "print(H)"
   ]
  },
  {
   "cell_type": "code",
   "execution_count": 17,
   "id": "3r8kASOPpjAs",
   "metadata": {
    "colab": {
     "base_uri": "https://localhost:8080/"
    },
    "executionInfo": {
     "elapsed": 291,
     "status": "ok",
     "timestamp": 1671551986397,
     "user": {
      "displayName": "Tevfik Aytekin",
      "userId": "03705756795675396046"
     },
     "user_tz": -180
    },
    "id": "3r8kASOPpjAs",
    "outputId": "73b4ce66-a22b-4739-ae41-8b01cf44c3a1"
   },
   "outputs": [
    {
     "data": {
      "text/plain": [
       "array([[77.1 , 37.7 , 77.49, 36.98,  6.96],\n",
       "       [88.48, 43.28, 88.89, 42.42,  7.92],\n",
       "       [33.04, 16.14, 33.26, 15.88,  3.1 ],\n",
       "       [65.64, 32.09, 66.  , 31.5 ,  5.98],\n",
       "       [48.96, 23.92, 49.3 , 23.53,  4.59],\n",
       "       [78.23, 38.24, 78.7 , 37.56,  7.2 ],\n",
       "       [46.23, 22.59, 46.55, 22.22,  4.33],\n",
       "       [63.26, 30.93, 63.62, 30.36,  5.78],\n",
       "       [93.01, 45.47, 93.56, 44.65,  8.53],\n",
       "       [67.  , 32.75, 67.41, 32.18,  6.19]])"
      ]
     },
     "execution_count": 17,
     "metadata": {},
     "output_type": "execute_result"
    }
   ],
   "source": [
    "GM_recovered = np.dot(W,H)\n",
    "GM_recovered[:10]"
   ]
  },
  {
   "cell_type": "code",
   "execution_count": 20,
   "metadata": {},
   "outputs": [
    {
     "data": {
      "text/plain": [
       "array([[  nan, 38.55, 76.62, 36.5 ,  3.88],\n",
       "       [89.71, 44.47, 87.67, 41.74,  3.55],\n",
       "       [32.51, 15.64, 33.74, 16.14,  4.87],\n",
       "       [66.19, 32.63, 65.45, 31.19,  4.02],\n",
       "       [47.85, 22.87, 50.3 , 24.09,  8.35],\n",
       "       [78.65, 38.65, 78.28, 37.33,  5.71],\n",
       "       [46.02, 22.39, 46.74, 22.33,  5.05],\n",
       "       [63.74, 31.39, 63.14, 30.1 ,  4.08],\n",
       "       [93.61, 46.05, 92.96, 44.32,  6.41],\n",
       "       [67.29, 33.03, 67.12, 32.02,  5.16]])"
      ]
     },
     "execution_count": 20,
     "metadata": {},
     "output_type": "execute_result"
    }
   ],
   "source": [
    "GM[:10]"
   ]
  },
  {
   "cell_type": "markdown",
   "id": "FQm8U_liv6K-",
   "metadata": {
    "id": "FQm8U_liv6K-"
   },
   "source": [
    "# Missing Value\n",
    "Suppose that one of the values in the GM matrix is missing. Can we find/recover it? Unfortunately FA and NMF will not work if there are missing values in the dataset."
   ]
  },
  {
   "cell_type": "code",
   "execution_count": 18,
   "id": "taFWYd9QpjDU",
   "metadata": {
    "colab": {
     "base_uri": "https://localhost:8080/"
    },
    "executionInfo": {
     "elapsed": 333,
     "status": "ok",
     "timestamp": 1671552019488,
     "user": {
      "displayName": "Tevfik Aytekin",
      "userId": "03705756795675396046"
     },
     "user_tz": -180
    },
    "id": "taFWYd9QpjDU",
    "outputId": "5725ecba-59fc-4881-bf4b-452f584a561f"
   },
   "outputs": [
    {
     "data": {
      "text/plain": [
       "array([[  nan, 38.55, 76.62, 36.5 ,  3.88],\n",
       "       [89.71, 44.47, 87.67, 41.74,  3.55],\n",
       "       [32.51, 15.64, 33.74, 16.14,  4.87],\n",
       "       [66.19, 32.63, 65.45, 31.19,  4.02],\n",
       "       [47.85, 22.87, 50.3 , 24.09,  8.35],\n",
       "       [78.65, 38.65, 78.28, 37.33,  5.71],\n",
       "       [46.02, 22.39, 46.74, 22.33,  5.05],\n",
       "       [63.74, 31.39, 63.14, 30.1 ,  4.08],\n",
       "       [93.61, 46.05, 92.96, 44.32,  6.41],\n",
       "       [67.29, 33.03, 67.12, 32.02,  5.16]])"
      ]
     },
     "execution_count": 18,
     "metadata": {},
     "output_type": "execute_result"
    }
   ],
   "source": [
    "GM00 = GM[0,0]\n",
    "GM[0,0] = np.nan\n",
    "GM[:10]"
   ]
  },
  {
   "cell_type": "code",
   "execution_count": null,
   "id": "S6aan92hpjFr",
   "metadata": {
    "colab": {
     "base_uri": "https://localhost:8080/",
     "height": 346
    },
    "executionInfo": {
     "elapsed": 321,
     "status": "error",
     "timestamp": 1671552023244,
     "user": {
      "displayName": "Tevfik Aytekin",
      "userId": "03705756795675396046"
     },
     "user_tz": -180
    },
    "id": "S6aan92hpjFr",
    "outputId": "efb22504-a6cd-4490-ff0e-c684b0476df1"
   },
   "outputs": [],
   "source": [
    "fa = FactorAnalysis(n_components=2).fit(GM)\n",
    "#tsvd = TruncatedSVD(n_components=2).fit(GM)\n",
    "#nmf = NMF(n_components=2).fit(GM)\n",
    "\n"
   ]
  },
  {
   "cell_type": "markdown",
   "id": "KoU4MqH9RHPv",
   "metadata": {
    "id": "KoU4MqH9RHPv"
   },
   "source": [
    "### First Solution\n",
    "\n",
    "One solution might be to set missing values to zero. This might work when there are a few missing values, but if most of the data is missing such as the case in rec. sys. this might not give good results."
   ]
  },
  {
   "cell_type": "code",
   "execution_count": 22,
   "id": "HcaoGpx7OvTA",
   "metadata": {
    "colab": {
     "base_uri": "https://localhost:8080/"
    },
    "executionInfo": {
     "elapsed": 296,
     "status": "ok",
     "timestamp": 1671552086238,
     "user": {
      "displayName": "Tevfik Aytekin",
      "userId": "03705756795675396046"
     },
     "user_tz": -180
    },
    "id": "HcaoGpx7OvTA",
    "outputId": "268d8087-ab36-49f6-e19d-7ad396cbe820"
   },
   "outputs": [
    {
     "data": {
      "text/plain": [
       "array([[40.24, 17.08, 51.28, 24.89, 23.37],\n",
       "       [89.71, 44.47, 87.67, 41.74,  3.55],\n",
       "       [32.51, 15.64, 33.74, 16.14,  4.87],\n",
       "       [66.19, 32.63, 65.45, 31.19,  4.02],\n",
       "       [47.85, 22.87, 50.3 , 24.09,  8.35],\n",
       "       [78.65, 38.65, 78.28, 37.33,  5.71],\n",
       "       [46.02, 22.39, 46.74, 22.33,  5.05],\n",
       "       [63.74, 31.39, 63.14, 30.1 ,  4.08],\n",
       "       [93.61, 46.05, 92.96, 44.32,  6.41],\n",
       "       [67.29, 33.03, 67.12, 32.02,  5.16]])"
      ]
     },
     "execution_count": 22,
     "metadata": {},
     "output_type": "execute_result"
    }
   ],
   "source": [
    "GM[0,0] = 0\n",
    "L = fa.components_\n",
    "F = fa.transform(GM)\n",
    "GM_recovered = fa.mean_ + np.dot(F,L)\n",
    "GM_recovered[:10]"
   ]
  },
  {
   "cell_type": "code",
   "execution_count": 23,
   "id": "fDulGAzupjH7",
   "metadata": {
    "colab": {
     "base_uri": "https://localhost:8080/"
    },
    "executionInfo": {
     "elapsed": 3,
     "status": "ok",
     "timestamp": 1671552117246,
     "user": {
      "displayName": "Tevfik Aytekin",
      "userId": "03705756795675396046"
     },
     "user_tz": -180
    },
    "id": "fDulGAzupjH7",
    "outputId": "703b557c-3e63-4505-dd4c-b95c5a05f04f"
   },
   "outputs": [
    {
     "name": "stderr",
     "output_type": "stream",
     "text": [
      "/home/tevfik/anaconda3/lib/python3.9/site-packages/sklearn/decomposition/_nmf.py:1710: ConvergenceWarning: Maximum number of iterations 200 reached. Increase it to improve convergence.\n",
      "  warnings.warn(\n"
     ]
    },
    {
     "data": {
      "text/plain": [
       "array([[45.26, 22.84, 47.57, 22.72,  5.02],\n",
       "       [87.02, 43.56, 89.9 , 42.91,  8.53],\n",
       "       [32.21, 16.25, 33.86, 16.17,  3.57],\n",
       "       [64.43, 32.31, 66.85, 31.91,  6.51],\n",
       "       [47.74, 24.09, 50.19, 23.97,  5.29],\n",
       "       [76.71, 38.51, 79.77, 38.09,  7.89],\n",
       "       [45.16, 22.75, 47.31, 22.59,  4.89],\n",
       "       [62.08, 31.14, 64.45, 30.77,  6.3 ],\n",
       "       [91.24, 45.79, 94.8 , 45.26,  9.33],\n",
       "       [65.68, 32.99, 68.35, 32.63,  6.79]])"
      ]
     },
     "execution_count": 23,
     "metadata": {},
     "output_type": "execute_result"
    }
   ],
   "source": [
    "nmf = NMF(n_components=2)\n",
    "nmf.fit(GM)\n",
    "W = nmf.transform(GM)\n",
    "H = nmf.components_\n",
    "GM_recovered = np.dot(W,H)\n",
    "GM_recovered[:10]\n"
   ]
  },
  {
   "cell_type": "markdown",
   "id": "KUlnEBOWxWFw",
   "metadata": {
    "id": "KUlnEBOWxWFw"
   },
   "source": [
    "### MF with SGD"
   ]
  },
  {
   "cell_type": "code",
   "execution_count": 132,
   "id": "zin2epNKSn0V",
   "metadata": {
    "id": "zin2epNKSn0V"
   },
   "outputs": [],
   "source": [
    "GM[0,0] = GM00\n"
   ]
  },
  {
   "cell_type": "code",
   "execution_count": 82,
   "id": "9b3470d0",
   "metadata": {
    "colab": {
     "base_uri": "https://localhost:8080/",
     "height": 424
    },
    "executionInfo": {
     "elapsed": 476,
     "status": "ok",
     "timestamp": 1671468604566,
     "user": {
      "displayName": "Tevfik Aytekin",
      "userId": "03705756795675396046"
     },
     "user_tz": -180
    },
    "id": "9b3470d0",
    "outputId": "dec452c2-6aab-4be2-fade-8a0f67088a73"
   },
   "outputs": [
    {
     "data": {
      "text/html": [
       "<div>\n",
       "<style scoped>\n",
       "    .dataframe tbody tr th:only-of-type {\n",
       "        vertical-align: middle;\n",
       "    }\n",
       "\n",
       "    .dataframe tbody tr th {\n",
       "        vertical-align: top;\n",
       "    }\n",
       "\n",
       "    .dataframe thead th {\n",
       "        text-align: right;\n",
       "    }\n",
       "</style>\n",
       "<table border=\"1\" class=\"dataframe\">\n",
       "  <thead>\n",
       "    <tr style=\"text-align: right;\">\n",
       "      <th></th>\n",
       "      <th>StudentID</th>\n",
       "      <th>CourseID</th>\n",
       "      <th>Grade</th>\n",
       "    </tr>\n",
       "  </thead>\n",
       "  <tbody>\n",
       "    <tr>\n",
       "      <th>0</th>\n",
       "      <td>0</td>\n",
       "      <td>0</td>\n",
       "      <td>99.995692</td>\n",
       "    </tr>\n",
       "    <tr>\n",
       "      <th>1</th>\n",
       "      <td>0</td>\n",
       "      <td>1</td>\n",
       "      <td>30.490797</td>\n",
       "    </tr>\n",
       "    <tr>\n",
       "      <th>2</th>\n",
       "      <td>0</td>\n",
       "      <td>2</td>\n",
       "      <td>58.431556</td>\n",
       "    </tr>\n",
       "    <tr>\n",
       "      <th>3</th>\n",
       "      <td>0</td>\n",
       "      <td>3</td>\n",
       "      <td>40.073097</td>\n",
       "    </tr>\n",
       "    <tr>\n",
       "      <th>4</th>\n",
       "      <td>0</td>\n",
       "      <td>4</td>\n",
       "      <td>63.133017</td>\n",
       "    </tr>\n",
       "    <tr>\n",
       "      <th>...</th>\n",
       "      <td>...</td>\n",
       "      <td>...</td>\n",
       "      <td>...</td>\n",
       "    </tr>\n",
       "    <tr>\n",
       "      <th>495</th>\n",
       "      <td>99</td>\n",
       "      <td>0</td>\n",
       "      <td>77.313653</td>\n",
       "    </tr>\n",
       "    <tr>\n",
       "      <th>496</th>\n",
       "      <td>99</td>\n",
       "      <td>1</td>\n",
       "      <td>25.416144</td>\n",
       "    </tr>\n",
       "    <tr>\n",
       "      <th>497</th>\n",
       "      <td>99</td>\n",
       "      <td>2</td>\n",
       "      <td>44.544905</td>\n",
       "    </tr>\n",
       "    <tr>\n",
       "      <th>498</th>\n",
       "      <td>99</td>\n",
       "      <td>3</td>\n",
       "      <td>32.432652</td>\n",
       "    </tr>\n",
       "    <tr>\n",
       "      <th>499</th>\n",
       "      <td>99</td>\n",
       "      <td>4</td>\n",
       "      <td>49.793935</td>\n",
       "    </tr>\n",
       "  </tbody>\n",
       "</table>\n",
       "<p>500 rows × 3 columns</p>\n",
       "</div>"
      ],
      "text/plain": [
       "     StudentID  CourseID      Grade\n",
       "0            0         0  99.995692\n",
       "1            0         1  30.490797\n",
       "2            0         2  58.431556\n",
       "3            0         3  40.073097\n",
       "4            0         4  63.133017\n",
       "..         ...       ...        ...\n",
       "495         99         0  77.313653\n",
       "496         99         1  25.416144\n",
       "497         99         2  44.544905\n",
       "498         99         3  32.432652\n",
       "499         99         4  49.793935\n",
       "\n",
       "[500 rows x 3 columns]"
      ]
     },
     "execution_count": 82,
     "metadata": {},
     "output_type": "execute_result"
    }
   ],
   "source": [
    "x = GM.shape[0]\n",
    "y = GM.shape[1] \n",
    "c1 = []\n",
    "c2 = []\n",
    "c3 = []\n",
    "for i in range(x):\n",
    "    for j in range(y):\n",
    "        c1.append(i)\n",
    "        c2.append(j)\n",
    "        c3.append(GM[i,j])\n",
    "SM = pd.DataFrame({\"StudentID\":c1,\"CourseID\":c2,\"Grade\":c3})\n",
    "SM"
   ]
  },
  {
   "cell_type": "code",
   "execution_count": 83,
   "metadata": {},
   "outputs": [
    {
     "data": {
      "text/html": [
       "<div>\n",
       "<style scoped>\n",
       "    .dataframe tbody tr th:only-of-type {\n",
       "        vertical-align: middle;\n",
       "    }\n",
       "\n",
       "    .dataframe tbody tr th {\n",
       "        vertical-align: top;\n",
       "    }\n",
       "\n",
       "    .dataframe thead th {\n",
       "        text-align: right;\n",
       "    }\n",
       "</style>\n",
       "<table border=\"1\" class=\"dataframe\">\n",
       "  <thead>\n",
       "    <tr style=\"text-align: right;\">\n",
       "      <th></th>\n",
       "      <th>StudentID</th>\n",
       "      <th>CourseID</th>\n",
       "      <th>Grade</th>\n",
       "    </tr>\n",
       "  </thead>\n",
       "  <tbody>\n",
       "    <tr>\n",
       "      <th>1</th>\n",
       "      <td>0</td>\n",
       "      <td>1</td>\n",
       "      <td>30.490797</td>\n",
       "    </tr>\n",
       "    <tr>\n",
       "      <th>2</th>\n",
       "      <td>0</td>\n",
       "      <td>2</td>\n",
       "      <td>58.431556</td>\n",
       "    </tr>\n",
       "    <tr>\n",
       "      <th>3</th>\n",
       "      <td>0</td>\n",
       "      <td>3</td>\n",
       "      <td>40.073097</td>\n",
       "    </tr>\n",
       "    <tr>\n",
       "      <th>4</th>\n",
       "      <td>0</td>\n",
       "      <td>4</td>\n",
       "      <td>63.133017</td>\n",
       "    </tr>\n",
       "    <tr>\n",
       "      <th>5</th>\n",
       "      <td>1</td>\n",
       "      <td>0</td>\n",
       "      <td>97.676080</td>\n",
       "    </tr>\n",
       "    <tr>\n",
       "      <th>...</th>\n",
       "      <td>...</td>\n",
       "      <td>...</td>\n",
       "      <td>...</td>\n",
       "    </tr>\n",
       "    <tr>\n",
       "      <th>495</th>\n",
       "      <td>99</td>\n",
       "      <td>0</td>\n",
       "      <td>77.313653</td>\n",
       "    </tr>\n",
       "    <tr>\n",
       "      <th>496</th>\n",
       "      <td>99</td>\n",
       "      <td>1</td>\n",
       "      <td>25.416144</td>\n",
       "    </tr>\n",
       "    <tr>\n",
       "      <th>497</th>\n",
       "      <td>99</td>\n",
       "      <td>2</td>\n",
       "      <td>44.544905</td>\n",
       "    </tr>\n",
       "    <tr>\n",
       "      <th>498</th>\n",
       "      <td>99</td>\n",
       "      <td>3</td>\n",
       "      <td>32.432652</td>\n",
       "    </tr>\n",
       "    <tr>\n",
       "      <th>499</th>\n",
       "      <td>99</td>\n",
       "      <td>4</td>\n",
       "      <td>49.793935</td>\n",
       "    </tr>\n",
       "  </tbody>\n",
       "</table>\n",
       "<p>499 rows × 3 columns</p>\n",
       "</div>"
      ],
      "text/plain": [
       "     StudentID  CourseID      Grade\n",
       "1            0         1  30.490797\n",
       "2            0         2  58.431556\n",
       "3            0         3  40.073097\n",
       "4            0         4  63.133017\n",
       "5            1         0  97.676080\n",
       "..         ...       ...        ...\n",
       "495         99         0  77.313653\n",
       "496         99         1  25.416144\n",
       "497         99         2  44.544905\n",
       "498         99         3  32.432652\n",
       "499         99         4  49.793935\n",
       "\n",
       "[499 rows x 3 columns]"
      ]
     },
     "execution_count": 83,
     "metadata": {},
     "output_type": "execute_result"
    }
   ],
   "source": [
    "SM = SM.iloc[1:,:]\n",
    "SM"
   ]
  },
  {
   "cell_type": "code",
   "execution_count": 26,
   "id": "8df95263",
   "metadata": {
    "id": "8df95263"
   },
   "outputs": [],
   "source": [
    "class MF:\n",
    "    \"\"\"\n",
    "    prefs: matrix of prefences, column0=userid, column1=itemid, column2=pref, column3=timestamp \n",
    "    \"\"\"\n",
    "    def __init__(self, prefs, alpha=0.03, mylambda=0.1, n_factors = 10, n_iters = 50):\n",
    "        self.alpha = alpha\n",
    "        self.mylambda = mylambda\n",
    "        self.n_iters = n_iters\n",
    "        self.item_factors = {}\n",
    "        self.user_factors = {}\n",
    "        self.prefs = prefs\n",
    "        # prefs is a matrix containing u, i, r values in each row. This is useful to shuffle and pass over\n",
    "        # the data multiple times in an efficient way in the fit() method.\n",
    "        for r in range(self.prefs.shape[0]):\n",
    "            self.user_factors[self.prefs.iloc[r,0]] = np.random.rand(n_factors,1) - 0.5\n",
    "            self.item_factors[self.prefs.iloc[r,1]] = np.random.rand(n_factors,1) - 0.5\n",
    "        print(\"Finished initialization\")\n",
    "        \n",
    "     \n",
    "    def calc_error(self, X):\n",
    "        error = 0\n",
    "        for i in range(X.shape[0]):\n",
    "            u_idx = X.iloc[i,0]\n",
    "            i_idx = X.iloc[i,1]\n",
    "            error += np.abs(X.iloc[i,2] - np.dot(self.user_factors[u_idx].T, self.item_factors[i_idx])[0,0])\n",
    "        return error/X.shape[0]\n",
    "\n",
    "        #print(\"Random Predictor Error:\",error/self.prefs.shape[0])\n",
    "        \n",
    "    def fit(self, verbose=False, method=\"SGD\"):\n",
    "        if (method == \"Random\"):\n",
    "            error = 0\n",
    "            for i in range(self.prefs.shape[0]):\n",
    "                u_idx = self.prefs.iloc[i,0]\n",
    "                i_idx = self.prefs.iloc[i,1]\n",
    "                error += np.abs(self.prefs.iloc[i,2] - np.random.randint(1,6))\n",
    "            return error/self.prefs.shape[0]\n",
    "            \n",
    "        elif (method == \"SGD\"):\n",
    "            if (verbose): \n",
    "                print(\"Initial error: \", self.calc_error(self.prefs))                      \n",
    "            for t in range(self.n_iters):\n",
    "                self.prefs = shuffle(self.prefs)\n",
    "                for r in range(self.prefs.shape[0]):\n",
    "                    u = self.prefs.iloc[r,0]\n",
    "                    i = self.prefs.iloc[r,1]\n",
    "                    error = self.prefs.iloc[r,2] - np.dot(self.user_factors[u].T, self.item_factors[i])[0,0]\n",
    "                    self.user_factors[u] = self.user_factors[u] + self.alpha*(error*self.item_factors[i] - self.mylambda*self.user_factors[u])\n",
    "                    self.item_factors[i] = self.item_factors[i] + self.alpha*(error*self.user_factors[u] - self.mylambda*self.item_factors[i])  \n",
    "            \n",
    "                if (verbose): \n",
    "                    print(\"Iteration: \", t)\n",
    "                if (verbose): \n",
    "                    print(\"Train error: \", self.calc_error(self.prefs))                      \n"
   ]
  },
  {
   "cell_type": "code",
   "execution_count": 85,
   "id": "71a12bbd",
   "metadata": {
    "colab": {
     "base_uri": "https://localhost:8080/"
    },
    "executionInfo": {
     "elapsed": 1856,
     "status": "ok",
     "timestamp": 1671472485520,
     "user": {
      "displayName": "Tevfik Aytekin",
      "userId": "03705756795675396046"
     },
     "user_tz": -180
    },
    "id": "71a12bbd",
    "outputId": "c2e93ac5-f31a-48f9-f6f0-eba5987ad1d8"
   },
   "outputs": [
    {
     "name": "stdout",
     "output_type": "stream",
     "text": [
      "Finished initialization\n",
      "Initial error:  56.77623092179931\n",
      "Iteration:  0\n",
      "Train error:  56.57498381009673\n",
      "Iteration:  1\n",
      "Train error:  51.185288781325994\n",
      "Iteration:  2\n",
      "Train error:  12.012759381720588\n",
      "Iteration:  3\n",
      "Train error:  2.2940891726766\n",
      "Iteration:  4\n",
      "Train error:  1.0091240325147224\n",
      "Iteration:  5\n",
      "Train error:  0.9154821966001093\n",
      "Iteration:  6\n",
      "Train error:  0.8890117647731707\n",
      "Iteration:  7\n",
      "Train error:  0.8730810018668089\n",
      "Iteration:  8\n",
      "Train error:  0.8808317047485323\n",
      "Iteration:  9\n",
      "Train error:  0.8842134482749046\n",
      "Iteration:  10\n",
      "Train error:  0.8766724093255481\n",
      "Iteration:  11\n",
      "Train error:  0.8881681468569099\n",
      "Iteration:  12\n",
      "Train error:  0.8786403884913091\n",
      "Iteration:  13\n",
      "Train error:  0.869088310762634\n",
      "Iteration:  14\n",
      "Train error:  0.8743191344638485\n",
      "Iteration:  15\n",
      "Train error:  0.8766279537197296\n",
      "Iteration:  16\n",
      "Train error:  0.8709616777305909\n",
      "Iteration:  17\n",
      "Train error:  0.8744970125730058\n",
      "Iteration:  18\n",
      "Train error:  0.8691807565617123\n",
      "Iteration:  19\n",
      "Train error:  0.8709280867032718\n",
      "Iteration:  20\n",
      "Train error:  0.8743904518827683\n",
      "Iteration:  21\n",
      "Train error:  0.8799216810276109\n",
      "Iteration:  22\n",
      "Train error:  0.8661564291921449\n",
      "Iteration:  23\n",
      "Train error:  0.8779608233101087\n",
      "Iteration:  24\n",
      "Train error:  0.8672718708771406\n",
      "Iteration:  25\n",
      "Train error:  0.883811255827963\n",
      "Iteration:  26\n",
      "Train error:  0.8718815848281194\n",
      "Iteration:  27\n",
      "Train error:  0.8602030657515629\n",
      "Iteration:  28\n",
      "Train error:  0.8851736751515367\n",
      "Iteration:  29\n",
      "Train error:  0.8761296832187618\n",
      "Iteration:  30\n",
      "Train error:  0.8683934719818657\n",
      "Iteration:  31\n",
      "Train error:  0.8633542186007759\n",
      "Iteration:  32\n",
      "Train error:  0.8545580575904049\n",
      "Iteration:  33\n",
      "Train error:  0.8559134580709248\n",
      "Iteration:  34\n",
      "Train error:  0.8699048377170884\n",
      "Iteration:  35\n",
      "Train error:  0.8652766946674951\n",
      "Iteration:  36\n",
      "Train error:  0.8610713753447315\n",
      "Iteration:  37\n",
      "Train error:  0.8725024553987647\n",
      "Iteration:  38\n",
      "Train error:  0.8537215961160118\n",
      "Iteration:  39\n",
      "Train error:  0.8444289662616015\n",
      "Iteration:  40\n",
      "Train error:  0.8747927927441566\n",
      "Iteration:  41\n",
      "Train error:  0.8694501110593501\n",
      "Iteration:  42\n",
      "Train error:  0.8592913281416367\n",
      "Iteration:  43\n",
      "Train error:  0.84957938238174\n",
      "Iteration:  44\n",
      "Train error:  0.8675609138233228\n",
      "Iteration:  45\n",
      "Train error:  0.8593844547698176\n",
      "Iteration:  46\n",
      "Train error:  0.8453899087563256\n",
      "Iteration:  47\n",
      "Train error:  0.8411394508532366\n",
      "Iteration:  48\n",
      "Train error:  0.8470501550451547\n",
      "Iteration:  49\n",
      "Train error:  0.8408751074282403\n"
     ]
    }
   ],
   "source": [
    "mf = MF(SM, alpha=0.001, n_factors = 2, n_iters=50)\n",
    "mf.fit(verbose=True, method=\"SGD\")"
   ]
  },
  {
   "cell_type": "code",
   "execution_count": 86,
   "id": "DOpeOJf1ybyi",
   "metadata": {
    "colab": {
     "base_uri": "https://localhost:8080/",
     "height": 424
    },
    "executionInfo": {
     "elapsed": 430,
     "status": "ok",
     "timestamp": 1671469035896,
     "user": {
      "displayName": "Tevfik Aytekin",
      "userId": "03705756795675396046"
     },
     "user_tz": -180
    },
    "id": "DOpeOJf1ybyi",
    "outputId": "019c6a3e-6f7d-4233-9651-205a623b8a12"
   },
   "outputs": [
    {
     "data": {
      "text/html": [
       "<div>\n",
       "<style scoped>\n",
       "    .dataframe tbody tr th:only-of-type {\n",
       "        vertical-align: middle;\n",
       "    }\n",
       "\n",
       "    .dataframe tbody tr th {\n",
       "        vertical-align: top;\n",
       "    }\n",
       "\n",
       "    .dataframe thead th {\n",
       "        text-align: right;\n",
       "    }\n",
       "</style>\n",
       "<table border=\"1\" class=\"dataframe\">\n",
       "  <thead>\n",
       "    <tr style=\"text-align: right;\">\n",
       "      <th></th>\n",
       "      <th>0</th>\n",
       "      <th>1</th>\n",
       "    </tr>\n",
       "  </thead>\n",
       "  <tbody>\n",
       "    <tr>\n",
       "      <th>0</th>\n",
       "      <td>2.743033</td>\n",
       "      <td>-3.447475</td>\n",
       "    </tr>\n",
       "    <tr>\n",
       "      <th>0</th>\n",
       "      <td>2.167169</td>\n",
       "      <td>-3.668021</td>\n",
       "    </tr>\n",
       "    <tr>\n",
       "      <th>0</th>\n",
       "      <td>1.668214</td>\n",
       "      <td>-3.472206</td>\n",
       "    </tr>\n",
       "    <tr>\n",
       "      <th>0</th>\n",
       "      <td>1.754116</td>\n",
       "      <td>-3.457205</td>\n",
       "    </tr>\n",
       "    <tr>\n",
       "      <th>0</th>\n",
       "      <td>2.448620</td>\n",
       "      <td>-3.634306</td>\n",
       "    </tr>\n",
       "    <tr>\n",
       "      <th>...</th>\n",
       "      <td>...</td>\n",
       "      <td>...</td>\n",
       "    </tr>\n",
       "    <tr>\n",
       "      <th>0</th>\n",
       "      <td>2.055394</td>\n",
       "      <td>-3.239838</td>\n",
       "    </tr>\n",
       "    <tr>\n",
       "      <th>0</th>\n",
       "      <td>2.491737</td>\n",
       "      <td>-4.498661</td>\n",
       "    </tr>\n",
       "    <tr>\n",
       "      <th>0</th>\n",
       "      <td>2.093508</td>\n",
       "      <td>-3.609109</td>\n",
       "    </tr>\n",
       "    <tr>\n",
       "      <th>0</th>\n",
       "      <td>2.861582</td>\n",
       "      <td>-5.384437</td>\n",
       "    </tr>\n",
       "    <tr>\n",
       "      <th>0</th>\n",
       "      <td>2.002318</td>\n",
       "      <td>-2.786851</td>\n",
       "    </tr>\n",
       "  </tbody>\n",
       "</table>\n",
       "<p>100 rows × 2 columns</p>\n",
       "</div>"
      ],
      "text/plain": [
       "           0         1\n",
       "0   2.743033 -3.447475\n",
       "0   2.167169 -3.668021\n",
       "0   1.668214 -3.472206\n",
       "0   1.754116 -3.457205\n",
       "0   2.448620 -3.634306\n",
       "..       ...       ...\n",
       "0   2.055394 -3.239838\n",
       "0   2.491737 -4.498661\n",
       "0   2.093508 -3.609109\n",
       "0   2.861582 -5.384437\n",
       "0   2.002318 -2.786851\n",
       "\n",
       "[100 rows x 2 columns]"
      ]
     },
     "execution_count": 86,
     "metadata": {},
     "output_type": "execute_result"
    }
   ],
   "source": [
    "U = pd.DataFrame()\n",
    "for i in range(n):\n",
    "  U = pd.concat([U,pd.DataFrame(mf.user_factors[i].T)])\n",
    "U"
   ]
  },
  {
   "cell_type": "code",
   "execution_count": 87,
   "id": "RTCYj8Kvy9pS",
   "metadata": {
    "colab": {
     "base_uri": "https://localhost:8080/",
     "height": 206
    },
    "executionInfo": {
     "elapsed": 6,
     "status": "ok",
     "timestamp": 1671469037578,
     "user": {
      "displayName": "Tevfik Aytekin",
      "userId": "03705756795675396046"
     },
     "user_tz": -180
    },
    "id": "RTCYj8Kvy9pS",
    "outputId": "a7f4cf87-e050-49a6-91db-b32750eb255c"
   },
   "outputs": [
    {
     "data": {
      "text/html": [
       "<div>\n",
       "<style scoped>\n",
       "    .dataframe tbody tr th:only-of-type {\n",
       "        vertical-align: middle;\n",
       "    }\n",
       "\n",
       "    .dataframe tbody tr th {\n",
       "        vertical-align: top;\n",
       "    }\n",
       "\n",
       "    .dataframe thead th {\n",
       "        text-align: right;\n",
       "    }\n",
       "</style>\n",
       "<table border=\"1\" class=\"dataframe\">\n",
       "  <thead>\n",
       "    <tr style=\"text-align: right;\">\n",
       "      <th></th>\n",
       "      <th>0</th>\n",
       "      <th>1</th>\n",
       "    </tr>\n",
       "  </thead>\n",
       "  <tbody>\n",
       "    <tr>\n",
       "      <th>0</th>\n",
       "      <td>11.377529</td>\n",
       "      <td>-19.914470</td>\n",
       "    </tr>\n",
       "    <tr>\n",
       "      <th>0</th>\n",
       "      <td>3.983424</td>\n",
       "      <td>-5.460058</td>\n",
       "    </tr>\n",
       "    <tr>\n",
       "      <th>0</th>\n",
       "      <td>6.567426</td>\n",
       "      <td>-11.750707</td>\n",
       "    </tr>\n",
       "    <tr>\n",
       "      <th>0</th>\n",
       "      <td>4.862948</td>\n",
       "      <td>-7.582842</td>\n",
       "    </tr>\n",
       "    <tr>\n",
       "      <th>0</th>\n",
       "      <td>7.664681</td>\n",
       "      <td>-12.103981</td>\n",
       "    </tr>\n",
       "  </tbody>\n",
       "</table>\n",
       "</div>"
      ],
      "text/plain": [
       "           0          1\n",
       "0  11.377529 -19.914470\n",
       "0   3.983424  -5.460058\n",
       "0   6.567426 -11.750707\n",
       "0   4.862948  -7.582842\n",
       "0   7.664681 -12.103981"
      ]
     },
     "execution_count": 87,
     "metadata": {},
     "output_type": "execute_result"
    }
   ],
   "source": [
    "I = pd.DataFrame()\n",
    "for i in range(k):\n",
    "  I = pd.concat([I,pd.DataFrame(mf.item_factors[i].T)])\n",
    "I"
   ]
  },
  {
   "cell_type": "code",
   "execution_count": 88,
   "id": "s34_8FwfzwB1",
   "metadata": {
    "colab": {
     "base_uri": "https://localhost:8080/"
    },
    "executionInfo": {
     "elapsed": 2,
     "status": "ok",
     "timestamp": 1671469039344,
     "user": {
      "displayName": "Tevfik Aytekin",
      "userId": "03705756795675396046"
     },
     "user_tz": -180
    },
    "id": "s34_8FwfzwB1",
    "outputId": "3c8626b1-cd1f-4f09-88b2-474182ea323a"
   },
   "outputs": [
    {
     "data": {
      "text/plain": [
       "array([[ 99.86,  29.75,  58.52,  39.48,  62.75],\n",
       "       [ 97.7 ,  28.66,  57.33,  38.35,  61.01],\n",
       "       [ 88.13,  25.6 ,  51.76,  34.44,  54.81],\n",
       "       [ 88.81,  25.86,  52.14,  34.75,  55.29],\n",
       "       [100.23,  29.6 ,  58.79,  39.47,  62.76],\n",
       "       [100.5 ,  29.67,  58.94,  39.57,  62.92],\n",
       "       [ 74.56,  21.51,  43.82,  29.04,  46.24],\n",
       "       [ 61.9 ,  18.32,  36.3 ,  24.4 ,  38.79],\n",
       "       [ 91.71,  26.71,  53.85,  35.88,  57.1 ],\n",
       "       [101.29,  29.59,  59.46,  39.68,  63.14]])"
      ]
     },
     "execution_count": 88,
     "metadata": {},
     "output_type": "execute_result"
    }
   ],
   "source": [
    "GM_recovered = np.dot(U,I.T)[:10]\n",
    "GM_recovered"
   ]
  },
  {
   "cell_type": "code",
   "execution_count": 89,
   "id": "fsJ-1uXDzw4C",
   "metadata": {
    "colab": {
     "base_uri": "https://localhost:8080/"
    },
    "executionInfo": {
     "elapsed": 382,
     "status": "ok",
     "timestamp": 1671469040987,
     "user": {
      "displayName": "Tevfik Aytekin",
      "userId": "03705756795675396046"
     },
     "user_tz": -180
    },
    "id": "fsJ-1uXDzw4C",
    "outputId": "c174e570-5611-4e8b-8036-d69d34b33fa2"
   },
   "outputs": [
    {
     "data": {
      "text/plain": [
       "array([[100.  ,  30.49,  58.43,  40.07,  63.13],\n",
       "       [ 97.68,  29.34,  57.23,  38.79,  61.43],\n",
       "       [ 87.88,  26.54,  51.44,  35.02,  55.35],\n",
       "       [ 88.  ,  28.59,  50.82,  36.65,  56.5 ],\n",
       "       [ 99.41,  31.73,  57.6 ,  40.95,  63.52],\n",
       "       [100.51,  30.06,  58.93,  39.82,  63.15],\n",
       "       [ 75.06,  20.48,  44.69,  28.19,  46.11],\n",
       "       [ 60.28,  22.26,  33.89,  27.21,  40.12],\n",
       "       [ 91.44,  27.69,  53.5 ,  36.49,  57.63],\n",
       "       [102.1 ,  28.2 ,  60.67,  38.61,  62.9 ]])"
      ]
     },
     "execution_count": 89,
     "metadata": {},
     "output_type": "execute_result"
    }
   ],
   "source": [
    "GM[:10]"
   ]
  }
 ],
 "metadata": {
  "colab": {
   "provenance": []
  },
  "kernelspec": {
   "display_name": "Python 3 (ipykernel)",
   "language": "python",
   "name": "python3"
  },
  "language_info": {
   "codemirror_mode": {
    "name": "ipython",
    "version": 3
   },
   "file_extension": ".py",
   "mimetype": "text/x-python",
   "name": "python",
   "nbconvert_exporter": "python",
   "pygments_lexer": "ipython3",
   "version": "3.9.18"
  }
 },
 "nbformat": 4,
 "nbformat_minor": 5
}
