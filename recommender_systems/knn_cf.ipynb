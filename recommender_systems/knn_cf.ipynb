{
 "cells": [
  {
   "cell_type": "markdown",
   "id": "4feb50c7",
   "metadata": {},
   "source": [
    "# Neighborhood-based Collaborative Filtering\n",
    "(by Tevfik Aytekin)\n",
    "\n",
    "In the following we will implement item based collaborative filtering."
   ]
  },
  {
   "cell_type": "code",
   "execution_count": 1,
   "id": "510f6742",
   "metadata": {},
   "outputs": [],
   "source": [
    "import numpy as np\n",
    "import pandas as pd\n",
    "from sklearn.model_selection import train_test_split\n",
    "from sklearn.utils import shuffle\n",
    "from scipy.sparse import csr_matrix\n",
    "from collections import Counter\n",
    "from sklearn.metrics import pairwise_distances\n",
    "from operator import itemgetter\n",
    "from tqdm.notebook import tqdm\n",
    "import copy\n",
    "import heapq\n",
    "import sys, os\n",
    "import pickle\n",
    "import itertools\n",
    "import operator\n"
   ]
  },
  {
   "cell_type": "markdown",
   "id": "c381eb7b",
   "metadata": {},
   "source": [
    "### Movielens ml-latest-small dataset"
   ]
  },
  {
   "cell_type": "code",
   "execution_count": 2,
   "id": "36dd568b",
   "metadata": {},
   "outputs": [
    {
     "name": "stdout",
     "output_type": "stream",
     "text": [
      "Summary\n",
      "=======\n",
      "\n",
      "This dataset (ml-latest-small) describes 5-star rating and free-text tagging activity from [MovieLens](http://movielens.org), a movie recommendation service. It contains 100836 ratings and 3683 tag applications across 9742 movies. These data were created by 610 users between March 29, 1996 and September 24, 2018. This dataset was generated on September 26, 2018.\n",
      "\n",
      "Users were selected at random for inclusion. All selected users had rated at least 20 movies. No demographic information is included. Each user is represented by an id, and no other information is provided.\n",
      "\n",
      "The data are contained in the files `links.csv`, `movies.csv`, `ratings.csv` and `tags.csv`. More details about the contents and use of all these files follows.\n",
      "\n",
      "This is a *development* dataset. As such, it may change over time and is not an appropriate dataset for shared research results. See available *benchmark* datasets if that is your intent.\n",
      "\n",
      "This and other GroupLens data sets are publicly available for download at <http://grouplens.org/datasets/>.\n",
      "\n",
      "\n",
      "Usage License\n",
      "=============\n",
      "\n",
      "Neither the University of Minnesota nor any of the researchers involved can guarantee the correctness of the data, its suitability for any particular purpose, or the validity of results based on the use of the data set. The data set may be used for any research purposes under the following conditions:\n",
      "\n",
      "* The user may not state or imply any endorsement from the University of Minnesota or the GroupLens Research Group.\n",
      "* The user must acknowledge the use of the data set in publications resulting from the use of the data set (see below for citation information).\n",
      "* The user may redistribute the data set, including transformations, so long as it is distributed under these same license conditions.\n",
      "* The user may not use this information for any commercial or revenue-bearing purposes without first obtaining permission from a faculty member of the GroupLens Research Project at the University of Minnesota.\n",
      "* The executable software scripts are provided \"as is\" without warranty of any kind, either expressed or implied, including, but not limited to, the implied warranties of merchantability and fitness for a particular purpose. The entire risk as to the quality and performance of them is with you. Should the program prove defective, you assume the cost of all necessary servicing, repair or correction.\n",
      "\n",
      "In no event shall the University of Minnesota, its affiliates or employees be liable to you for any damages arising out of the use or inability to use these programs (including but not limited to loss of data or data being rendered inaccurate).\n",
      "\n",
      "If you have any further questions or comments, please email <grouplens-info@umn.edu>\n",
      "\n",
      "\n",
      "Citation\n",
      "========\n",
      "\n",
      "To acknowledge use of the dataset in publications, please cite the following paper:\n",
      "\n",
      "> F. Maxwell Harper and Joseph A. Konstan. 2015. The MovieLens Datasets: History and Context. ACM Transactions on Interactive Intelligent Systems (TiiS) 5, 4: 19:1–19:19. <https://doi.org/10.1145/2827872>\n",
      "\n",
      "\n",
      "Further Information About GroupLens\n",
      "===================================\n",
      "\n",
      "GroupLens is a research group in the Department of Computer Science and Engineering at the University of Minnesota. Since its inception in 1992, GroupLens's research projects have explored a variety of fields including:\n",
      "\n",
      "* recommender systems\n",
      "* online communities\n",
      "* mobile and ubiquitious technologies\n",
      "* digital libraries\n",
      "* local geographic information systems\n",
      "\n",
      "GroupLens Research operates a movie recommender based on collaborative filtering, MovieLens, which is the source of these data. We encourage you to visit <http://movielens.org> to try it out! If you have exciting ideas for experimental work to conduct on MovieLens, send us an email at <grouplens-info@cs.umn.edu> - we are always interested in working with external collaborators.\n",
      "\n",
      "\n",
      "Content and Use of Files\n",
      "========================\n",
      "\n",
      "Formatting and Encoding\n",
      "-----------------------\n",
      "\n",
      "The dataset files are written as [comma-separated values](http://en.wikipedia.org/wiki/Comma-separated_values) files with a single header row. Columns that contain commas (`,`) are escaped using double-quotes (`\"`). These files are encoded as UTF-8. If accented characters in movie titles or tag values (e.g. Misérables, Les (1995)) display incorrectly, make sure that any program reading the data, such as a text editor, terminal, or script, is configured for UTF-8.\n",
      "\n",
      "\n",
      "User Ids\n",
      "--------\n",
      "\n",
      "MovieLens users were selected at random for inclusion. Their ids have been anonymized. User ids are consistent between `ratings.csv` and `tags.csv` (i.e., the same id refers to the same user across the two files).\n",
      "\n",
      "\n",
      "Movie Ids\n",
      "---------\n",
      "\n",
      "Only movies with at least one rating or tag are included in the dataset. These movie ids are consistent with those used on the MovieLens web site (e.g., id `1` corresponds to the URL <https://movielens.org/movies/1>). Movie ids are consistent between `ratings.csv`, `tags.csv`, `movies.csv`, and `links.csv` (i.e., the same id refers to the same movie across these four data files).\n",
      "\n",
      "\n",
      "Ratings Data File Structure (ratings.csv)\n",
      "-----------------------------------------\n",
      "\n",
      "All ratings are contained in the file `ratings.csv`. Each line of this file after the header row represents one rating of one movie by one user, and has the following format:\n",
      "\n",
      "    userId,movieId,rating,timestamp\n",
      "\n",
      "The lines within this file are ordered first by userId, then, within user, by movieId.\n",
      "\n",
      "Ratings are made on a 5-star scale, with half-star increments (0.5 stars - 5.0 stars).\n",
      "\n",
      "Timestamps represent seconds since midnight Coordinated Universal Time (UTC) of January 1, 1970.\n",
      "\n",
      "\n",
      "Tags Data File Structure (tags.csv)\n",
      "-----------------------------------\n",
      "\n",
      "All tags are contained in the file `tags.csv`. Each line of this file after the header row represents one tag applied to one movie by one user, and has the following format:\n",
      "\n",
      "    userId,movieId,tag,timestamp\n",
      "\n",
      "The lines within this file are ordered first by userId, then, within user, by movieId.\n",
      "\n",
      "Tags are user-generated metadata about movies. Each tag is typically a single word or short phrase. The meaning, value, and purpose of a particular tag is determined by each user.\n",
      "\n",
      "Timestamps represent seconds since midnight Coordinated Universal Time (UTC) of January 1, 1970.\n",
      "\n",
      "\n",
      "Movies Data File Structure (movies.csv)\n",
      "---------------------------------------\n",
      "\n",
      "Movie information is contained in the file `movies.csv`. Each line of this file after the header row represents one movie, and has the following format:\n",
      "\n",
      "    movieId,title,genres\n",
      "\n",
      "Movie titles are entered manually or imported from <https://www.themoviedb.org/>, and include the year of release in parentheses. Errors and inconsistencies may exist in these titles.\n",
      "\n",
      "Genres are a pipe-separated list, and are selected from the following:\n",
      "\n",
      "* Action\n",
      "* Adventure\n",
      "* Animation\n",
      "* Children's\n",
      "* Comedy\n",
      "* Crime\n",
      "* Documentary\n",
      "* Drama\n",
      "* Fantasy\n",
      "* Film-Noir\n",
      "* Horror\n",
      "* Musical\n",
      "* Mystery\n",
      "* Romance\n",
      "* Sci-Fi\n",
      "* Thriller\n",
      "* War\n",
      "* Western\n",
      "* (no genres listed)\n",
      "\n",
      "\n",
      "Links Data File Structure (links.csv)\n",
      "---------------------------------------\n",
      "\n",
      "Identifiers that can be used to link to other sources of movie data are contained in the file `links.csv`. Each line of this file after the header row represents one movie, and has the following format:\n",
      "\n",
      "    movieId,imdbId,tmdbId\n",
      "\n",
      "movieId is an identifier for movies used by <https://movielens.org>. E.g., the movie Toy Story has the link <https://movielens.org/movies/1>.\n",
      "\n",
      "imdbId is an identifier for movies used by <http://www.imdb.com>. E.g., the movie Toy Story has the link <http://www.imdb.com/title/tt0114709/>.\n",
      "\n",
      "tmdbId is an identifier for movies used by <https://www.themoviedb.org>. E.g., the movie Toy Story has the link <https://www.themoviedb.org/movie/862>.\n",
      "\n",
      "Use of the resources listed above is subject to the terms of each provider.\n",
      "\n",
      "\n",
      "Cross-Validation\n",
      "----------------\n",
      "\n",
      "Prior versions of the MovieLens dataset included either pre-computed cross-folds or scripts to perform this computation. We no longer bundle either of these features with the dataset, since most modern toolkits provide this as a built-in feature. If you wish to learn about standard approaches to cross-fold computation in the context of recommender systems evaluation, see [LensKit](http://lenskit.org) for tools, documentation, and open-source code examples.\n",
      "\n"
     ]
    }
   ],
   "source": [
    "with open('../../datasets/ml-latest-small/README.txt', 'r') as f:\n",
    "    print(f.read())"
   ]
  },
  {
   "cell_type": "code",
   "execution_count": 3,
   "id": "2e28b48c",
   "metadata": {},
   "outputs": [
    {
     "name": "stdout",
     "output_type": "stream",
     "text": [
      "(100836, 4)\n"
     ]
    },
    {
     "data": {
      "text/html": [
       "<div>\n",
       "<style scoped>\n",
       "    .dataframe tbody tr th:only-of-type {\n",
       "        vertical-align: middle;\n",
       "    }\n",
       "\n",
       "    .dataframe tbody tr th {\n",
       "        vertical-align: top;\n",
       "    }\n",
       "\n",
       "    .dataframe thead th {\n",
       "        text-align: right;\n",
       "    }\n",
       "</style>\n",
       "<table border=\"1\" class=\"dataframe\">\n",
       "  <thead>\n",
       "    <tr style=\"text-align: right;\">\n",
       "      <th></th>\n",
       "      <th>userId</th>\n",
       "      <th>movieId</th>\n",
       "      <th>rating</th>\n",
       "      <th>timestamp</th>\n",
       "    </tr>\n",
       "  </thead>\n",
       "  <tbody>\n",
       "    <tr>\n",
       "      <th>0</th>\n",
       "      <td>1</td>\n",
       "      <td>1</td>\n",
       "      <td>4.0</td>\n",
       "      <td>964982703</td>\n",
       "    </tr>\n",
       "    <tr>\n",
       "      <th>1</th>\n",
       "      <td>1</td>\n",
       "      <td>3</td>\n",
       "      <td>4.0</td>\n",
       "      <td>964981247</td>\n",
       "    </tr>\n",
       "    <tr>\n",
       "      <th>2</th>\n",
       "      <td>1</td>\n",
       "      <td>6</td>\n",
       "      <td>4.0</td>\n",
       "      <td>964982224</td>\n",
       "    </tr>\n",
       "    <tr>\n",
       "      <th>3</th>\n",
       "      <td>1</td>\n",
       "      <td>47</td>\n",
       "      <td>5.0</td>\n",
       "      <td>964983815</td>\n",
       "    </tr>\n",
       "    <tr>\n",
       "      <th>4</th>\n",
       "      <td>1</td>\n",
       "      <td>50</td>\n",
       "      <td>5.0</td>\n",
       "      <td>964982931</td>\n",
       "    </tr>\n",
       "    <tr>\n",
       "      <th>5</th>\n",
       "      <td>1</td>\n",
       "      <td>70</td>\n",
       "      <td>3.0</td>\n",
       "      <td>964982400</td>\n",
       "    </tr>\n",
       "    <tr>\n",
       "      <th>6</th>\n",
       "      <td>1</td>\n",
       "      <td>101</td>\n",
       "      <td>5.0</td>\n",
       "      <td>964980868</td>\n",
       "    </tr>\n",
       "    <tr>\n",
       "      <th>7</th>\n",
       "      <td>1</td>\n",
       "      <td>110</td>\n",
       "      <td>4.0</td>\n",
       "      <td>964982176</td>\n",
       "    </tr>\n",
       "    <tr>\n",
       "      <th>8</th>\n",
       "      <td>1</td>\n",
       "      <td>151</td>\n",
       "      <td>5.0</td>\n",
       "      <td>964984041</td>\n",
       "    </tr>\n",
       "    <tr>\n",
       "      <th>9</th>\n",
       "      <td>1</td>\n",
       "      <td>157</td>\n",
       "      <td>5.0</td>\n",
       "      <td>964984100</td>\n",
       "    </tr>\n",
       "  </tbody>\n",
       "</table>\n",
       "</div>"
      ],
      "text/plain": [
       "   userId  movieId  rating  timestamp\n",
       "0       1        1     4.0  964982703\n",
       "1       1        3     4.0  964981247\n",
       "2       1        6     4.0  964982224\n",
       "3       1       47     5.0  964983815\n",
       "4       1       50     5.0  964982931\n",
       "5       1       70     3.0  964982400\n",
       "6       1      101     5.0  964980868\n",
       "7       1      110     4.0  964982176\n",
       "8       1      151     5.0  964984041\n",
       "9       1      157     5.0  964984100"
      ]
     },
     "execution_count": 3,
     "metadata": {},
     "output_type": "execute_result"
    }
   ],
   "source": [
    "ratings = pd.read_csv(\"../../datasets/ml-latest-small/ratings.csv\", sep=\",\")\n",
    "#ratings =pd.read_csv(\"../../datasets/ml-25m/ratings.csv\")\n",
    "print(ratings.shape)\n",
    "ratings.head(10)"
   ]
  },
  {
   "cell_type": "code",
   "execution_count": 4,
   "id": "f438a1e0",
   "metadata": {},
   "outputs": [
    {
     "name": "stdout",
     "output_type": "stream",
     "text": [
      "(9742, 3)\n"
     ]
    },
    {
     "data": {
      "text/html": [
       "<div>\n",
       "<style scoped>\n",
       "    .dataframe tbody tr th:only-of-type {\n",
       "        vertical-align: middle;\n",
       "    }\n",
       "\n",
       "    .dataframe tbody tr th {\n",
       "        vertical-align: top;\n",
       "    }\n",
       "\n",
       "    .dataframe thead th {\n",
       "        text-align: right;\n",
       "    }\n",
       "</style>\n",
       "<table border=\"1\" class=\"dataframe\">\n",
       "  <thead>\n",
       "    <tr style=\"text-align: right;\">\n",
       "      <th></th>\n",
       "      <th>movieId</th>\n",
       "      <th>imdbId</th>\n",
       "      <th>tmdbId</th>\n",
       "    </tr>\n",
       "  </thead>\n",
       "  <tbody>\n",
       "    <tr>\n",
       "      <th>0</th>\n",
       "      <td>1</td>\n",
       "      <td>114709</td>\n",
       "      <td>862.0</td>\n",
       "    </tr>\n",
       "    <tr>\n",
       "      <th>1</th>\n",
       "      <td>2</td>\n",
       "      <td>113497</td>\n",
       "      <td>8844.0</td>\n",
       "    </tr>\n",
       "    <tr>\n",
       "      <th>2</th>\n",
       "      <td>3</td>\n",
       "      <td>113228</td>\n",
       "      <td>15602.0</td>\n",
       "    </tr>\n",
       "    <tr>\n",
       "      <th>3</th>\n",
       "      <td>4</td>\n",
       "      <td>114885</td>\n",
       "      <td>31357.0</td>\n",
       "    </tr>\n",
       "    <tr>\n",
       "      <th>4</th>\n",
       "      <td>5</td>\n",
       "      <td>113041</td>\n",
       "      <td>11862.0</td>\n",
       "    </tr>\n",
       "  </tbody>\n",
       "</table>\n",
       "</div>"
      ],
      "text/plain": [
       "   movieId  imdbId   tmdbId\n",
       "0        1  114709    862.0\n",
       "1        2  113497   8844.0\n",
       "2        3  113228  15602.0\n",
       "3        4  114885  31357.0\n",
       "4        5  113041  11862.0"
      ]
     },
     "execution_count": 4,
     "metadata": {},
     "output_type": "execute_result"
    }
   ],
   "source": [
    "links = pd.read_csv(\"../../datasets/ml-latest-small/links.csv\", sep=\",\")\n",
    "print(links.shape)\n",
    "links.head()"
   ]
  },
  {
   "cell_type": "code",
   "execution_count": 43,
   "id": "afd90fe2",
   "metadata": {},
   "outputs": [
    {
     "name": "stdout",
     "output_type": "stream",
     "text": [
      "(9742, 3)\n"
     ]
    },
    {
     "data": {
      "text/html": [
       "<div>\n",
       "<style scoped>\n",
       "    .dataframe tbody tr th:only-of-type {\n",
       "        vertical-align: middle;\n",
       "    }\n",
       "\n",
       "    .dataframe tbody tr th {\n",
       "        vertical-align: top;\n",
       "    }\n",
       "\n",
       "    .dataframe thead th {\n",
       "        text-align: right;\n",
       "    }\n",
       "</style>\n",
       "<table border=\"1\" class=\"dataframe\">\n",
       "  <thead>\n",
       "    <tr style=\"text-align: right;\">\n",
       "      <th></th>\n",
       "      <th>movieId</th>\n",
       "      <th>title</th>\n",
       "      <th>genres</th>\n",
       "    </tr>\n",
       "  </thead>\n",
       "  <tbody>\n",
       "    <tr>\n",
       "      <th>0</th>\n",
       "      <td>1</td>\n",
       "      <td>Toy Story (1995)</td>\n",
       "      <td>Adventure|Animation|Children|Comedy|Fantasy</td>\n",
       "    </tr>\n",
       "    <tr>\n",
       "      <th>1</th>\n",
       "      <td>2</td>\n",
       "      <td>Jumanji (1995)</td>\n",
       "      <td>Adventure|Children|Fantasy</td>\n",
       "    </tr>\n",
       "    <tr>\n",
       "      <th>2</th>\n",
       "      <td>3</td>\n",
       "      <td>Grumpier Old Men (1995)</td>\n",
       "      <td>Comedy|Romance</td>\n",
       "    </tr>\n",
       "    <tr>\n",
       "      <th>3</th>\n",
       "      <td>4</td>\n",
       "      <td>Waiting to Exhale (1995)</td>\n",
       "      <td>Comedy|Drama|Romance</td>\n",
       "    </tr>\n",
       "    <tr>\n",
       "      <th>4</th>\n",
       "      <td>5</td>\n",
       "      <td>Father of the Bride Part II (1995)</td>\n",
       "      <td>Comedy</td>\n",
       "    </tr>\n",
       "  </tbody>\n",
       "</table>\n",
       "</div>"
      ],
      "text/plain": [
       "   movieId                               title  \\\n",
       "0        1                    Toy Story (1995)   \n",
       "1        2                      Jumanji (1995)   \n",
       "2        3             Grumpier Old Men (1995)   \n",
       "3        4            Waiting to Exhale (1995)   \n",
       "4        5  Father of the Bride Part II (1995)   \n",
       "\n",
       "                                        genres  \n",
       "0  Adventure|Animation|Children|Comedy|Fantasy  \n",
       "1                   Adventure|Children|Fantasy  \n",
       "2                               Comedy|Romance  \n",
       "3                         Comedy|Drama|Romance  \n",
       "4                                       Comedy  "
      ]
     },
     "execution_count": 43,
     "metadata": {},
     "output_type": "execute_result"
    }
   ],
   "source": [
    "movies = pd.read_csv(\"../../datasets/ml-latest-small/movies.csv\", sep=\",\")\n",
    "print(movies.shape)\n",
    "movies.head()"
   ]
  },
  {
   "cell_type": "code",
   "execution_count": 6,
   "id": "ddcc9382",
   "metadata": {},
   "outputs": [
    {
     "name": "stdout",
     "output_type": "stream",
     "text": [
      "(3683, 4)\n"
     ]
    },
    {
     "data": {
      "text/html": [
       "<div>\n",
       "<style scoped>\n",
       "    .dataframe tbody tr th:only-of-type {\n",
       "        vertical-align: middle;\n",
       "    }\n",
       "\n",
       "    .dataframe tbody tr th {\n",
       "        vertical-align: top;\n",
       "    }\n",
       "\n",
       "    .dataframe thead th {\n",
       "        text-align: right;\n",
       "    }\n",
       "</style>\n",
       "<table border=\"1\" class=\"dataframe\">\n",
       "  <thead>\n",
       "    <tr style=\"text-align: right;\">\n",
       "      <th></th>\n",
       "      <th>userId</th>\n",
       "      <th>movieId</th>\n",
       "      <th>tag</th>\n",
       "      <th>timestamp</th>\n",
       "    </tr>\n",
       "  </thead>\n",
       "  <tbody>\n",
       "    <tr>\n",
       "      <th>0</th>\n",
       "      <td>2</td>\n",
       "      <td>60756</td>\n",
       "      <td>funny</td>\n",
       "      <td>1445714994</td>\n",
       "    </tr>\n",
       "    <tr>\n",
       "      <th>1</th>\n",
       "      <td>2</td>\n",
       "      <td>60756</td>\n",
       "      <td>Highly quotable</td>\n",
       "      <td>1445714996</td>\n",
       "    </tr>\n",
       "    <tr>\n",
       "      <th>2</th>\n",
       "      <td>2</td>\n",
       "      <td>60756</td>\n",
       "      <td>will ferrell</td>\n",
       "      <td>1445714992</td>\n",
       "    </tr>\n",
       "    <tr>\n",
       "      <th>3</th>\n",
       "      <td>2</td>\n",
       "      <td>89774</td>\n",
       "      <td>Boxing story</td>\n",
       "      <td>1445715207</td>\n",
       "    </tr>\n",
       "    <tr>\n",
       "      <th>4</th>\n",
       "      <td>2</td>\n",
       "      <td>89774</td>\n",
       "      <td>MMA</td>\n",
       "      <td>1445715200</td>\n",
       "    </tr>\n",
       "  </tbody>\n",
       "</table>\n",
       "</div>"
      ],
      "text/plain": [
       "   userId  movieId              tag   timestamp\n",
       "0       2    60756            funny  1445714994\n",
       "1       2    60756  Highly quotable  1445714996\n",
       "2       2    60756     will ferrell  1445714992\n",
       "3       2    89774     Boxing story  1445715207\n",
       "4       2    89774              MMA  1445715200"
      ]
     },
     "execution_count": 6,
     "metadata": {},
     "output_type": "execute_result"
    }
   ],
   "source": [
    "tags = pd.read_csv(\"../../datasets/ml-latest-small/tags.csv\", sep=\",\")\n",
    "print(tags.shape)\n",
    "tags.head()"
   ]
  },
  {
   "cell_type": "markdown",
   "id": "71d3800e",
   "metadata": {},
   "source": [
    "## Create User Item Rating Map\n",
    "It might take some time but will be useful later."
   ]
  },
  {
   "cell_type": "code",
   "execution_count": 7,
   "id": "749b4bb1",
   "metadata": {},
   "outputs": [],
   "source": [
    "rating_map = {}\n",
    "for i in range(len(ratings)):\n",
    "    key = str(ratings.iloc[i,0]) + '_' +str(ratings.iloc[i,1])\n",
    "    rating_map[key]=ratings.iloc[i,2]"
   ]
  },
  {
   "cell_type": "code",
   "execution_count": 8,
   "id": "fd29dac0",
   "metadata": {},
   "outputs": [
    {
     "data": {
      "text/plain": [
       "5.0"
      ]
     },
     "execution_count": 8,
     "metadata": {},
     "output_type": "execute_result"
    }
   ],
   "source": [
    "rating_map[\"1_101\"]"
   ]
  },
  {
   "cell_type": "code",
   "execution_count": 9,
   "id": "dbb143c2",
   "metadata": {},
   "outputs": [
    {
     "name": "stdout",
     "output_type": "stream",
     "text": [
      "('1_1', 4.0)\n",
      "('1_3', 4.0)\n",
      "('1_6', 4.0)\n",
      "('1_47', 5.0)\n",
      "('1_50', 5.0)\n"
     ]
    }
   ],
   "source": [
    "iterator = iter(rating_map.items())\n",
    "for i in range(5):\n",
    "    print(next(iterator))"
   ]
  },
  {
   "cell_type": "markdown",
   "id": "19f1284f",
   "metadata": {},
   "source": [
    "## Create User Ratings Map\n",
    "It might take some time but will be useful later."
   ]
  },
  {
   "cell_type": "code",
   "execution_count": 10,
   "id": "470298bb",
   "metadata": {},
   "outputs": [
    {
     "data": {
      "text/html": [
       "<div>\n",
       "<style scoped>\n",
       "    .dataframe tbody tr th:only-of-type {\n",
       "        vertical-align: middle;\n",
       "    }\n",
       "\n",
       "    .dataframe tbody tr th {\n",
       "        vertical-align: top;\n",
       "    }\n",
       "\n",
       "    .dataframe thead th {\n",
       "        text-align: right;\n",
       "    }\n",
       "</style>\n",
       "<table border=\"1\" class=\"dataframe\">\n",
       "  <thead>\n",
       "    <tr style=\"text-align: right;\">\n",
       "      <th></th>\n",
       "      <th>userId</th>\n",
       "      <th>movieId</th>\n",
       "      <th>rating</th>\n",
       "      <th>timestamp</th>\n",
       "    </tr>\n",
       "  </thead>\n",
       "  <tbody>\n",
       "    <tr>\n",
       "      <th>560</th>\n",
       "      <td>6</td>\n",
       "      <td>2</td>\n",
       "      <td>4.0</td>\n",
       "      <td>845553522</td>\n",
       "    </tr>\n",
       "    <tr>\n",
       "      <th>1026</th>\n",
       "      <td>8</td>\n",
       "      <td>2</td>\n",
       "      <td>4.0</td>\n",
       "      <td>839463806</td>\n",
       "    </tr>\n",
       "    <tr>\n",
       "      <th>1773</th>\n",
       "      <td>18</td>\n",
       "      <td>2</td>\n",
       "      <td>3.0</td>\n",
       "      <td>1455617462</td>\n",
       "    </tr>\n",
       "    <tr>\n",
       "      <th>2275</th>\n",
       "      <td>19</td>\n",
       "      <td>2</td>\n",
       "      <td>3.0</td>\n",
       "      <td>965704331</td>\n",
       "    </tr>\n",
       "    <tr>\n",
       "      <th>2977</th>\n",
       "      <td>20</td>\n",
       "      <td>2</td>\n",
       "      <td>3.0</td>\n",
       "      <td>1054038313</td>\n",
       "    </tr>\n",
       "    <tr>\n",
       "      <th>...</th>\n",
       "      <td>...</td>\n",
       "      <td>...</td>\n",
       "      <td>...</td>\n",
       "      <td>...</td>\n",
       "    </tr>\n",
       "    <tr>\n",
       "      <th>95102</th>\n",
       "      <td>600</td>\n",
       "      <td>2</td>\n",
       "      <td>4.0</td>\n",
       "      <td>1237764627</td>\n",
       "    </tr>\n",
       "    <tr>\n",
       "      <th>95965</th>\n",
       "      <td>602</td>\n",
       "      <td>2</td>\n",
       "      <td>4.0</td>\n",
       "      <td>840875851</td>\n",
       "    </tr>\n",
       "    <tr>\n",
       "      <th>97044</th>\n",
       "      <td>604</td>\n",
       "      <td>2</td>\n",
       "      <td>5.0</td>\n",
       "      <td>832080293</td>\n",
       "    </tr>\n",
       "    <tr>\n",
       "      <th>97144</th>\n",
       "      <td>605</td>\n",
       "      <td>2</td>\n",
       "      <td>3.5</td>\n",
       "      <td>1277176522</td>\n",
       "    </tr>\n",
       "    <tr>\n",
       "      <th>98667</th>\n",
       "      <td>608</td>\n",
       "      <td>2</td>\n",
       "      <td>2.0</td>\n",
       "      <td>1117490786</td>\n",
       "    </tr>\n",
       "  </tbody>\n",
       "</table>\n",
       "<p>110 rows × 4 columns</p>\n",
       "</div>"
      ],
      "text/plain": [
       "       userId  movieId  rating   timestamp\n",
       "560         6        2     4.0   845553522\n",
       "1026        8        2     4.0   839463806\n",
       "1773       18        2     3.0  1455617462\n",
       "2275       19        2     3.0   965704331\n",
       "2977       20        2     3.0  1054038313\n",
       "...       ...      ...     ...         ...\n",
       "95102     600        2     4.0  1237764627\n",
       "95965     602        2     4.0   840875851\n",
       "97044     604        2     5.0   832080293\n",
       "97144     605        2     3.5  1277176522\n",
       "98667     608        2     2.0  1117490786\n",
       "\n",
       "[110 rows x 4 columns]"
      ]
     },
     "execution_count": 10,
     "metadata": {},
     "output_type": "execute_result"
    }
   ],
   "source": [
    "ratings.query(\"movieId == 2\")"
   ]
  },
  {
   "cell_type": "code",
   "execution_count": 11,
   "id": "fb51140e",
   "metadata": {},
   "outputs": [],
   "source": [
    "# user_ratings_map[i] stores a tuple: a list of users who rated item i and a list of corresponding ratings\n",
    "user_ratings_map = {}\n",
    "\n",
    "items = ratings.movieId.unique()\n",
    "for i in items:\n",
    "    userids = ratings.query(\"movieId == @i\").userId.array\n",
    "    user_ratings = ratings.query(\"movieId == @i\").rating.array\n",
    "    user_ratings_map[i] = (userids,user_ratings)"
   ]
  },
  {
   "cell_type": "code",
   "execution_count": 12,
   "id": "c918ce66",
   "metadata": {},
   "outputs": [
    {
     "data": {
      "text/plain": [
       "(<NumpyExtensionArray>\n",
       " [  6,   8,  11,  19,  21,  26,  31,  34,  42,  43,\n",
       "  ...\n",
       "  580, 584, 588, 590, 592, 597, 599, 602, 608, 609]\n",
       " Length: 132, dtype: int64,\n",
       " <NumpyExtensionArray>\n",
       " [3.0, 2.0, 3.0, 2.0, 5.0, 3.0, 4.0, 5.0, 5.0, 4.0,\n",
       "  ...\n",
       "  3.5, 5.0, 3.0, 3.5, 3.0, 3.0, 3.5, 3.0, 4.0, 4.0]\n",
       " Length: 132, dtype: float64)"
      ]
     },
     "execution_count": 12,
     "metadata": {},
     "output_type": "execute_result"
    }
   ],
   "source": [
    "user_ratings_map[10]"
   ]
  },
  {
   "cell_type": "markdown",
   "id": "ec5d5454",
   "metadata": {},
   "source": [
    "## Rating Prediction\n",
    "\n",
    "### Algorithm \n",
    " \n",
    "Predict rating of user $u$ for item $i$\n",
    "- Calculate the similarity of items that are rated by $u$ with $i$.\n",
    "- Use these similarities to calculate a weighted average of the ratings.\n",
    "\n",
    "Similarity between items i and j will be calculated using the ratings of i and j (no content information will be used). One can view these ratings as a vector of values as shown below and use different metrics such as Jaccard or cosine."
   ]
  },
  {
   "cell_type": "code",
   "execution_count": 13,
   "id": "b761853a",
   "metadata": {},
   "outputs": [
    {
     "data": {
      "text/html": [
       "<div>\n",
       "<style scoped>\n",
       "    .dataframe tbody tr th:only-of-type {\n",
       "        vertical-align: middle;\n",
       "    }\n",
       "\n",
       "    .dataframe tbody tr th {\n",
       "        vertical-align: top;\n",
       "    }\n",
       "\n",
       "    .dataframe thead th {\n",
       "        text-align: right;\n",
       "    }\n",
       "</style>\n",
       "<table border=\"1\" class=\"dataframe\">\n",
       "  <thead>\n",
       "    <tr style=\"text-align: right;\">\n",
       "      <th></th>\n",
       "      <th>movie 1</th>\n",
       "      <th>movie 2</th>\n",
       "      <th>movie 3</th>\n",
       "      <th>movie 4</th>\n",
       "      <th>movie 5</th>\n",
       "    </tr>\n",
       "  </thead>\n",
       "  <tbody>\n",
       "    <tr>\n",
       "      <th>user 1</th>\n",
       "      <td>1</td>\n",
       "      <td></td>\n",
       "      <td>5</td>\n",
       "      <td>3</td>\n",
       "      <td></td>\n",
       "    </tr>\n",
       "    <tr>\n",
       "      <th>user 2</th>\n",
       "      <td>5</td>\n",
       "      <td>3</td>\n",
       "      <td></td>\n",
       "      <td>2</td>\n",
       "      <td>4</td>\n",
       "    </tr>\n",
       "    <tr>\n",
       "      <th>user 3</th>\n",
       "      <td></td>\n",
       "      <td>4</td>\n",
       "      <td>2</td>\n",
       "      <td></td>\n",
       "      <td>1</td>\n",
       "    </tr>\n",
       "    <tr>\n",
       "      <th>user 4</th>\n",
       "      <td>3</td>\n",
       "      <td></td>\n",
       "      <td>4</td>\n",
       "      <td>2</td>\n",
       "      <td>3</td>\n",
       "    </tr>\n",
       "    <tr>\n",
       "      <th>user 5</th>\n",
       "      <td>4</td>\n",
       "      <td>1</td>\n",
       "      <td></td>\n",
       "      <td>2</td>\n",
       "      <td>4</td>\n",
       "    </tr>\n",
       "    <tr>\n",
       "      <th>user 6</th>\n",
       "      <td>4</td>\n",
       "      <td>1</td>\n",
       "      <td>5</td>\n",
       "      <td>3</td>\n",
       "      <td></td>\n",
       "    </tr>\n",
       "    <tr>\n",
       "      <th>user 7</th>\n",
       "      <td></td>\n",
       "      <td>4</td>\n",
       "      <td>5</td>\n",
       "      <td></td>\n",
       "      <td>1</td>\n",
       "    </tr>\n",
       "    <tr>\n",
       "      <th>user 8</th>\n",
       "      <td>2</td>\n",
       "      <td>5</td>\n",
       "      <td></td>\n",
       "      <td>1</td>\n",
       "      <td>4</td>\n",
       "    </tr>\n",
       "  </tbody>\n",
       "</table>\n",
       "</div>"
      ],
      "text/plain": [
       "       movie 1 movie 2 movie 3 movie 4  movie 5\n",
       "user 1       1               5       3         \n",
       "user 2       5       3               2        4\n",
       "user 3               4       2                1\n",
       "user 4       3               4       2        3\n",
       "user 5       4       1               2        4\n",
       "user 6       4       1       5       3         \n",
       "user 7               4       5                1\n",
       "user 8       2       5               1        4"
      ]
     },
     "execution_count": 13,
     "metadata": {},
     "output_type": "execute_result"
    }
   ],
   "source": [
    "df = pd.DataFrame([[1, \"\", 5, 3, \"\"],\n",
    "                   [5, 3, \"\", 2, 4],\n",
    "                   [\"\", 4, 2, \"\", 1],\n",
    "                   [3, \"\", 4, 2, 3],\n",
    "                   [4, 1, \"\", 2, 4],\n",
    "                   [4, 1, 5, 3, \"\"],\n",
    "                   [\"\", 4, 5, \"\", 1],\n",
    "                   [2, 5, \"\", 1, 4]],\n",
    "                 index = ['user 1','user 2','user 3','user 4','user 5','user 6','user 7','user 8'],\n",
    "                 columns = ['movie 1','movie 2','movie 3','movie 4',' movie 5'])\n",
    "df"
   ]
  },
  {
   "cell_type": "markdown",
   "id": "b0e553da",
   "metadata": {},
   "source": [
    "### Jaccard Similarity\n",
    "\n",
    "Given two sets $A$ and $B$,\n",
    "\n",
    "$Jaccard(A, B) = \\frac{|A \\cap B|}{|A \\cup B|}$\n",
    "\n",
    "For example if $A = \\{a, b, c, d\\}$ and $B = \\{b, d, e ,f, g\\}$ then\n",
    "\n",
    "$Jaccard(A, B) = \\frac{2}{7}$\n",
    "\n",
    "We can apply Jaccard similarity by ignoring the rating values.\n",
    "\n",
    "### Cosine Similarity\n",
    "\n",
    "Cosine(A, B) = \n",
    "\n",
    "<img src=\"cosine.png\" width=\"200\">\n",
    "\n"
   ]
  },
  {
   "cell_type": "code",
   "execution_count": 14,
   "id": "37328e31",
   "metadata": {},
   "outputs": [],
   "source": [
    "def NNCF_based_rating_prediction(u, i, metric):\n",
    "    r = 0\n",
    "    sum_sim = 0\n",
    "    # find movies rated by u\n",
    "    movies = ratings[ratings[\"userId\"]==u].movieId\n",
    "    for j in movies:\n",
    "        sim = calc_sim(i, j, metric)\n",
    "        key = str(u)+\"_\"+str(j)\n",
    "        r += sim*rating_map[key]\n",
    "        sum_sim += sim\n",
    "    if sum_sim == 0:\n",
    "        return 0\n",
    "    else:\n",
    "        return r / sum_sim        "
   ]
  },
  {
   "cell_type": "code",
   "execution_count": 15,
   "id": "bbf6dafb",
   "metadata": {},
   "outputs": [],
   "source": [
    "# finds the similary of items i and j \n",
    "def calc_sim(i,j, metric):\n",
    "    # users who rated item i\n",
    "    users_rated_i = user_ratings_map[i][0]\n",
    "    ratings_i = user_ratings_map[i][1]\n",
    "    # users who rated item j\n",
    "    users_rated_j = user_ratings_map[j][0]\n",
    "    ratings_j = user_ratings_map[j][1]\n",
    "\n",
    "    # Jaccard ignores rating values.\n",
    "    if metric == \"Jaccard\":\n",
    "        intersection_size = len(set(users_rated_i).intersection(users_rated_j))\n",
    "        union_size = len(set(users_rated_i).union(users_rated_j))\n",
    "        return intersection_size / union_size\n",
    "    elif metric == \"Cosine\":\n",
    "        inter, ind1, ind2 = np.intersect1d(users_rated_i, users_rated_j, return_indices=True)\n",
    "        dot = np.dot(ratings_i[ind1], ratings_j[ind2])\n",
    "        return dot/(np.linalg.norm(ratings_i[ind1])*np.linalg.norm(ratings_j[ind2]))\n",
    "    "
   ]
  },
  {
   "cell_type": "markdown",
   "id": "f9ca7a8e",
   "metadata": {},
   "source": [
    "### Example"
   ]
  },
  {
   "cell_type": "code",
   "execution_count": 16,
   "id": "470f3317",
   "metadata": {},
   "outputs": [],
   "source": [
    "users_i = np.array([1, 3, 6, 9, 12, 15])\n",
    "ratings_i =  np.array([4, 3, 2, 4, 2, 5])\n",
    "users_j = np.array([1, 6, 8, 12])\n",
    "ratings_j = np.array([2, 4, 2, 5])"
   ]
  },
  {
   "cell_type": "code",
   "execution_count": 17,
   "id": "55203535",
   "metadata": {},
   "outputs": [
    {
     "name": "stdout",
     "output_type": "stream",
     "text": [
      "[ 1  6 12]\n",
      "[0 2 4]\n",
      "[0 1 3]\n",
      "[4 2 2]\n",
      "[2 4 5]\n",
      "26\n"
     ]
    }
   ],
   "source": [
    "inter, ind1, ind2 = np.intersect1d(users_i,users_j,return_indices=True)\n",
    "print(inter)\n",
    "print(ind1)\n",
    "print(ind2)\n",
    "print(ratings_i[ind1])\n",
    "print(ratings_j[ind2])\n",
    "print(np.dot(ratings_i[ind1],ratings_j[ind2]))"
   ]
  },
  {
   "cell_type": "markdown",
   "id": "6ce68b8d",
   "metadata": {},
   "source": [
    "## Evaluation of Rating Prediction\n",
    "\n",
    "How can we measure the performance of a recommender algorithm? This is similar to the evaluation used in machine learning.\n",
    "\n",
    "- Make a train/test split\n",
    "- Build the model on the training set\n",
    "- Make predictions for the ratings in the test set\n",
    "- Find the mean absolute error (MAE)\n",
    "\n",
    "For more metrics other then MAE lool at the \"Metrics for Regression\" section of [this notebook](../../data_science/evaluation.ipynb). For ranking metrics see [this notebook](ranking_evaluation.ipynb)\n"
   ]
  },
  {
   "cell_type": "code",
   "execution_count": 18,
   "id": "11bcab01",
   "metadata": {},
   "outputs": [
    {
     "name": "stdout",
     "output_type": "stream",
     "text": [
      "Test size: 100\n"
     ]
    },
    {
     "data": {
      "application/vnd.jupyter.widget-view+json": {
       "model_id": "a86518fc766042fd9953a9e1abdfe4dc",
       "version_major": 2,
       "version_minor": 0
      },
      "text/plain": [
       "  0%|          | 0/100 [00:00<?, ?it/s]"
      ]
     },
     "metadata": {},
     "output_type": "display_data"
    },
    {
     "name": "stdout",
     "output_type": "stream",
     "text": [
      "Cosine: 0.8361173550527344\n",
      "Jaccard: 0.760644480105917\n",
      "Average: 0.949827271283354\n"
     ]
    }
   ],
   "source": [
    "ratings = shuffle(ratings)\n",
    "\n",
    "X_train, X_test = train_test_split(ratings, test_size=100)\n",
    "train_size = X_train.shape[0]\n",
    "test_size = X_test.shape[0]\n",
    "print(\"Test size:\", test_size)\n",
    "error1 = 0\n",
    "error2 = 0\n",
    "error3 = 0\n",
    "preds = []\n",
    "\n",
    "avg_rating = X_train.iloc[:,2].mean()\n",
    "for k in tqdm(range(test_size)): \n",
    "    u = X_test.iloc[k,0]\n",
    "    i = X_test.iloc[k,1]\n",
    "    r = X_test.iloc[k,2]\n",
    "    \n",
    "    error1 += np.abs(r - NNCF_based_rating_prediction(u,i,\"Cosine\"))\n",
    "    error2 += np.abs(r - NNCF_based_rating_prediction(u,i,\"Jaccard\"))\n",
    "    error3 += np.abs(r - avg_rating)\n",
    "\n",
    "\n",
    "print(\"Cosine:\", error1/test_size)\n",
    "print(\"Jaccard:\",error2/test_size)\n",
    "print(\"Average:\",error3/test_size)\n"
   ]
  },
  {
   "cell_type": "markdown",
   "id": "b12cb3bf",
   "metadata": {},
   "source": [
    "#### Question: How can you explain the difference between using Cosine vs. Jaccard?"
   ]
  },
  {
   "cell_type": "markdown",
   "id": "c2eb0801",
   "metadata": {},
   "source": [
    "## Top-N recommendation Algorithm - Predict and Sort\n",
    "The task in top-$N$ recommendation is to recommend $N$ items to a user. \n",
    "\n",
    "\n",
    "Recommend $N$ movies to user $u$\n",
    "- Predict the ratings of all items which are not watched by $u$\n",
    "- Sort the predicted ratings\n",
    "- Recommend the movies with the highest predicted ratings"
   ]
  },
  {
   "cell_type": "code",
   "execution_count": 79,
   "id": "bb1d7323",
   "metadata": {},
   "outputs": [],
   "source": [
    "def top_N_pred_sort(N, u):\n",
    "    preds = pd.Series([], dtype='float')\n",
    "    # find the movies not rated by u\n",
    "    all_items = set(ratings['movieId'].unique())\n",
    "    rated_by_user = set(ratings[ratings[\"userId\"]==1].movieId.unique())\n",
    "    not_rated_by_user = all_items - rated_by_user\n",
    "    sample_movies = np.random.choice(list(not_rated_by_user), 500)\n",
    "    for m in tqdm(sample_movies):\n",
    "        preds[m] = NNCF_based_rating_prediction(u, m, \"Jaccard\")\n",
    "    return preds.sort_values(ascending=False)[:N]    "
   ]
  },
  {
   "cell_type": "code",
   "execution_count": 78,
   "id": "975cd7e1",
   "metadata": {},
   "outputs": [
    {
     "data": {
      "application/vnd.jupyter.widget-view+json": {
       "model_id": "fc67edf0a4c74e17b0e317fb9f93372b",
       "version_major": 2,
       "version_minor": 0
      },
      "text/plain": [
       "  0%|          | 0/500 [00:00<?, ?it/s]"
      ]
     },
     "metadata": {},
     "output_type": "display_data"
    },
    {
     "data": {
      "text/plain": [
       "2493      4.449761\n",
       "179427    4.318191\n",
       "170897    4.318191\n",
       "174815    4.318191\n",
       "168632    4.318191\n",
       "127152    4.292307\n",
       "80858     4.262833\n",
       "43684     4.200810\n",
       "165947    4.189526\n",
       "114713    4.177833\n",
       "dtype: float64"
      ]
     },
     "execution_count": 78,
     "metadata": {},
     "output_type": "execute_result"
    }
   ],
   "source": [
    "topn = top_N_pred_sort(10, 100)\n",
    "topn"
   ]
  },
  {
   "cell_type": "markdown",
   "id": "dc9766a2",
   "metadata": {},
   "source": [
    "## Efficiency Issues\n",
    "\n",
    "There are important inefficiencies in this algorithm:\n",
    "\n",
    "- The algorithm predicts the rating of all items which are not rated by the user. In the case of millions of items this algorithm is practically infeasible. Numerous techniques have been developed to remedy this problem. Can you suggest a solution? \n",
    "- In rating prediction, similarity between target item and items rated by the user are calculated. To make a recommendation to another user similarity calculations will be done again. For making recommendations to users in general many similarity calculations will be repeated. A general solution to this problem is to precalculate the similarities between items. Moreover, you don't need to store all similarities, only storing $k$ most similar items to every item will be enough. Size of $k$ can be determined according to the needs.\n"
   ]
  },
  {
   "cell_type": "markdown",
   "id": "934589c6",
   "metadata": {},
   "source": [
    "## Top-N recommendation Algorithm - kNN Map\n",
    "The task in top-$N$ recommendation is to recommend $N$ items to a user. \n",
    "\n",
    "- Build a knn-map (a map which stores the $k$ nearest neighbors of each item)\n",
    "\n",
    "Recommend $N$ movies to user $u$\n",
    "- Get the neigbors of movies which are watched by $u$ and put them into a list $C$.\n",
    "- Choose $N$ movies form $C$. There can be different methods here. Most repeated movies in C can be chosen, movies with the highest total similarity (or maximum similarity) can be chosen. These methods will be implemented.\n",
    "- Recommend the $N$ movies that are chosen."
   ]
  },
  {
   "cell_type": "markdown",
   "id": "008e77bc",
   "metadata": {},
   "source": [
    "## Building a knn map\n",
    "This table will hold the most similar $k$ items for each item. In order to build this table we need to calculate all pairwise similarities which takes $O(n^2)$ time. There is no escape from this $O(n^2)$ time unless you use an approximation algorithm such as LSH (Locality Sensitive Hashing) for nearest neighbor search.\n",
    "\n",
    "We will use a heap based priority queue for storing the nearest neighbor. You can look at this [animation](https://www.cs.usfca.edu/~galles/visualization/Heap.html)."
   ]
  },
  {
   "cell_type": "code",
   "execution_count": 22,
   "id": "226648ab",
   "metadata": {},
   "outputs": [
    {
     "data": {
      "text/plain": [
       "[(3, 'd'), (5, 'c')]"
      ]
     },
     "execution_count": 22,
     "metadata": {},
     "output_type": "execute_result"
    }
   ],
   "source": [
    "pq =[(10,\"a\"),(8, \"b\"), (5, \"c\"), (3, \"d\")]\n",
    "type(pq)\n",
    "heapq.heapify(pq)\n",
    "heapq.nsmallest(2,pq)"
   ]
  },
  {
   "cell_type": "code",
   "execution_count": 23,
   "id": "8c5f6748",
   "metadata": {},
   "outputs": [
    {
     "data": {
      "text/html": [
       "<div>\n",
       "<style scoped>\n",
       "    .dataframe tbody tr th:only-of-type {\n",
       "        vertical-align: middle;\n",
       "    }\n",
       "\n",
       "    .dataframe tbody tr th {\n",
       "        vertical-align: top;\n",
       "    }\n",
       "\n",
       "    .dataframe thead th {\n",
       "        text-align: right;\n",
       "    }\n",
       "</style>\n",
       "<table border=\"1\" class=\"dataframe\">\n",
       "  <thead>\n",
       "    <tr style=\"text-align: right;\">\n",
       "      <th></th>\n",
       "      <th>movieId</th>\n",
       "      <th>title</th>\n",
       "      <th>genres</th>\n",
       "    </tr>\n",
       "  </thead>\n",
       "  <tbody>\n",
       "    <tr>\n",
       "      <th>0</th>\n",
       "      <td>1</td>\n",
       "      <td>Toy Story (1995)</td>\n",
       "      <td>Adventure|Animation|Children|Comedy|Fantasy</td>\n",
       "    </tr>\n",
       "    <tr>\n",
       "      <th>1</th>\n",
       "      <td>2</td>\n",
       "      <td>Jumanji (1995)</td>\n",
       "      <td>Adventure|Children|Fantasy</td>\n",
       "    </tr>\n",
       "    <tr>\n",
       "      <th>2</th>\n",
       "      <td>3</td>\n",
       "      <td>Grumpier Old Men (1995)</td>\n",
       "      <td>Comedy|Romance</td>\n",
       "    </tr>\n",
       "    <tr>\n",
       "      <th>3</th>\n",
       "      <td>4</td>\n",
       "      <td>Waiting to Exhale (1995)</td>\n",
       "      <td>Comedy|Drama|Romance</td>\n",
       "    </tr>\n",
       "    <tr>\n",
       "      <th>4</th>\n",
       "      <td>5</td>\n",
       "      <td>Father of the Bride Part II (1995)</td>\n",
       "      <td>Comedy</td>\n",
       "    </tr>\n",
       "    <tr>\n",
       "      <th>5</th>\n",
       "      <td>6</td>\n",
       "      <td>Heat (1995)</td>\n",
       "      <td>Action|Crime|Thriller</td>\n",
       "    </tr>\n",
       "    <tr>\n",
       "      <th>6</th>\n",
       "      <td>7</td>\n",
       "      <td>Sabrina (1995)</td>\n",
       "      <td>Comedy|Romance</td>\n",
       "    </tr>\n",
       "    <tr>\n",
       "      <th>7</th>\n",
       "      <td>8</td>\n",
       "      <td>Tom and Huck (1995)</td>\n",
       "      <td>Adventure|Children</td>\n",
       "    </tr>\n",
       "    <tr>\n",
       "      <th>8</th>\n",
       "      <td>9</td>\n",
       "      <td>Sudden Death (1995)</td>\n",
       "      <td>Action</td>\n",
       "    </tr>\n",
       "    <tr>\n",
       "      <th>9</th>\n",
       "      <td>10</td>\n",
       "      <td>GoldenEye (1995)</td>\n",
       "      <td>Action|Adventure|Thriller</td>\n",
       "    </tr>\n",
       "  </tbody>\n",
       "</table>\n",
       "</div>"
      ],
      "text/plain": [
       "   movieId                               title  \\\n",
       "0        1                    Toy Story (1995)   \n",
       "1        2                      Jumanji (1995)   \n",
       "2        3             Grumpier Old Men (1995)   \n",
       "3        4            Waiting to Exhale (1995)   \n",
       "4        5  Father of the Bride Part II (1995)   \n",
       "5        6                         Heat (1995)   \n",
       "6        7                      Sabrina (1995)   \n",
       "7        8                 Tom and Huck (1995)   \n",
       "8        9                 Sudden Death (1995)   \n",
       "9       10                    GoldenEye (1995)   \n",
       "\n",
       "                                        genres  \n",
       "0  Adventure|Animation|Children|Comedy|Fantasy  \n",
       "1                   Adventure|Children|Fantasy  \n",
       "2                               Comedy|Romance  \n",
       "3                         Comedy|Drama|Romance  \n",
       "4                                       Comedy  \n",
       "5                        Action|Crime|Thriller  \n",
       "6                               Comedy|Romance  \n",
       "7                           Adventure|Children  \n",
       "8                                       Action  \n",
       "9                    Action|Adventure|Thriller  "
      ]
     },
     "execution_count": 23,
     "metadata": {},
     "output_type": "execute_result"
    }
   ],
   "source": [
    "movies[:10]"
   ]
  },
  {
   "cell_type": "code",
   "execution_count": 33,
   "id": "c44ad103",
   "metadata": {
    "scrolled": true
   },
   "outputs": [],
   "source": [
    "def build_knn_map(movies, K=30):\n",
    "    knn_map = {}\n",
    "    movie_ids = ratings['movieId'].unique()\n",
    "    print(len(movie_ids))\n",
    "    for i in tqdm(movie_ids):\n",
    "        pq = []\n",
    "        knn_map[i] = pq\n",
    "        for j in movie_ids:\n",
    "            if (i == j):\n",
    "                continue\n",
    "            sim = calc_sim(i,j,\"Jaccard\")\n",
    "            if (len(pq) >= K):\n",
    "                smallest = pq[0]\n",
    "                if (sim > smallest[0]):\n",
    "                    heapq.heappop(pq)\n",
    "                    heapq.heappush(pq, (sim, j))\n",
    "            else:\n",
    "                heapq.heappush(pq, (sim, j))\n",
    "    return knn_map"
   ]
  },
  {
   "cell_type": "code",
   "execution_count": 32,
   "id": "e9d0b4dc",
   "metadata": {},
   "outputs": [
    {
     "name": "stdout",
     "output_type": "stream",
     "text": [
      "9724\n"
     ]
    },
    {
     "data": {
      "application/vnd.jupyter.widget-view+json": {
       "model_id": "eb7b21b3202242a8a240551453f29b14",
       "version_major": 2,
       "version_minor": 0
      },
      "text/plain": [
       "  0%|          | 0/9724 [00:00<?, ?it/s]"
      ]
     },
     "metadata": {},
     "output_type": "display_data"
    },
    {
     "ename": "KeyboardInterrupt",
     "evalue": "",
     "output_type": "error",
     "traceback": [
      "\u001b[31m---------------------------------------------------------------------------\u001b[39m",
      "\u001b[31mKeyboardInterrupt\u001b[39m                         Traceback (most recent call last)",
      "\u001b[36mCell\u001b[39m\u001b[36m \u001b[39m\u001b[32mIn[32]\u001b[39m\u001b[32m, line 1\u001b[39m\n\u001b[32m----> \u001b[39m\u001b[32m1\u001b[39m knn_map = \u001b[43mbuild_knn_map\u001b[49m\u001b[43m(\u001b[49m\u001b[43mmovies\u001b[49m\u001b[43m)\u001b[49m\n",
      "\u001b[36mCell\u001b[39m\u001b[36m \u001b[39m\u001b[32mIn[31]\u001b[39m\u001b[32m, line 13\u001b[39m, in \u001b[36mbuild_knn_map\u001b[39m\u001b[34m(movies, K)\u001b[39m\n\u001b[32m     11\u001b[39m \u001b[38;5;28;01mif\u001b[39;00m (i == j):\n\u001b[32m     12\u001b[39m     \u001b[38;5;28;01mcontinue\u001b[39;00m\n\u001b[32m---> \u001b[39m\u001b[32m13\u001b[39m sim = \u001b[43mcalc_sim\u001b[49m\u001b[43m(\u001b[49m\u001b[43mi\u001b[49m\u001b[43m,\u001b[49m\u001b[43mj\u001b[49m\u001b[43m,\u001b[49m\u001b[33;43m\"\u001b[39;49m\u001b[33;43mJaccard\u001b[39;49m\u001b[33;43m\"\u001b[39;49m\u001b[43m)\u001b[49m\n\u001b[32m     14\u001b[39m \u001b[38;5;28;01mif\u001b[39;00m (\u001b[38;5;28mlen\u001b[39m(pq) >= K):\n\u001b[32m     15\u001b[39m     smallest = pq[\u001b[32m0\u001b[39m]\n",
      "\u001b[36mCell\u001b[39m\u001b[36m \u001b[39m\u001b[32mIn[15]\u001b[39m\u001b[32m, line 13\u001b[39m, in \u001b[36mcalc_sim\u001b[39m\u001b[34m(i, j, metric)\u001b[39m\n\u001b[32m     11\u001b[39m \u001b[38;5;28;01mif\u001b[39;00m metric == \u001b[33m\"\u001b[39m\u001b[33mJaccard\u001b[39m\u001b[33m\"\u001b[39m:\n\u001b[32m     12\u001b[39m     intersection_size = \u001b[38;5;28mlen\u001b[39m(\u001b[38;5;28mset\u001b[39m(users_rated_i).intersection(users_rated_j))\n\u001b[32m---> \u001b[39m\u001b[32m13\u001b[39m     union_size = \u001b[38;5;28mlen\u001b[39m(\u001b[38;5;28mset\u001b[39m(users_rated_i).union(users_rated_j))\n\u001b[32m     14\u001b[39m     \u001b[38;5;28;01mreturn\u001b[39;00m intersection_size / union_size\n\u001b[32m     15\u001b[39m \u001b[38;5;28;01melif\u001b[39;00m metric == \u001b[33m\"\u001b[39m\u001b[33mCosine\u001b[39m\u001b[33m\"\u001b[39m:\n",
      "\u001b[36mFile \u001b[39m\u001b[32m~/anaconda3/envs/sklearn-env/lib/python3.11/site-packages/pandas/core/arrays/base.py:497\u001b[39m, in \u001b[36mExtensionArray.__iter__\u001b[39m\u001b[34m(self)\u001b[39m\n\u001b[32m    493\u001b[39m \u001b[38;5;66;03m# This needs to be implemented so that pandas recognizes extension\u001b[39;00m\n\u001b[32m    494\u001b[39m \u001b[38;5;66;03m# arrays as list-like. The default implementation makes successive\u001b[39;00m\n\u001b[32m    495\u001b[39m \u001b[38;5;66;03m# calls to ``__getitem__``, which may be slower than necessary.\u001b[39;00m\n\u001b[32m    496\u001b[39m \u001b[38;5;28;01mfor\u001b[39;00m i \u001b[38;5;129;01min\u001b[39;00m \u001b[38;5;28mrange\u001b[39m(\u001b[38;5;28mlen\u001b[39m(\u001b[38;5;28mself\u001b[39m)):\n\u001b[32m--> \u001b[39m\u001b[32m497\u001b[39m     \u001b[38;5;28;01myield\u001b[39;00m \u001b[38;5;28;43mself\u001b[39;49m\u001b[43m[\u001b[49m\u001b[43mi\u001b[49m\u001b[43m]\u001b[49m\n",
      "\u001b[36mFile \u001b[39m\u001b[32m~/anaconda3/envs/sklearn-env/lib/python3.11/site-packages/pandas/core/arrays/_mixins.py:286\u001b[39m, in \u001b[36mNDArrayBackedExtensionArray.__getitem__\u001b[39m\u001b[34m(self, key)\u001b[39m\n\u001b[32m    284\u001b[39m     result = \u001b[38;5;28mself\u001b[39m._ndarray[key]\n\u001b[32m    285\u001b[39m     \u001b[38;5;28;01mif\u001b[39;00m \u001b[38;5;28mself\u001b[39m.ndim == \u001b[32m1\u001b[39m:\n\u001b[32m--> \u001b[39m\u001b[32m286\u001b[39m         \u001b[38;5;28;01mreturn\u001b[39;00m \u001b[38;5;28;43mself\u001b[39;49m\u001b[43m.\u001b[49m\u001b[43m_box_func\u001b[49m\u001b[43m(\u001b[49m\u001b[43mresult\u001b[49m\u001b[43m)\u001b[49m\n\u001b[32m    287\u001b[39m     \u001b[38;5;28;01mreturn\u001b[39;00m \u001b[38;5;28mself\u001b[39m._from_backing_data(result)\n\u001b[32m    289\u001b[39m \u001b[38;5;66;03m# error: Incompatible types in assignment (expression has type \"ExtensionArray\",\u001b[39;00m\n\u001b[32m    290\u001b[39m \u001b[38;5;66;03m# variable has type \"Union[int, slice, ndarray]\")\u001b[39;00m\n",
      "\u001b[36mFile \u001b[39m\u001b[32m~/anaconda3/envs/sklearn-env/lib/python3.11/site-packages/pandas/core/arrays/_mixins.py:105\u001b[39m, in \u001b[36mNDArrayBackedExtensionArray._box_func\u001b[39m\u001b[34m(self, x)\u001b[39m\n\u001b[32m     99\u001b[39m \u001b[38;5;66;03m# scalar used to denote NA value inside our self._ndarray, e.g. -1\u001b[39;00m\n\u001b[32m    100\u001b[39m \u001b[38;5;66;03m#  for Categorical, iNaT for Period. Outside of object dtype,\u001b[39;00m\n\u001b[32m    101\u001b[39m \u001b[38;5;66;03m#  self.isna() should be exactly locations in self._ndarray with\u001b[39;00m\n\u001b[32m    102\u001b[39m \u001b[38;5;66;03m#  _internal_fill_value.\u001b[39;00m\n\u001b[32m    103\u001b[39m _internal_fill_value: Any\n\u001b[32m--> \u001b[39m\u001b[32m105\u001b[39m \u001b[38;5;28;01mdef\u001b[39;00m\u001b[38;5;250m \u001b[39m\u001b[34m_box_func\u001b[39m(\u001b[38;5;28mself\u001b[39m, x):\n\u001b[32m    106\u001b[39m \u001b[38;5;250m    \u001b[39m\u001b[33;03m\"\"\"\u001b[39;00m\n\u001b[32m    107\u001b[39m \u001b[33;03m    Wrap numpy type in our dtype.type if necessary.\u001b[39;00m\n\u001b[32m    108\u001b[39m \u001b[33;03m    \"\"\"\u001b[39;00m\n\u001b[32m    109\u001b[39m     \u001b[38;5;28;01mreturn\u001b[39;00m x\n",
      "\u001b[31mKeyboardInterrupt\u001b[39m: "
     ]
    }
   ],
   "source": [
    "knn_map = build_knn_map(movies)"
   ]
  },
  {
   "cell_type": "markdown",
   "metadata": {},
   "source": [
    "### Amazon Algorithm\n",
    "\n",
    "The following is the algorithm used at Amazon. Note that this does not help much for the movielens dataset, however, for very sparse datasets such as the dataset at Amazon, it really helps by skipping many item pairs for which there is no user which rated/bought both items.\n",
    "\n",
    "Linden, Greg, Brent Smith, and Jeremy York. \"Amazon. com recommendations: Item-to-item collaborative filtering.\" IEEE Internet computing 7.1 (2003): 76-80.\n"
   ]
  },
  {
   "cell_type": "code",
   "execution_count": 34,
   "metadata": {},
   "outputs": [],
   "source": [
    "def build_knn_map_amazon(movies, K=30):\n",
    "    knn_map = {}\n",
    "    movie_ids = ratings['movieId'].unique()\n",
    "    print(len(movie_ids))\n",
    "    for i in tqdm(movie_ids):\n",
    "        pq = []\n",
    "        knn_map[i] = pq\n",
    "        # find users who rated i\n",
    "        users = ratings.query(\"movieId == @i\").userId.unique()\n",
    "        # find items rated by users_i\n",
    "        movies = ratings.query(\"userId in @users\").movieId.unique()\n",
    "        # For speed up (this does not exist in the Amazon algorithm)\n",
    "        movies = np.random.choice(movies, 500)\n",
    "        for j in movies:\n",
    "            if (i == j):\n",
    "                continue\n",
    "            sim = calc_sim(i,j,\"Jaccard\")\n",
    "            if (len(pq) >= K):\n",
    "                smallest = pq[0]\n",
    "                if (sim > smallest[0]):\n",
    "                    heapq.heappop(pq)\n",
    "                    heapq.heappush(pq, (sim, j))\n",
    "            else:\n",
    "                heapq.heappush(pq, (sim, j))\n",
    "    return knn_map, movies"
   ]
  },
  {
   "cell_type": "code",
   "execution_count": 35,
   "metadata": {},
   "outputs": [
    {
     "name": "stdout",
     "output_type": "stream",
     "text": [
      "9724\n"
     ]
    },
    {
     "data": {
      "application/vnd.jupyter.widget-view+json": {
       "model_id": "3509539910d54172983cb49388b19136",
       "version_major": 2,
       "version_minor": 0
      },
      "text/plain": [
       "  0%|          | 0/9724 [00:00<?, ?it/s]"
      ]
     },
     "metadata": {},
     "output_type": "display_data"
    }
   ],
   "source": [
    "knn_map, movies = build_knn_map_amazon(movies)"
   ]
  },
  {
   "cell_type": "code",
   "execution_count": 48,
   "id": "a2dc618d",
   "metadata": {},
   "outputs": [],
   "source": [
    "def add_sims_and_sort(l):\n",
    "    li = []\n",
    "    it = itertools.groupby(l, operator.itemgetter(1))\n",
    "    for key, subiter in it:\n",
    "        li.append((key, sum(item[0] for item in subiter)))\n",
    "    li = sorted(li, key=itemgetter(1), reverse=True)\n",
    "    return li\n",
    "    "
   ]
  },
  {
   "cell_type": "code",
   "execution_count": 49,
   "metadata": {},
   "outputs": [],
   "source": [
    "def top_N_knn_map(ratings, N, u):\n",
    "    C = []\n",
    "    # find the movies rated by u\n",
    "    movies_rated = ratings.query(\"userId == @u\").movieId\n",
    "    for m in movies_rated:\n",
    "        C = C + knn_map[m]\n",
    "    return add_sims_and_sort(C)[:N]    "
   ]
  },
  {
   "cell_type": "code",
   "execution_count": 50,
   "id": "04cffbcc",
   "metadata": {},
   "outputs": [
    {
     "data": {
      "text/plain": [
       "[(6785, 0.75),\n",
       " (6183, 0.75),\n",
       " (1650, 0.6666666666666666),\n",
       " (2201, 0.6666666666666666),\n",
       " (7092, 0.6666666666666666),\n",
       " (4796, 0.6666666666666666),\n",
       " (6970, 0.6666666666666666),\n",
       " (4896, 0.6129032258064516),\n",
       " (1380, 0.5625),\n",
       " (780, 0.548936170212766)]"
      ]
     },
     "execution_count": 50,
     "metadata": {},
     "output_type": "execute_result"
    }
   ],
   "source": [
    "topn = top_N_knn_map(ratings, 10, 100)\n",
    "topn"
   ]
  },
  {
   "cell_type": "code",
   "execution_count": 51,
   "metadata": {},
   "outputs": [
    {
     "data": {
      "text/html": [
       "<div>\n",
       "<style scoped>\n",
       "    .dataframe tbody tr th:only-of-type {\n",
       "        vertical-align: middle;\n",
       "    }\n",
       "\n",
       "    .dataframe tbody tr th {\n",
       "        vertical-align: top;\n",
       "    }\n",
       "\n",
       "    .dataframe thead th {\n",
       "        text-align: right;\n",
       "    }\n",
       "</style>\n",
       "<table border=\"1\" class=\"dataframe\">\n",
       "  <thead>\n",
       "    <tr style=\"text-align: right;\">\n",
       "      <th></th>\n",
       "      <th>movieId</th>\n",
       "      <th>title</th>\n",
       "      <th>genres</th>\n",
       "    </tr>\n",
       "  </thead>\n",
       "  <tbody>\n",
       "    <tr>\n",
       "      <th>615</th>\n",
       "      <td>780</td>\n",
       "      <td>Independence Day (a.k.a. ID4) (1996)</td>\n",
       "      <td>Action|Adventure|Sci-Fi|Thriller</td>\n",
       "    </tr>\n",
       "    <tr>\n",
       "      <th>1063</th>\n",
       "      <td>1380</td>\n",
       "      <td>Grease (1978)</td>\n",
       "      <td>Comedy|Musical|Romance</td>\n",
       "    </tr>\n",
       "    <tr>\n",
       "      <th>1241</th>\n",
       "      <td>1650</td>\n",
       "      <td>Washington Square (1997)</td>\n",
       "      <td>Drama</td>\n",
       "    </tr>\n",
       "    <tr>\n",
       "      <th>1648</th>\n",
       "      <td>2201</td>\n",
       "      <td>Paradine Case, The (1947)</td>\n",
       "      <td>Drama</td>\n",
       "    </tr>\n",
       "    <tr>\n",
       "      <th>3509</th>\n",
       "      <td>4796</td>\n",
       "      <td>Grass Is Greener, The (1960)</td>\n",
       "      <td>Comedy|Romance</td>\n",
       "    </tr>\n",
       "    <tr>\n",
       "      <th>3574</th>\n",
       "      <td>4896</td>\n",
       "      <td>Harry Potter and the Sorcerer's Stone (a.k.a. ...</td>\n",
       "      <td>Adventure|Children|Fantasy</td>\n",
       "    </tr>\n",
       "    <tr>\n",
       "      <th>4240</th>\n",
       "      <td>6183</td>\n",
       "      <td>Pillow Talk (1959)</td>\n",
       "      <td>Comedy|Musical|Romance</td>\n",
       "    </tr>\n",
       "    <tr>\n",
       "      <th>4566</th>\n",
       "      <td>6785</td>\n",
       "      <td>Seven Brides for Seven Brothers (1954)</td>\n",
       "      <td>Comedy|Musical|Romance|Western</td>\n",
       "    </tr>\n",
       "    <tr>\n",
       "      <th>4666</th>\n",
       "      <td>6970</td>\n",
       "      <td>Desk Set (1957)</td>\n",
       "      <td>Comedy|Romance</td>\n",
       "    </tr>\n",
       "    <tr>\n",
       "      <th>4766</th>\n",
       "      <td>7092</td>\n",
       "      <td>Anna Karenina (1935)</td>\n",
       "      <td>Drama|Romance</td>\n",
       "    </tr>\n",
       "  </tbody>\n",
       "</table>\n",
       "</div>"
      ],
      "text/plain": [
       "      movieId                                              title  \\\n",
       "615       780               Independence Day (a.k.a. ID4) (1996)   \n",
       "1063     1380                                      Grease (1978)   \n",
       "1241     1650                           Washington Square (1997)   \n",
       "1648     2201                          Paradine Case, The (1947)   \n",
       "3509     4796                       Grass Is Greener, The (1960)   \n",
       "3574     4896  Harry Potter and the Sorcerer's Stone (a.k.a. ...   \n",
       "4240     6183                                 Pillow Talk (1959)   \n",
       "4566     6785             Seven Brides for Seven Brothers (1954)   \n",
       "4666     6970                                    Desk Set (1957)   \n",
       "4766     7092                               Anna Karenina (1935)   \n",
       "\n",
       "                                genres  \n",
       "615   Action|Adventure|Sci-Fi|Thriller  \n",
       "1063            Comedy|Musical|Romance  \n",
       "1241                             Drama  \n",
       "1648                             Drama  \n",
       "3509                    Comedy|Romance  \n",
       "3574        Adventure|Children|Fantasy  \n",
       "4240            Comedy|Musical|Romance  \n",
       "4566    Comedy|Musical|Romance|Western  \n",
       "4666                    Comedy|Romance  \n",
       "4766                     Drama|Romance  "
      ]
     },
     "execution_count": 51,
     "metadata": {},
     "output_type": "execute_result"
    }
   ],
   "source": [
    "topn = [i[0] for i in topn]\n",
    "movies[movies.movieId.isin(topn)]"
   ]
  },
  {
   "cell_type": "markdown",
   "id": "8666ebda",
   "metadata": {},
   "source": [
    "## Evaluation of top-N recommendation \n",
    "\n",
    "Evaluation of rating prediction is rather easy: find the mean absolute error between rating predictions and true ratings. How can we evaluate the accuracy of a top-N recommendation? There are several techniques which we will look at in more detail later. Below is one common way to evaluate top-N recommendation:\n",
    "\n",
    "- Randomly sub-sample some portion of positive preferences in order to create a test set $T$. Positive preferences might be 5-star ratings, movies watched more than a certain threshold, or items purchased.\n",
    "- Put the rest of the preferences into the training set and build model.\n",
    "\n",
    "- For each preference $(u,i)$ in the test set:\n",
    "    - Make a top-N recommendation tu user $u$.\n",
    "    - If the test item i occurs among the top-N items, then we have a hit, otherwise we have a miss. \n",
    "\n",
    "Hit ratio is then defined as: \n",
    "\n",
    "$$\n",
    "Hit Ratio: \\frac{\\#hits}{|T|}\n",
    "$$\n",
    "\n"
   ]
  },
  {
   "cell_type": "code",
   "execution_count": 53,
   "id": "c646b5cd",
   "metadata": {},
   "outputs": [
    {
     "name": "stdout",
     "output_type": "stream",
     "text": [
      "Test size: 217\n",
      "Hit Ratio 0.15668202764976957\n"
     ]
    }
   ],
   "source": [
    "N = 100\n",
    "X_train, X_test = train_test_split(ratings, test_size=1000)\n",
    "X_test = X_test.query(\"rating > 4\")\n",
    "train_size = X_train.shape[0]\n",
    "test_size = X_test.shape[0]\n",
    "print(\"Test size:\", test_size)\n",
    "hit_count = 0\n",
    "for k in range(test_size): \n",
    "    u = X_test.iloc[k,0]\n",
    "    i = X_test.iloc[k,1]\n",
    "    r = X_test.iloc[k,2]\n",
    "    top_N = top_N_knn_map(X_train, N, u)\n",
    "    hit_list = [item for item in top_N if item[0] == i]\n",
    "    if len(hit_list) > 0:\n",
    "        hit_count +=1\n",
    "print(\"Hit Ratio\", hit_count/test_size)"
   ]
  },
  {
   "cell_type": "code",
   "execution_count": null,
   "id": "4d70b304",
   "metadata": {},
   "outputs": [],
   "source": []
  }
 ],
 "metadata": {
  "kernelspec": {
   "display_name": "sklearn-env",
   "language": "python",
   "name": "python3"
  },
  "language_info": {
   "codemirror_mode": {
    "name": "ipython",
    "version": 3
   },
   "file_extension": ".py",
   "mimetype": "text/x-python",
   "name": "python",
   "nbconvert_exporter": "python",
   "pygments_lexer": "ipython3",
   "version": "3.11.9"
  }
 },
 "nbformat": 4,
 "nbformat_minor": 5
}
