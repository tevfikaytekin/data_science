{
 "cells": [
  {
   "cell_type": "markdown",
   "metadata": {
    "id": "zC5EzypfMoWA"
   },
   "source": [
    "# Matrix Factorization with PyTorch"
   ]
  },
  {
   "cell_type": "code",
   "execution_count": null,
   "metadata": {
    "id": "gvUWSlJjV6mq"
   },
   "outputs": [],
   "source": [
    "#!pip install torchviz"
   ]
  },
  {
   "cell_type": "code",
   "execution_count": 1,
   "metadata": {
    "executionInfo": {
     "elapsed": 6839,
     "status": "ok",
     "timestamp": 1733900236124,
     "user": {
      "displayName": "Tevfik Aytekin",
      "userId": "03705756795675396046"
     },
     "user_tz": -180
    },
    "id": "fLLNP4iGVlIk"
   },
   "outputs": [],
   "source": [
    "import torch\n",
    "import torch.nn as nn\n",
    "import torch.optim as optim\n",
    "#from torchviz import make_dot\n",
    "from torch.utils.data import Dataset, DataLoader\n",
    "from sklearn.model_selection import train_test_split\n",
    "import pandas as pd\n",
    "import numpy as np\n",
    "from tqdm import tqdm\n",
    "import matplotlib.pyplot as plt\n",
    "\n",
    "from sklearn.metrics import mean_squared_error, mean_absolute_error\n",
    "\n"
   ]
  },
  {
   "cell_type": "code",
   "execution_count": 2,
   "metadata": {
    "executionInfo": {
     "elapsed": 515,
     "status": "ok",
     "timestamp": 1733900240182,
     "user": {
      "displayName": "Tevfik Aytekin",
      "userId": "03705756795675396046"
     },
     "user_tz": -180
    },
    "id": "yv-wY-0YsDJN"
   },
   "outputs": [],
   "source": [
    "#from google.colab import drive\n",
    "#drive.mount('/content/drive')"
   ]
  },
  {
   "cell_type": "markdown",
   "metadata": {
    "id": "Y3wll4pUfOUW"
   },
   "source": [
    "### Synthetic Dataset"
   ]
  },
  {
   "cell_type": "code",
   "execution_count": null,
   "metadata": {
    "id": "moVASpE8tF2x"
   },
   "outputs": [],
   "source": [
    "import numpy as np\n",
    "import pandas as pd\n",
    "\n",
    "def generate_synthetic_dataset(num_users, num_items, latent_factors, noise_level):\n",
    "\n",
    "\n",
    "    # Generate random user and item factor matrices\n",
    "    #user_factors = np.random.rand(num_users, latent_factors)\n",
    "    #item_factors = np.random.rand(num_items, latent_factors)\n",
    "\n",
    "    # Latent factors\n",
    "    user_factors = np.random.normal(scale=1, size=(num_users, latent_factors))\n",
    "    item_factors = np.random.normal(scale=1, size=(num_items, latent_factors))\n",
    "\n",
    "    rating_matrix = np.dot(user_factors, item_factors.T)\n",
    "\n",
    "    # Introduce noise\n",
    "    rating_matrix += np.random.normal(scale=noise_level, size=rating_matrix.shape)\n",
    "\n",
    "    # Clip ratings to a reasonable range (e.g., 1 to 5)\n",
    "    #rating_matrix = np.clip(rating_matrix, 1, 5)\n",
    "\n",
    "    # Flatten into user-item-rating triplets\n",
    "    users, items = np.where(~np.isnan(rating_matrix))\n",
    "    ratings = rating_matrix[users, items]\n",
    "    rating_matrix = np.dot(user_factors, item_factors.T)\n",
    "\n",
    "    df = pd.DataFrame({'userId': users, 'movieId': items, 'rating': ratings})\n",
    "\n",
    "    return df\n",
    "\n"
   ]
  },
  {
   "cell_type": "code",
   "execution_count": null,
   "metadata": {
    "colab": {
     "base_uri": "https://localhost:8080/",
     "height": 206
    },
    "executionInfo": {
     "elapsed": 433,
     "status": "ok",
     "timestamp": 1733852354782,
     "user": {
      "displayName": "Tevfik Aytekin",
      "userId": "03705756795675396046"
     },
     "user_tz": -180
    },
    "id": "wptTPGbmtu6a",
    "outputId": "c2534d02-70e7-4fd7-89cb-7101d0c36b79"
   },
   "outputs": [
    {
     "data": {
      "application/vnd.google.colaboratory.intrinsic+json": {
       "type": "dataframe",
       "variable_name": "data"
      },
      "text/html": [
       "\n",
       "  <div id=\"df-2ce5f98c-4f8e-40e5-85dd-9a06306b9e2e\" class=\"colab-df-container\">\n",
       "    <div>\n",
       "<style scoped>\n",
       "    .dataframe tbody tr th:only-of-type {\n",
       "        vertical-align: middle;\n",
       "    }\n",
       "\n",
       "    .dataframe tbody tr th {\n",
       "        vertical-align: top;\n",
       "    }\n",
       "\n",
       "    .dataframe thead th {\n",
       "        text-align: right;\n",
       "    }\n",
       "</style>\n",
       "<table border=\"1\" class=\"dataframe\">\n",
       "  <thead>\n",
       "    <tr style=\"text-align: right;\">\n",
       "      <th></th>\n",
       "      <th>userId</th>\n",
       "      <th>movieId</th>\n",
       "      <th>rating</th>\n",
       "    </tr>\n",
       "  </thead>\n",
       "  <tbody>\n",
       "    <tr>\n",
       "      <th>0</th>\n",
       "      <td>0</td>\n",
       "      <td>0</td>\n",
       "      <td>-1.907610</td>\n",
       "    </tr>\n",
       "    <tr>\n",
       "      <th>1</th>\n",
       "      <td>0</td>\n",
       "      <td>1</td>\n",
       "      <td>-1.329440</td>\n",
       "    </tr>\n",
       "    <tr>\n",
       "      <th>2</th>\n",
       "      <td>0</td>\n",
       "      <td>2</td>\n",
       "      <td>1.979575</td>\n",
       "    </tr>\n",
       "    <tr>\n",
       "      <th>3</th>\n",
       "      <td>0</td>\n",
       "      <td>3</td>\n",
       "      <td>-0.421649</td>\n",
       "    </tr>\n",
       "    <tr>\n",
       "      <th>4</th>\n",
       "      <td>0</td>\n",
       "      <td>4</td>\n",
       "      <td>3.679908</td>\n",
       "    </tr>\n",
       "  </tbody>\n",
       "</table>\n",
       "</div>\n",
       "    <div class=\"colab-df-buttons\">\n",
       "\n",
       "  <div class=\"colab-df-container\">\n",
       "    <button class=\"colab-df-convert\" onclick=\"convertToInteractive('df-2ce5f98c-4f8e-40e5-85dd-9a06306b9e2e')\"\n",
       "            title=\"Convert this dataframe to an interactive table.\"\n",
       "            style=\"display:none;\">\n",
       "\n",
       "  <svg xmlns=\"http://www.w3.org/2000/svg\" height=\"24px\" viewBox=\"0 -960 960 960\">\n",
       "    <path d=\"M120-120v-720h720v720H120Zm60-500h600v-160H180v160Zm220 220h160v-160H400v160Zm0 220h160v-160H400v160ZM180-400h160v-160H180v160Zm440 0h160v-160H620v160ZM180-180h160v-160H180v160Zm440 0h160v-160H620v160Z\"/>\n",
       "  </svg>\n",
       "    </button>\n",
       "\n",
       "  <style>\n",
       "    .colab-df-container {\n",
       "      display:flex;\n",
       "      gap: 12px;\n",
       "    }\n",
       "\n",
       "    .colab-df-convert {\n",
       "      background-color: #E8F0FE;\n",
       "      border: none;\n",
       "      border-radius: 50%;\n",
       "      cursor: pointer;\n",
       "      display: none;\n",
       "      fill: #1967D2;\n",
       "      height: 32px;\n",
       "      padding: 0 0 0 0;\n",
       "      width: 32px;\n",
       "    }\n",
       "\n",
       "    .colab-df-convert:hover {\n",
       "      background-color: #E2EBFA;\n",
       "      box-shadow: 0px 1px 2px rgba(60, 64, 67, 0.3), 0px 1px 3px 1px rgba(60, 64, 67, 0.15);\n",
       "      fill: #174EA6;\n",
       "    }\n",
       "\n",
       "    .colab-df-buttons div {\n",
       "      margin-bottom: 4px;\n",
       "    }\n",
       "\n",
       "    [theme=dark] .colab-df-convert {\n",
       "      background-color: #3B4455;\n",
       "      fill: #D2E3FC;\n",
       "    }\n",
       "\n",
       "    [theme=dark] .colab-df-convert:hover {\n",
       "      background-color: #434B5C;\n",
       "      box-shadow: 0px 1px 3px 1px rgba(0, 0, 0, 0.15);\n",
       "      filter: drop-shadow(0px 1px 2px rgba(0, 0, 0, 0.3));\n",
       "      fill: #FFFFFF;\n",
       "    }\n",
       "  </style>\n",
       "\n",
       "    <script>\n",
       "      const buttonEl =\n",
       "        document.querySelector('#df-2ce5f98c-4f8e-40e5-85dd-9a06306b9e2e button.colab-df-convert');\n",
       "      buttonEl.style.display =\n",
       "        google.colab.kernel.accessAllowed ? 'block' : 'none';\n",
       "\n",
       "      async function convertToInteractive(key) {\n",
       "        const element = document.querySelector('#df-2ce5f98c-4f8e-40e5-85dd-9a06306b9e2e');\n",
       "        const dataTable =\n",
       "          await google.colab.kernel.invokeFunction('convertToInteractive',\n",
       "                                                    [key], {});\n",
       "        if (!dataTable) return;\n",
       "\n",
       "        const docLinkHtml = 'Like what you see? Visit the ' +\n",
       "          '<a target=\"_blank\" href=https://colab.research.google.com/notebooks/data_table.ipynb>data table notebook</a>'\n",
       "          + ' to learn more about interactive tables.';\n",
       "        element.innerHTML = '';\n",
       "        dataTable['output_type'] = 'display_data';\n",
       "        await google.colab.output.renderOutput(dataTable, element);\n",
       "        const docLink = document.createElement('div');\n",
       "        docLink.innerHTML = docLinkHtml;\n",
       "        element.appendChild(docLink);\n",
       "      }\n",
       "    </script>\n",
       "  </div>\n",
       "\n",
       "\n",
       "<div id=\"df-3325f50b-8deb-4594-b1bc-fe27d0582aa4\">\n",
       "  <button class=\"colab-df-quickchart\" onclick=\"quickchart('df-3325f50b-8deb-4594-b1bc-fe27d0582aa4')\"\n",
       "            title=\"Suggest charts\"\n",
       "            style=\"display:none;\">\n",
       "\n",
       "<svg xmlns=\"http://www.w3.org/2000/svg\" height=\"24px\"viewBox=\"0 0 24 24\"\n",
       "     width=\"24px\">\n",
       "    <g>\n",
       "        <path d=\"M19 3H5c-1.1 0-2 .9-2 2v14c0 1.1.9 2 2 2h14c1.1 0 2-.9 2-2V5c0-1.1-.9-2-2-2zM9 17H7v-7h2v7zm4 0h-2V7h2v10zm4 0h-2v-4h2v4z\"/>\n",
       "    </g>\n",
       "</svg>\n",
       "  </button>\n",
       "\n",
       "<style>\n",
       "  .colab-df-quickchart {\n",
       "      --bg-color: #E8F0FE;\n",
       "      --fill-color: #1967D2;\n",
       "      --hover-bg-color: #E2EBFA;\n",
       "      --hover-fill-color: #174EA6;\n",
       "      --disabled-fill-color: #AAA;\n",
       "      --disabled-bg-color: #DDD;\n",
       "  }\n",
       "\n",
       "  [theme=dark] .colab-df-quickchart {\n",
       "      --bg-color: #3B4455;\n",
       "      --fill-color: #D2E3FC;\n",
       "      --hover-bg-color: #434B5C;\n",
       "      --hover-fill-color: #FFFFFF;\n",
       "      --disabled-bg-color: #3B4455;\n",
       "      --disabled-fill-color: #666;\n",
       "  }\n",
       "\n",
       "  .colab-df-quickchart {\n",
       "    background-color: var(--bg-color);\n",
       "    border: none;\n",
       "    border-radius: 50%;\n",
       "    cursor: pointer;\n",
       "    display: none;\n",
       "    fill: var(--fill-color);\n",
       "    height: 32px;\n",
       "    padding: 0;\n",
       "    width: 32px;\n",
       "  }\n",
       "\n",
       "  .colab-df-quickchart:hover {\n",
       "    background-color: var(--hover-bg-color);\n",
       "    box-shadow: 0 1px 2px rgba(60, 64, 67, 0.3), 0 1px 3px 1px rgba(60, 64, 67, 0.15);\n",
       "    fill: var(--button-hover-fill-color);\n",
       "  }\n",
       "\n",
       "  .colab-df-quickchart-complete:disabled,\n",
       "  .colab-df-quickchart-complete:disabled:hover {\n",
       "    background-color: var(--disabled-bg-color);\n",
       "    fill: var(--disabled-fill-color);\n",
       "    box-shadow: none;\n",
       "  }\n",
       "\n",
       "  .colab-df-spinner {\n",
       "    border: 2px solid var(--fill-color);\n",
       "    border-color: transparent;\n",
       "    border-bottom-color: var(--fill-color);\n",
       "    animation:\n",
       "      spin 1s steps(1) infinite;\n",
       "  }\n",
       "\n",
       "  @keyframes spin {\n",
       "    0% {\n",
       "      border-color: transparent;\n",
       "      border-bottom-color: var(--fill-color);\n",
       "      border-left-color: var(--fill-color);\n",
       "    }\n",
       "    20% {\n",
       "      border-color: transparent;\n",
       "      border-left-color: var(--fill-color);\n",
       "      border-top-color: var(--fill-color);\n",
       "    }\n",
       "    30% {\n",
       "      border-color: transparent;\n",
       "      border-left-color: var(--fill-color);\n",
       "      border-top-color: var(--fill-color);\n",
       "      border-right-color: var(--fill-color);\n",
       "    }\n",
       "    40% {\n",
       "      border-color: transparent;\n",
       "      border-right-color: var(--fill-color);\n",
       "      border-top-color: var(--fill-color);\n",
       "    }\n",
       "    60% {\n",
       "      border-color: transparent;\n",
       "      border-right-color: var(--fill-color);\n",
       "    }\n",
       "    80% {\n",
       "      border-color: transparent;\n",
       "      border-right-color: var(--fill-color);\n",
       "      border-bottom-color: var(--fill-color);\n",
       "    }\n",
       "    90% {\n",
       "      border-color: transparent;\n",
       "      border-bottom-color: var(--fill-color);\n",
       "    }\n",
       "  }\n",
       "</style>\n",
       "\n",
       "  <script>\n",
       "    async function quickchart(key) {\n",
       "      const quickchartButtonEl =\n",
       "        document.querySelector('#' + key + ' button');\n",
       "      quickchartButtonEl.disabled = true;  // To prevent multiple clicks.\n",
       "      quickchartButtonEl.classList.add('colab-df-spinner');\n",
       "      try {\n",
       "        const charts = await google.colab.kernel.invokeFunction(\n",
       "            'suggestCharts', [key], {});\n",
       "      } catch (error) {\n",
       "        console.error('Error during call to suggestCharts:', error);\n",
       "      }\n",
       "      quickchartButtonEl.classList.remove('colab-df-spinner');\n",
       "      quickchartButtonEl.classList.add('colab-df-quickchart-complete');\n",
       "    }\n",
       "    (() => {\n",
       "      let quickchartButtonEl =\n",
       "        document.querySelector('#df-3325f50b-8deb-4594-b1bc-fe27d0582aa4 button');\n",
       "      quickchartButtonEl.style.display =\n",
       "        google.colab.kernel.accessAllowed ? 'block' : 'none';\n",
       "    })();\n",
       "  </script>\n",
       "</div>\n",
       "\n",
       "    </div>\n",
       "  </div>\n"
      ],
      "text/plain": [
       "   userId  movieId    rating\n",
       "0       0        0 -1.907610\n",
       "1       0        1 -1.329440\n",
       "2       0        2  1.979575\n",
       "3       0        3 -0.421649\n",
       "4       0        4  3.679908"
      ]
     },
     "execution_count": 21,
     "metadata": {},
     "output_type": "execute_result"
    }
   ],
   "source": [
    "\n",
    "# Example usage:\n",
    "num_users = 1000\n",
    "num_movies = 500\n",
    "latent_factors = 10\n",
    "noise_level = 0.5\n",
    "\n",
    "\n",
    "data = generate_synthetic_dataset(num_users, num_movies, latent_factors, noise_level)\n",
    "data.head()"
   ]
  },
  {
   "cell_type": "code",
   "execution_count": null,
   "metadata": {
    "colab": {
     "base_uri": "https://localhost:8080/",
     "height": 291
    },
    "executionInfo": {
     "elapsed": 446,
     "status": "ok",
     "timestamp": 1733852379700,
     "user": {
      "displayName": "Tevfik Aytekin",
      "userId": "03705756795675396046"
     },
     "user_tz": -180
    },
    "id": "qBij1YtjuD2X",
    "outputId": "bced5955-2bf6-48b0-b4eb-87fbfdd5a262"
   },
   "outputs": [
    {
     "data": {
      "image/png": "[encoded data removed]",
      "text/plain": [
       "<Figure size 600x300 with 1 Axes>"
      ]
     },
     "metadata": {},
     "output_type": "display_data"
    }
   ],
   "source": [
    "plt.figure(figsize=(6, 3))\n",
    "plt.hist(data.rating);"
   ]
  },
  {
   "cell_type": "code",
   "execution_count": 21,
   "metadata": {
    "colab": {
     "base_uri": "https://localhost:8080/",
     "height": 223
    },
    "executionInfo": {
     "elapsed": 466,
     "status": "ok",
     "timestamp": 1733900510405,
     "user": {
      "displayName": "Tevfik Aytekin",
      "userId": "03705756795675396046"
     },
     "user_tz": -180
    },
    "id": "FW2qr4aCVlIl",
    "outputId": "6f475fc4-ffc8-4497-f3ff-fd1994f1d93b"
   },
   "outputs": [
    {
     "name": "stdout",
     "output_type": "stream",
     "text": [
      "(1000209, 4)\n"
     ]
    },
    {
     "data": {
      "application/vnd.google.colaboratory.intrinsic+json": {
       "type": "dataframe",
       "variable_name": "data"
      },
      "text/html": [
       "\n",
       "  <div id=\"df-ac335e1c-e31c-4fc4-9547-647906a6654b\" class=\"colab-df-container\">\n",
       "    <div>\n",
       "<style scoped>\n",
       "    .dataframe tbody tr th:only-of-type {\n",
       "        vertical-align: middle;\n",
       "    }\n",
       "\n",
       "    .dataframe tbody tr th {\n",
       "        vertical-align: top;\n",
       "    }\n",
       "\n",
       "    .dataframe thead th {\n",
       "        text-align: right;\n",
       "    }\n",
       "</style>\n",
       "<table border=\"1\" class=\"dataframe\">\n",
       "  <thead>\n",
       "    <tr style=\"text-align: right;\">\n",
       "      <th></th>\n",
       "      <th>userId</th>\n",
       "      <th>movieId</th>\n",
       "      <th>rating</th>\n",
       "      <th>timestamp</th>\n",
       "    </tr>\n",
       "  </thead>\n",
       "  <tbody>\n",
       "    <tr>\n",
       "      <th>0</th>\n",
       "      <td>1</td>\n",
       "      <td>1193</td>\n",
       "      <td>5</td>\n",
       "      <td>978300760</td>\n",
       "    </tr>\n",
       "    <tr>\n",
       "      <th>1</th>\n",
       "      <td>1</td>\n",
       "      <td>661</td>\n",
       "      <td>3</td>\n",
       "      <td>978302109</td>\n",
       "    </tr>\n",
       "    <tr>\n",
       "      <th>2</th>\n",
       "      <td>1</td>\n",
       "      <td>914</td>\n",
       "      <td>3</td>\n",
       "      <td>978301968</td>\n",
       "    </tr>\n",
       "    <tr>\n",
       "      <th>3</th>\n",
       "      <td>1</td>\n",
       "      <td>3408</td>\n",
       "      <td>4</td>\n",
       "      <td>978300275</td>\n",
       "    </tr>\n",
       "    <tr>\n",
       "      <th>4</th>\n",
       "      <td>1</td>\n",
       "      <td>2355</td>\n",
       "      <td>5</td>\n",
       "      <td>978824291</td>\n",
       "    </tr>\n",
       "  </tbody>\n",
       "</table>\n",
       "</div>\n",
       "    <div class=\"colab-df-buttons\">\n",
       "\n",
       "  <div class=\"colab-df-container\">\n",
       "    <button class=\"colab-df-convert\" onclick=\"convertToInteractive('df-ac335e1c-e31c-4fc4-9547-647906a6654b')\"\n",
       "            title=\"Convert this dataframe to an interactive table.\"\n",
       "            style=\"display:none;\">\n",
       "\n",
       "  <svg xmlns=\"http://www.w3.org/2000/svg\" height=\"24px\" viewBox=\"0 -960 960 960\">\n",
       "    <path d=\"M120-120v-720h720v720H120Zm60-500h600v-160H180v160Zm220 220h160v-160H400v160Zm0 220h160v-160H400v160ZM180-400h160v-160H180v160Zm440 0h160v-160H620v160ZM180-180h160v-160H180v160Zm440 0h160v-160H620v160Z\"/>\n",
       "  </svg>\n",
       "    </button>\n",
       "\n",
       "  <style>\n",
       "    .colab-df-container {\n",
       "      display:flex;\n",
       "      gap: 12px;\n",
       "    }\n",
       "\n",
       "    .colab-df-convert {\n",
       "      background-color: #E8F0FE;\n",
       "      border: none;\n",
       "      border-radius: 50%;\n",
       "      cursor: pointer;\n",
       "      display: none;\n",
       "      fill: #1967D2;\n",
       "      height: 32px;\n",
       "      padding: 0 0 0 0;\n",
       "      width: 32px;\n",
       "    }\n",
       "\n",
       "    .colab-df-convert:hover {\n",
       "      background-color: #E2EBFA;\n",
       "      box-shadow: 0px 1px 2px rgba(60, 64, 67, 0.3), 0px 1px 3px 1px rgba(60, 64, 67, 0.15);\n",
       "      fill: #174EA6;\n",
       "    }\n",
       "\n",
       "    .colab-df-buttons div {\n",
       "      margin-bottom: 4px;\n",
       "    }\n",
       "\n",
       "    [theme=dark] .colab-df-convert {\n",
       "      background-color: #3B4455;\n",
       "      fill: #D2E3FC;\n",
       "    }\n",
       "\n",
       "    [theme=dark] .colab-df-convert:hover {\n",
       "      background-color: #434B5C;\n",
       "      box-shadow: 0px 1px 3px 1px rgba(0, 0, 0, 0.15);\n",
       "      filter: drop-shadow(0px 1px 2px rgba(0, 0, 0, 0.3));\n",
       "      fill: #FFFFFF;\n",
       "    }\n",
       "  </style>\n",
       "\n",
       "    <script>\n",
       "      const buttonEl =\n",
       "        document.querySelector('#df-ac335e1c-e31c-4fc4-9547-647906a6654b button.colab-df-convert');\n",
       "      buttonEl.style.display =\n",
       "        google.colab.kernel.accessAllowed ? 'block' : 'none';\n",
       "\n",
       "      async function convertToInteractive(key) {\n",
       "        const element = document.querySelector('#df-ac335e1c-e31c-4fc4-9547-647906a6654b');\n",
       "        const dataTable =\n",
       "          await google.colab.kernel.invokeFunction('convertToInteractive',\n",
       "                                                    [key], {});\n",
       "        if (!dataTable) return;\n",
       "\n",
       "        const docLinkHtml = 'Like what you see? Visit the ' +\n",
       "          '<a target=\"_blank\" href=https://colab.research.google.com/notebooks/data_table.ipynb>data table notebook</a>'\n",
       "          + ' to learn more about interactive tables.';\n",
       "        element.innerHTML = '';\n",
       "        dataTable['output_type'] = 'display_data';\n",
       "        await google.colab.output.renderOutput(dataTable, element);\n",
       "        const docLink = document.createElement('div');\n",
       "        docLink.innerHTML = docLinkHtml;\n",
       "        element.appendChild(docLink);\n",
       "      }\n",
       "    </script>\n",
       "  </div>\n",
       "\n",
       "\n",
       "<div id=\"df-ae32d399-7150-4894-b362-1f8972ecf10e\">\n",
       "  <button class=\"colab-df-quickchart\" onclick=\"quickchart('df-ae32d399-7150-4894-b362-1f8972ecf10e')\"\n",
       "            title=\"Suggest charts\"\n",
       "            style=\"display:none;\">\n",
       "\n",
       "<svg xmlns=\"http://www.w3.org/2000/svg\" height=\"24px\"viewBox=\"0 0 24 24\"\n",
       "     width=\"24px\">\n",
       "    <g>\n",
       "        <path d=\"M19 3H5c-1.1 0-2 .9-2 2v14c0 1.1.9 2 2 2h14c1.1 0 2-.9 2-2V5c0-1.1-.9-2-2-2zM9 17H7v-7h2v7zm4 0h-2V7h2v10zm4 0h-2v-4h2v4z\"/>\n",
       "    </g>\n",
       "</svg>\n",
       "  </button>\n",
       "\n",
       "<style>\n",
       "  .colab-df-quickchart {\n",
       "      --bg-color: #E8F0FE;\n",
       "      --fill-color: #1967D2;\n",
       "      --hover-bg-color: #E2EBFA;\n",
       "      --hover-fill-color: #174EA6;\n",
       "      --disabled-fill-color: #AAA;\n",
       "      --disabled-bg-color: #DDD;\n",
       "  }\n",
       "\n",
       "  [theme=dark] .colab-df-quickchart {\n",
       "      --bg-color: #3B4455;\n",
       "      --fill-color: #D2E3FC;\n",
       "      --hover-bg-color: #434B5C;\n",
       "      --hover-fill-color: #FFFFFF;\n",
       "      --disabled-bg-color: #3B4455;\n",
       "      --disabled-fill-color: #666;\n",
       "  }\n",
       "\n",
       "  .colab-df-quickchart {\n",
       "    background-color: var(--bg-color);\n",
       "    border: none;\n",
       "    border-radius: 50%;\n",
       "    cursor: pointer;\n",
       "    display: none;\n",
       "    fill: var(--fill-color);\n",
       "    height: 32px;\n",
       "    padding: 0;\n",
       "    width: 32px;\n",
       "  }\n",
       "\n",
       "  .colab-df-quickchart:hover {\n",
       "    background-color: var(--hover-bg-color);\n",
       "    box-shadow: 0 1px 2px rgba(60, 64, 67, 0.3), 0 1px 3px 1px rgba(60, 64, 67, 0.15);\n",
       "    fill: var(--button-hover-fill-color);\n",
       "  }\n",
       "\n",
       "  .colab-df-quickchart-complete:disabled,\n",
       "  .colab-df-quickchart-complete:disabled:hover {\n",
       "    background-color: var(--disabled-bg-color);\n",
       "    fill: var(--disabled-fill-color);\n",
       "    box-shadow: none;\n",
       "  }\n",
       "\n",
       "  .colab-df-spinner {\n",
       "    border: 2px solid var(--fill-color);\n",
       "    border-color: transparent;\n",
       "    border-bottom-color: var(--fill-color);\n",
       "    animation:\n",
       "      spin 1s steps(1) infinite;\n",
       "  }\n",
       "\n",
       "  @keyframes spin {\n",
       "    0% {\n",
       "      border-color: transparent;\n",
       "      border-bottom-color: var(--fill-color);\n",
       "      border-left-color: var(--fill-color);\n",
       "    }\n",
       "    20% {\n",
       "      border-color: transparent;\n",
       "      border-left-color: var(--fill-color);\n",
       "      border-top-color: var(--fill-color);\n",
       "    }\n",
       "    30% {\n",
       "      border-color: transparent;\n",
       "      border-left-color: var(--fill-color);\n",
       "      border-top-color: var(--fill-color);\n",
       "      border-right-color: var(--fill-color);\n",
       "    }\n",
       "    40% {\n",
       "      border-color: transparent;\n",
       "      border-right-color: var(--fill-color);\n",
       "      border-top-color: var(--fill-color);\n",
       "    }\n",
       "    60% {\n",
       "      border-color: transparent;\n",
       "      border-right-color: var(--fill-color);\n",
       "    }\n",
       "    80% {\n",
       "      border-color: transparent;\n",
       "      border-right-color: var(--fill-color);\n",
       "      border-bottom-color: var(--fill-color);\n",
       "    }\n",
       "    90% {\n",
       "      border-color: transparent;\n",
       "      border-bottom-color: var(--fill-color);\n",
       "    }\n",
       "  }\n",
       "</style>\n",
       "\n",
       "  <script>\n",
       "    async function quickchart(key) {\n",
       "      const quickchartButtonEl =\n",
       "        document.querySelector('#' + key + ' button');\n",
       "      quickchartButtonEl.disabled = true;  // To prevent multiple clicks.\n",
       "      quickchartButtonEl.classList.add('colab-df-spinner');\n",
       "      try {\n",
       "        const charts = await google.colab.kernel.invokeFunction(\n",
       "            'suggestCharts', [key], {});\n",
       "      } catch (error) {\n",
       "        console.error('Error during call to suggestCharts:', error);\n",
       "      }\n",
       "      quickchartButtonEl.classList.remove('colab-df-spinner');\n",
       "      quickchartButtonEl.classList.add('colab-df-quickchart-complete');\n",
       "    }\n",
       "    (() => {\n",
       "      let quickchartButtonEl =\n",
       "        document.querySelector('#df-ae32d399-7150-4894-b362-1f8972ecf10e button');\n",
       "      quickchartButtonEl.style.display =\n",
       "        google.colab.kernel.accessAllowed ? 'block' : 'none';\n",
       "    })();\n",
       "  </script>\n",
       "</div>\n",
       "\n",
       "    </div>\n",
       "  </div>\n"
      ],
      "text/plain": [
       "   userId  movieId  rating  timestamp\n",
       "0       1     1193       5  978300760\n",
       "1       1      661       3  978302109\n",
       "2       1      914       3  978301968\n",
       "3       1     3408       4  978300275\n",
       "4       1     2355       5  978824291"
      ]
     },
     "execution_count": 21,
     "metadata": {},
     "output_type": "execute_result"
    }
   ],
   "source": [
    "# Load MovieLens Small dataset\n",
    "data = pd.read_csv(\"ratings.csv\", sep=\",\")\n",
    "#data = pd.read_csv(\"../../datasets/ml-latest-small/ratings.csv\", sep=\",\")\n",
    "#data = pd.read_csv(\"../../datasets/ml-1m/ratings.csv\", sep=\",\", names=[\"userId\",\"movieId\",\"rating\",\"timestamp\"])\n",
    "\n",
    "#data = pd.read_csv(\"ratings.csv\", sep=\",\")\n",
    "#data = pd.read_csv(\"drive/MyDrive/datasets/ml-32m/ratings.csv\", sep=\",\")\n",
    "print(data.shape)\n",
    "data.head()"
   ]
  },
  {
   "cell_type": "code",
   "execution_count": 22,
   "metadata": {
    "executionInfo": {
     "elapsed": 335,
     "status": "ok",
     "timestamp": 1733900513303,
     "user": {
      "displayName": "Tevfik Aytekin",
      "userId": "03705756795675396046"
     },
     "user_tz": -180
    },
    "id": "iXxKuOTDVlIm"
   },
   "outputs": [],
   "source": [
    "# Map user and movie IDs to unique consecutive indices starting from 0.\n",
    "# This is needed because embedding layer indexes start from 0\n",
    "user_ids = data['userId'].unique()\n",
    "movie_ids = data['movieId'].unique()\n",
    "\n",
    "user_mapping = {user_id: idx for idx, user_id in enumerate(user_ids)}\n",
    "movie_mapping = {movie_id: idx for idx, movie_id in enumerate(movie_ids)}\n",
    "\n",
    "data['userId'] = data['userId'].map(user_mapping)\n",
    "data['movieId'] = data['movieId'].map(movie_mapping)\n",
    "\n",
    "num_users = len(user_ids)\n",
    "num_movies = len(movie_ids)"
   ]
  },
  {
   "cell_type": "markdown",
   "metadata": {
    "id": "TNUoFOGcVlIn"
   },
   "source": []
  },
  {
   "cell_type": "code",
   "execution_count": 5,
   "metadata": {
    "executionInfo": {
     "elapsed": 529,
     "status": "ok",
     "timestamp": 1733900260021,
     "user": {
      "displayName": "Tevfik Aytekin",
      "userId": "03705756795675396046"
     },
     "user_tz": -180
    },
    "id": "dJRzVTm9VlIn"
   },
   "outputs": [],
   "source": [
    "# Define the matrix factorization model\n",
    "class MatrixFactorizationWithBiasModel(nn.Module):\n",
    "    def __init__(self, num_users, num_movies, embedding_size=5):\n",
    "        super(MatrixFactorizationWithBiasModel, self).__init__()\n",
    "        self.user_embedding = nn.Embedding(num_users, embedding_size)\n",
    "        self.movie_embedding = nn.Embedding(num_movies, embedding_size)\n",
    "\n",
    "        # Global mean bias\n",
    "        self.global_bias = nn.Parameter(torch.tensor(0.0))\n",
    "\n",
    "        # User bias: One bias term per user\n",
    "        self.user_bias = nn.Embedding(num_users, 1)\n",
    "        nn.init.constant_(self.user_bias.weight, 0)  # Initialize biases to zero\n",
    "\n",
    "        # Item bias: One bias term per item\n",
    "        self.item_bias = nn.Embedding(num_movies, 1)\n",
    "        nn.init.constant_(self.item_bias.weight, 0)  # Initialize biases to zero\n",
    "\n",
    "    def forward(self, X):\n",
    "        n = X.shape[0]\n",
    "        #prediction = torch.zeros((n), dtype=torch.float)\n",
    "\n",
    "        # forward function takes the indices of some users and movies and make\n",
    "        # prediction by find the dot products of the corresponding users and movies\n",
    "        user_embedding = self.user_embedding(X[:,0])\n",
    "        movie_embedding = self.movie_embedding(X[:,1])\n",
    "        # below line calculates the dot product between embedding vectors\n",
    "        dot_product = torch.sum(user_embedding * movie_embedding, dim=1)\n",
    "        # Add biases\n",
    "        user_b = self.user_bias(X[:,0]).squeeze()\n",
    "        item_b = self.item_bias(X[:,1]).squeeze()\n",
    "        prediction = self.global_bias + user_b + item_b + dot_product\n",
    "\n",
    "\n",
    "        return prediction"
   ]
  },
  {
   "cell_type": "code",
   "execution_count": 6,
   "metadata": {
    "executionInfo": {
     "elapsed": 486,
     "status": "ok",
     "timestamp": 1733900262236,
     "user": {
      "displayName": "Tevfik Aytekin",
      "userId": "03705756795675396046"
     },
     "user_tz": -180
    },
    "id": "fC_gdScw1YsO"
   },
   "outputs": [],
   "source": [
    "# Define the matrix factorization model\n",
    "class MatrixFactorizationModel(nn.Module):\n",
    "    def __init__(self, num_users, num_movies, embedding_size=5):\n",
    "        super(MatrixFactorizationModel, self).__init__()\n",
    "        self.user_embedding = nn.Embedding(num_users, embedding_size)\n",
    "        self.movie_embedding = nn.Embedding(num_movies, embedding_size)\n",
    "\n",
    "\n",
    "    def forward(self, X):\n",
    "        # forward function takes the indices of some users and movies and make\n",
    "        # prediction by find the dot products of the corresponding users and movies\n",
    "        user_embedding = self.user_embedding(X[:,0])\n",
    "        movie_embedding = self.movie_embedding(X[:,1])\n",
    "        # below line calculates the dot product between embedding vectors\n",
    "        dot_product = torch.sum(user_embedding * movie_embedding, dim=1)\n",
    "        prediction = dot_product\n",
    "\n",
    "        return prediction"
   ]
  },
  {
   "cell_type": "code",
   "execution_count": 7,
   "metadata": {
    "executionInfo": {
     "elapsed": 552,
     "status": "ok",
     "timestamp": 1733900264794,
     "user": {
      "displayName": "Tevfik Aytekin",
      "userId": "03705756795675396046"
     },
     "user_tz": -180
    },
    "id": "-2aI7h3f1vkS"
   },
   "outputs": [],
   "source": [
    "# Define the matrix factorization model\n",
    "class BiasOnlyModel(nn.Module):\n",
    "    def __init__(self, num_users, num_movies, embedding_size=5):\n",
    "        super(BiasOnlyModel, self).__init__()\n",
    "\n",
    "        # Global mean bias\n",
    "        self.global_bias = nn.Parameter(torch.tensor(0.0))\n",
    "\n",
    "        # User bias: One bias term per user\n",
    "        self.user_bias = nn.Embedding(num_users, 1)\n",
    "        nn.init.constant_(self.user_bias.weight, 0)  # Initialize biases to zero\n",
    "\n",
    "        # Item bias: One bias term per item\n",
    "        self.item_bias = nn.Embedding(num_movies, 1)\n",
    "        nn.init.constant_(self.item_bias.weight, 0)  # Initialize biases to zero\n",
    "\n",
    "    def forward(self, X):\n",
    "        user_b = self.user_bias(X[:,0]).squeeze()\n",
    "        item_b = self.item_bias(X[:,1]).squeeze()\n",
    "        prediction = self.global_bias + user_b + item_b\n",
    "\n",
    "        return prediction"
   ]
  },
  {
   "cell_type": "code",
   "execution_count": 8,
   "metadata": {
    "executionInfo": {
     "elapsed": 532,
     "status": "ok",
     "timestamp": 1733900267274,
     "user": {
      "displayName": "Tevfik Aytekin",
      "userId": "03705756795675396046"
     },
     "user_tz": -180
    },
    "id": "AhzT8mprLBxc"
   },
   "outputs": [],
   "source": [
    "class NeuralCollaborativeFilteringModel(nn.Module):\n",
    "    def __init__(self, num_users, num_movies, embedding_size=5, hidden_dim=16):\n",
    "        super(NeuralCollaborativeFilteringModel, self).__init__()\n",
    "        self.user_embedding = nn.Embedding(num_users, embedding_size)\n",
    "        self.movie_embedding = nn.Embedding(num_movies, embedding_size)\n",
    "\n",
    "        # Global mean bias\n",
    "        self.global_bias = nn.Parameter(torch.tensor(0.0))\n",
    "\n",
    "        # User bias: One bias term per user\n",
    "        self.user_bias = nn.Embedding(num_users, 1)\n",
    "        nn.init.constant_(self.user_bias.weight, 0)  # Initialize biases to zero\n",
    "\n",
    "        # Item bias: One bias term per item\n",
    "        self.item_bias = nn.Embedding(num_movies, 1)\n",
    "        nn.init.constant_(self.item_bias.weight, 0)  # Initialize biases to zero\n",
    "\n",
    "        # Learnable interaction function (Feedforward Neural Network)\n",
    "        self.interaction_layer = nn.Sequential(\n",
    "            nn.Linear(embedding_size * 2, hidden_dim),\n",
    "            nn.ReLU(),\n",
    "            nn.Linear(hidden_dim, 1)\n",
    "        )\n",
    "\n",
    "    def forward(self, X):\n",
    "        n = X.shape[0]\n",
    "\n",
    "        # Get user and item embeddings\n",
    "        user_embedding = self.user_embedding(X[:, 0])\n",
    "        movie_embedding = self.movie_embedding(X[:, 1])\n",
    "\n",
    "        # Concatenate user and item embeddings\n",
    "        interaction_input = torch.cat([user_embedding, movie_embedding], dim=1)\n",
    "\n",
    "        # Learnable interaction\n",
    "        interaction_score = self.interaction_layer(interaction_input).squeeze()\n",
    "\n",
    "        # Add biases\n",
    "        user_b = self.user_bias(X[:, 0]).squeeze()\n",
    "        item_b = self.item_bias(X[:, 1]).squeeze()\n",
    "        prediction = self.global_bias + user_b + item_b + interaction_score\n",
    "\n",
    "        return prediction\n"
   ]
  },
  {
   "cell_type": "code",
   "execution_count": 9,
   "metadata": {
    "executionInfo": {
     "elapsed": 457,
     "status": "ok",
     "timestamp": 1733900269993,
     "user": {
      "displayName": "Tevfik Aytekin",
      "userId": "03705756795675396046"
     },
     "user_tz": -180
    },
    "id": "924gJDWml4K6"
   },
   "outputs": [],
   "source": [
    "class NCFWithoutBiasModel(nn.Module):\n",
    "    def __init__(self, num_users, num_movies, embedding_size=5, hidden_dim=16):\n",
    "        super(NCFWithoutBiasModel, self).__init__()\n",
    "        self.user_embedding = nn.Embedding(num_users, embedding_size)\n",
    "        self.movie_embedding = nn.Embedding(num_movies, embedding_size)\n",
    "\n",
    "        # Learnable interaction function (Feedforward Neural Network)\n",
    "        self.interaction_layer = nn.Sequential(\n",
    "            nn.Linear(embedding_size * 2, hidden_dim),\n",
    "            nn.ReLU(),\n",
    "            nn.Linear(hidden_dim, 1)\n",
    "        )\n",
    "\n",
    "    def forward(self, X):\n",
    "        n = X.shape[0]\n",
    "\n",
    "        # Get user and item embeddings\n",
    "        user_embedding = self.user_embedding(X[:, 0])\n",
    "        movie_embedding = self.movie_embedding(X[:, 1])\n",
    "\n",
    "        # Concatenate user and item embeddings\n",
    "        interaction_input = torch.cat([user_embedding, movie_embedding], dim=1)\n",
    "\n",
    "        # Learnable interaction\n",
    "        prediction = self.interaction_layer(interaction_input).squeeze()\n",
    "\n",
    "        return prediction"
   ]
  },
  {
   "cell_type": "code",
   "execution_count": 18,
   "metadata": {
    "executionInfo": {
     "elapsed": 536,
     "status": "ok",
     "timestamp": 1733900355351,
     "user": {
      "displayName": "Tevfik Aytekin",
      "userId": "03705756795675396046"
     },
     "user_tz": -180
    },
    "id": "h591D_W2VlIo"
   },
   "outputs": [],
   "source": [
    "def train_and_evaluate(model, data):\n",
    "    # Initialize the model and optimizer\n",
    "    train_data, test_data = train_test_split(data, test_size=0.1)\n",
    "\n",
    "    criterion = nn.MSELoss()\n",
    "    optimizer = optim.Adam(model.parameters(), lr=0.03, weight_decay=0.0001)\n",
    "    #optimizer = optim.SGD(model.parameters(), lr=0.03)\n",
    "\n",
    "    total_loss = 0.0\n",
    "    absolute_errors = []\n",
    "    train_error = []\n",
    "    num_epochs = 100\n",
    "    n_samples = len(train_data)\n",
    "\n",
    "\n",
    "    batch_size = n_samples\n",
    "    # Note1: In order to test the effectives of mini-batching or stochastic gradient descent,\n",
    "    # you can try to increase batch_size up to n_samples. In that case the execution time of\n",
    "    # each epoch will begin to decrease, however, since updates are done after each batch,\n",
    "    # there will be a less number of updates in each epoch which will slow down convergence. On the other hand,\n",
    "    # if batch_size is smaller (such as 32) then there will be n_samples/batch_size\n",
    "    # updates in each epoch. This type of gradient descent is called mini-batch or stochastic gradient descent.\n",
    "\n",
    "    # Note2: When batch_size = n_samples this code will run almost as fast as a C++ code.\n",
    "    # However, if you decrease batch size the code will become slower compared to a C++ code\n",
    "    # due to the overheads of the torch autograd framework. In the extreme if you set batch_size = 1\n",
    "    # this speed difference will be significant.\n",
    "\n",
    "    X = torch.tensor(train_data[['userId', 'movieId']].values)\n",
    "    y = torch.tensor(train_data['rating'].values.astype(np.float32))\n",
    "\n",
    "    import time\n",
    "    start = time.time()\n",
    "\n",
    "    for epoch in tqdm(range(num_epochs)):\n",
    "        permutation = torch.randperm(n_samples)\n",
    "        absolute_errors = []\n",
    "\n",
    "        for i in range(0, n_samples, batch_size):\n",
    "            indices = permutation[i:i+batch_size]\n",
    "            batch_X, batch_y = X[indices], y[indices]\n",
    "\n",
    "            predictions = model(batch_X)\n",
    "\n",
    "            loss = criterion(predictions, batch_y)\n",
    "            optimizer.zero_grad()\n",
    "\n",
    "            loss.backward()\n",
    "            optimizer.step()\n",
    "            absolute_errors.extend(torch.abs(predictions - batch_y).tolist())\n",
    "\n",
    "        if epoch % 1 == 0:\n",
    "\n",
    "            train_error.append(np.mean(absolute_errors))\n",
    "\n",
    "\n",
    "    X_test = torch.tensor(test_data[['userId', 'movieId']].values)\n",
    "    y_test = torch.tensor(test_data['rating'].values.astype(np.float32))\n",
    "\n",
    "    model.eval()\n",
    "    test_loss = 0.0\n",
    "    absolute_errors = []\n",
    "    with torch.no_grad():\n",
    "        predictions = model(X_test)\n",
    "        test_loss = criterion(predictions, y_test)\n",
    "\n",
    "    print(model.__class__.__name__)\n",
    "    #print(f\"Test Loss: {test_loss / len(X_test)}\")\n",
    "    print(f\"Test MAE: {mean_absolute_error(y_test, predictions)}\")\n",
    "    print(f\"Test RMSE: {np.sqrt(mean_squared_error(y_test, predictions))}\")\n",
    "\n",
    "    end = time.time()\n",
    "    print(\"Elapsed time:\", end - start)\n",
    "\n",
    "    # Plot training errors\n",
    "    plt.figure(figsize=(6, 3))\n",
    "    plt.plot(train_error, label=\"Training MAE\")\n",
    "    plt.xlabel(\"Epoch\")\n",
    "    plt.ylabel(\"Mean Absolute Error (MAE)\")\n",
    "    plt.title(\"Training Errors over Epochs\")\n",
    "    plt.ylim(0, 5)  # Set y-range from 0 to 50\n",
    "\n",
    "    plt.legend()\n",
    "    plt.grid()\n",
    "    plt.show()\n",
    "\n",
    "\n",
    "\n",
    "\n"
   ]
  },
  {
   "cell_type": "code",
   "execution_count": 23,
   "metadata": {
    "colab": {
     "base_uri": "https://localhost:8080/",
     "height": 1000
    },
    "executionInfo": {
     "elapsed": 226974,
     "status": "ok",
     "timestamp": 1733900747365,
     "user": {
      "displayName": "Tevfik Aytekin",
      "userId": "03705756795675396046"
     },
     "user_tz": -180
    },
    "id": "r4D1zkahUbME",
    "outputId": "e74c046d-50b8-4918-f298-5ea2842333e6"
   },
   "outputs": [
    {
     "name": "stderr",
     "output_type": "stream",
     "text": [
      "100%|██████████| 100/100 [00:28<00:00,  3.49it/s]"
     ]
    },
    {
     "name": "stdout",
     "output_type": "stream",
     "text": [
      "BiasOnlyModel\n",
      "Test MAE: 0.7689828276634216\n",
      "Test RMSE: 0.9550601840019226\n",
      "Elapsed time: 28.65347385406494\n"
     ]
    },
    {
     "name": "stderr",
     "output_type": "stream",
     "text": [
      "\n"
     ]
    },
    {
     "data": {
      "image/png": "[encoded data removed]",
      "text/plain": [
       "<Figure size 600x300 with 1 Axes>"
      ]
     },
     "metadata": {},
     "output_type": "display_data"
    },
    {
     "name": "stderr",
     "output_type": "stream",
     "text": [
      "100%|██████████| 100/100 [00:28<00:00,  3.46it/s]"
     ]
    },
    {
     "name": "stdout",
     "output_type": "stream",
     "text": [
      "MatrixFactorizationModel\n",
      "Test MAE: 0.8208631873130798\n",
      "Test RMSE: 1.0283559560775757\n",
      "Elapsed time: 28.918211460113525\n"
     ]
    },
    {
     "name": "stderr",
     "output_type": "stream",
     "text": [
      "\n"
     ]
    },
    {
     "data": {
      "image/png": "[encoded data removed]",
      "text/plain": [
       "<Figure size 600x300 with 1 Axes>"
      ]
     },
     "metadata": {},
     "output_type": "display_data"
    },
    {
     "name": "stderr",
     "output_type": "stream",
     "text": [
      "100%|██████████| 100/100 [00:46<00:00,  2.15it/s]"
     ]
    },
    {
     "name": "stdout",
     "output_type": "stream",
     "text": [
      "MatrixFactorizationWithBiasModel\n",
      "Test MAE: 0.7734430432319641\n",
      "Test RMSE: 0.9605371356010437\n",
      "Elapsed time: 46.5794575214386\n"
     ]
    },
    {
     "name": "stderr",
     "output_type": "stream",
     "text": [
      "\n"
     ]
    },
    {
     "data": {
      "image/png": "[encoded data removed]",
      "text/plain": [
       "<Figure size 600x300 with 1 Axes>"
      ]
     },
     "metadata": {},
     "output_type": "display_data"
    },
    {
     "name": "stderr",
     "output_type": "stream",
     "text": [
      "100%|██████████| 100/100 [01:09<00:00,  1.44it/s]"
     ]
    },
    {
     "name": "stdout",
     "output_type": "stream",
     "text": [
      "NeuralCollaborativeFilteringModel\n",
      "Test MAE: 0.7279818058013916\n",
      "Test RMSE: 0.9148170351982117\n",
      "Elapsed time: 69.49877715110779\n"
     ]
    },
    {
     "name": "stderr",
     "output_type": "stream",
     "text": [
      "\n"
     ]
    },
    {
     "data": {
      "image/png": "[encoded data removed]",
      "text/plain": [
       "<Figure size 600x300 with 1 Axes>"
      ]
     },
     "metadata": {},
     "output_type": "display_data"
    },
    {
     "name": "stderr",
     "output_type": "stream",
     "text": [
      "100%|██████████| 100/100 [00:51<00:00,  1.94it/s]\n"
     ]
    },
    {
     "name": "stdout",
     "output_type": "stream",
     "text": [
      "NCFWithoutBiasModel\n",
      "Test MAE: 0.7429745197296143\n",
      "Test RMSE: 0.9339159727096558\n",
      "Elapsed time: 51.698540925979614\n"
     ]
    },
    {
     "data": {
      "image/png": "[encoded data removed]",
      "text/plain": [
       "<Figure size 600x300 with 1 Axes>"
      ]
     },
     "metadata": {},
     "output_type": "display_data"
    }
   ],
   "source": [
    "model = BiasOnlyModel(num_users, num_movies, embedding_size=5)\n",
    "train_and_evaluate(model, data)\n",
    "model = MatrixFactorizationModel(num_users, num_movies, embedding_size=5)\n",
    "train_and_evaluate(model, data)\n",
    "model = MatrixFactorizationWithBiasModel(num_users, num_movies, embedding_size=5)\n",
    "train_and_evaluate(model, data)\n",
    "model = NeuralCollaborativeFilteringModel(num_users, num_movies, embedding_size=5)\n",
    "train_and_evaluate(model, data)\n",
    "model = NCFWithoutBiasModel(num_users, num_movies, embedding_size=5)\n",
    "train_and_evaluate(model, data)\n"
   ]
  },
  {
   "cell_type": "markdown",
   "metadata": {
    "id": "2qSTJ0nFVlIq"
   },
   "source": [
    "### With Dataloader"
   ]
  },
  {
   "cell_type": "code",
   "execution_count": null,
   "metadata": {
    "id": "yrXvoQbAVlIq"
   },
   "outputs": [],
   "source": [
    "class MovieLensDataset(Dataset):\n",
    "    def __init__(self, dataframe):\n",
    "        self.data = dataframe[['userId', 'movieId']].values\n",
    "        self.ratings = dataframe['rating'].values.astype(np.float32)\n",
    "\n",
    "        # It is faster (at least 2x) to use numpy arrays instead of a dataframe as below\n",
    "        # and access the data in __getitem__ using iloc\n",
    "        #self.data = dataframe[['userId', 'movieId']]\n",
    "        #self.ratings = dataframe['rating']\n",
    "\n",
    "    def __len__(self):\n",
    "        return len(self.data)\n",
    "\n",
    "    def __getitem__(self, idx):\n",
    "        return torch.LongTensor(self.data[idx]), torch.FloatTensor([self.ratings[idx]])"
   ]
  },
  {
   "cell_type": "code",
   "execution_count": null,
   "metadata": {
    "id": "lWCMhAvoVlIq"
   },
   "outputs": [],
   "source": [
    "# Split the data into training and testing sets\n",
    "train_data, test_data = train_test_split(data, test_size=0.1)\n",
    "\n",
    "# Initialize dataset and data loaders\n",
    "train_dataset = MovieLensDataset(train_data)\n",
    "test_dataset = MovieLensDataset(test_data)\n",
    "\n",
    "n_samples = len(train_data)\n",
    "batch_size = 1024\n",
    "# Note: Setting batch_size larger values will decrease the time of a single epoch but after\n",
    "# a certain value it does not further decrease. In the extreme even if you set batch_size to n_samples\n",
    "# the running time of a single epoch will still be significant. This is probably because of the overhead\n",
    "# caused by dataset loader.\n",
    "train_loader = DataLoader(train_dataset, batch_size=batch_size, shuffle=True)\n",
    "test_loader = DataLoader(test_dataset, batch_size=batch_size, shuffle=False)"
   ]
  },
  {
   "cell_type": "code",
   "execution_count": null,
   "metadata": {
    "colab": {
     "base_uri": "https://localhost:8080/"
    },
    "executionInfo": {
     "elapsed": 146560,
     "status": "ok",
     "timestamp": 1733224014153,
     "user": {
      "displayName": "Tevfik Aytekin",
      "userId": "03705756795675396046"
     },
     "user_tz": -180
    },
    "id": "WqMoqG2EVlIq",
    "outputId": "da3483b9-c95a-4ebd-d26a-c7eba71e7d1d"
   },
   "outputs": [
    {
     "name": "stdout",
     "output_type": "stream",
     "text": [
      "Using device cuda.\n",
      "Epoch 1/10, Loss: 20.467501174319874\n",
      "Train MAE: 3.869186068629986\n",
      "Epoch 2/10, Loss: 16.924936573071914\n",
      "Train MAE: 3.6658172281302916\n",
      "Epoch 3/10, Loss: 15.361764957688072\n",
      "Train MAE: 3.5474201437089294\n",
      "Epoch 4/10, Loss: 13.43683146129955\n",
      "Train MAE: 3.2929147746120337\n",
      "Epoch 5/10, Loss: 10.171332882751118\n",
      "Train MAE: 2.72267129136541\n",
      "Epoch 6/10, Loss: 6.937358105724508\n",
      "Train MAE: 2.0840590283917386\n",
      "Epoch 7/10, Loss: 4.9165180330926725\n",
      "Train MAE: 1.6725891034308744\n",
      "Epoch 8/10, Loss: 3.731996236877008\n",
      "Train MAE: 1.4241787698004253\n",
      "Epoch 9/10, Loss: 2.9928122379563074\n",
      "Train MAE: 1.2635202259072942\n",
      "Epoch 10/10, Loss: 2.5022550215775317\n",
      "Train MAE: 1.1534300081820639\n",
      "Elapsed time: 146.3814103603363\n"
     ]
    }
   ],
   "source": [
    "# Initialize the model and optimizer\n",
    "num_users = len(user_ids)\n",
    "num_movies = len(movie_ids)\n",
    "model = MatrixFactorization(num_users, num_movies, embedding_size=10)\n",
    "\n",
    "device = torch.device('cuda' if torch.cuda.is_available() else 'cpu')\n",
    "print(f\"Using device {device}.\")\n",
    "model = model.to(device)\n",
    "\n",
    "criterion = nn.MSELoss()\n",
    "optimizer = optim.SGD(model.parameters(), lr=0.03, momentum=0.9)\n",
    "\n",
    "# Training loop\n",
    "num_epochs = 10\n",
    "\n",
    "import time\n",
    "start = time.time()\n",
    "\n",
    "for epoch in range(num_epochs):\n",
    "    model.train()\n",
    "    total_loss = 0.0\n",
    "    absolute_errors = []\n",
    "    for batch_idx, (X, y) in enumerate(train_loader):\n",
    "\n",
    "        X = X.to(device)\n",
    "        y = y.to(device)\n",
    "        predictions = model(X)\n",
    "        loss = criterion(predictions, y.squeeze())\n",
    "        optimizer.zero_grad()\n",
    "        loss.backward()\n",
    "        optimizer.step()\n",
    "        total_loss += loss.item()\n",
    "        absolute_errors.extend(torch.abs(predictions - y.squeeze()).tolist())\n",
    "\n",
    "    print(f\"Epoch {epoch + 1}/{num_epochs}, Loss: {total_loss / len(train_loader)}\")\n",
    "    print(f\"Train MAE: {np.mean(absolute_errors)}\")\n",
    "\n",
    "\n",
    "end = time.time()\n",
    "print(\"Elapsed time:\", end - start)\n"
   ]
  },
  {
   "cell_type": "code",
   "execution_count": null,
   "metadata": {
    "id": "Z4Q9BFvAVlIq",
    "outputId": "af60e8db-fd1a-462c-89b6-cf862fec21d3"
   },
   "outputs": [
    {
     "name": "stdout",
     "output_type": "stream",
     "text": [
      "Test Loss: 1.7731850219395342\n",
      "Test MAE: 0.8969225770291805\n"
     ]
    }
   ],
   "source": [
    "# Evaluation on the test set\n",
    "test_loss = 0.0\n",
    "absolute_errors = []\n",
    "with torch.no_grad():\n",
    "    for batch_idx, (X, y) in enumerate(test_loader):\n",
    "        predictions = model(X)\n",
    "        loss = criterion(predictions, y.squeeze())\n",
    "        test_loss += loss.item()\n",
    "        absolute_errors.extend(torch.abs(predictions - y.squeeze()).tolist())\n",
    "\n",
    "print(f\"Test Loss: {test_loss / len(test_loader)}\")\n",
    "print(f\"Test MAE: {np.mean(absolute_errors)}\")"
   ]
  },
  {
   "cell_type": "markdown",
   "metadata": {
    "id": "jlQD9996VlIr"
   },
   "source": [
    "### What is going on under the hood?\n",
    "\n",
    "Some explanations in order to understand what is going on during the computation."
   ]
  },
  {
   "cell_type": "code",
   "execution_count": null,
   "metadata": {
    "id": "joe81qcNVlIr"
   },
   "outputs": [],
   "source": [
    "criterion = nn.MSELoss()\n",
    "num_users = len(user_ids)\n",
    "num_movies = len(movie_ids)\n",
    "model = MatrixFactorizationModel(num_users, num_movies, embedding_size=5)\n",
    "n_samples = len(train_data)\n",
    "X = torch.tensor(train_data[['userId', 'movieId']].values)\n",
    "y = torch.tensor(train_data['rating'].values.astype(np.float32))\n",
    "permutation = torch.randperm(n_samples)\n",
    "indices = permutation[0:0+32]\n",
    "batch_X, batch_y = X[indices], y[indices]\n",
    "predictions = model(batch_X)\n",
    "loss = criterion(predictions, batch_y)"
   ]
  },
  {
   "cell_type": "markdown",
   "metadata": {
    "id": "2wFXm1-WVlIr"
   },
   "source": [
    "X contains the indices of pairs of users and movies."
   ]
  },
  {
   "cell_type": "code",
   "execution_count": null,
   "metadata": {
    "id": "BlhQG6WTVlIr",
    "outputId": "0b086fa6-af2d-4090-a370-61d49ceb9f32"
   },
   "outputs": [
    {
     "data": {
      "text/plain": [
       "tensor([[ 42, 343],\n",
       "        [302, 757],\n",
       "        [501,  71]])"
      ]
     },
     "execution_count": 55,
     "metadata": {},
     "output_type": "execute_result"
    }
   ],
   "source": [
    "X[:3]"
   ]
  },
  {
   "cell_type": "markdown",
   "metadata": {
    "id": "ZBtP0m56VlIr"
   },
   "source": [
    "Select a set of users and movies"
   ]
  },
  {
   "cell_type": "code",
   "execution_count": null,
   "metadata": {
    "id": "CMlBEaRmVlIr"
   },
   "outputs": [],
   "source": [
    "uidx = torch.tensor([0,1,2])\n",
    "iidx = torch.tensor([6,7,8])"
   ]
  },
  {
   "cell_type": "code",
   "execution_count": null,
   "metadata": {
    "id": "NhJgy6zmVlIr",
    "outputId": "54701003-2eed-4441-c578-3d99e42e21a9"
   },
   "outputs": [
    {
     "data": {
      "text/plain": [
       "tensor([[-1.0025, -0.4543, -0.7436,  1.6553,  1.9770],\n",
       "        [-0.1971,  0.0846, -0.6548,  1.4419,  1.4326],\n",
       "        [-0.8921, -1.0224, -0.3187,  0.2523,  0.4210]],\n",
       "       grad_fn=<EmbeddingBackward0>)"
      ]
     },
     "execution_count": 46,
     "metadata": {},
     "output_type": "execute_result"
    }
   ],
   "source": [
    "user_emb = model.user_embedding(uidx)\n",
    "user_emb"
   ]
  },
  {
   "cell_type": "code",
   "execution_count": null,
   "metadata": {
    "id": "Eni6x4dfVlIs",
    "outputId": "c622a5b4-484d-405f-a70c-2d7fb2adc49a"
   },
   "outputs": [
    {
     "data": {
      "text/plain": [
       "tensor([[-0.0895, -1.1188, -0.7012,  1.8861,  0.7449],\n",
       "        [-0.8070, -0.8636, -0.1842,  0.4362,  1.6826],\n",
       "        [-0.1349, -0.9455, -1.8755,  0.2066,  1.1307]],\n",
       "       grad_fn=<EmbeddingBackward0>)"
      ]
     },
     "execution_count": 47,
     "metadata": {},
     "output_type": "execute_result"
    }
   ],
   "source": [
    "movie_emb = model.movie_embedding(iidx)\n",
    "movie_emb"
   ]
  },
  {
   "cell_type": "markdown",
   "metadata": {
    "id": "2SaVRHetVlIs"
   },
   "source": [
    "Find their dot product by first element-wise multiplication then sum along the x dimension"
   ]
  },
  {
   "cell_type": "code",
   "execution_count": null,
   "metadata": {
    "id": "6ZTvysUkVlIs",
    "outputId": "af54547c-021f-4c17-fbc4-897da728116c"
   },
   "outputs": [
    {
     "data": {
      "text/plain": [
       "tensor([[ 0.0897,  0.5083,  0.5214,  3.1219,  1.4727],\n",
       "        [ 0.1591, -0.0731,  0.1206,  0.6290,  2.4105],\n",
       "        [ 0.1204,  0.9667,  0.5977,  0.0521,  0.4760]], grad_fn=<MulBackward0>)"
      ]
     },
     "execution_count": 50,
     "metadata": {},
     "output_type": "execute_result"
    }
   ],
   "source": [
    "mul = user_emb * movie_emb\n",
    "mul"
   ]
  },
  {
   "cell_type": "code",
   "execution_count": null,
   "metadata": {
    "id": "fBR-NHzlVlIs",
    "outputId": "da51418d-b466-42fe-89fd-e75e9e9f1a69"
   },
   "outputs": [
    {
     "data": {
      "text/plain": [
       "tensor([5.7140, 3.2461, 2.2128], grad_fn=<SumBackward1>)"
      ]
     },
     "execution_count": 52,
     "metadata": {},
     "output_type": "execute_result"
    }
   ],
   "source": [
    "torch.sum(mul, dim=1)"
   ]
  },
  {
   "cell_type": "markdown",
   "metadata": {
    "id": "yrFqvZF6VlIs"
   },
   "source": [
    "You can check that"
   ]
  },
  {
   "cell_type": "code",
   "execution_count": null,
   "metadata": {
    "id": "01OecuYVVlIs",
    "outputId": "469d4ae1-a286-472b-d928-ecb4d39a8619"
   },
   "outputs": [
    {
     "data": {
      "text/plain": [
       "5.7139999999999995"
      ]
     },
     "execution_count": 53,
     "metadata": {},
     "output_type": "execute_result"
    }
   ],
   "source": [
    "sum([ 0.0897,  0.5083,  0.5214,  3.1219,  1.4727])"
   ]
  },
  {
   "cell_type": "code",
   "execution_count": null,
   "metadata": {
    "id": "tdJhoDfzH2hB"
   },
   "outputs": [],
   "source": []
  }
 ],
 "metadata": {
  "accelerator": "GPU",
  "colab": {
   "gpuType": "A100",
   "machine_shape": "hm",
   "provenance": []
  },
  "kernelspec": {
   "display_name": "pytorch",
   "language": "python",
   "name": "python3"
  },
  "language_info": {
   "codemirror_mode": {
    "name": "ipython",
    "version": 3
   },
   "file_extension": ".py",
   "mimetype": "text/x-python",
   "name": "python",
   "nbconvert_exporter": "python",
   "pygments_lexer": "ipython3",
   "version": "3.11.7"
  }
 },
 "nbformat": 4,
 "nbformat_minor": 0
}
