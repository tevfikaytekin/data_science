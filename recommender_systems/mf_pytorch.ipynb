{
 "cells": [
  {
   "cell_type": "code",
   "execution_count": 1,
   "metadata": {},
   "outputs": [],
   "source": [
    "import torch\n",
    "import torch.nn as nn\n",
    "import torch.optim as optim\n",
    "from torchviz import make_dot\n",
    "from torch.utils.data import Dataset, DataLoader\n",
    "from sklearn.model_selection import train_test_split\n",
    "import pandas as pd\n",
    "import numpy as np\n",
    "from tqdm import tqdm\n"
   ]
  },
  {
   "cell_type": "code",
   "execution_count": 3,
   "metadata": {},
   "outputs": [
    {
     "data": {
      "text/html": [
       "<div>\n",
       "<style scoped>\n",
       "    .dataframe tbody tr th:only-of-type {\n",
       "        vertical-align: middle;\n",
       "    }\n",
       "\n",
       "    .dataframe tbody tr th {\n",
       "        vertical-align: top;\n",
       "    }\n",
       "\n",
       "    .dataframe thead th {\n",
       "        text-align: right;\n",
       "    }\n",
       "</style>\n",
       "<table border=\"1\" class=\"dataframe\">\n",
       "  <thead>\n",
       "    <tr style=\"text-align: right;\">\n",
       "      <th></th>\n",
       "      <th>userId</th>\n",
       "      <th>movieId</th>\n",
       "      <th>rating</th>\n",
       "      <th>timestamp</th>\n",
       "    </tr>\n",
       "  </thead>\n",
       "  <tbody>\n",
       "    <tr>\n",
       "      <th>0</th>\n",
       "      <td>1</td>\n",
       "      <td>1</td>\n",
       "      <td>4.0</td>\n",
       "      <td>964982703</td>\n",
       "    </tr>\n",
       "    <tr>\n",
       "      <th>1</th>\n",
       "      <td>1</td>\n",
       "      <td>3</td>\n",
       "      <td>4.0</td>\n",
       "      <td>964981247</td>\n",
       "    </tr>\n",
       "    <tr>\n",
       "      <th>2</th>\n",
       "      <td>1</td>\n",
       "      <td>6</td>\n",
       "      <td>4.0</td>\n",
       "      <td>964982224</td>\n",
       "    </tr>\n",
       "    <tr>\n",
       "      <th>3</th>\n",
       "      <td>1</td>\n",
       "      <td>47</td>\n",
       "      <td>5.0</td>\n",
       "      <td>964983815</td>\n",
       "    </tr>\n",
       "    <tr>\n",
       "      <th>4</th>\n",
       "      <td>1</td>\n",
       "      <td>50</td>\n",
       "      <td>5.0</td>\n",
       "      <td>964982931</td>\n",
       "    </tr>\n",
       "  </tbody>\n",
       "</table>\n",
       "</div>"
      ],
      "text/plain": [
       "   userId  movieId  rating  timestamp\n",
       "0       1        1     4.0  964982703\n",
       "1       1        3     4.0  964981247\n",
       "2       1        6     4.0  964982224\n",
       "3       1       47     5.0  964983815\n",
       "4       1       50     5.0  964982931"
      ]
     },
     "execution_count": 3,
     "metadata": {},
     "output_type": "execute_result"
    }
   ],
   "source": [
    "\n",
    "# Load MovieLens Small dataset\n",
    "data = pd.read_csv(\"../../datasets/ml-latest-small/ratings.csv\", sep=\",\")\n",
    "#data = pd.read_csv(\"../../datasets/ml-1m/ratings.csv\", sep=\",\", names=[\"userId\",\"movieId\",\"rating\",\"timestamp\"])\n",
    "\n",
    "#data = pd.read_csv(\"ratings.csv\", sep=\",\")\n",
    "#prefs = pd.read_csv(\"drive/MyDrive/PycharmProjects/datasets/ml-latest-small/ratings.csv\", sep=\",\")\n",
    "\n",
    "data.head()"
   ]
  },
  {
   "cell_type": "code",
   "execution_count": 3,
   "metadata": {},
   "outputs": [
    {
     "data": {
      "text/plain": [
       "(100836, 4)"
      ]
     },
     "execution_count": 3,
     "metadata": {},
     "output_type": "execute_result"
    }
   ],
   "source": [
    "data.shape"
   ]
  },
  {
   "cell_type": "code",
   "execution_count": 4,
   "metadata": {},
   "outputs": [],
   "source": [
    "# Map user and movie IDs to unique indices\n",
    "user_ids = data['userId'].unique()\n",
    "movie_ids = data['movieId'].unique()\n",
    "\n",
    "user_mapping = {user_id: idx for idx, user_id in enumerate(user_ids)}\n",
    "movie_mapping = {movie_id: idx for idx, movie_id in enumerate(movie_ids)}\n",
    "\n",
    "data['userId'] = data['userId'].map(user_mapping)\n",
    "data['movieId'] = data['movieId'].map(movie_mapping)"
   ]
  },
  {
   "cell_type": "code",
   "execution_count": 8,
   "metadata": {},
   "outputs": [],
   "source": [
    "class MovieLensDataset(Dataset):\n",
    "    def __init__(self, dataframe):\n",
    "        self.data = dataframe[['userId', 'movieId']].values\n",
    "        self.ratings = dataframe['rating'].values.astype(np.float32)\n",
    "        \n",
    "        # It is faster (at least 2x) to use numpy arrays instead of a dataframe as below\n",
    "        # and access the data in __getitem__ using iloc\n",
    "        #self.data = dataframe[['userId', 'movieId']]\n",
    "        #self.ratings = dataframe['rating']\n",
    "\n",
    "    def __len__(self):\n",
    "        return len(self.data)\n",
    "\n",
    "    def __getitem__(self, idx):\n",
    "        return torch.LongTensor(self.data[idx]), torch.FloatTensor([self.ratings[idx]])\n"
   ]
  },
  {
   "cell_type": "markdown",
   "metadata": {},
   "source": []
  },
  {
   "cell_type": "code",
   "execution_count": 5,
   "metadata": {},
   "outputs": [],
   "source": [
    "# Define the matrix factorization model\n",
    "class MatrixFactorization(nn.Module):\n",
    "    def __init__(self, num_users, num_movies, embedding_size=20):\n",
    "        super(MatrixFactorization, self).__init__()\n",
    "        self.user_embedding = nn.Embedding(num_users, embedding_size)\n",
    "        self.movie_embedding = nn.Embedding(num_movies, embedding_size)\n",
    "        self.linear = nn.Linear(2*embedding_size, 1)\n",
    "\n",
    "    def forward(self, X):\n",
    "        user_embedding = self.user_embedding(X[:,0])\n",
    "        movie_embedding = self.movie_embedding(X[:,1])\n",
    "        \n",
    "        prediction = torch.sum(user_embedding * movie_embedding, dim=1)\n",
    "     \n",
    "\n",
    "        return prediction"
   ]
  },
  {
   "cell_type": "markdown",
   "metadata": {},
   "source": []
  },
  {
   "cell_type": "code",
   "execution_count": 9,
   "metadata": {},
   "outputs": [],
   "source": [
    "# Split the data into training and testing sets\n",
    "train_data, test_data = train_test_split(data, test_size=0.1)\n",
    "\n",
    "# Initialize dataset and data loaders\n",
    "train_dataset = MovieLensDataset(train_data)\n",
    "test_dataset = MovieLensDataset(test_data)\n",
    "\n",
    "train_loader = DataLoader(train_dataset, batch_size=10000, shuffle=True)\n",
    "test_loader = DataLoader(test_dataset, batch_size=10000, shuffle=False)"
   ]
  },
  {
   "cell_type": "code",
   "execution_count": 10,
   "metadata": {},
   "outputs": [
    {
     "data": {
      "text/plain": [
       "tensor([-0.7838,  1.2935])"
      ]
     },
     "execution_count": 10,
     "metadata": {},
     "output_type": "execute_result"
    }
   ],
   "source": [
    "a = torch.Tensor([[-0.4266, -0.4373, -0.4427, -0.7173,  0.1183],\n",
    "        [ 0.5720,  1.3187, -1.5295, -1.7553,  0.9981]])\n",
    "b = torch.Tensor([[-0.1013,  0.8980, -0.3187,  0.5583, -1.4790],\n",
    "        [ 0.1501,  0.8112, -0.4382,  0.5182,  0.3780]])\n",
    "torch.sum(a * b, dim=1)"
   ]
  },
  {
   "cell_type": "code",
   "execution_count": 22,
   "metadata": {},
   "outputs": [
    {
     "data": {
      "text/plain": [
       "torch.Size([90752, 2])"
      ]
     },
     "execution_count": 22,
     "metadata": {},
     "output_type": "execute_result"
    }
   ],
   "source": [
    "X.shape"
   ]
  },
  {
   "cell_type": "code",
   "execution_count": 13,
   "metadata": {},
   "outputs": [
    {
     "name": "stdout",
     "output_type": "stream",
     "text": [
      "Epoch 1/10, Loss: 6.9716691970825195\n",
      "Train MAE: 3.031537237191935\n",
      "Epoch 2/10, Loss: 3.9866135120391846\n",
      "Train MAE: 1.379067447373436\n",
      "Epoch 3/10, Loss: 0.7808533310890198\n",
      "Train MAE: 1.0143476741379245\n",
      "Epoch 4/10, Loss: 1.078995943069458\n",
      "Train MAE: 0.8823041310796595\n",
      "Epoch 5/10, Loss: 1.5398935079574585\n",
      "Train MAE: 0.8123732865127973\n",
      "Epoch 6/10, Loss: 1.1802263259887695\n",
      "Train MAE: 0.7677551447157716\n",
      "Epoch 7/10, Loss: 1.0619089603424072\n",
      "Train MAE: 0.736329366448066\n",
      "Epoch 8/10, Loss: 1.17452073097229\n",
      "Train MAE: 0.7141292522509014\n",
      "Epoch 9/10, Loss: 0.5432531833648682\n",
      "Train MAE: 0.6954182582360275\n",
      "Epoch 10/10, Loss: 0.6245182156562805\n",
      "Train MAE: 0.6815377668469713\n",
      "Elapsed time: 23.263670444488525\n"
     ]
    }
   ],
   "source": [
    "# Initialize the model and optimizer\n",
    "num_users = len(user_ids)\n",
    "num_movies = len(movie_ids)\n",
    "model = MatrixFactorization(num_users, num_movies, embedding_size=5)\n",
    "\n",
    "criterion = nn.MSELoss()\n",
    "optimizer = optim.SGD(model.parameters(), lr=0.03, momentum=0.9)\n",
    "\n",
    "total_loss = 0.0\n",
    "absolute_errors = []\n",
    "num_epochs = 10\n",
    "\n",
    "batch_size = 32\n",
    "# Note: In order to test the effectives of mini-batching or stochastic gradient descent, \n",
    "# you can try to increase batch_size up to n_samples. In that case the execution time of\n",
    "# each epoch will begin to decrease, however, since updates are done after each batch,\n",
    "# there will be a less number of updates in each epoch which will slow down convergence. On the other hand,\n",
    "# if batch_size is smaller (such as 32) then there will be n_samples/batch_size\n",
    "# updates in each epoch. This type of gradient descent is called mini-batch or stochastic gradient descent.\n",
    "\n",
    "n_samples = len(train_data)\n",
    "X = torch.tensor(train_data[['userId', 'movieId']].values)\n",
    "y = torch.tensor(train_data['rating'].values.astype(np.float32))\n",
    "\n",
    "import time\n",
    "start = time.time()\n",
    "\n",
    "for epoch in range(num_epochs):\n",
    "    permutation = torch.randperm(n_samples)\n",
    "    absolute_errors = []\n",
    "\n",
    "    for i in range(0, n_samples, batch_size):\n",
    "        indices = permutation[i:i+batch_size]\n",
    "        batch_X, batch_y = X[indices], y[indices]\n",
    "\n",
    "\n",
    "        predictions = model(batch_X)\n",
    "        loss = criterion(predictions, batch_y)\n",
    "        optimizer.zero_grad()\n",
    "\n",
    "        loss.backward()\n",
    "        optimizer.step()\n",
    "        absolute_errors.extend(torch.abs(predictions - batch_y).tolist())\n",
    "    \n",
    "    if epoch % 1 == 0:\n",
    "        print(f\"Epoch {epoch + 1}/{num_epochs}, Loss: {loss}\")\n",
    "        print(f\"Train MAE: {np.mean(absolute_errors)}\")\n",
    "\n",
    "end = time.time()\n",
    "print(\"Elapsed time:\", end - start)\n",
    "\n",
    "    \n"
   ]
  },
  {
   "cell_type": "code",
   "execution_count": 58,
   "metadata": {},
   "outputs": [
    {
     "data": {
      "text/plain": [
       "(90752, 4)"
      ]
     },
     "execution_count": 58,
     "metadata": {},
     "output_type": "execute_result"
    }
   ],
   "source": [
    "train_data.shape"
   ]
  },
  {
   "cell_type": "code",
   "execution_count": 14,
   "metadata": {},
   "outputs": [
    {
     "data": {
      "image/svg+xml": [
       "<?xml version=\"1.0\" encoding=\"UTF-8\" standalone=\"no\"?>\n",
       "<!DOCTYPE svg PUBLIC \"-//W3C//DTD SVG 1.1//EN\"\n",
       " \"http://www.w3.org/Graphics/SVG/1.1/DTD/svg11.dtd\">\n",
       "<!-- Generated by graphviz version 2.43.0 (0)\n",
       " -->\n",
       "<!-- Title: %3 Pages: 1 -->\n",
       "<svg width=\"276pt\" height=\"381pt\"\n",
       " viewBox=\"0.00 0.00 276.00 381.00\" xmlns=\"http://www.w3.org/2000/svg\" xmlns:xlink=\"http://www.w3.org/1999/xlink\">\n",
       "<g id=\"graph0\" class=\"graph\" transform=\"scale(1 1) rotate(0) translate(4 377)\">\n",
       "<title>%3</title>\n",
       "<polygon fill=\"white\" stroke=\"transparent\" points=\"-4,4 -4,-377 272,-377 272,4 -4,4\"/>\n",
       "<!-- 131975414642640 -->\n",
       "<g id=\"node1\" class=\"node\">\n",
       "<title>131975414642640</title>\n",
       "<polygon fill=\"#caff70\" stroke=\"black\" points=\"160.5,-31 106.5,-31 106.5,0 160.5,0 160.5,-31\"/>\n",
       "<text text-anchor=\"middle\" x=\"133.5\" y=\"-7\" font-family=\"monospace\" font-size=\"10.00\"> ()</text>\n",
       "</g>\n",
       "<!-- 131975415708496 -->\n",
       "<g id=\"node2\" class=\"node\">\n",
       "<title>131975415708496</title>\n",
       "<polygon fill=\"lightgrey\" stroke=\"black\" points=\"190,-86 77,-86 77,-67 190,-67 190,-86\"/>\n",
       "<text text-anchor=\"middle\" x=\"133.5\" y=\"-74\" font-family=\"monospace\" font-size=\"10.00\">MseLossBackward0</text>\n",
       "</g>\n",
       "<!-- 131975415708496&#45;&gt;131975414642640 -->\n",
       "<g id=\"edge9\" class=\"edge\">\n",
       "<title>131975415708496&#45;&gt;131975414642640</title>\n",
       "<path fill=\"none\" stroke=\"black\" d=\"M133.5,-66.79C133.5,-60.07 133.5,-50.4 133.5,-41.34\"/>\n",
       "<polygon fill=\"black\" stroke=\"black\" points=\"137,-41.19 133.5,-31.19 130,-41.19 137,-41.19\"/>\n",
       "</g>\n",
       "<!-- 131975415709120 -->\n",
       "<g id=\"node3\" class=\"node\">\n",
       "<title>131975415709120</title>\n",
       "<polygon fill=\"lightgrey\" stroke=\"black\" points=\"178,-141 89,-141 89,-122 178,-122 178,-141\"/>\n",
       "<text text-anchor=\"middle\" x=\"133.5\" y=\"-129\" font-family=\"monospace\" font-size=\"10.00\">SumBackward1</text>\n",
       "</g>\n",
       "<!-- 131975415709120&#45;&gt;131975415708496 -->\n",
       "<g id=\"edge1\" class=\"edge\">\n",
       "<title>131975415709120&#45;&gt;131975415708496</title>\n",
       "<path fill=\"none\" stroke=\"black\" d=\"M133.5,-121.75C133.5,-114.8 133.5,-104.85 133.5,-96.13\"/>\n",
       "<polygon fill=\"black\" stroke=\"black\" points=\"137,-96.09 133.5,-86.09 130,-96.09 137,-96.09\"/>\n",
       "</g>\n",
       "<!-- 131975415708448 -->\n",
       "<g id=\"node4\" class=\"node\">\n",
       "<title>131975415708448</title>\n",
       "<polygon fill=\"lightgrey\" stroke=\"black\" points=\"178,-196 89,-196 89,-177 178,-177 178,-196\"/>\n",
       "<text text-anchor=\"middle\" x=\"133.5\" y=\"-184\" font-family=\"monospace\" font-size=\"10.00\">MulBackward0</text>\n",
       "</g>\n",
       "<!-- 131975415708448&#45;&gt;131975415709120 -->\n",
       "<g id=\"edge2\" class=\"edge\">\n",
       "<title>131975415708448&#45;&gt;131975415709120</title>\n",
       "<path fill=\"none\" stroke=\"black\" d=\"M133.5,-176.75C133.5,-169.8 133.5,-159.85 133.5,-151.13\"/>\n",
       "<polygon fill=\"black\" stroke=\"black\" points=\"137,-151.09 133.5,-141.09 130,-151.09 137,-151.09\"/>\n",
       "</g>\n",
       "<!-- 131975415709024 -->\n",
       "<g id=\"node5\" class=\"node\">\n",
       "<title>131975415709024</title>\n",
       "<polygon fill=\"lightgrey\" stroke=\"black\" points=\"125,-251 0,-251 0,-232 125,-232 125,-251\"/>\n",
       "<text text-anchor=\"middle\" x=\"62.5\" y=\"-239\" font-family=\"monospace\" font-size=\"10.00\">EmbeddingBackward0</text>\n",
       "</g>\n",
       "<!-- 131975415709024&#45;&gt;131975415708448 -->\n",
       "<g id=\"edge3\" class=\"edge\">\n",
       "<title>131975415709024&#45;&gt;131975415708448</title>\n",
       "<path fill=\"none\" stroke=\"black\" d=\"M73.91,-231.98C84.61,-224 100.84,-211.88 113.66,-202.31\"/>\n",
       "<polygon fill=\"black\" stroke=\"black\" points=\"115.97,-204.96 121.89,-196.17 111.78,-199.35 115.97,-204.96\"/>\n",
       "</g>\n",
       "<!-- 131975415709648 -->\n",
       "<g id=\"node6\" class=\"node\">\n",
       "<title>131975415709648</title>\n",
       "<polygon fill=\"lightgrey\" stroke=\"black\" points=\"113,-306 12,-306 12,-287 113,-287 113,-306\"/>\n",
       "<text text-anchor=\"middle\" x=\"62.5\" y=\"-294\" font-family=\"monospace\" font-size=\"10.00\">AccumulateGrad</text>\n",
       "</g>\n",
       "<!-- 131975415709648&#45;&gt;131975415709024 -->\n",
       "<g id=\"edge4\" class=\"edge\">\n",
       "<title>131975415709648&#45;&gt;131975415709024</title>\n",
       "<path fill=\"none\" stroke=\"black\" d=\"M62.5,-286.75C62.5,-279.8 62.5,-269.85 62.5,-261.13\"/>\n",
       "<polygon fill=\"black\" stroke=\"black\" points=\"66,-261.09 62.5,-251.09 59,-261.09 66,-261.09\"/>\n",
       "</g>\n",
       "<!-- 131975341273072 -->\n",
       "<g id=\"node7\" class=\"node\">\n",
       "<title>131975341273072</title>\n",
       "<polygon fill=\"lightblue\" stroke=\"black\" points=\"98,-373 27,-373 27,-342 98,-342 98,-373\"/>\n",
       "<text text-anchor=\"middle\" x=\"62.5\" y=\"-349\" font-family=\"monospace\" font-size=\"10.00\"> (610, 5)</text>\n",
       "</g>\n",
       "<!-- 131975341273072&#45;&gt;131975415709648 -->\n",
       "<g id=\"edge5\" class=\"edge\">\n",
       "<title>131975341273072&#45;&gt;131975415709648</title>\n",
       "<path fill=\"none\" stroke=\"black\" d=\"M62.5,-341.92C62.5,-334.22 62.5,-324.69 62.5,-316.43\"/>\n",
       "<polygon fill=\"black\" stroke=\"black\" points=\"66,-316.25 62.5,-306.25 59,-316.25 66,-316.25\"/>\n",
       "</g>\n",
       "<!-- 131975415708736 -->\n",
       "<g id=\"node8\" class=\"node\">\n",
       "<title>131975415708736</title>\n",
       "<polygon fill=\"lightgrey\" stroke=\"black\" points=\"268,-251 143,-251 143,-232 268,-232 268,-251\"/>\n",
       "<text text-anchor=\"middle\" x=\"205.5\" y=\"-239\" font-family=\"monospace\" font-size=\"10.00\">EmbeddingBackward0</text>\n",
       "</g>\n",
       "<!-- 131975415708736&#45;&gt;131975415708448 -->\n",
       "<g id=\"edge6\" class=\"edge\">\n",
       "<title>131975415708736&#45;&gt;131975415708448</title>\n",
       "<path fill=\"none\" stroke=\"black\" d=\"M193.93,-231.98C183.08,-224 166.62,-211.88 153.62,-202.31\"/>\n",
       "<polygon fill=\"black\" stroke=\"black\" points=\"155.41,-199.28 145.28,-196.17 151.26,-204.92 155.41,-199.28\"/>\n",
       "</g>\n",
       "<!-- 131975415708400 -->\n",
       "<g id=\"node9\" class=\"node\">\n",
       "<title>131975415708400</title>\n",
       "<polygon fill=\"lightgrey\" stroke=\"black\" points=\"256,-306 155,-306 155,-287 256,-287 256,-306\"/>\n",
       "<text text-anchor=\"middle\" x=\"205.5\" y=\"-294\" font-family=\"monospace\" font-size=\"10.00\">AccumulateGrad</text>\n",
       "</g>\n",
       "<!-- 131975415708400&#45;&gt;131975415708736 -->\n",
       "<g id=\"edge7\" class=\"edge\">\n",
       "<title>131975415708400&#45;&gt;131975415708736</title>\n",
       "<path fill=\"none\" stroke=\"black\" d=\"M205.5,-286.75C205.5,-279.8 205.5,-269.85 205.5,-261.13\"/>\n",
       "<polygon fill=\"black\" stroke=\"black\" points=\"209,-261.09 205.5,-251.09 202,-261.09 209,-261.09\"/>\n",
       "</g>\n",
       "<!-- 131975369176272 -->\n",
       "<g id=\"node10\" class=\"node\">\n",
       "<title>131975369176272</title>\n",
       "<polygon fill=\"lightblue\" stroke=\"black\" points=\"244,-373 167,-373 167,-342 244,-342 244,-373\"/>\n",
       "<text text-anchor=\"middle\" x=\"205.5\" y=\"-349\" font-family=\"monospace\" font-size=\"10.00\"> (9724, 5)</text>\n",
       "</g>\n",
       "<!-- 131975369176272&#45;&gt;131975415708400 -->\n",
       "<g id=\"edge8\" class=\"edge\">\n",
       "<title>131975369176272&#45;&gt;131975415708400</title>\n",
       "<path fill=\"none\" stroke=\"black\" d=\"M205.5,-341.92C205.5,-334.22 205.5,-324.69 205.5,-316.43\"/>\n",
       "<polygon fill=\"black\" stroke=\"black\" points=\"209,-316.25 205.5,-306.25 202,-316.25 209,-316.25\"/>\n",
       "</g>\n",
       "</g>\n",
       "</svg>\n"
      ],
      "text/plain": [
       "<graphviz.graphs.Digraph at 0x7807e903a650>"
      ]
     },
     "execution_count": 14,
     "metadata": {},
     "output_type": "execute_result"
    }
   ],
   "source": [
    "make_dot(loss)"
   ]
  },
  {
   "cell_type": "code",
   "execution_count": 79,
   "metadata": {},
   "outputs": [
    {
     "name": "stdout",
     "output_type": "stream",
     "text": [
      "Test Loss: 0.0\n",
      "Test MAE: 0.8359882413590299\n"
     ]
    }
   ],
   "source": [
    "X_test = torch.tensor(test_data[['userId', 'movieId']].values)\n",
    "y_test = torch.tensor(test_data['rating'].values.astype(np.float32))\n",
    "\n",
    "model.eval()\n",
    "test_loss = 0.0\n",
    "absolute_errors = []\n",
    "with torch.no_grad():\n",
    "    predictions = model(X_test)\n",
    "    loss = criterion(predictions, y_test)\n",
    "    \n",
    "\n",
    "print(f\"Test Loss: {test_loss / len(X_test)}\")\n",
    "print(f\"Test MAE: {np.abs((predictions - y_test).tolist()).mean()}\")"
   ]
  },
  {
   "cell_type": "code",
   "execution_count": null,
   "metadata": {},
   "outputs": [],
   "source": []
  },
  {
   "cell_type": "code",
   "execution_count": null,
   "metadata": {},
   "outputs": [],
   "source": [
    "# Initialize the model and optimizer\n",
    "num_users = len(user_ids)\n",
    "num_movies = len(movie_ids)\n",
    "model = MatrixFactorization(num_users, num_movies, embedding_size=10)\n",
    "\n",
    "device = torch.device('cuda' if torch.cuda.is_available() else 'cpu')\n",
    "print(f\"Using device {device}.\")\n",
    "#model = model.to(device)\n",
    "\n",
    "criterion = nn.MSELoss()\n",
    "optimizer = optim.SGD(model.parameters(), lr=0.03, momentum=0.9)\n",
    "\n",
    "# Training loop\n",
    "num_epochs = 20\n",
    "\n",
    "import time\n",
    "start = time.time()\n",
    "\n",
    "for epoch in range(num_epochs):\n",
    "    model.train()\n",
    "    total_loss = 0.0\n",
    "    absolute_errors = []\n",
    "\n",
    "    for batch_idx, (X, y) in enumerate(train_loader):\n",
    "        optimizer.zero_grad()\n",
    "        #X = X.to(device)\n",
    "        #y = y.to(device)\n",
    "        predictions = model(X).squeeze()\n",
    "        loss = criterion(predictions, y)\n",
    "        loss.backward()\n",
    "        optimizer.step()\n",
    "        total_loss += loss.item()\n",
    "        absolute_errors.extend(torch.abs(predictions - y).tolist()[0])\n",
    "        \n",
    "\n",
    "\n",
    "    print(f\"Epoch {epoch + 1}/{num_epochs}, Loss: {total_loss / len(train_loader)}\")\n",
    "    print(f\"Train MAE: {np.mean(absolute_errors)}\")\n",
    "\n",
    "end = time.time()\n",
    "print(\"Elapsed time:\", end - start)\n"
   ]
  },
  {
   "cell_type": "code",
   "execution_count": null,
   "metadata": {},
   "outputs": [],
   "source": []
  }
 ],
 "metadata": {
  "kernelspec": {
   "display_name": "pytorch",
   "language": "python",
   "name": "python3"
  },
  "language_info": {
   "codemirror_mode": {
    "name": "ipython",
    "version": 3
   },
   "file_extension": ".py",
   "mimetype": "text/x-python",
   "name": "python",
   "nbconvert_exporter": "python",
   "pygments_lexer": "ipython3",
   "version": "3.11.5"
  }
 },
 "nbformat": 4,
 "nbformat_minor": 2
}
